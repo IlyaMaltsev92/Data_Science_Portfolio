{
 "cells": [
  {
   "cell_type": "markdown",
   "metadata": {
    "id": "VUC88oWjTJw2"
   },
   "source": [
    "    \n",
    "\n",
    "# Яндекс.Музыка\n",
    "\n",
    "Сравнение Москвы и Петербурга окружено мифами. Например:\n",
    " * Москва — мегаполис, подчинённый жёсткому ритму рабочей недели;\n",
    " * Петербург — культурная столица, со своими вкусами.\n",
    "\n",
    "На данных Яндекс.Музыки вы сравните поведение пользователей двух столиц.\n",
    "\n",
    "**Цель исследования** — проверьте три гипотезы:\n",
    "1. Активность пользователей зависит от дня недели. Причём в Москве и Петербурге это проявляется по-разному.\n",
    "2. В понедельник утром в Москве преобладают одни жанры, а в Петербурге — другие. Так же и вечером пятницы преобладают разные жанры — в зависимости от города. \n",
    "3. Москва и Петербург предпочитают разные жанры музыки. В Москве чаще слушают поп-музыку, в Петербурге — русский рэп.\n",
    "\n",
    "**Ход исследования**\n",
    "\n",
    "Данные о поведении пользователей вы получите из файла `yandex_music_project.csv`. О качестве данных ничего не известно. Поэтому перед проверкой гипотез понадобится обзор данных. \n",
    "\n",
    "Вы проверите данные на ошибки и оцените их влияние на исследование. Затем, на этапе предобработки вы поищете возможность исправить самые критичные ошибки данных.\n",
    " \n",
    "Таким образом, исследование пройдёт в три этапа:\n",
    " 1. Обзор данных.\n",
    " 2. Предобработка данных.\n",
    " 3. Проверка гипотез.\n",
    "\n"
   ]
  },
  {
   "cell_type": "markdown",
   "metadata": {
    "id": "Ml1hmfXC_Zcs"
   },
   "source": [
    "## Обзор данных\n",
    "\n",
    "Составьте первое представление о данных Яндекс.Музыки.\n",
    "\n",
    "\n"
   ]
  },
  {
   "cell_type": "markdown",
   "metadata": {
    "id": "57eAOGIz_Zcs"
   },
   "source": [
    "Основной инструмент аналитика — `pandas`. Импортируйте эту библиотеку."
   ]
  },
  {
   "cell_type": "code",
   "execution_count": 2,
   "metadata": {
    "id": "AXN7PHPN_Zcs"
   },
   "outputs": [],
   "source": [
    "# импорт библиотеки pandas\n",
    "import pandas as pd"
   ]
  },
  {
   "cell_type": "code",
   "execution_count": 3,
   "metadata": {
    "id": "fFVu7vqh_Zct"
   },
   "outputs": [],
   "source": [
    "# чтение файла с данными и сохранение в df\n",
    "df = pd.read_csv('/datasets/yandex_music_project.csv')"
   ]
  },
  {
   "cell_type": "markdown",
   "metadata": {
    "id": "rDoOMd3uTqnZ"
   },
   "source": [
    "Выведите на экран первые десять строк таблицы:"
   ]
  },
  {
   "cell_type": "code",
   "execution_count": 4,
   "metadata": {
    "id": "oWTVX3gW_Zct"
   },
   "outputs": [
    {
     "data": {
      "text/html": [
       "<div>\n",
       "<style scoped>\n",
       "    .dataframe tbody tr th:only-of-type {\n",
       "        vertical-align: middle;\n",
       "    }\n",
       "\n",
       "    .dataframe tbody tr th {\n",
       "        vertical-align: top;\n",
       "    }\n",
       "\n",
       "    .dataframe thead th {\n",
       "        text-align: right;\n",
       "    }\n",
       "</style>\n",
       "<table border=\"1\" class=\"dataframe\">\n",
       "  <thead>\n",
       "    <tr style=\"text-align: right;\">\n",
       "      <th></th>\n",
       "      <th>userID</th>\n",
       "      <th>Track</th>\n",
       "      <th>artist</th>\n",
       "      <th>genre</th>\n",
       "      <th>City</th>\n",
       "      <th>time</th>\n",
       "      <th>Day</th>\n",
       "    </tr>\n",
       "  </thead>\n",
       "  <tbody>\n",
       "    <tr>\n",
       "      <th>0</th>\n",
       "      <td>FFB692EC</td>\n",
       "      <td>Kamigata To Boots</td>\n",
       "      <td>The Mass Missile</td>\n",
       "      <td>rock</td>\n",
       "      <td>Saint-Petersburg</td>\n",
       "      <td>20:28:33</td>\n",
       "      <td>Wednesday</td>\n",
       "    </tr>\n",
       "    <tr>\n",
       "      <th>1</th>\n",
       "      <td>55204538</td>\n",
       "      <td>Delayed Because of Accident</td>\n",
       "      <td>Andreas Rönnberg</td>\n",
       "      <td>rock</td>\n",
       "      <td>Moscow</td>\n",
       "      <td>14:07:09</td>\n",
       "      <td>Friday</td>\n",
       "    </tr>\n",
       "    <tr>\n",
       "      <th>2</th>\n",
       "      <td>20EC38</td>\n",
       "      <td>Funiculì funiculà</td>\n",
       "      <td>Mario Lanza</td>\n",
       "      <td>pop</td>\n",
       "      <td>Saint-Petersburg</td>\n",
       "      <td>20:58:07</td>\n",
       "      <td>Wednesday</td>\n",
       "    </tr>\n",
       "    <tr>\n",
       "      <th>3</th>\n",
       "      <td>A3DD03C9</td>\n",
       "      <td>Dragons in the Sunset</td>\n",
       "      <td>Fire + Ice</td>\n",
       "      <td>folk</td>\n",
       "      <td>Saint-Petersburg</td>\n",
       "      <td>08:37:09</td>\n",
       "      <td>Monday</td>\n",
       "    </tr>\n",
       "    <tr>\n",
       "      <th>4</th>\n",
       "      <td>E2DC1FAE</td>\n",
       "      <td>Soul People</td>\n",
       "      <td>Space Echo</td>\n",
       "      <td>dance</td>\n",
       "      <td>Moscow</td>\n",
       "      <td>08:34:34</td>\n",
       "      <td>Monday</td>\n",
       "    </tr>\n",
       "    <tr>\n",
       "      <th>5</th>\n",
       "      <td>842029A1</td>\n",
       "      <td>Преданная</td>\n",
       "      <td>IMPERVTOR</td>\n",
       "      <td>rusrap</td>\n",
       "      <td>Saint-Petersburg</td>\n",
       "      <td>13:09:41</td>\n",
       "      <td>Friday</td>\n",
       "    </tr>\n",
       "    <tr>\n",
       "      <th>6</th>\n",
       "      <td>4CB90AA5</td>\n",
       "      <td>True</td>\n",
       "      <td>Roman Messer</td>\n",
       "      <td>dance</td>\n",
       "      <td>Moscow</td>\n",
       "      <td>13:00:07</td>\n",
       "      <td>Wednesday</td>\n",
       "    </tr>\n",
       "    <tr>\n",
       "      <th>7</th>\n",
       "      <td>F03E1C1F</td>\n",
       "      <td>Feeling This Way</td>\n",
       "      <td>Polina Griffith</td>\n",
       "      <td>dance</td>\n",
       "      <td>Moscow</td>\n",
       "      <td>20:47:49</td>\n",
       "      <td>Wednesday</td>\n",
       "    </tr>\n",
       "    <tr>\n",
       "      <th>8</th>\n",
       "      <td>8FA1D3BE</td>\n",
       "      <td>И вновь продолжается бой</td>\n",
       "      <td>NaN</td>\n",
       "      <td>ruspop</td>\n",
       "      <td>Moscow</td>\n",
       "      <td>09:17:40</td>\n",
       "      <td>Friday</td>\n",
       "    </tr>\n",
       "    <tr>\n",
       "      <th>9</th>\n",
       "      <td>E772D5C0</td>\n",
       "      <td>Pessimist</td>\n",
       "      <td>NaN</td>\n",
       "      <td>dance</td>\n",
       "      <td>Saint-Petersburg</td>\n",
       "      <td>21:20:49</td>\n",
       "      <td>Wednesday</td>\n",
       "    </tr>\n",
       "  </tbody>\n",
       "</table>\n",
       "</div>"
      ],
      "text/plain": [
       "     userID                        Track            artist   genre  \\\n",
       "0  FFB692EC            Kamigata To Boots  The Mass Missile    rock   \n",
       "1  55204538  Delayed Because of Accident  Andreas Rönnberg    rock   \n",
       "2    20EC38            Funiculì funiculà       Mario Lanza     pop   \n",
       "3  A3DD03C9        Dragons in the Sunset        Fire + Ice    folk   \n",
       "4  E2DC1FAE                  Soul People        Space Echo   dance   \n",
       "5  842029A1                    Преданная         IMPERVTOR  rusrap   \n",
       "6  4CB90AA5                         True      Roman Messer   dance   \n",
       "7  F03E1C1F             Feeling This Way   Polina Griffith   dance   \n",
       "8  8FA1D3BE     И вновь продолжается бой               NaN  ruspop   \n",
       "9  E772D5C0                    Pessimist               NaN   dance   \n",
       "\n",
       "             City        time        Day  \n",
       "0  Saint-Petersburg  20:28:33  Wednesday  \n",
       "1            Moscow  14:07:09     Friday  \n",
       "2  Saint-Petersburg  20:58:07  Wednesday  \n",
       "3  Saint-Petersburg  08:37:09     Monday  \n",
       "4            Moscow  08:34:34     Monday  \n",
       "5  Saint-Petersburg  13:09:41     Friday  \n",
       "6            Moscow  13:00:07  Wednesday  \n",
       "7            Moscow  20:47:49  Wednesday  \n",
       "8            Moscow  09:17:40     Friday  \n",
       "9  Saint-Petersburg  21:20:49  Wednesday  "
      ]
     },
     "metadata": {},
     "output_type": "display_data"
    }
   ],
   "source": [
    "# получение первых 10 строк таблицы df\n",
    "display(df.head(10))"
   ]
  },
  {
   "cell_type": "code",
   "execution_count": 5,
   "metadata": {
    "id": "DSf2kIb-_Zct"
   },
   "outputs": [
    {
     "name": "stdout",
     "output_type": "stream",
     "text": [
      "<class 'pandas.core.frame.DataFrame'>\n",
      "RangeIndex: 65079 entries, 0 to 65078\n",
      "Data columns (total 7 columns):\n",
      " #   Column    Non-Null Count  Dtype \n",
      "---  ------    --------------  ----- \n",
      " 0     userID  65079 non-null  object\n",
      " 1   Track     63848 non-null  object\n",
      " 2   artist    57876 non-null  object\n",
      " 3   genre     63881 non-null  object\n",
      " 4     City    65079 non-null  object\n",
      " 5   time      65079 non-null  object\n",
      " 6   Day       65079 non-null  object\n",
      "dtypes: object(7)\n",
      "memory usage: 3.5+ MB\n"
     ]
    }
   ],
   "source": [
    "# получение общей информации о данных в таблице df\n",
    "df.info()"
   ]
  },
  {
   "cell_type": "markdown",
   "metadata": {
    "id": "TaQ2Iwbr_Zct"
   },
   "source": [
    "так, в таблице семь столбцов. Тип данных во всех столбцах — `object`.\n",
    "\n",
    "Согласно документации к данным:\n",
    "* `userID` — идентификатор пользователя;\n",
    "* `Track` — название трека;  \n",
    "* `artist` — имя исполнителя;\n",
    "* `genre` — название жанра;\n",
    "* `City` — город пользователя;\n",
    "* `time` — время начала прослушивания;\n",
    "* `Day` — день недели.\n",
    "\n",
    "В названиях колонок видны три нарушения стиля:\n",
    "1. Строчные буквы сочетаются с прописными.\n",
    "2. Встречаются пробелы.\n",
    "3. не используется змеиный_регистр там где это нужно .\n",
    "\n",
    "\n",
    "\n",
    "Количество значений в столбцах различается. Значит, в данных есть пропущенные значения."
   ]
  },
  {
   "cell_type": "markdown",
   "metadata": {
    "id": "MCB6-dXG_Zct"
   },
   "source": [
    "**Выводы**\n",
    "\n",
    "В каждой строке таблицы — данные о прослушанном треке. Часть колонок описывает саму композицию: название, исполнителя и жанр. Остальные данные рассказывают о пользователе: из какого он города, когда он слушал музыку. \n",
    "\n",
    "Предварительно можно утверждать, что, данных достаточно для проверки гипотез. Но встречаются пропуски в данных, а в названиях колонок — расхождения с хорошим стилем.\n",
    "\n",
    "Чтобы двигаться дальше, нужно устранить проблемы в данных."
   ]
  },
  {
   "cell_type": "markdown",
   "metadata": {
    "id": "SjYF6Ub9_Zct"
   },
   "source": [
    "## Предобработка данных"
   ]
  },
  {
   "cell_type": "markdown",
   "metadata": {
    "id": "dIaKXr29_Zct"
   },
   "source": [
    "### Стиль заголовков"
   ]
  },
  {
   "cell_type": "code",
   "execution_count": 6,
   "metadata": {
    "id": "oKOTdF_Q_Zct"
   },
   "outputs": [
    {
     "data": {
      "text/plain": [
       "Index(['  userID', 'Track', 'artist', 'genre', '  City  ', 'time', 'Day'], dtype='object')"
      ]
     },
     "execution_count": 6,
     "metadata": {},
     "output_type": "execute_result"
    }
   ],
   "source": [
    "# перечень названий столбцов таблицы df\n",
    "df.columns"
   ]
  },
  {
   "cell_type": "markdown",
   "metadata": {
    "id": "zj5534cv_Zct"
   },
   "source": [
    "Приведу названия в соответствие с хорошим стилем:\n",
    "* несколько слов в названии запишите в «змеином_регистре»,\n",
    "* все символы сделайте строчными,\n",
    "* устраните пробелы.\n",
    "\n",
    "Для этого переименуйте колонки так:\n",
    "* `'  userID'` → `'user_id'`;\n",
    "* `'Track'` → `'track'`;\n",
    "* `'  City  '` → `'city'`;\n",
    "* `'Day'` → `'day'`."
   ]
  },
  {
   "cell_type": "code",
   "execution_count": 7,
   "metadata": {
    "id": "ISlFqs5y_Zct"
   },
   "outputs": [],
   "source": [
    "# переименование столбцов\n",
    "df = df.rename(columns={'  userID':'user_id','Track':'track','  City  ':'city','Day':'day'})"
   ]
  },
  {
   "cell_type": "code",
   "execution_count": 8,
   "metadata": {
    "id": "d4NOAmTW_Zct"
   },
   "outputs": [
    {
     "data": {
      "text/plain": [
       "Index(['user_id', 'track', 'artist', 'genre', 'city', 'time', 'day'], dtype='object')"
      ]
     },
     "execution_count": 8,
     "metadata": {},
     "output_type": "execute_result"
    }
   ],
   "source": [
    "# проверка результатов - перечень названий столбцов\n",
    "df.columns"
   ]
  },
  {
   "cell_type": "markdown",
   "metadata": {
    "id": "5ISfbcfY_Zct"
   },
   "source": [
    "### Пропуски значений"
   ]
  },
  {
   "cell_type": "code",
   "execution_count": 8,
   "metadata": {
    "id": "RskX29qr_Zct"
   },
   "outputs": [
    {
     "data": {
      "text/plain": [
       "user_id       0\n",
       "track      1231\n",
       "artist     7203\n",
       "genre      1198\n",
       "city          0\n",
       "time          0\n",
       "day           0\n",
       "dtype: int64"
      ]
     },
     "execution_count": 8,
     "metadata": {},
     "output_type": "execute_result"
    }
   ],
   "source": [
    "# подсчёт пропусков\n",
    "df.isna().sum()"
   ]
  },
  {
   "cell_type": "markdown",
   "metadata": {
    "id": "fSv2laPA_Zct"
   },
   "source": [
    "Заменю пропущенные значения в столбцах `track`, `artist` и `genre` на строку `'unknown'`. Для этого создам список `columns_to_replace`, переберу его элементы циклом `for` и для каждого столбца выполню замену пропущенных значений:"
   ]
  },
  {
   "cell_type": "code",
   "execution_count": 9,
   "metadata": {
    "id": "KplB5qWs_Zct"
   },
   "outputs": [],
   "source": [
    "# перебор названий столбцов в цикле и замена пропущенных значений на 'unknown'\n",
    "columns_to_replace = ['track','artist','genre']\n",
    "for column in columns_to_replace:\n",
    "    df[column] = df[column].fillna('unknown')"
   ]
  },
  {
   "cell_type": "markdown",
   "metadata": {
    "id": "Ilsm-MZo_Zct"
   },
   "source": [
    "Убедюсь, что в таблице не осталось пропусков. Для этого ещё раз посчитаю пропущенные значения."
   ]
  },
  {
   "cell_type": "code",
   "execution_count": 10,
   "metadata": {
    "id": "Tq4nYRX4_Zct"
   },
   "outputs": [
    {
     "data": {
      "text/plain": [
       "user_id    0\n",
       "track      0\n",
       "artist     0\n",
       "genre      0\n",
       "city       0\n",
       "time       0\n",
       "day        0\n",
       "dtype: int64"
      ]
     },
     "execution_count": 10,
     "metadata": {},
     "output_type": "execute_result"
    }
   ],
   "source": [
    "# подсчёт пропусков\n",
    "df.isna().sum()"
   ]
  },
  {
   "cell_type": "markdown",
   "metadata": {
    "id": "BWKRtBJ3_Zct"
   },
   "source": [
    "### Дубликаты\n",
    "Посчитаю явные дубликаты в таблице одной командой:"
   ]
  },
  {
   "cell_type": "code",
   "execution_count": 11,
   "metadata": {
    "id": "36eES_S0_Zct"
   },
   "outputs": [
    {
     "data": {
      "text/plain": [
       "3826"
      ]
     },
     "execution_count": 11,
     "metadata": {},
     "output_type": "execute_result"
    }
   ],
   "source": [
    "# подсчёт явных дубликатов\n",
    "df.duplicated().sum()"
   ]
  },
  {
   "cell_type": "code",
   "execution_count": 12,
   "metadata": {
    "id": "exFHq6tt_Zct"
   },
   "outputs": [],
   "source": [
    "# удаление явных дубликатов (с удалением старых индексов и формированием новых)\n",
    "df = df.drop_duplicates().reset_index(drop=True)"
   ]
  },
  {
   "cell_type": "code",
   "execution_count": 13,
   "metadata": {
    "id": "-8PuNWQ0_Zct"
   },
   "outputs": [
    {
     "data": {
      "text/plain": [
       "0"
      ]
     },
     "execution_count": 13,
     "metadata": {},
     "output_type": "execute_result"
    }
   ],
   "source": [
    "# проверка на отсутствие дубликатов\n",
    "df.duplicated().sum()"
   ]
  },
  {
   "cell_type": "markdown",
   "metadata": {
    "id": "eSjWwsOh_Zct"
   },
   "source": [
    "Выведите на экран список уникальных названий жанров, отсортированный в алфавитном порядке. Для этого:\n",
    "* извлеките нужный столбец датафрейма, \n",
    "* примените к нему метод сортировки,\n",
    "* для отсортированного столбца вызовите метод, который вернёт уникальные значения из столбца."
   ]
  },
  {
   "cell_type": "code",
   "execution_count": 15,
   "metadata": {
    "id": "JIUcqzZN_Zct"
   },
   "outputs": [
    {
     "name": "stdout",
     "output_type": "stream",
     "text": [
      "['acid' 'acoustic' 'action' 'adult' 'africa' 'afrikaans' 'alternative'\n",
      " 'alternativepunk' 'ambient' 'americana' 'animated' 'anime' 'arabesk'\n",
      " 'arabic' 'arena' 'argentinetango' 'art' 'audiobook' 'author' 'avantgarde'\n",
      " 'axé' 'baile' 'balkan' 'beats' 'bigroom' 'black' 'bluegrass' 'blues'\n",
      " 'bollywood' 'bossa' 'brazilian' 'breakbeat' 'breaks' 'broadway'\n",
      " 'cantautori' 'cantopop' 'canzone' 'caribbean' 'caucasian' 'celtic'\n",
      " 'chamber' 'chanson' 'children' 'chill' 'chinese' 'choral' 'christian'\n",
      " 'christmas' 'classical' 'classicmetal' 'club' 'colombian' 'comedy'\n",
      " 'conjazz' 'contemporary' 'country' 'cuban' 'dance' 'dancehall' 'dancepop'\n",
      " 'dark' 'death' 'deep' 'deutschrock' 'deutschspr' 'dirty' 'disco' 'dnb'\n",
      " 'documentary' 'downbeat' 'downtempo' 'drum' 'dub' 'dubstep' 'eastern'\n",
      " 'easy' 'electronic' 'electropop' 'emo' 'entehno' 'epicmetal' 'estrada'\n",
      " 'ethnic' 'eurofolk' 'european' 'experimental' 'extrememetal' 'fado'\n",
      " 'fairytail' 'film' 'fitness' 'flamenco' 'folk' 'folklore' 'folkmetal'\n",
      " 'folkrock' 'folktronica' 'forró' 'frankreich' 'französisch' 'french'\n",
      " 'funk' 'future' 'gangsta' 'garage' 'german' 'ghazal' 'gitarre' 'glitch'\n",
      " 'gospel' 'gothic' 'grime' 'grunge' 'gypsy' 'handsup' \"hard'n'heavy\"\n",
      " 'hardcore' 'hardstyle' 'hardtechno' 'hip' 'hip-hop' 'hiphop' 'historisch'\n",
      " 'holiday' 'hop' 'horror' 'house' 'hymn' 'idm' 'independent' 'indian'\n",
      " 'indie' 'indipop' 'industrial' 'inspirational' 'instrumental'\n",
      " 'international' 'irish' 'jam' 'japanese' 'jazz' 'jewish' 'jpop' 'jungle'\n",
      " 'k-pop' 'karadeniz' 'karaoke' 'kayokyoku' 'korean' 'laiko' 'latin'\n",
      " 'latino' 'leftfield' 'local' 'lounge' 'loungeelectronic' 'lovers'\n",
      " 'malaysian' 'mandopop' 'marschmusik' 'meditative' 'mediterranean'\n",
      " 'melodic' 'metal' 'metalcore' 'mexican' 'middle' 'minimal'\n",
      " 'miscellaneous' 'modern' 'mood' 'mpb' 'muslim' 'native' 'neoklassik'\n",
      " 'neue' 'new' 'newage' 'newwave' 'nu' 'nujazz' 'numetal' 'oceania' 'old'\n",
      " 'opera' 'orchestral' 'other' 'piano' 'podcasts' 'pop' 'popdance'\n",
      " 'popelectronic' 'popeurodance' 'poprussian' 'post' 'posthardcore'\n",
      " 'postrock' 'power' 'progmetal' 'progressive' 'psychedelic' 'punjabi'\n",
      " 'punk' 'quebecois' 'ragga' 'ram' 'rancheras' 'rap' 'rave' 'reggae'\n",
      " 'reggaeton' 'regional' 'relax' 'religious' 'retro' 'rhythm' 'rnb' 'rnr'\n",
      " 'rock' 'rockabilly' 'rockalternative' 'rockindie' 'rockother' 'romance'\n",
      " 'roots' 'ruspop' 'rusrap' 'rusrock' 'russian' 'salsa' 'samba' 'scenic'\n",
      " 'schlager' 'self' 'sertanejo' 'shanson' 'shoegazing' 'showtunes' 'singer'\n",
      " 'ska' 'skarock' 'slow' 'smooth' 'soft' 'soul' 'soulful' 'sound'\n",
      " 'soundtrack' 'southern' 'specialty' 'speech' 'spiritual' 'sport'\n",
      " 'stonerrock' 'surf' 'swing' 'synthpop' 'synthrock' 'sängerportrait'\n",
      " 'tango' 'tanzorchester' 'taraftar' 'tatar' 'tech' 'techno' 'teen'\n",
      " 'thrash' 'top' 'traditional' 'tradjazz' 'trance' 'tribal' 'trip'\n",
      " 'triphop' 'tropical' 'türk' 'türkçe' 'ukrrock' 'unknown' 'urban' 'uzbek'\n",
      " 'variété' 'vi' 'videogame' 'vocal' 'western' 'world' 'worldbeat' 'ïîï'\n",
      " 'электроника']\n"
     ]
    }
   ],
   "source": [
    "# Просмотр уникальных названий жанров\n",
    "df_genre = df['genre'].sort_values().unique()\n",
    "print(df_genre)"
   ]
  },
  {
   "cell_type": "code",
   "execution_count": 16,
   "metadata": {
    "id": "ErNDkmns_Zct"
   },
   "outputs": [],
   "source": [
    "# Функция для замены неявных дубликатов\n",
    "def replace_wrong_genres(wrong_genres, correct_genre):\n",
    "    for wrong_value in wrong_genres:\n",
    "        df['genre'].replace(wrong_value,correct_genre)"
   ]
  },
  {
   "cell_type": "code",
   "execution_count": 17,
   "metadata": {
    "id": "YN5i2hpmSo09"
   },
   "outputs": [],
   "source": [
    "# Устранение неявных дубликатов\n",
    "replace_wrong_genres(['hip','hop','hip-hop'],'hiphop')"
   ]
  },
  {
   "cell_type": "code",
   "execution_count": 18,
   "metadata": {
    "id": "wvixALnFG15m"
   },
   "outputs": [
    {
     "data": {
      "text/plain": [
       "array(['acid', 'acoustic', 'action', 'adult', 'africa', 'afrikaans',\n",
       "       'alternative', 'alternativepunk', 'ambient', 'americana',\n",
       "       'animated', 'anime', 'arabesk', 'arabic', 'arena',\n",
       "       'argentinetango', 'art', 'audiobook', 'author', 'avantgarde',\n",
       "       'axé', 'baile', 'balkan', 'beats', 'bigroom', 'black', 'bluegrass',\n",
       "       'blues', 'bollywood', 'bossa', 'brazilian', 'breakbeat', 'breaks',\n",
       "       'broadway', 'cantautori', 'cantopop', 'canzone', 'caribbean',\n",
       "       'caucasian', 'celtic', 'chamber', 'chanson', 'children', 'chill',\n",
       "       'chinese', 'choral', 'christian', 'christmas', 'classical',\n",
       "       'classicmetal', 'club', 'colombian', 'comedy', 'conjazz',\n",
       "       'contemporary', 'country', 'cuban', 'dance', 'dancehall',\n",
       "       'dancepop', 'dark', 'death', 'deep', 'deutschrock', 'deutschspr',\n",
       "       'dirty', 'disco', 'dnb', 'documentary', 'downbeat', 'downtempo',\n",
       "       'drum', 'dub', 'dubstep', 'eastern', 'easy', 'electronic',\n",
       "       'electropop', 'emo', 'entehno', 'epicmetal', 'estrada', 'ethnic',\n",
       "       'eurofolk', 'european', 'experimental', 'extrememetal', 'fado',\n",
       "       'fairytail', 'film', 'fitness', 'flamenco', 'folk', 'folklore',\n",
       "       'folkmetal', 'folkrock', 'folktronica', 'forró', 'frankreich',\n",
       "       'französisch', 'french', 'funk', 'future', 'gangsta', 'garage',\n",
       "       'german', 'ghazal', 'gitarre', 'glitch', 'gospel', 'gothic',\n",
       "       'grime', 'grunge', 'gypsy', 'handsup', \"hard'n'heavy\", 'hardcore',\n",
       "       'hardstyle', 'hardtechno', 'hip', 'hip-hop', 'hiphop',\n",
       "       'historisch', 'holiday', 'hop', 'horror', 'house', 'hymn', 'idm',\n",
       "       'independent', 'indian', 'indie', 'indipop', 'industrial',\n",
       "       'inspirational', 'instrumental', 'international', 'irish', 'jam',\n",
       "       'japanese', 'jazz', 'jewish', 'jpop', 'jungle', 'k-pop',\n",
       "       'karadeniz', 'karaoke', 'kayokyoku', 'korean', 'laiko', 'latin',\n",
       "       'latino', 'leftfield', 'local', 'lounge', 'loungeelectronic',\n",
       "       'lovers', 'malaysian', 'mandopop', 'marschmusik', 'meditative',\n",
       "       'mediterranean', 'melodic', 'metal', 'metalcore', 'mexican',\n",
       "       'middle', 'minimal', 'miscellaneous', 'modern', 'mood', 'mpb',\n",
       "       'muslim', 'native', 'neoklassik', 'neue', 'new', 'newage',\n",
       "       'newwave', 'nu', 'nujazz', 'numetal', 'oceania', 'old', 'opera',\n",
       "       'orchestral', 'other', 'piano', 'podcasts', 'pop', 'popdance',\n",
       "       'popelectronic', 'popeurodance', 'poprussian', 'post',\n",
       "       'posthardcore', 'postrock', 'power', 'progmetal', 'progressive',\n",
       "       'psychedelic', 'punjabi', 'punk', 'quebecois', 'ragga', 'ram',\n",
       "       'rancheras', 'rap', 'rave', 'reggae', 'reggaeton', 'regional',\n",
       "       'relax', 'religious', 'retro', 'rhythm', 'rnb', 'rnr', 'rock',\n",
       "       'rockabilly', 'rockalternative', 'rockindie', 'rockother',\n",
       "       'romance', 'roots', 'ruspop', 'rusrap', 'rusrock', 'russian',\n",
       "       'salsa', 'samba', 'scenic', 'schlager', 'self', 'sertanejo',\n",
       "       'shanson', 'shoegazing', 'showtunes', 'singer', 'ska', 'skarock',\n",
       "       'slow', 'smooth', 'soft', 'soul', 'soulful', 'sound', 'soundtrack',\n",
       "       'southern', 'specialty', 'speech', 'spiritual', 'sport',\n",
       "       'stonerrock', 'surf', 'swing', 'synthpop', 'synthrock',\n",
       "       'sängerportrait', 'tango', 'tanzorchester', 'taraftar', 'tatar',\n",
       "       'tech', 'techno', 'teen', 'thrash', 'top', 'traditional',\n",
       "       'tradjazz', 'trance', 'tribal', 'trip', 'triphop', 'tropical',\n",
       "       'türk', 'türkçe', 'ukrrock', 'unknown', 'urban', 'uzbek',\n",
       "       'variété', 'vi', 'videogame', 'vocal', 'western', 'world',\n",
       "       'worldbeat', 'ïîï', 'электроника'], dtype=object)"
      ]
     },
     "metadata": {},
     "output_type": "display_data"
    }
   ],
   "source": [
    "# Проверка на неявные дубликаты\n",
    "display(df_genre)"
   ]
  },
  {
   "cell_type": "markdown",
   "metadata": {
    "id": "WttZHXH0SqKk"
   },
   "source": [
    "## Проверка гипотез"
   ]
  },
  {
   "cell_type": "markdown",
   "metadata": {
    "id": "Im936VVi_Zcu"
   },
   "source": [
    "### Сравнение поведения пользователей двух столиц"
   ]
  },
  {
   "cell_type": "markdown",
   "metadata": {
    "id": "nwt_MuaL_Zcu"
   },
   "source": [
    "Первая гипотеза утверждает, что пользователи по-разному слушают музыку в Москве и Санкт-Петербурге. Проверю это предположение по данным о трёх днях недели — понедельнике, среде и пятнице. Для этого:\n",
    "\n",
    "* Разделю пользователей Москвы и Санкт-Петербурга\n",
    "* Сравню, сколько треков послушала каждая группа пользователей в понедельник, среду и пятницу.\n"
   ]
  },
  {
   "cell_type": "markdown",
   "metadata": {
    "id": "8Dw_YMmT_Zcu"
   },
   "source": [
    "Для тренировки сначала выполню каждый из расчётов по отдельности. \n",
    "\n",
    "Оценю активность пользователей в каждом городе. Сгруппирую данные по городу и посчитайте прослушивания в каждой группе."
   ]
  },
  {
   "cell_type": "code",
   "execution_count": 19,
   "metadata": {
    "id": "0_Qs96oh_Zcu"
   },
   "outputs": [
    {
     "data": {
      "text/plain": [
       "city\n",
       "Moscow              42741\n",
       "Saint-Petersburg    18512\n",
       "Name: user_id, dtype: int64"
      ]
     },
     "metadata": {},
     "output_type": "display_data"
    }
   ],
   "source": [
    "# Подсчёт прослушиваний в каждом городе\n",
    "display(df.groupby('city')['user_id'].count())"
   ]
  },
  {
   "cell_type": "markdown",
   "metadata": {
    "id": "dzli3w8o_Zcu"
   },
   "source": [
    "В Москве прослушиваний больше, чем в Петербурге. Из этого не следует, что московские пользователи чаще слушают музыку. Просто самих пользователей в Москве больше.\n",
    "\n",
    "Теперь сгруппирую данные по дню недели и подсчитаю прослушивания в понедельник, среду и пятницу."
   ]
  },
  {
   "cell_type": "code",
   "execution_count": 20,
   "metadata": {
    "id": "uZMKjiJz_Zcu"
   },
   "outputs": [
    {
     "data": {
      "text/plain": [
       "day\n",
       "Friday       21840\n",
       "Monday       21354\n",
       "Wednesday    18059\n",
       "Name: user_id, dtype: int64"
      ]
     },
     "metadata": {},
     "output_type": "display_data"
    }
   ],
   "source": [
    "display(df.groupby('day')['user_id'].count())"
   ]
  },
  {
   "cell_type": "markdown",
   "metadata": {
    "id": "cC2tNrlL_Zcu"
   },
   "source": [
    "В среднем пользователи из двух городов менее активны по средам. Но картина может измениться, если рассмотреть каждый город в отдельности."
   ]
  },
  {
   "cell_type": "code",
   "execution_count": 21,
   "metadata": {
    "id": "Nz3GdQB1_Zcu"
   },
   "outputs": [],
   "source": [
    "# <создание функции number_tracks()>\n",
    "# Объявляется функция с двумя параметрами: day, city.\n",
    "# В переменной track_list сохраняются те строки таблицы df, для которых \n",
    "# значение в столбце 'day' равно параметру day и одновременно значение\n",
    "# в столбце 'city' равно параметру city (используйте последовательную фильтрацию\n",
    "# с помощью логической индексации).\n",
    "# В переменной track_list_count сохраняется число значений столбца 'user_id',\n",
    "# рассчитанное методом count() для таблицы track_list.\n",
    "# Функция возвращает число - значение track_list_count.\n",
    "\n",
    "# Функция для подсчёта прослушиваний для конкретного города и дня.\n",
    "# С помощью последовательной фильтрации с логической индексацией она \n",
    "# сначала получит из исходной таблицы строки с нужным днём,\n",
    "# затем из результата отфильтрует строки с нужным городом,\n",
    "# методом count() посчитает количество значений в колонке user_id. \n",
    "# Это количество функция вернёт в качестве результата\n",
    "def number_tracks(day, city):\n",
    "    track_list = df[df['day'] == day]\n",
    "    track_list = track_list[track_list['city'] == city]\n",
    "    \n",
    "    track_list_count = track_list['user_id'].count()\n",
    "    return track_list_count\n",
    "    "
   ]
  },
  {
   "cell_type": "code",
   "execution_count": 22,
   "metadata": {
    "id": "rJcRATNQ_Zcu"
   },
   "outputs": [
    {
     "data": {
      "text/plain": [
       "15740"
      ]
     },
     "execution_count": 22,
     "metadata": {},
     "output_type": "execute_result"
    }
   ],
   "source": [
    "# количество прослушиваний в Москве по понедельникам\n",
    "number_tracks('Monday','Moscow')"
   ]
  },
  {
   "cell_type": "code",
   "execution_count": 23,
   "metadata": {
    "id": "hq_ncZ5T_Zcu"
   },
   "outputs": [
    {
     "data": {
      "text/plain": [
       "5614"
      ]
     },
     "execution_count": 23,
     "metadata": {},
     "output_type": "execute_result"
    }
   ],
   "source": [
    "# количество прослушиваний в Санкт-Петербурге по понедельникам\n",
    "number_tracks('Monday','Saint-Petersburg')"
   ]
  },
  {
   "cell_type": "code",
   "execution_count": 24,
   "metadata": {
    "id": "_NTy2VPU_Zcu"
   },
   "outputs": [
    {
     "data": {
      "text/plain": [
       "11056"
      ]
     },
     "execution_count": 24,
     "metadata": {},
     "output_type": "execute_result"
    }
   ],
   "source": [
    "# количество прослушиваний в Москве по средам\n",
    "number_tracks('Wednesday','Moscow')"
   ]
  },
  {
   "cell_type": "code",
   "execution_count": 25,
   "metadata": {
    "id": "j2y3TAwo_Zcu"
   },
   "outputs": [
    {
     "data": {
      "text/plain": [
       "7003"
      ]
     },
     "execution_count": 25,
     "metadata": {},
     "output_type": "execute_result"
    }
   ],
   "source": [
    "# количество прослушиваний в Санкт-Петербурге по средам\n",
    "number_tracks('Wednesday','Saint-Petersburg')"
   ]
  },
  {
   "cell_type": "code",
   "execution_count": 26,
   "metadata": {
    "id": "vYDw5u_K_Zcu"
   },
   "outputs": [
    {
     "data": {
      "text/plain": [
       "15945"
      ]
     },
     "execution_count": 26,
     "metadata": {},
     "output_type": "execute_result"
    }
   ],
   "source": [
    "# количество прослушиваний в Москве по пятницам\n",
    "number_tracks('Friday','Moscow')"
   ]
  },
  {
   "cell_type": "code",
   "execution_count": 27,
   "metadata": {
    "id": "8_yzFtW3_Zcu"
   },
   "outputs": [
    {
     "data": {
      "text/plain": [
       "5895"
      ]
     },
     "execution_count": 27,
     "metadata": {},
     "output_type": "execute_result"
    }
   ],
   "source": [
    "# количество прослушиваний в Санкт-Петербурге по пятницам\n",
    "number_tracks('Friday','Saint-Petersburg')"
   ]
  },
  {
   "cell_type": "markdown",
   "metadata": {
    "id": "7QXffbO-_Zcu"
   },
   "source": [
    "Создам c помощью конструктора `pd.DataFrame` таблицу, где\n",
    "* названия колонок — `['city', 'monday', 'wednesday', 'friday']`;\n",
    "* данные — результаты, которые вы получили с помощью `number_tracks`."
   ]
  },
  {
   "cell_type": "code",
   "execution_count": 29,
   "metadata": {
    "id": "APAcLpOr_Zcu"
   },
   "outputs": [
    {
     "data": {
      "text/html": [
       "<div>\n",
       "<style scoped>\n",
       "    .dataframe tbody tr th:only-of-type {\n",
       "        vertical-align: middle;\n",
       "    }\n",
       "\n",
       "    .dataframe tbody tr th {\n",
       "        vertical-align: top;\n",
       "    }\n",
       "\n",
       "    .dataframe thead th {\n",
       "        text-align: right;\n",
       "    }\n",
       "</style>\n",
       "<table border=\"1\" class=\"dataframe\">\n",
       "  <thead>\n",
       "    <tr style=\"text-align: right;\">\n",
       "      <th></th>\n",
       "      <th>city</th>\n",
       "      <th>monday</th>\n",
       "      <th>wednesday</th>\n",
       "      <th>friday</th>\n",
       "    </tr>\n",
       "  </thead>\n",
       "  <tbody>\n",
       "    <tr>\n",
       "      <th>0</th>\n",
       "      <td>Moscow</td>\n",
       "      <td>15740</td>\n",
       "      <td>11056</td>\n",
       "      <td>15945</td>\n",
       "    </tr>\n",
       "    <tr>\n",
       "      <th>1</th>\n",
       "      <td>Saint-Petersburg</td>\n",
       "      <td>5614</td>\n",
       "      <td>7003</td>\n",
       "      <td>5895</td>\n",
       "    </tr>\n",
       "  </tbody>\n",
       "</table>\n",
       "</div>"
      ],
      "text/plain": [
       "               city  monday  wednesday  friday\n",
       "0            Moscow   15740      11056   15945\n",
       "1  Saint-Petersburg    5614       7003    5895"
      ]
     },
     "metadata": {},
     "output_type": "display_data"
    }
   ],
   "source": [
    "# Таблица с результатами\n",
    "columns = ['city','monday','wednesday','friday']\n",
    "data = [['Moscow',15740,11056,15945],['Saint-Petersburg',5614,7003,5895]]\n",
    "display(pd.DataFrame(columns = columns,data = data))"
   ]
  },
  {
   "cell_type": "markdown",
   "metadata": {
    "id": "-EgPIHYu_Zcu"
   },
   "source": [
    "**Выводы**\n",
    "\n",
    "Данные показывают разницу поведения пользователей:\n",
    "\n",
    "- В Москве пик прослушиваний приходится на понедельник и пятницу, а в среду заметен спад.\n",
    "- В Петербурге, наоборот, больше слушают музыку по средам. Активность в понедельник и пятницу здесь почти в равной мере уступает среде.\n",
    "\n",
    "Значит, данные говорят в пользу первой гипотезы."
   ]
  },
  {
   "cell_type": "markdown",
   "metadata": {
    "id": "atZAxtq4_Zcu"
   },
   "source": [
    "### Музыка в начале и в конце недели"
   ]
  },
  {
   "cell_type": "markdown",
   "metadata": {
    "id": "eXrQqXFH_Zcu"
   },
   "source": [
    "Согласно второй гипотезе, утром в понедельник в Москве преобладают одни жанры, а в Петербурге — другие. Так же и вечером пятницы преобладают разные жанры — в зависимости от города."
   ]
  },
  {
   "cell_type": "markdown",
   "metadata": {
    "id": "S8UcW6Hw_Zcu"
   },
   "source": [
    "Сохраню таблицы с данными в две переменные:\n",
    "* по Москве — в `moscow_general`;\n",
    "* по Санкт-Петербургу — в `spb_general`."
   ]
  },
  {
   "cell_type": "code",
   "execution_count": 30,
   "metadata": {
    "id": "qeaFfM_P_Zcu"
   },
   "outputs": [],
   "source": [
    "# получение таблицы moscow_general из тех строк таблицы df, \n",
    "# для которых значение в столбце 'city' равно 'Moscow'\n",
    "moscow_general = df[df['city'] == 'Moscow']\n"
   ]
  },
  {
   "cell_type": "code",
   "execution_count": 31,
   "metadata": {
    "id": "ORaVRKto_Zcu"
   },
   "outputs": [],
   "source": [
    "# получение таблицы spb_general из тех строк таблицы df,\n",
    "# для которых значение в столбце 'city' равно 'Saint-Petersburg'\n",
    "spb_general = df[df['city'] == 'Saint-Petersburg']"
   ]
  },
  {
   "cell_type": "markdown",
   "metadata": {
    "id": "MEJV-CX2_Zcu"
   },
   "source": [
    "Создам функцию `genre_weekday()` с четырьмя параметрами:\n",
    "* таблица (датафрейм) с данными,\n",
    "* день недели,\n",
    "* начальная временная метка в формате 'hh:mm', \n",
    "* последняя временная метка в формате 'hh:mm'.\n",
    "\n",
    "Функция должна вернуть информацию о топ-10 жанров тех треков, которые прослушивали в указанный день, в промежутке между двумя отметками времени."
   ]
  },
  {
   "cell_type": "code",
   "execution_count": 32,
   "metadata": {
    "id": "laJT9BYl_Zcu"
   },
   "outputs": [],
   "source": [
    "# Объявление функции genre_weekday() с параметрами table, day, time1, time2,\n",
    "# которая возвращает информацию о самых популярных жанрах в указанный день в\n",
    "# заданное время:\n",
    "# 1) в переменную genre_df сохраняются те строки переданного датафрейма table, для\n",
    "#    которых одновременно:\n",
    "#    - значение в столбце day равно значению аргумента day\n",
    "#    - значение в столбце time больше значения аргумента time1\n",
    "#    - значение в столбце time меньше значения аргумента time2\n",
    "#    Используйте последовательную фильтрацию с помощью логической индексации.\n",
    "# 2) сгруппировать датафрейм genre_df по столбцу genre, взять один из его\n",
    "#    столбцов и посчитать методом count() количество записей для каждого из\n",
    "#    присутствующих жанров, получившийся Series записать в переменную\n",
    "#    genre_df_count\n",
    "# 3) отсортировать genre_df_count по убыванию встречаемости и сохранить\n",
    "#    в переменную genre_df_sorted\n",
    "# 4) вернуть Series из 10 первых значений genre_df_sorted, это будут топ-10\n",
    "#    популярных жанров (в указанный день, в заданное время)\n",
    "def genre_weekday(table,day,time1,time2):\n",
    "    \n",
    "    genre_df = table[table['day'] == day]\n",
    "    genre_df = genre_df[genre_df['time'] > time1]\n",
    "    genre_df = genre_df[genre_df['time'] < time2]\n",
    "    \n",
    "    genre_df_count = genre_df.groupby('genre')['user_id'].count()\n",
    "    \n",
    "    genre_df_sorted = genre_df_count.sort_values(ascending=False)\n",
    "    \n",
    "    return genre_df_sorted[:10]"
   ]
  },
  {
   "cell_type": "markdown",
   "metadata": {
    "id": "la2s2_PF_Zcu"
   },
   "source": [
    "Cравню результаты функции `genre_weekday()` для Москвы и Санкт-Петербурга в понедельник утром (с 7:00 до 11:00) и в пятницу вечером (с 17:00 до 23:00):"
   ]
  },
  {
   "cell_type": "code",
   "execution_count": 33,
   "metadata": {
    "id": "yz7itPUQ_Zcu"
   },
   "outputs": [
    {
     "name": "stdout",
     "output_type": "stream",
     "text": [
      "genre\n",
      "pop            781\n",
      "dance          549\n",
      "electronic     480\n",
      "rock           474\n",
      "hip            281\n",
      "ruspop         186\n",
      "world          181\n",
      "rusrap         175\n",
      "alternative    164\n",
      "unknown        161\n",
      "Name: user_id, dtype: int64\n"
     ]
    }
   ],
   "source": [
    "# вызов функции для утра понедельника в Москве (вместо df — таблица moscow_general)\n",
    "# объекты, хранящие время, являются строками и сравниваются как строки\n",
    "# пример вызова: genre_weekday(moscow_general, 'Monday', '07:00', '11:00')\n",
    "print(genre_weekday(moscow_general,'Monday','07:00','11:00'))"
   ]
  },
  {
   "cell_type": "code",
   "execution_count": 34,
   "metadata": {
    "id": "kwUcHPdy_Zcu"
   },
   "outputs": [
    {
     "name": "stdout",
     "output_type": "stream",
     "text": [
      "genre\n",
      "pop            218\n",
      "dance          182\n",
      "rock           162\n",
      "electronic     147\n",
      "hip             79\n",
      "ruspop          64\n",
      "alternative     58\n",
      "rusrap          55\n",
      "jazz            44\n",
      "classical       40\n",
      "Name: user_id, dtype: int64\n"
     ]
    }
   ],
   "source": [
    "# вызов функции для утра понедельника в Петербурге (вместо df — таблица spb_general)\n",
    "print(genre_weekday(spb_general,'Monday','07:00','11:00'))"
   ]
  },
  {
   "cell_type": "code",
   "execution_count": 35,
   "metadata": {
    "id": "EzXVRE1o_Zcu"
   },
   "outputs": [
    {
     "data": {
      "text/plain": [
       "genre\n",
       "pop            713\n",
       "rock           517\n",
       "dance          495\n",
       "electronic     482\n",
       "hip            267\n",
       "world          208\n",
       "ruspop         170\n",
       "alternative    163\n",
       "classical      163\n",
       "rusrap         142\n",
       "Name: user_id, dtype: int64"
      ]
     },
     "execution_count": 35,
     "metadata": {},
     "output_type": "execute_result"
    }
   ],
   "source": [
    "# вызов функции для вечера пятницы в Москве\n",
    "genre_weekday(moscow_general,'Friday','17:00','23:00')"
   ]
  },
  {
   "cell_type": "code",
   "execution_count": 36,
   "metadata": {
    "id": "JZaEKu5v_Zcu"
   },
   "outputs": [
    {
     "data": {
      "text/plain": [
       "genre\n",
       "pop            256\n",
       "electronic     216\n",
       "rock           216\n",
       "dance          210\n",
       "hip             94\n",
       "alternative     63\n",
       "jazz            61\n",
       "classical       60\n",
       "rusrap          59\n",
       "world           54\n",
       "Name: user_id, dtype: int64"
      ]
     },
     "execution_count": 36,
     "metadata": {},
     "output_type": "execute_result"
    }
   ],
   "source": [
    "# вызов функции для вечера пятницы в Петербурге\n",
    "genre_weekday(spb_general,'Friday','17:00','23:00')"
   ]
  },
  {
   "cell_type": "markdown",
   "metadata": {
    "id": "wrCe4MNX_Zcu"
   },
   "source": [
    "**Выводы**\n",
    "\n",
    "Если сравнить топ-10 жанров в понедельник утром, можно сделать такие выводы:\n",
    "\n",
    "1. В Москве и Петербурге слушают похожую музыку. Единственное отличие — в московский рейтинг вошёл жанр “world”, а в петербургский — джаз и классика.\n",
    "\n",
    "2. В Москве пропущенных значений оказалось так много, что значение `'unknown'` заняло десятое место среди самых популярных жанров. Значит, пропущенные значения занимают существенную долю в данных и угрожают достоверности исследования.\n",
    "3. Большинство людей предпочитают попсу прочим жанрам музыки(что оправдывает название 'pop') \n",
    "\n",
    "Вечер пятницы не меняет эту картину. Некоторые жанры поднимаются немного выше, другие спускаются, но в целом топ-10 остаётся тем же самым.\n",
    "\n",
    "Таким образом, вторая гипотеза подтвердилась лишь частично:\n",
    "* Пользователи слушают похожую музыку в начале недели и в конце.\n",
    "* Разница между Москвой и Петербургом не слишком выражена. В Москве чаще слушают русскую популярную музыку, в Петербурге — джаз.\n",
    "\n",
    "Однако пропуски в данных ставят под сомнение этот результат. В Москве их так много, что рейтинг топ-10 мог бы выглядеть иначе, если бы не утерянные  данные о жанрах."
   ]
  },
  {
   "cell_type": "markdown",
   "metadata": {
    "id": "JolODAqr_Zcu"
   },
   "source": [
    "### Жанровые предпочтения в Москве и Петербурге\n",
    "\n",
    "Гипотеза: Петербург — столица рэпа, музыку этого жанра там слушают чаще, чем в Москве.  А Москва — город контрастов, в котором, тем не менее, преобладает поп-музыка."
   ]
  },
  {
   "cell_type": "markdown",
   "metadata": {
    "id": "DlegSvaT_Zcu"
   },
   "source": [
    "Сгруппирую таблицу `moscow_general` по жанру и посчитайте прослушивания треков каждого жанра методом `count()`. Затем отсортирую результат в порядке убывания и сохраню его в таблице `moscow_genres`."
   ]
  },
  {
   "cell_type": "code",
   "execution_count": 37,
   "metadata": {
    "id": "r19lIPke_Zcu"
   },
   "outputs": [],
   "source": [
    "# одной строкой: группировка таблицы moscow_general по столбцу 'genre', \n",
    "# подсчёт числа значений 'genre' в этой группировке методом count(), \n",
    "# сортировка получившегося Series в порядке убывания и сохранение в moscow_genres\n",
    "moscow_genres = moscow_general.groupby('genre')['genre'].count().sort_values(ascending=False)"
   ]
  },
  {
   "cell_type": "code",
   "execution_count": 38,
   "metadata": {
    "id": "WhCSooF8_Zcv"
   },
   "outputs": [
    {
     "name": "stdout",
     "output_type": "stream",
     "text": [
      "genre\n",
      "pop            5892\n",
      "dance          4435\n",
      "rock           3965\n",
      "electronic     3786\n",
      "hip            2041\n",
      "classical      1616\n",
      "world          1432\n",
      "alternative    1379\n",
      "ruspop         1372\n",
      "rusrap         1161\n",
      "Name: genre, dtype: int64\n"
     ]
    }
   ],
   "source": [
    "# просмотр первых 10 строк moscow_genres\n",
    "print(moscow_genres.head(10))"
   ]
  },
  {
   "cell_type": "code",
   "execution_count": 39,
   "metadata": {
    "id": "gluLIpE7_Zcv"
   },
   "outputs": [],
   "source": [
    "# одной строкой: группировка таблицы spb_general по столбцу 'genre', \n",
    "# подсчёт числа значений 'genre' в этой группировке методом count(), \n",
    "# сортировка получившегося Series в порядке убывания и сохранение в spb_genres\n",
    "spb_genres = spb_general.groupby('genre')['genre'].count().sort_values(ascending=False)"
   ]
  },
  {
   "cell_type": "markdown",
   "metadata": {
    "id": "5Doha_ODgyQ8"
   },
   "source": [
    "Выведите на экран первые десять строк `spb_genres`:"
   ]
  },
  {
   "cell_type": "code",
   "execution_count": 40,
   "metadata": {
    "id": "uaGJHjVU_Zcv"
   },
   "outputs": [
    {
     "name": "stdout",
     "output_type": "stream",
     "text": [
      "genre\n",
      "pop            2431\n",
      "dance          1932\n",
      "rock           1879\n",
      "electronic     1736\n",
      "hip             934\n",
      "alternative     649\n",
      "classical       646\n",
      "rusrap          564\n",
      "ruspop          538\n",
      "world           515\n",
      "Name: genre, dtype: int64\n"
     ]
    }
   ],
   "source": [
    "# просмотр первых 10 строк spb_genres\n",
    "print(spb_genres.head(10))"
   ]
  },
  {
   "cell_type": "markdown",
   "metadata": {
    "id": "RY51YJYu_Zcv"
   },
   "source": [
    "**Выводы**"
   ]
  },
  {
   "cell_type": "markdown",
   "metadata": {
    "id": "nVhnJEm__Zcv"
   },
   "source": [
    "Гипотеза частично подтвердилась:\n",
    "* Поп-музыка — самый популярный жанр в Москве, как и предполагала гипотеза. Более того, в топ-10 жанров встречается близкий жанр — русская популярная музыка.\n",
    "* Вопреки ожиданиям, рэп одинаково популярен в Москве и Петербурге. \n"
   ]
  },
  {
   "cell_type": "markdown",
   "metadata": {
    "id": "ykKQ0N65_Zcv"
   },
   "source": [
    "## Итоги исследования"
   ]
  },
  {
   "cell_type": "markdown",
   "metadata": {
    "id": "tjUwbHb3_Zcv"
   },
   "source": [
    "Проверили три гипотезы и установили:\n",
    "\n",
    "1. День недели по-разному влияет на активность пользователей в Москве и Петербурге. \n",
    "\n",
    "Первая гипотеза полностью подтвердилась.\n",
    "\n",
    "2. Музыкальные предпочтения не сильно меняются в течение недели — будь то Москва или Петербург. Небольшие различия заметны в начале недели, по понедельникам:\n",
    "* в Москве слушают музыку жанра “world”,\n",
    "* в Петербурге — джаз и классику.\n",
    "\n",
    "Таким образом, вторая гипотеза подтвердилась лишь отчасти. Этот результат мог оказаться иным, если бы не пропуски в данных.\n",
    "\n",
    "3. Во вкусах пользователей Москвы и Петербурга больше общего чем различий. Вопреки ожиданиям, предпочтения жанров в Петербурге напоминают московские.\n",
    "\n",
    "Третья гипотеза не подтвердилась. Если различия в предпочтениях и существуют, на основной массе пользователей они незаметны."
   ]
  }
 ],
 "metadata": {
  "ExecuteTimeLog": [
   {
    "duration": 776,
    "start_time": "2021-12-13T18:30:07.374Z"
   },
   {
    "duration": 140,
    "start_time": "2021-12-13T18:30:46.203Z"
   },
   {
    "duration": 8,
    "start_time": "2021-12-13T18:31:09.787Z"
   },
   {
    "duration": 18,
    "start_time": "2021-12-13T18:31:24.744Z"
   },
   {
    "duration": 26,
    "start_time": "2021-12-13T18:31:52.666Z"
   },
   {
    "duration": 4,
    "start_time": "2021-12-13T18:35:11.367Z"
   },
   {
    "duration": 3,
    "start_time": "2021-12-13T18:35:19.184Z"
   },
   {
    "duration": 29,
    "start_time": "2021-12-13T18:37:34.203Z"
   },
   {
    "duration": 31,
    "start_time": "2021-12-13T18:37:49.409Z"
   },
   {
    "duration": 3,
    "start_time": "2021-12-13T18:38:21.978Z"
   },
   {
    "duration": 16,
    "start_time": "2021-12-13T18:38:51.892Z"
   },
   {
    "duration": 4,
    "start_time": "2021-12-13T18:38:56.193Z"
   },
   {
    "duration": 15,
    "start_time": "2021-12-13T18:39:09.155Z"
   },
   {
    "duration": 4,
    "start_time": "2021-12-13T18:39:10.482Z"
   },
   {
    "duration": 12,
    "start_time": "2021-12-13T18:39:15.547Z"
   },
   {
    "duration": 4,
    "start_time": "2021-12-13T18:39:17.199Z"
   },
   {
    "duration": 20,
    "start_time": "2021-12-13T18:39:36.995Z"
   },
   {
    "duration": 3,
    "start_time": "2021-12-13T18:39:39.978Z"
   },
   {
    "duration": 21,
    "start_time": "2021-12-13T18:40:11.164Z"
   },
   {
    "duration": 4,
    "start_time": "2021-12-13T18:40:12.631Z"
   },
   {
    "duration": 24,
    "start_time": "2021-12-13T18:41:07.155Z"
   },
   {
    "duration": 23,
    "start_time": "2021-12-13T18:42:05.555Z"
   },
   {
    "duration": 17,
    "start_time": "2021-12-13T18:44:08.035Z"
   },
   {
    "duration": 25,
    "start_time": "2021-12-13T18:44:24.644Z"
   },
   {
    "duration": 80,
    "start_time": "2021-12-13T18:44:54.316Z"
   },
   {
    "duration": 96,
    "start_time": "2021-12-13T18:45:45.964Z"
   },
   {
    "duration": 3,
    "start_time": "2021-12-13T18:45:48.484Z"
   },
   {
    "duration": 53,
    "start_time": "2021-12-13T18:46:04.595Z"
   },
   {
    "duration": 1412,
    "start_time": "2021-12-13T18:48:41.356Z"
   },
   {
    "duration": 49,
    "start_time": "2021-12-13T18:48:52.058Z"
   },
   {
    "duration": 42,
    "start_time": "2021-12-13T18:49:12.427Z"
   },
   {
    "duration": 39,
    "start_time": "2021-12-13T18:50:09.164Z"
   },
   {
    "duration": 44,
    "start_time": "2021-12-13T18:50:25.828Z"
   },
   {
    "duration": 43,
    "start_time": "2021-12-13T18:50:48.956Z"
   },
   {
    "duration": 38,
    "start_time": "2021-12-13T18:50:56.492Z"
   },
   {
    "duration": 43,
    "start_time": "2021-12-13T18:51:23.195Z"
   },
   {
    "duration": 3,
    "start_time": "2021-12-13T18:56:46.665Z"
   },
   {
    "duration": 13,
    "start_time": "2021-12-13T18:57:37.268Z"
   },
   {
    "duration": 344,
    "start_time": "2021-12-13T18:58:17.412Z"
   },
   {
    "duration": 5,
    "start_time": "2021-12-13T18:58:57.413Z"
   },
   {
    "duration": 2,
    "start_time": "2021-12-13T18:59:26.696Z"
   },
   {
    "duration": 689,
    "start_time": "2021-12-13T18:59:32.520Z"
   },
   {
    "duration": 5,
    "start_time": "2021-12-13T18:59:37.691Z"
   },
   {
    "duration": 3,
    "start_time": "2021-12-13T19:00:18.412Z"
   },
   {
    "duration": 681,
    "start_time": "2021-12-13T19:00:19.755Z"
   },
   {
    "duration": 670,
    "start_time": "2021-12-13T19:01:04.604Z"
   },
   {
    "duration": 4,
    "start_time": "2021-12-13T19:02:18.180Z"
   },
   {
    "duration": 58,
    "start_time": "2021-12-13T19:02:20.628Z"
   },
   {
    "duration": 55,
    "start_time": "2021-12-13T19:02:27.156Z"
   },
   {
    "duration": 4,
    "start_time": "2021-12-13T19:02:29.404Z"
   },
   {
    "duration": 42,
    "start_time": "2021-12-13T19:02:58.948Z"
   },
   {
    "duration": 3,
    "start_time": "2021-12-13T19:03:23.645Z"
   },
   {
    "duration": 8,
    "start_time": "2021-12-13T19:03:25.500Z"
   },
   {
    "duration": 41,
    "start_time": "2021-12-13T19:03:34.980Z"
   },
   {
    "duration": 8,
    "start_time": "2021-12-13T19:04:03.091Z"
   },
   {
    "duration": 41,
    "start_time": "2021-12-13T19:04:11.516Z"
   },
   {
    "duration": 5,
    "start_time": "2021-12-13T19:04:34.364Z"
   },
   {
    "duration": 316,
    "start_time": "2021-12-14T11:12:38.352Z"
   },
   {
    "duration": 388,
    "start_time": "2021-12-14T11:14:45.052Z"
   },
   {
    "duration": 639,
    "start_time": "2021-12-14T11:15:17.469Z"
   },
   {
    "duration": 153,
    "start_time": "2021-12-14T11:15:18.557Z"
   },
   {
    "duration": 18,
    "start_time": "2021-12-14T11:15:19.458Z"
   },
   {
    "duration": 23,
    "start_time": "2021-12-14T11:15:21.501Z"
   },
   {
    "duration": 3,
    "start_time": "2021-12-14T11:15:24.365Z"
   },
   {
    "duration": 22,
    "start_time": "2021-12-14T11:15:25.996Z"
   },
   {
    "duration": 3,
    "start_time": "2021-12-14T11:15:27.469Z"
   },
   {
    "duration": 35,
    "start_time": "2021-12-14T11:15:29.363Z"
   },
   {
    "duration": 21,
    "start_time": "2021-12-14T11:15:31.532Z"
   },
   {
    "duration": 22,
    "start_time": "2021-12-14T11:15:32.860Z"
   },
   {
    "duration": 64,
    "start_time": "2021-12-14T11:15:34.643Z"
   },
   {
    "duration": 72,
    "start_time": "2021-12-14T11:15:36.444Z"
   },
   {
    "duration": 53,
    "start_time": "2021-12-14T11:15:37.404Z"
   },
   {
    "duration": 40,
    "start_time": "2021-12-14T11:15:39.187Z"
   },
   {
    "duration": 3,
    "start_time": "2021-12-14T11:15:42.611Z"
   },
   {
    "duration": 7,
    "start_time": "2021-12-14T11:15:44.068Z"
   },
   {
    "duration": 6,
    "start_time": "2021-12-14T11:15:45.444Z"
   },
   {
    "duration": 36,
    "start_time": "2021-12-14T11:15:48.948Z"
   },
   {
    "duration": 11,
    "start_time": "2021-12-14T11:16:14.108Z"
   },
   {
    "duration": 305,
    "start_time": "2021-12-14T11:19:26.525Z"
   },
   {
    "duration": 310,
    "start_time": "2021-12-14T11:19:47.564Z"
   },
   {
    "duration": 293,
    "start_time": "2021-12-14T11:20:33.757Z"
   },
   {
    "duration": 270,
    "start_time": "2021-12-14T11:21:31.613Z"
   },
   {
    "duration": 286,
    "start_time": "2021-12-14T11:21:54.541Z"
   },
   {
    "duration": 297,
    "start_time": "2021-12-14T11:22:28.630Z"
   },
   {
    "duration": 10,
    "start_time": "2021-12-14T11:23:12.674Z"
   },
   {
    "duration": 99,
    "start_time": "2021-12-14T11:29:52.573Z"
   },
   {
    "duration": 3,
    "start_time": "2021-12-14T11:30:03.693Z"
   },
   {
    "duration": 28,
    "start_time": "2021-12-14T11:31:08.126Z"
   },
   {
    "duration": 20,
    "start_time": "2021-12-14T11:31:50.077Z"
   },
   {
    "duration": 26,
    "start_time": "2021-12-14T11:32:26.781Z"
   },
   {
    "duration": 23,
    "start_time": "2021-12-14T11:33:10.037Z"
   },
   {
    "duration": 14,
    "start_time": "2021-12-14T11:33:16.180Z"
   },
   {
    "duration": 18,
    "start_time": "2021-12-14T11:33:31.476Z"
   },
   {
    "duration": 4,
    "start_time": "2021-12-14T11:34:07.973Z"
   },
   {
    "duration": 20,
    "start_time": "2021-12-14T11:34:11.797Z"
   },
   {
    "duration": 25,
    "start_time": "2021-12-14T11:34:18.637Z"
   },
   {
    "duration": 4,
    "start_time": "2021-12-14T11:34:39.989Z"
   },
   {
    "duration": 17,
    "start_time": "2021-12-14T11:34:44.853Z"
   },
   {
    "duration": 24,
    "start_time": "2021-12-14T11:34:48.245Z"
   },
   {
    "duration": 16,
    "start_time": "2021-12-14T11:34:50.132Z"
   },
   {
    "duration": 16,
    "start_time": "2021-12-14T11:34:52.187Z"
   },
   {
    "duration": 18,
    "start_time": "2021-12-14T11:35:58.101Z"
   },
   {
    "duration": 16,
    "start_time": "2021-12-14T11:36:23.581Z"
   },
   {
    "duration": 10,
    "start_time": "2021-12-14T11:39:14.725Z"
   },
   {
    "duration": 1537,
    "start_time": "2021-12-14T11:40:53.483Z"
   },
   {
    "duration": 8,
    "start_time": "2021-12-14T11:41:13.177Z"
   },
   {
    "duration": 11,
    "start_time": "2021-12-14T11:43:15.877Z"
   },
   {
    "duration": 9,
    "start_time": "2021-12-14T11:43:40.157Z"
   },
   {
    "duration": 562,
    "start_time": "2021-12-14T16:28:23.295Z"
   },
   {
    "duration": 133,
    "start_time": "2021-12-14T16:28:23.859Z"
   },
   {
    "duration": 17,
    "start_time": "2021-12-14T16:28:23.994Z"
   },
   {
    "duration": 37,
    "start_time": "2021-12-14T16:28:24.013Z"
   },
   {
    "duration": 3,
    "start_time": "2021-12-14T16:28:24.052Z"
   },
   {
    "duration": 22,
    "start_time": "2021-12-14T16:28:24.057Z"
   },
   {
    "duration": 3,
    "start_time": "2021-12-14T16:28:24.081Z"
   },
   {
    "duration": 24,
    "start_time": "2021-12-14T16:28:24.087Z"
   },
   {
    "duration": 44,
    "start_time": "2021-12-14T16:28:24.114Z"
   },
   {
    "duration": 22,
    "start_time": "2021-12-14T16:28:24.159Z"
   },
   {
    "duration": 75,
    "start_time": "2021-12-14T16:28:24.183Z"
   },
   {
    "duration": 84,
    "start_time": "2021-12-14T16:28:24.260Z"
   },
   {
    "duration": 52,
    "start_time": "2021-12-14T16:28:24.346Z"
   },
   {
    "duration": 58,
    "start_time": "2021-12-14T16:28:24.400Z"
   },
   {
    "duration": 3,
    "start_time": "2021-12-14T16:28:24.460Z"
   },
   {
    "duration": 10,
    "start_time": "2021-12-14T16:28:24.465Z"
   },
   {
    "duration": 5,
    "start_time": "2021-12-14T16:28:24.478Z"
   },
   {
    "duration": 18,
    "start_time": "2021-12-14T16:28:24.485Z"
   },
   {
    "duration": 43,
    "start_time": "2021-12-14T16:28:24.505Z"
   },
   {
    "duration": 4,
    "start_time": "2021-12-14T16:28:24.550Z"
   },
   {
    "duration": 26,
    "start_time": "2021-12-14T16:28:24.556Z"
   },
   {
    "duration": 15,
    "start_time": "2021-12-14T16:28:24.585Z"
   },
   {
    "duration": 42,
    "start_time": "2021-12-14T16:28:24.604Z"
   },
   {
    "duration": 15,
    "start_time": "2021-12-14T16:28:24.648Z"
   },
   {
    "duration": 17,
    "start_time": "2021-12-14T16:28:24.664Z"
   },
   {
    "duration": 16,
    "start_time": "2021-12-14T16:28:24.683Z"
   },
   {
    "duration": 9,
    "start_time": "2021-12-14T16:28:24.700Z"
   },
   {
    "duration": 40,
    "start_time": "2021-12-14T16:28:24.710Z"
   },
   {
    "duration": 9,
    "start_time": "2021-12-14T16:28:24.752Z"
   },
   {
    "duration": 5,
    "start_time": "2021-12-14T16:28:24.763Z"
   },
   {
    "duration": 7,
    "start_time": "2021-12-14T16:28:24.770Z"
   },
   {
    "duration": 5,
    "start_time": "2021-12-14T16:28:24.778Z"
   },
   {
    "duration": 6,
    "start_time": "2021-12-14T16:28:24.785Z"
   },
   {
    "duration": 4,
    "start_time": "2021-12-14T16:28:24.793Z"
   },
   {
    "duration": 5,
    "start_time": "2021-12-14T16:28:24.798Z"
   },
   {
    "duration": 4,
    "start_time": "2021-12-14T16:28:24.805Z"
   },
   {
    "duration": 33,
    "start_time": "2021-12-14T16:28:24.811Z"
   },
   {
    "duration": 14,
    "start_time": "2021-12-14T16:28:24.846Z"
   },
   {
    "duration": 4,
    "start_time": "2021-12-14T16:36:17.980Z"
   },
   {
    "duration": 599,
    "start_time": "2021-12-14T16:37:01.015Z"
   },
   {
    "duration": 4,
    "start_time": "2021-12-14T16:38:13.831Z"
   },
   {
    "duration": 19,
    "start_time": "2021-12-14T16:38:15.142Z"
   },
   {
    "duration": 352,
    "start_time": "2021-12-14T16:38:50.184Z"
   },
   {
    "duration": 10,
    "start_time": "2021-12-14T16:39:17.827Z"
   },
   {
    "duration": 4,
    "start_time": "2021-12-14T16:39:21.207Z"
   },
   {
    "duration": 19,
    "start_time": "2021-12-14T16:39:22.943Z"
   },
   {
    "duration": 15,
    "start_time": "2021-12-14T16:39:24.550Z"
   },
   {
    "duration": 4,
    "start_time": "2021-12-14T16:39:58.479Z"
   },
   {
    "duration": 21,
    "start_time": "2021-12-14T16:40:00.021Z"
   },
   {
    "duration": 13,
    "start_time": "2021-12-14T16:40:01.598Z"
   },
   {
    "duration": 4,
    "start_time": "2021-12-14T16:41:08.896Z"
   },
   {
    "duration": 22,
    "start_time": "2021-12-14T16:41:12.446Z"
   },
   {
    "duration": 5,
    "start_time": "2021-12-14T16:41:37.463Z"
   },
   {
    "duration": 22,
    "start_time": "2021-12-14T16:41:40.775Z"
   },
   {
    "duration": 4,
    "start_time": "2021-12-14T16:42:06.623Z"
   },
   {
    "duration": 20,
    "start_time": "2021-12-14T16:42:08.909Z"
   },
   {
    "duration": 4,
    "start_time": "2021-12-14T16:42:20.623Z"
   },
   {
    "duration": 19,
    "start_time": "2021-12-14T16:42:21.990Z"
   },
   {
    "duration": 13,
    "start_time": "2021-12-14T16:42:23.286Z"
   },
   {
    "duration": 20,
    "start_time": "2021-12-14T16:43:45.207Z"
   },
   {
    "duration": 14,
    "start_time": "2021-12-14T16:44:19.623Z"
   },
   {
    "duration": 20,
    "start_time": "2021-12-14T16:44:54.055Z"
   },
   {
    "duration": 13,
    "start_time": "2021-12-14T16:44:54.934Z"
   },
   {
    "duration": 4,
    "start_time": "2021-12-14T16:46:21.352Z"
   },
   {
    "duration": 19,
    "start_time": "2021-12-14T16:46:22.974Z"
   },
   {
    "duration": 16,
    "start_time": "2021-12-14T16:46:24.334Z"
   },
   {
    "duration": 17,
    "start_time": "2021-12-14T16:46:25.918Z"
   },
   {
    "duration": 13,
    "start_time": "2021-12-14T16:46:27.215Z"
   },
   {
    "duration": 4,
    "start_time": "2021-12-14T16:46:53.974Z"
   },
   {
    "duration": 20,
    "start_time": "2021-12-14T16:46:55.054Z"
   },
   {
    "duration": 12,
    "start_time": "2021-12-14T16:46:56.191Z"
   },
   {
    "duration": 16,
    "start_time": "2021-12-14T16:46:57.246Z"
   },
   {
    "duration": 13,
    "start_time": "2021-12-14T16:46:58.336Z"
   },
   {
    "duration": 789,
    "start_time": "2021-12-14T20:05:42.881Z"
   },
   {
    "duration": 191,
    "start_time": "2021-12-14T20:05:43.673Z"
   },
   {
    "duration": 27,
    "start_time": "2021-12-14T20:05:43.867Z"
   },
   {
    "duration": 33,
    "start_time": "2021-12-14T20:05:43.897Z"
   },
   {
    "duration": 34,
    "start_time": "2021-12-14T20:05:43.933Z"
   },
   {
    "duration": 52,
    "start_time": "2021-12-14T20:05:43.970Z"
   },
   {
    "duration": 33,
    "start_time": "2021-12-14T20:05:44.025Z"
   },
   {
    "duration": 57,
    "start_time": "2021-12-14T20:05:44.062Z"
   },
   {
    "duration": 37,
    "start_time": "2021-12-14T20:05:44.123Z"
   },
   {
    "duration": 45,
    "start_time": "2021-12-14T20:05:44.162Z"
   },
   {
    "duration": 106,
    "start_time": "2021-12-14T20:05:44.209Z"
   },
   {
    "duration": 122,
    "start_time": "2021-12-14T20:05:44.318Z"
   },
   {
    "duration": 91,
    "start_time": "2021-12-14T20:05:44.443Z"
   },
   {
    "duration": 77,
    "start_time": "2021-12-14T20:05:44.536Z"
   },
   {
    "duration": 4,
    "start_time": "2021-12-14T20:05:44.615Z"
   },
   {
    "duration": 14,
    "start_time": "2021-12-14T20:05:44.621Z"
   },
   {
    "duration": 38,
    "start_time": "2021-12-14T20:05:44.638Z"
   },
   {
    "duration": 24,
    "start_time": "2021-12-14T20:05:44.679Z"
   },
   {
    "duration": 16,
    "start_time": "2021-12-14T20:05:44.706Z"
   },
   {
    "duration": 5,
    "start_time": "2021-12-14T20:05:44.725Z"
   },
   {
    "duration": 55,
    "start_time": "2021-12-14T20:05:44.732Z"
   },
   {
    "duration": 21,
    "start_time": "2021-12-14T20:05:44.789Z"
   },
   {
    "duration": 19,
    "start_time": "2021-12-14T20:05:44.816Z"
   },
   {
    "duration": 44,
    "start_time": "2021-12-14T20:05:44.838Z"
   },
   {
    "duration": 23,
    "start_time": "2021-12-14T20:05:44.884Z"
   },
   {
    "duration": 59,
    "start_time": "2021-12-14T20:05:44.910Z"
   },
   {
    "duration": 13,
    "start_time": "2021-12-14T20:05:44.971Z"
   },
   {
    "duration": 20,
    "start_time": "2021-12-14T20:05:44.987Z"
   },
   {
    "duration": 29,
    "start_time": "2021-12-14T20:05:45.010Z"
   },
   {
    "duration": 25,
    "start_time": "2021-12-14T20:05:45.042Z"
   },
   {
    "duration": 36,
    "start_time": "2021-12-14T20:05:45.070Z"
   },
   {
    "duration": 18,
    "start_time": "2021-12-14T20:05:45.109Z"
   },
   {
    "duration": 51,
    "start_time": "2021-12-14T20:05:45.130Z"
   },
   {
    "duration": 22,
    "start_time": "2021-12-14T20:05:45.184Z"
   },
   {
    "duration": 3,
    "start_time": "2021-12-14T20:05:45.209Z"
   },
   {
    "duration": 7,
    "start_time": "2021-12-14T20:05:45.215Z"
   },
   {
    "duration": 47,
    "start_time": "2021-12-14T20:05:45.225Z"
   },
   {
    "duration": 6,
    "start_time": "2021-12-14T20:05:45.275Z"
   },
   {
    "duration": 12,
    "start_time": "2021-12-14T20:07:37.468Z"
   },
   {
    "duration": 6,
    "start_time": "2021-12-14T20:08:02.299Z"
   },
   {
    "duration": 11,
    "start_time": "2021-12-14T20:08:18.563Z"
   },
   {
    "duration": 5,
    "start_time": "2021-12-14T20:08:21.019Z"
   },
   {
    "duration": 11,
    "start_time": "2021-12-14T20:09:19.615Z"
   },
   {
    "duration": 6,
    "start_time": "2021-12-14T20:09:50.612Z"
   },
   {
    "duration": 288,
    "start_time": "2021-12-15T15:25:17.707Z"
   },
   {
    "duration": 595,
    "start_time": "2021-12-15T15:25:27.324Z"
   },
   {
    "duration": 143,
    "start_time": "2021-12-15T15:25:28.587Z"
   },
   {
    "duration": 25,
    "start_time": "2021-12-15T15:25:29.837Z"
   },
   {
    "duration": 43,
    "start_time": "2021-12-15T15:25:31.716Z"
   },
   {
    "duration": 4,
    "start_time": "2021-12-15T15:25:34.772Z"
   },
   {
    "duration": 5,
    "start_time": "2021-12-15T15:26:08.428Z"
   },
   {
    "duration": 325,
    "start_time": "2021-12-15T15:27:20.500Z"
   },
   {
    "duration": 291,
    "start_time": "2021-12-15T15:27:47.909Z"
   },
   {
    "duration": 325,
    "start_time": "2021-12-15T15:27:51.093Z"
   },
   {
    "duration": 62,
    "start_time": "2021-12-15T15:28:03.924Z"
   },
   {
    "duration": 52,
    "start_time": "2022-08-18T09:58:05.172Z"
   },
   {
    "duration": 355,
    "start_time": "2022-08-18T09:58:10.163Z"
   },
   {
    "duration": 464,
    "start_time": "2022-08-18T09:58:10.596Z"
   },
   {
    "duration": 23,
    "start_time": "2022-08-18T09:58:14.034Z"
   },
   {
    "duration": 26,
    "start_time": "2022-08-18T09:58:15.764Z"
   },
   {
    "duration": 4,
    "start_time": "2022-08-18T09:58:22.693Z"
   },
   {
    "duration": 15,
    "start_time": "2022-08-18T09:58:24.598Z"
   },
   {
    "duration": 4,
    "start_time": "2022-08-18T09:58:25.499Z"
   },
   {
    "duration": 16,
    "start_time": "2022-08-18T10:00:00.101Z"
   },
   {
    "duration": 22,
    "start_time": "2022-08-18T10:00:28.462Z"
   },
   {
    "duration": 61,
    "start_time": "2022-08-18T10:00:41.214Z"
   },
   {
    "duration": 70,
    "start_time": "2022-08-18T10:00:55.192Z"
   },
   {
    "duration": 55,
    "start_time": "2022-08-18T10:01:01.424Z"
   },
   {
    "duration": 36,
    "start_time": "2022-08-18T10:02:19.834Z"
   },
   {
    "duration": 32,
    "start_time": "2022-08-18T10:02:28.593Z"
   },
   {
    "duration": 3,
    "start_time": "2022-08-18T10:03:23.001Z"
   },
   {
    "duration": 23,
    "start_time": "2022-08-18T10:03:29.003Z"
   },
   {
    "duration": 6,
    "start_time": "2022-08-18T10:03:33.644Z"
   },
   {
    "duration": 12,
    "start_time": "2022-08-18T10:04:56.704Z"
   },
   {
    "duration": 14,
    "start_time": "2022-08-18T10:06:01.565Z"
   },
   {
    "duration": 4,
    "start_time": "2022-08-18T10:06:55.164Z"
   },
   {
    "duration": 16,
    "start_time": "2022-08-18T10:07:11.951Z"
   },
   {
    "duration": 15,
    "start_time": "2022-08-18T10:07:12.184Z"
   },
   {
    "duration": 16,
    "start_time": "2022-08-18T10:07:12.421Z"
   },
   {
    "duration": 16,
    "start_time": "2022-08-18T10:07:12.637Z"
   },
   {
    "duration": 18,
    "start_time": "2022-08-18T10:07:12.877Z"
   },
   {
    "duration": 15,
    "start_time": "2022-08-18T10:07:13.382Z"
   },
   {
    "duration": 10,
    "start_time": "2022-08-18T10:07:35.821Z"
   },
   {
    "duration": 7,
    "start_time": "2022-08-18T10:07:53.676Z"
   },
   {
    "duration": 15,
    "start_time": "2022-08-18T10:08:45.473Z"
   },
   {
    "duration": 8,
    "start_time": "2022-08-18T10:08:47.088Z"
   },
   {
    "duration": 5,
    "start_time": "2022-08-18T10:09:55.306Z"
   },
   {
    "duration": 19,
    "start_time": "2022-08-18T10:10:11.516Z"
   },
   {
    "duration": 15,
    "start_time": "2022-08-18T10:10:27.182Z"
   },
   {
    "duration": 16,
    "start_time": "2022-08-18T10:10:38.278Z"
   },
   {
    "duration": 12,
    "start_time": "2022-08-18T10:10:39.511Z"
   },
   {
    "duration": 7,
    "start_time": "2022-08-18T10:11:39.063Z"
   },
   {
    "duration": 4,
    "start_time": "2022-08-18T10:11:43.638Z"
   },
   {
    "duration": 5,
    "start_time": "2022-08-18T10:11:58.537Z"
   },
   {
    "duration": 3,
    "start_time": "2022-08-18T10:12:02.641Z"
   }
  ],
  "colab": {
   "collapsed_sections": [
    "E0vqbgi9ay0H",
    "VUC88oWjTJw2"
   ],
   "name": "yandex_music_project_2021.2.ipynb",
   "provenance": []
  },
  "kernelspec": {
   "display_name": "Python 3 (ipykernel)",
   "language": "python",
   "name": "python3"
  },
  "language_info": {
   "codemirror_mode": {
    "name": "ipython",
    "version": 3
   },
   "file_extension": ".py",
   "mimetype": "text/x-python",
   "name": "python",
   "nbconvert_exporter": "python",
   "pygments_lexer": "ipython3",
   "version": "3.9.5"
  },
  "toc": {
   "base_numbering": 1,
   "nav_menu": {},
   "number_sections": true,
   "sideBar": true,
   "skip_h1_title": true,
   "title_cell": "Table of Contents",
   "title_sidebar": "Contents",
   "toc_cell": false,
   "toc_position": {},
   "toc_section_display": true,
   "toc_window_display": true
  }
 },
 "nbformat": 4,
 "nbformat_minor": 1
}
