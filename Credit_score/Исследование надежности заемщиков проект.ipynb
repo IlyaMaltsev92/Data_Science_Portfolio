{
 "cells": [
  {
   "cell_type": "markdown",
   "metadata": {},
   "source": [
    "# Исследование надёжности заёмщиков\n",
    "\n",
    "Заказчик — кредитный отдел банка. Нужно разобраться, влияет ли семейное положение и количество детей клиента на факт погашения кредита в срок. Входные данные от банка — статистика о платёжеспособности клиентов.\n",
    "\n",
    "Результаты исследования будут учтены при построении модели **кредитного скоринга** — специальной системы, которая оценивает способность потенциального заёмщика вернуть кредит банку."
   ]
  },
  {
   "cell_type": "markdown",
   "metadata": {},
   "source": [
    "## Анализ исходных данных"
   ]
  },
  {
   "cell_type": "code",
   "execution_count": 8,
   "metadata": {},
   "outputs": [],
   "source": [
    "import pandas as pd\n",
    "from pymystem3 import Mystem\n",
    "from collections import Counter"
   ]
  },
  {
   "cell_type": "code",
   "execution_count": 3,
   "metadata": {
    "scrolled": true
   },
   "outputs": [
    {
     "name": "stdout",
     "output_type": "stream",
     "text": [
      "<class 'pandas.core.frame.DataFrame'>\n",
      "RangeIndex: 21525 entries, 0 to 21524\n",
      "Data columns (total 12 columns):\n",
      " #   Column            Non-Null Count  Dtype  \n",
      "---  ------            --------------  -----  \n",
      " 0   children          21525 non-null  int64  \n",
      " 1   days_employed     19351 non-null  float64\n",
      " 2   dob_years         21525 non-null  int64  \n",
      " 3   education         21525 non-null  object \n",
      " 4   education_id      21525 non-null  int64  \n",
      " 5   family_status     21525 non-null  object \n",
      " 6   family_status_id  21525 non-null  int64  \n",
      " 7   gender            21525 non-null  object \n",
      " 8   income_type       21525 non-null  object \n",
      " 9   debt              21525 non-null  int64  \n",
      " 10  total_income      19351 non-null  float64\n",
      " 11  purpose           21525 non-null  object \n",
      "dtypes: float64(2), int64(5), object(5)\n",
      "memory usage: 2.0+ MB\n"
     ]
    }
   ],
   "source": [
    "data = pd.read_csv('/datasets/data.csv')\n",
    "data.info()"
   ]
  },
  {
   "cell_type": "markdown",
   "metadata": {},
   "source": [
    "**Вывод**\n",
    "судя по исходным данным есть пропуски в некоторых колонках(days_employed 2174 пропуска), total_income(2174), также второй столбец содержит отрицательные вещественные числа , когда по логике должен иметь положительные целые числи, тоже самое в столбце total_income "
   ]
  },
  {
   "cell_type": "markdown",
   "metadata": {},
   "source": [
    "## Предобработка данных"
   ]
  },
  {
   "cell_type": "markdown",
   "metadata": {},
   "source": [
    "### Обработка пропусков"
   ]
  },
  {
   "cell_type": "code",
   "execution_count": 4,
   "metadata": {},
   "outputs": [
    {
     "data": {
      "text/plain": [
       "days_employed    2174\n",
       "total_income     2174\n",
       "dtype: int64"
      ]
     },
     "metadata": {},
     "output_type": "display_data"
    }
   ],
   "source": [
    "display(data[['days_employed','total_income']].isna().sum())# определение явных пропусков\n",
    "data['days_employed'] = data['days_employed'].fillna(data['days_employed'].mean())\n",
    "data['total_income'] = data['total_income'].fillna(data['total_income'].median())"
   ]
  },
  {
   "cell_type": "markdown",
   "metadata": {},
   "source": [
    "Пропущенные значения были обнаружены в столбцах days_employed и total_income\n",
    "Пропуски были заменены в столбце days_employed на среднее значение по этому столбцу , а в total_income  на медианное значение по столбцу\n",
    "Возможные причины появления пропусков это ошибка при переносе данных в таблицу, или же человеческий фактор.\n"
   ]
  },
  {
   "cell_type": "markdown",
   "metadata": {},
   "source": [
    "### Замена типа данных"
   ]
  },
  {
   "cell_type": "code",
   "execution_count": 5,
   "metadata": {},
   "outputs": [
    {
     "name": "stdout",
     "output_type": "stream",
     "text": [
      "<class 'pandas.core.frame.DataFrame'>\n",
      "RangeIndex: 21525 entries, 0 to 21524\n",
      "Data columns (total 12 columns):\n",
      " #   Column            Non-Null Count  Dtype \n",
      "---  ------            --------------  ----- \n",
      " 0   children          21525 non-null  int64 \n",
      " 1   years_employed    21525 non-null  int64 \n",
      " 2   dob_years         21525 non-null  int64 \n",
      " 3   education         21525 non-null  object\n",
      " 4   education_id      21525 non-null  int64 \n",
      " 5   family_status     21525 non-null  object\n",
      " 6   family_status_id  21525 non-null  int64 \n",
      " 7   gender            21525 non-null  object\n",
      " 8   income_type       21525 non-null  object\n",
      " 9   debt              21525 non-null  int64 \n",
      " 10  total_income      21525 non-null  int64 \n",
      " 11  purpose           21525 non-null  object\n",
      "dtypes: int64(7), object(5)\n",
      "memory usage: 2.0+ MB\n"
     ]
    }
   ],
   "source": [
    "data['days_employed'] = data['days_employed'].astype('int')\n",
    "data['total_income'] = data['total_income'].astype('int')\n",
    "\n",
    "\n",
    "data['total_income'] = data['total_income'].apply(lambda x : round(x/1000))\n",
    "data['days_employed'] = data['days_employed'].apply(lambda x : abs(x))\n",
    "data['days_employed'] = data['days_employed'].apply(lambda x : round(x/365))\n",
    "data = data.rename(columns={'days_employed':'years_employed'})\n",
    "data.info()"
   ]
  },
  {
   "cell_type": "markdown",
   "metadata": {},
   "source": [
    "### Обработка дубликатов"
   ]
  },
  {
   "cell_type": "code",
   "execution_count": 6,
   "metadata": {},
   "outputs": [
    {
     "name": "stdout",
     "output_type": "stream",
     "text": [
      "среднее                15188\n",
      "высшее                  5251\n",
      "неоконченное высшее      744\n",
      "начальное                282\n",
      "ученая степень             6\n",
      "Name: education, dtype: int64\n"
     ]
    }
   ],
   "source": [
    "data = data.drop_duplicates().reset_index(drop=True) # удаляю явные дубликаты\n",
    "data['education'] = data['education'].apply(str.lower) # привожу к одному нижнему регистру\n",
    "\n",
    "print(data['education'].value_counts())"
   ]
  },
  {
   "cell_type": "markdown",
   "metadata": {},
   "source": [
    "Были удалены явные дубликаты в датафрейме с помощью метода drop_duplicates() со сбросом индекса методом reset_index()\n",
    "<br>Не явные дубликаты были удалены  в столбце education приведением всех строк к нижнему регистру методом apply(str.lower)"
   ]
  },
  {
   "cell_type": "markdown",
   "metadata": {},
   "source": [
    "### Лемматизация"
   ]
  },
  {
   "cell_type": "code",
   "execution_count": 7,
   "metadata": {},
   "outputs": [
    {
     "name": "stdout",
     "output_type": "stream",
     "text": [
      "Counter({' ': 55067, 'недвижимость': 6353, 'покупка': 5900, 'жилье': 4461, 'автомобиль': 4308, 'образование': 4014, 'с': 2918, 'операция': 2604, 'свадьба': 2335, 'свой': 2231, 'на': 2228, 'строительство': 1879, 'высокий': 1374, 'получение': 1315, 'коммерческий': 1312, 'для': 1290, 'жилой': 1231, 'сделка': 941, 'дополнительный': 907, 'заниматься': 904, 'подержать': 853, 'проведение': 773, 'сыграть': 769, 'сдача': 652, 'семья': 638, 'собственный': 635, 'со': 627, 'ремонт': 607, 'приобретение': 461, 'профильный': 436, 'подержанный': 111, '\\n': 1})\n"
     ]
    }
   ],
   "source": [
    "m = Mystem()\n",
    "\n",
    "text = '' #создал переменную для хранения суммированного значения data['purpose'] каждой строки\n",
    "\n",
    "for i in data['purpose']:#цикл перебирает каждое значение столбца data['purpose'] и конкатинирует в общий текст и добавляет пробел\n",
    "    text +=' '\n",
    "    text+= i\n",
    "    \n",
    "lemmas = m.lemmatize(text) # хранения результата функции lemmatize т.е список лемм\n",
    "\n",
    "print(Counter(lemmas))\n",
    "# написать вывод по леммам"
   ]
  },
  {
   "cell_type": "markdown",
   "metadata": {},
   "source": [
    "### Категоризация данных"
   ]
  },
  {
   "cell_type": "code",
   "execution_count": 10,
   "metadata": {},
   "outputs": [],
   "source": [
    "family_dict = data[['family_status_id','family_status']]\n",
    "education_dict = data[['education_id','education']] #словари\n",
    "\n",
    "# нужно удалить дубликаты из словарей\n",
    "family_dict = family_dict.drop_duplicates().reset_index(drop=True)\n",
    "education_dict = education_dict.drop_duplicates().reset_index(drop=True)"
   ]
  },
  {
   "cell_type": "code",
   "execution_count": 11,
   "metadata": {},
   "outputs": [],
   "source": [
    "def income_group(total_income): # категоризация по уровню дохода ( разделил на три категории в зависимости от уровно дохода)\n",
    "    \n",
    "    if 0 < total_income <= 80:\n",
    "        return 'низкий доход'\n",
    "    elif total_income < 145:\n",
    "        return 'средний доход'\n",
    "    else:\n",
    "        return 'высокий доход'\n",
    "\n",
    "data['income_group'] = data['total_income'].apply(income_group) # создал новый столбец категорий в зависимости от дохода"
   ]
  },
  {
   "cell_type": "code",
   "execution_count": 12,
   "metadata": {},
   "outputs": [],
   "source": [
    "def children_group(children): # категоризация по наличию (отсутствию детей)\n",
    "    \n",
    "    if children > 0:\n",
    "        return 'дети есть'\n",
    "    else:\n",
    "        return 'детей нет'\n",
    "\n",
    "data['children_group'] = data['children'].apply(children_group)"
   ]
  },
  {
   "cell_type": "code",
   "execution_count": 13,
   "metadata": {},
   "outputs": [],
   "source": [
    "def debt_group(debt): # категоризация наличия(отстутвия) задолженности\n",
    "    if debt:\n",
    "        return 'имел задолженность'\n",
    "    else:\n",
    "        return 'не имел задолженность'\n",
    "\n",
    "data['debt_group'] = data['debt'].apply(debt_group)"
   ]
  },
  {
   "cell_type": "code",
   "execution_count": 14,
   "metadata": {},
   "outputs": [
    {
     "data": {
      "text/plain": [
       "высокий доход    11858\n",
       "средний доход     7286\n",
       "низкий доход      2327\n",
       "Name: income_group, dtype: int64"
      ]
     },
     "metadata": {},
     "output_type": "display_data"
    }
   ],
   "source": [
    "purpose_of_credit = ['ремонт','свадьба','образование','автомобиль','жилье','недвижимость'] # список основных лемм\n",
    "\n",
    "def purpose_group(purpose):# метод для категоризации целей кредита по часто встречаемым лемам\n",
    "    for i in purpose_of_credit:\n",
    "        if i in m.lemmatize(purpose):\n",
    "            return i\n",
    "data['purpose_group'] = data['purpose'].apply(purpose_group)\n",
    "display(data['income_group'].value_counts())"
   ]
  },
  {
   "cell_type": "markdown",
   "metadata": {},
   "source": [
    "Выделил несколько словарей из датафрейма, удалил там дубликаты, разделил данные по нескольким категориям, таким как\n",
    "цели кредита, наличие (отсутвие) задолженности, наличие детей , уровень дохода"
   ]
  },
  {
   "cell_type": "markdown",
   "metadata": {},
   "source": [
    "##  Результаты"
   ]
  },
  {
   "cell_type": "markdown",
   "metadata": {},
   "source": [
    "- Есть ли зависимость между наличием детей и возвратом кредита в срок?"
   ]
  },
  {
   "cell_type": "code",
   "execution_count": 15,
   "metadata": {},
   "outputs": [
    {
     "data": {
      "text/html": [
       "<div>\n",
       "<style scoped>\n",
       "    .dataframe tbody tr th:only-of-type {\n",
       "        vertical-align: middle;\n",
       "    }\n",
       "\n",
       "    .dataframe tbody tr th {\n",
       "        vertical-align: top;\n",
       "    }\n",
       "\n",
       "    .dataframe thead th {\n",
       "        text-align: right;\n",
       "    }\n",
       "</style>\n",
       "<table border=\"1\" class=\"dataframe\">\n",
       "  <thead>\n",
       "    <tr style=\"text-align: right;\">\n",
       "      <th>debt_group</th>\n",
       "      <th>имел задолженность</th>\n",
       "      <th>не имел задолженность</th>\n",
       "      <th>доля должников от общей группы</th>\n",
       "    </tr>\n",
       "    <tr>\n",
       "      <th>children_group</th>\n",
       "      <th></th>\n",
       "      <th></th>\n",
       "      <th></th>\n",
       "    </tr>\n",
       "  </thead>\n",
       "  <tbody>\n",
       "    <tr>\n",
       "      <th>детей нет</th>\n",
       "      <td>1064</td>\n",
       "      <td>13090</td>\n",
       "      <td>7.5</td>\n",
       "    </tr>\n",
       "    <tr>\n",
       "      <th>дети есть</th>\n",
       "      <td>677</td>\n",
       "      <td>6640</td>\n",
       "      <td>9.3</td>\n",
       "    </tr>\n",
       "  </tbody>\n",
       "</table>\n",
       "</div>"
      ],
      "text/plain": [
       "debt_group      имел задолженность  не имел задолженность  \\\n",
       "children_group                                              \n",
       "детей нет                     1064                  13090   \n",
       "дети есть                      677                   6640   \n",
       "\n",
       "debt_group      доля должников от общей группы  \n",
       "children_group                                  \n",
       "детей нет                                  7.5  \n",
       "дети есть                                  9.3  "
      ]
     },
     "metadata": {},
     "output_type": "display_data"
    }
   ],
   "source": [
    "data_pivot_children = data.pivot_table(index='children_group',columns='debt_group',values='debt',aggfunc='count')\n",
    "\n",
    "data_pivot_children['доля должников от общей группы'] = data_pivot_children.apply(lambda x: round(x[0]/x.sum() *100,1),axis=1)\n",
    "display(data_pivot_children)"
   ]
  },
  {
   "cell_type": "markdown",
   "metadata": {},
   "source": [
    "**Вывод**"
   ]
  },
  {
   "cell_type": "markdown",
   "metadata": {},
   "source": [
    "по данным сводной  таблицы видно что тех у кого нет детей в два раза больше  возвращали кредит в срок в отличии от тех у кого есть дети "
   ]
  },
  {
   "cell_type": "markdown",
   "metadata": {},
   "source": [
    "- Есть ли зависимость между семейным положением и возвратом кредита в срок?"
   ]
  },
  {
   "cell_type": "code",
   "execution_count": 16,
   "metadata": {},
   "outputs": [
    {
     "data": {
      "text/html": [
       "<div>\n",
       "<style scoped>\n",
       "    .dataframe tbody tr th:only-of-type {\n",
       "        vertical-align: middle;\n",
       "    }\n",
       "\n",
       "    .dataframe tbody tr th {\n",
       "        vertical-align: top;\n",
       "    }\n",
       "\n",
       "    .dataframe thead th {\n",
       "        text-align: right;\n",
       "    }\n",
       "</style>\n",
       "<table border=\"1\" class=\"dataframe\">\n",
       "  <thead>\n",
       "    <tr style=\"text-align: right;\">\n",
       "      <th>debt_group</th>\n",
       "      <th>имел задолженность</th>\n",
       "      <th>не имел задолженность</th>\n",
       "      <th>доля_должников</th>\n",
       "    </tr>\n",
       "    <tr>\n",
       "      <th>family_status</th>\n",
       "      <th></th>\n",
       "      <th></th>\n",
       "      <th></th>\n",
       "    </tr>\n",
       "  </thead>\n",
       "  <tbody>\n",
       "    <tr>\n",
       "      <th>Не женат / не замужем</th>\n",
       "      <td>274</td>\n",
       "      <td>2536</td>\n",
       "      <td>9.8</td>\n",
       "    </tr>\n",
       "    <tr>\n",
       "      <th>в разводе</th>\n",
       "      <td>85</td>\n",
       "      <td>1110</td>\n",
       "      <td>7.1</td>\n",
       "    </tr>\n",
       "    <tr>\n",
       "      <th>вдовец / вдова</th>\n",
       "      <td>63</td>\n",
       "      <td>896</td>\n",
       "      <td>6.6</td>\n",
       "    </tr>\n",
       "    <tr>\n",
       "      <th>гражданский брак</th>\n",
       "      <td>388</td>\n",
       "      <td>3775</td>\n",
       "      <td>9.3</td>\n",
       "    </tr>\n",
       "    <tr>\n",
       "      <th>женат / замужем</th>\n",
       "      <td>931</td>\n",
       "      <td>11413</td>\n",
       "      <td>7.5</td>\n",
       "    </tr>\n",
       "  </tbody>\n",
       "</table>\n",
       "</div>"
      ],
      "text/plain": [
       "debt_group             имел задолженность  не имел задолженность  \\\n",
       "family_status                                                      \n",
       "Не женат / не замужем                 274                   2536   \n",
       "в разводе                              85                   1110   \n",
       "вдовец / вдова                         63                    896   \n",
       "гражданский брак                      388                   3775   \n",
       "женат / замужем                       931                  11413   \n",
       "\n",
       "debt_group             доля_должников  \n",
       "family_status                          \n",
       "Не женат / не замужем             9.8  \n",
       "в разводе                         7.1  \n",
       "вдовец / вдова                    6.6  \n",
       "гражданский брак                  9.3  \n",
       "женат / замужем                   7.5  "
      ]
     },
     "metadata": {},
     "output_type": "display_data"
    }
   ],
   "source": [
    "data_pivot_family = data.pivot_table(index='family_status',columns='debt_group',values='debt',aggfunc='count')\n",
    "data_pivot_family['доля_должников'] = data_pivot_family.apply(lambda x:round( x[0]/x.sum() * 100,1), axis=1)\n",
    "display(data_pivot_family)"
   ]
  },
  {
   "cell_type": "markdown",
   "metadata": {},
   "source": [
    "**Вывод**"
   ]
  },
  {
   "cell_type": "markdown",
   "metadata": {},
   "source": [
    "<div >\n",
    "<br>больше всего доля должников в группе людей со статусом не женат не замужем и гражданский брак \n",
    "<br> следовательно незначительная взаимосвязь между семейным положением и возвратом кредита в срок присутствует\n",
    "</div>"
   ]
  },
  {
   "cell_type": "markdown",
   "metadata": {},
   "source": [
    "- Есть ли зависимость между уровнем дохода и возвратом кредита в срок?"
   ]
  },
  {
   "cell_type": "code",
   "execution_count": 17,
   "metadata": {},
   "outputs": [
    {
     "data": {
      "text/html": [
       "<div>\n",
       "<style scoped>\n",
       "    .dataframe tbody tr th:only-of-type {\n",
       "        vertical-align: middle;\n",
       "    }\n",
       "\n",
       "    .dataframe tbody tr th {\n",
       "        vertical-align: top;\n",
       "    }\n",
       "\n",
       "    .dataframe thead th {\n",
       "        text-align: right;\n",
       "    }\n",
       "</style>\n",
       "<table border=\"1\" class=\"dataframe\">\n",
       "  <thead>\n",
       "    <tr style=\"text-align: right;\">\n",
       "      <th>debt_group</th>\n",
       "      <th>имел задолженность</th>\n",
       "      <th>не имел задолженность</th>\n",
       "      <th>доля_должников</th>\n",
       "    </tr>\n",
       "    <tr>\n",
       "      <th>income_group</th>\n",
       "      <th></th>\n",
       "      <th></th>\n",
       "      <th></th>\n",
       "    </tr>\n",
       "  </thead>\n",
       "  <tbody>\n",
       "    <tr>\n",
       "      <th>высокий доход</th>\n",
       "      <td>944</td>\n",
       "      <td>10914</td>\n",
       "      <td>8.0</td>\n",
       "    </tr>\n",
       "    <tr>\n",
       "      <th>низкий доход</th>\n",
       "      <td>179</td>\n",
       "      <td>2148</td>\n",
       "      <td>7.7</td>\n",
       "    </tr>\n",
       "    <tr>\n",
       "      <th>средний доход</th>\n",
       "      <td>618</td>\n",
       "      <td>6668</td>\n",
       "      <td>8.5</td>\n",
       "    </tr>\n",
       "  </tbody>\n",
       "</table>\n",
       "</div>"
      ],
      "text/plain": [
       "debt_group     имел задолженность  не имел задолженность  доля_должников\n",
       "income_group                                                            \n",
       "высокий доход                 944                  10914             8.0\n",
       "низкий доход                  179                   2148             7.7\n",
       "средний доход                 618                   6668             8.5"
      ]
     },
     "metadata": {},
     "output_type": "display_data"
    }
   ],
   "source": [
    "data_pivot_income = data.pivot_table(index='income_group',columns='debt_group',values='total_income',aggfunc='count')\n",
    "data_pivot_income['доля_должников'] = data_pivot_income.apply(lambda x:round( x[0]/x.sum() * 100,1), axis=1)\n",
    "display(data_pivot_income)\n"
   ]
  },
  {
   "cell_type": "markdown",
   "metadata": {},
   "source": [
    "**Вывод**"
   ]
  },
  {
   "cell_type": "markdown",
   "metadata": {},
   "source": [
    "<div>\n",
    "<br>больше всего доля должников в группе людей со средним доходом \n",
    "<br>ниже всего в группелюдей с низким доходом\n",
    "<br>следовательно люди со средним доходом чаще всего имеют просрочки по кредиту, а люди с низким доходом реже т.е взаимосвязь присутсвтует\n",
    "</div>"
   ]
  },
  {
   "cell_type": "markdown",
   "metadata": {},
   "source": [
    "- Как разные цели кредита влияют на его возврат в срок?"
   ]
  },
  {
   "cell_type": "code",
   "execution_count": 18,
   "metadata": {},
   "outputs": [
    {
     "data": {
      "text/html": [
       "<div>\n",
       "<style scoped>\n",
       "    .dataframe tbody tr th:only-of-type {\n",
       "        vertical-align: middle;\n",
       "    }\n",
       "\n",
       "    .dataframe tbody tr th {\n",
       "        vertical-align: top;\n",
       "    }\n",
       "\n",
       "    .dataframe thead th {\n",
       "        text-align: right;\n",
       "    }\n",
       "</style>\n",
       "<table border=\"1\" class=\"dataframe\">\n",
       "  <thead>\n",
       "    <tr style=\"text-align: right;\">\n",
       "      <th>debt_group</th>\n",
       "      <th>имел задолженность</th>\n",
       "      <th>не имел задолженность</th>\n",
       "      <th>доля_должников</th>\n",
       "    </tr>\n",
       "    <tr>\n",
       "      <th>purpose_group</th>\n",
       "      <th></th>\n",
       "      <th></th>\n",
       "      <th></th>\n",
       "    </tr>\n",
       "  </thead>\n",
       "  <tbody>\n",
       "    <tr>\n",
       "      <th>автомобиль</th>\n",
       "      <td>403</td>\n",
       "      <td>3905</td>\n",
       "      <td>9.4</td>\n",
       "    </tr>\n",
       "    <tr>\n",
       "      <th>жилье</th>\n",
       "      <td>273</td>\n",
       "      <td>3581</td>\n",
       "      <td>7.1</td>\n",
       "    </tr>\n",
       "    <tr>\n",
       "      <th>недвижимость</th>\n",
       "      <td>474</td>\n",
       "      <td>5879</td>\n",
       "      <td>7.5</td>\n",
       "    </tr>\n",
       "    <tr>\n",
       "      <th>образование</th>\n",
       "      <td>370</td>\n",
       "      <td>3644</td>\n",
       "      <td>9.2</td>\n",
       "    </tr>\n",
       "    <tr>\n",
       "      <th>ремонт</th>\n",
       "      <td>35</td>\n",
       "      <td>572</td>\n",
       "      <td>5.8</td>\n",
       "    </tr>\n",
       "    <tr>\n",
       "      <th>свадьба</th>\n",
       "      <td>186</td>\n",
       "      <td>2149</td>\n",
       "      <td>8.0</td>\n",
       "    </tr>\n",
       "  </tbody>\n",
       "</table>\n",
       "</div>"
      ],
      "text/plain": [
       "debt_group     имел задолженность  не имел задолженность  доля_должников\n",
       "purpose_group                                                           \n",
       "автомобиль                    403                   3905             9.4\n",
       "жилье                         273                   3581             7.1\n",
       "недвижимость                  474                   5879             7.5\n",
       "образование                   370                   3644             9.2\n",
       "ремонт                         35                    572             5.8\n",
       "свадьба                       186                   2149             8.0"
      ]
     },
     "metadata": {},
     "output_type": "display_data"
    }
   ],
   "source": [
    "data_pivot_purpose = data.pivot_table(index='purpose_group',columns='debt_group',values='purpose',aggfunc='count')\n",
    "data_pivot_purpose['доля_должников'] = data_pivot_purpose.apply(lambda x:round( x[0]/x.sum() * 100,1), axis=1)\n",
    "display(data_pivot_purpose)"
   ]
  },
  {
   "cell_type": "markdown",
   "metadata": {},
   "source": [
    "**Вывод**"
   ]
  },
  {
   "cell_type": "markdown",
   "metadata": {},
   "source": [
    "<div>\n",
    "\n",
    "   <br>Больше всего процент должников с целями <b>свадьба, автомобиль,образование</b>\n",
    "   <br>Следовательно чем серьзнее цель кредита тем меньше процент должников , скорее всего это связано с большими процентами по просрочке кредитов по недвижимости\n",
    "   <br> Следовательно есть взаимосвязь между целью кредита и возвратом в срок\n",
    "\n",
    "</div>"
   ]
  },
  {
   "cell_type": "markdown",
   "metadata": {},
   "source": [
    "## Общий вывод"
   ]
  },
  {
   "cell_type": "markdown",
   "metadata": {},
   "source": [
    "<div class=\"alert alert-info\">\n",
    "\n",
    "<br>Был проведен анализ влияния различных категорий на погашения кредита в срок,\n",
    "также были очищены данне от явных и не явных дубликатов, пропуски в данных были заполнены медианным и средним значением,\n",
    "проведена лемматизация основных целей кредита, на основе количественных признаком данные были разбиты на категории,\n",
    "были созданы сводные таблицы на основе которых написаны соответвующие выводы о зависимости данных категорий и возврата кредита в срок.\n",
    " <div>"
   ]
  }
 ],
 "metadata": {
  "ExecuteTimeLog": [
   {
    "duration": 659,
    "start_time": "2021-12-27T22:44:30.504Z"
   },
   {
    "duration": 55,
    "start_time": "2021-12-27T22:46:08.497Z"
   },
   {
    "duration": 64,
    "start_time": "2021-12-27T22:47:51.837Z"
   },
   {
    "duration": 66,
    "start_time": "2021-12-27T22:50:39.555Z"
   },
   {
    "duration": 74,
    "start_time": "2021-12-27T22:51:13.499Z"
   },
   {
    "duration": 5,
    "start_time": "2021-12-27T22:53:37.739Z"
   },
   {
    "duration": 5,
    "start_time": "2021-12-27T22:54:04.571Z"
   },
   {
    "duration": 1354,
    "start_time": "2021-12-27T22:54:59.329Z"
   },
   {
    "duration": 7,
    "start_time": "2021-12-27T22:56:56.609Z"
   },
   {
    "duration": 684,
    "start_time": "2021-12-28T14:14:24.798Z"
   },
   {
    "duration": 4,
    "start_time": "2021-12-28T14:16:46.151Z"
   },
   {
    "duration": 6,
    "start_time": "2021-12-28T14:17:34.102Z"
   },
   {
    "duration": 9,
    "start_time": "2021-12-28T14:19:58.246Z"
   },
   {
    "duration": 19,
    "start_time": "2021-12-28T14:21:49.221Z"
   },
   {
    "duration": 13,
    "start_time": "2021-12-28T14:22:08.482Z"
   },
   {
    "duration": 459,
    "start_time": "2021-12-28T16:06:15.401Z"
   },
   {
    "duration": 849,
    "start_time": "2021-12-28T16:06:29.076Z"
   },
   {
    "duration": 20,
    "start_time": "2021-12-28T16:06:29.928Z"
   },
   {
    "duration": 19,
    "start_time": "2021-12-28T16:06:29.951Z"
   },
   {
    "duration": 20,
    "start_time": "2021-12-28T16:06:44.804Z"
   },
   {
    "duration": 6,
    "start_time": "2021-12-28T16:11:11.159Z"
   },
   {
    "duration": 17,
    "start_time": "2021-12-28T16:11:19.858Z"
   },
   {
    "duration": 33,
    "start_time": "2021-12-28T16:12:11.293Z"
   },
   {
    "duration": 532,
    "start_time": "2021-12-28T16:15:04.392Z"
   },
   {
    "duration": 22,
    "start_time": "2021-12-28T16:15:19.566Z"
   },
   {
    "duration": 21,
    "start_time": "2021-12-28T16:15:33.625Z"
   },
   {
    "duration": 26,
    "start_time": "2021-12-28T16:15:50.348Z"
   },
   {
    "duration": 44,
    "start_time": "2021-12-28T16:16:56.063Z"
   },
   {
    "duration": 3,
    "start_time": "2021-12-28T16:21:04.451Z"
   },
   {
    "duration": 488,
    "start_time": "2021-12-28T16:21:20.642Z"
   },
   {
    "duration": 10,
    "start_time": "2021-12-28T16:21:42.759Z"
   },
   {
    "duration": 13,
    "start_time": "2021-12-28T16:22:32.295Z"
   },
   {
    "duration": 13,
    "start_time": "2021-12-28T16:22:56.924Z"
   },
   {
    "duration": 16,
    "start_time": "2021-12-28T16:23:17.053Z"
   },
   {
    "duration": 35,
    "start_time": "2021-12-28T16:23:32.153Z"
   },
   {
    "duration": 36,
    "start_time": "2021-12-28T16:23:41.653Z"
   },
   {
    "duration": 45,
    "start_time": "2021-12-28T16:24:20.217Z"
   },
   {
    "duration": 70,
    "start_time": "2021-12-28T16:24:30.564Z"
   },
   {
    "duration": 35,
    "start_time": "2021-12-28T16:27:39.842Z"
   },
   {
    "duration": 362,
    "start_time": "2021-12-28T16:28:25.897Z"
   },
   {
    "duration": 772,
    "start_time": "2021-12-28T16:29:32.515Z"
   },
   {
    "duration": 574,
    "start_time": "2021-12-28T16:29:58.588Z"
   },
   {
    "duration": 389,
    "start_time": "2021-12-28T16:32:16.699Z"
   },
   {
    "duration": 5281,
    "start_time": "2021-12-28T16:37:03.364Z"
   },
   {
    "duration": 5653,
    "start_time": "2021-12-28T16:38:04.930Z"
   },
   {
    "duration": 1697,
    "start_time": "2021-12-28T16:42:52.982Z"
   },
   {
    "duration": 1713,
    "start_time": "2021-12-28T16:44:08.472Z"
   },
   {
    "duration": 2214,
    "start_time": "2021-12-28T16:46:11.530Z"
   },
   {
    "duration": 6115,
    "start_time": "2021-12-28T16:46:44.210Z"
   },
   {
    "duration": 5466,
    "start_time": "2021-12-28T16:47:12.048Z"
   },
   {
    "duration": 6200,
    "start_time": "2021-12-28T16:48:05.659Z"
   },
   {
    "duration": 12185,
    "start_time": "2021-12-28T16:48:34.203Z"
   },
   {
    "duration": 3,
    "start_time": "2021-12-28T16:49:21.364Z"
   },
   {
    "duration": 901,
    "start_time": "2021-12-28T16:49:36.365Z"
   },
   {
    "duration": 20,
    "start_time": "2021-12-28T16:49:37.269Z"
   },
   {
    "duration": 18,
    "start_time": "2021-12-28T16:49:37.292Z"
   },
   {
    "duration": 64,
    "start_time": "2021-12-28T16:49:37.312Z"
   },
   {
    "duration": 25,
    "start_time": "2021-12-28T16:49:37.378Z"
   },
   {
    "duration": 19,
    "start_time": "2021-12-28T16:49:49.722Z"
   },
   {
    "duration": 36,
    "start_time": "2021-12-28T16:52:21.874Z"
   },
   {
    "duration": 3577,
    "start_time": "2021-12-28T16:56:53.155Z"
   },
   {
    "duration": 3333,
    "start_time": "2021-12-28T16:57:11.109Z"
   },
   {
    "duration": 3643,
    "start_time": "2021-12-28T16:59:29.943Z"
   },
   {
    "duration": 3731,
    "start_time": "2021-12-28T17:00:16.257Z"
   },
   {
    "duration": 845,
    "start_time": "2021-12-28T22:55:12.980Z"
   },
   {
    "duration": 82,
    "start_time": "2021-12-28T22:56:30.490Z"
   },
   {
    "duration": 81,
    "start_time": "2021-12-28T22:57:19.784Z"
   },
   {
    "duration": 76,
    "start_time": "2021-12-28T22:57:42.370Z"
   },
   {
    "duration": 810,
    "start_time": "2021-12-28T22:57:49.019Z"
   },
   {
    "duration": 21,
    "start_time": "2021-12-28T22:57:49.831Z"
   },
   {
    "duration": 19,
    "start_time": "2021-12-28T22:57:49.870Z"
   },
   {
    "duration": 25,
    "start_time": "2021-12-28T22:57:49.892Z"
   },
   {
    "duration": 3538,
    "start_time": "2021-12-28T22:57:49.919Z"
   },
   {
    "duration": 29,
    "start_time": "2021-12-28T23:03:10.908Z"
   },
   {
    "duration": 1449,
    "start_time": "2021-12-28T23:11:06.226Z"
   },
   {
    "duration": 810,
    "start_time": "2021-12-28T23:14:09.731Z"
   },
   {
    "duration": 22,
    "start_time": "2021-12-28T23:14:10.544Z"
   },
   {
    "duration": 21,
    "start_time": "2021-12-28T23:14:10.573Z"
   },
   {
    "duration": 28,
    "start_time": "2021-12-28T23:14:10.596Z"
   },
   {
    "duration": 3575,
    "start_time": "2021-12-28T23:14:10.627Z"
   },
   {
    "duration": 2081,
    "start_time": "2021-12-28T23:14:14.204Z"
   },
   {
    "duration": 42,
    "start_time": "2021-12-28T23:14:25.856Z"
   },
   {
    "duration": 23,
    "start_time": "2021-12-28T23:16:41.495Z"
   },
   {
    "duration": 98,
    "start_time": "2021-12-28T23:17:54.939Z"
   },
   {
    "duration": 539,
    "start_time": "2021-12-28T23:18:35.559Z"
   },
   {
    "duration": 23,
    "start_time": "2021-12-28T23:19:09.098Z"
   },
   {
    "duration": 22,
    "start_time": "2021-12-28T23:19:37.652Z"
   },
   {
    "duration": 26,
    "start_time": "2021-12-28T23:26:45.940Z"
   },
   {
    "duration": 639,
    "start_time": "2021-12-28T23:31:49.159Z"
   },
   {
    "duration": 615,
    "start_time": "2021-12-28T23:33:55.643Z"
   },
   {
    "duration": 613,
    "start_time": "2021-12-28T23:35:25.336Z"
   },
   {
    "duration": 652,
    "start_time": "2021-12-28T23:37:52.519Z"
   },
   {
    "duration": 623,
    "start_time": "2021-12-28T23:38:09.547Z"
   },
   {
    "duration": 863,
    "start_time": "2021-12-29T10:39:21.630Z"
   },
   {
    "duration": 450,
    "start_time": "2021-12-29T10:39:25.858Z"
   },
   {
    "duration": 22,
    "start_time": "2021-12-29T10:39:49.433Z"
   },
   {
    "duration": 21,
    "start_time": "2021-12-29T10:39:50.906Z"
   },
   {
    "duration": 26,
    "start_time": "2021-12-29T10:39:53.370Z"
   },
   {
    "duration": 372,
    "start_time": "2021-12-29T10:40:24.215Z"
   },
   {
    "duration": 30,
    "start_time": "2021-12-29T10:40:39.658Z"
   },
   {
    "duration": 31,
    "start_time": "2021-12-29T10:41:48.619Z"
   },
   {
    "duration": 30,
    "start_time": "2021-12-29T10:42:20.594Z"
   },
   {
    "duration": 273,
    "start_time": "2021-12-29T10:43:02.787Z"
   },
   {
    "duration": 287,
    "start_time": "2021-12-29T10:43:37.396Z"
   },
   {
    "duration": 37,
    "start_time": "2021-12-29T10:43:46.882Z"
   },
   {
    "duration": 45,
    "start_time": "2021-12-29T10:44:16.778Z"
   },
   {
    "duration": 331,
    "start_time": "2021-12-29T10:48:50.099Z"
   },
   {
    "duration": 101,
    "start_time": "2021-12-29T10:49:12.299Z"
   },
   {
    "duration": 337,
    "start_time": "2021-12-29T10:51:33.482Z"
   },
   {
    "duration": 49,
    "start_time": "2021-12-29T10:51:47.883Z"
   },
   {
    "duration": 3355,
    "start_time": "2021-12-29T10:52:26.707Z"
   },
   {
    "duration": 1152,
    "start_time": "2021-12-29T10:53:02.427Z"
   },
   {
    "duration": 80,
    "start_time": "2021-12-29T10:53:12.922Z"
   },
   {
    "duration": 16,
    "start_time": "2021-12-29T10:53:14.826Z"
   },
   {
    "duration": 28,
    "start_time": "2021-12-29T10:53:16.578Z"
   },
   {
    "duration": 96,
    "start_time": "2021-12-29T10:53:19.171Z"
   },
   {
    "duration": 51,
    "start_time": "2021-12-29T10:53:40.204Z"
   },
   {
    "duration": 328,
    "start_time": "2021-12-29T10:54:29.618Z"
   },
   {
    "duration": 60,
    "start_time": "2021-12-29T10:55:10.099Z"
   },
   {
    "duration": 98,
    "start_time": "2021-12-29T10:55:55.130Z"
   },
   {
    "duration": 1303,
    "start_time": "2021-12-29T10:56:09.514Z"
   },
   {
    "duration": 79,
    "start_time": "2021-12-29T10:56:26.094Z"
   },
   {
    "duration": 341,
    "start_time": "2021-12-29T10:56:27.874Z"
   },
   {
    "duration": 78,
    "start_time": "2021-12-29T10:56:44.091Z"
   },
   {
    "duration": 14,
    "start_time": "2021-12-29T10:56:50.586Z"
   },
   {
    "duration": 21,
    "start_time": "2021-12-29T10:56:53.134Z"
   },
   {
    "duration": 42,
    "start_time": "2021-12-29T10:57:12.364Z"
   },
   {
    "duration": 46,
    "start_time": "2021-12-29T10:57:44.491Z"
   },
   {
    "duration": 44,
    "start_time": "2021-12-29T10:58:08.074Z"
   },
   {
    "duration": 46,
    "start_time": "2021-12-29T10:58:59.931Z"
   },
   {
    "duration": 42,
    "start_time": "2021-12-29T10:59:33.004Z"
   },
   {
    "duration": 3334,
    "start_time": "2021-12-29T10:59:54.898Z"
   },
   {
    "duration": 28,
    "start_time": "2021-12-29T11:00:55.187Z"
   },
   {
    "duration": 24,
    "start_time": "2021-12-29T11:01:46.059Z"
   },
   {
    "duration": 30,
    "start_time": "2021-12-29T11:02:03.203Z"
   },
   {
    "duration": 28,
    "start_time": "2021-12-29T11:03:09.848Z"
   },
   {
    "duration": 38,
    "start_time": "2021-12-29T11:04:06.691Z"
   },
   {
    "duration": 30,
    "start_time": "2021-12-29T11:05:30.572Z"
   },
   {
    "duration": 11,
    "start_time": "2021-12-29T11:06:20.283Z"
   },
   {
    "duration": 15,
    "start_time": "2021-12-29T11:07:19.355Z"
   },
   {
    "duration": 16,
    "start_time": "2021-12-29T11:07:35.219Z"
   },
   {
    "duration": 17,
    "start_time": "2021-12-29T11:08:02.739Z"
   },
   {
    "duration": 14,
    "start_time": "2021-12-29T11:08:51.820Z"
   },
   {
    "duration": 578,
    "start_time": "2021-12-29T15:56:08.281Z"
   },
   {
    "duration": 12,
    "start_time": "2021-12-29T15:56:08.861Z"
   },
   {
    "duration": 19,
    "start_time": "2021-12-29T15:56:08.875Z"
   },
   {
    "duration": 46,
    "start_time": "2021-12-29T15:56:08.896Z"
   },
   {
    "duration": 2289,
    "start_time": "2021-12-29T15:56:08.944Z"
   },
   {
    "duration": 22,
    "start_time": "2021-12-29T15:56:11.235Z"
   },
   {
    "duration": 344,
    "start_time": "2021-12-29T15:56:11.259Z"
   },
   {
    "duration": 28,
    "start_time": "2021-12-29T15:57:42.033Z"
   },
   {
    "duration": 31,
    "start_time": "2021-12-29T15:58:54.861Z"
   },
   {
    "duration": 33,
    "start_time": "2021-12-29T16:04:14.059Z"
   },
   {
    "duration": 4732,
    "start_time": "2021-12-29T16:07:38.757Z"
   },
   {
    "duration": 86,
    "start_time": "2021-12-29T16:08:11.301Z"
   },
   {
    "duration": 4765,
    "start_time": "2021-12-29T16:08:17.571Z"
   },
   {
    "duration": 30,
    "start_time": "2021-12-29T16:08:50.381Z"
   },
   {
    "duration": 14,
    "start_time": "2021-12-29T16:10:43.844Z"
   },
   {
    "duration": 15,
    "start_time": "2021-12-29T16:11:32.204Z"
   },
   {
    "duration": 16,
    "start_time": "2021-12-29T16:12:01.172Z"
   },
   {
    "duration": 15,
    "start_time": "2021-12-29T16:12:26.101Z"
   },
   {
    "duration": 23,
    "start_time": "2021-12-29T16:12:45.540Z"
   },
   {
    "duration": 3878,
    "start_time": "2021-12-29T16:12:58.140Z"
   },
   {
    "duration": 80,
    "start_time": "2021-12-29T16:13:10.339Z"
   },
   {
    "duration": 21,
    "start_time": "2021-12-29T16:13:35.915Z"
   },
   {
    "duration": 93,
    "start_time": "2021-12-29T16:16:24.853Z"
   },
   {
    "duration": 23,
    "start_time": "2021-12-29T16:16:39.819Z"
   },
   {
    "duration": 26,
    "start_time": "2021-12-29T16:16:59.900Z"
   },
   {
    "duration": 32,
    "start_time": "2021-12-29T16:23:34.956Z"
   },
   {
    "duration": 27,
    "start_time": "2021-12-29T16:28:26.357Z"
   },
   {
    "duration": 27,
    "start_time": "2021-12-29T16:37:16.156Z"
   },
   {
    "duration": 23,
    "start_time": "2021-12-29T16:46:38.815Z"
   },
   {
    "duration": 19,
    "start_time": "2021-12-29T16:52:43.456Z"
   },
   {
    "duration": 864,
    "start_time": "2022-01-02T17:23:56.242Z"
   },
   {
    "duration": 23,
    "start_time": "2022-01-02T17:23:57.109Z"
   },
   {
    "duration": 40,
    "start_time": "2022-01-02T17:23:57.138Z"
   },
   {
    "duration": 36,
    "start_time": "2022-01-02T17:23:57.180Z"
   },
   {
    "duration": 3372,
    "start_time": "2022-01-02T17:23:57.218Z"
   },
   {
    "duration": 48,
    "start_time": "2022-01-02T17:24:00.593Z"
   },
   {
    "duration": 51,
    "start_time": "2022-01-02T17:24:00.645Z"
   },
   {
    "duration": 28,
    "start_time": "2022-01-02T17:24:00.699Z"
   },
   {
    "duration": 462,
    "start_time": "2022-01-02T17:31:00.972Z"
   },
   {
    "duration": 67,
    "start_time": "2022-01-02T17:31:41.011Z"
   },
   {
    "duration": 46,
    "start_time": "2022-01-02T17:37:25.886Z"
   },
   {
    "duration": 58,
    "start_time": "2022-01-02T17:37:33.109Z"
   },
   {
    "duration": 56,
    "start_time": "2022-01-02T17:37:49.197Z"
   },
   {
    "duration": 334,
    "start_time": "2022-01-02T17:38:00.990Z"
   },
   {
    "duration": 352,
    "start_time": "2022-01-02T17:38:08.061Z"
   },
   {
    "duration": 102,
    "start_time": "2022-01-02T17:38:14.885Z"
   },
   {
    "duration": 56,
    "start_time": "2022-01-02T17:38:23.949Z"
   },
   {
    "duration": 273,
    "start_time": "2022-01-02T17:41:00.771Z"
   },
   {
    "duration": 276,
    "start_time": "2022-01-02T17:41:11.052Z"
   },
   {
    "duration": 32,
    "start_time": "2022-01-02T17:41:52.245Z"
   },
   {
    "duration": 926,
    "start_time": "2022-01-02T17:47:45.376Z"
   },
   {
    "duration": 24,
    "start_time": "2022-01-02T17:47:46.305Z"
   },
   {
    "duration": 39,
    "start_time": "2022-01-02T17:47:46.331Z"
   },
   {
    "duration": 39,
    "start_time": "2022-01-02T17:47:46.373Z"
   },
   {
    "duration": 3359,
    "start_time": "2022-01-02T17:47:46.415Z"
   },
   {
    "duration": 90,
    "start_time": "2022-01-02T17:47:49.777Z"
   },
   {
    "duration": 36,
    "start_time": "2022-01-02T17:47:49.869Z"
   },
   {
    "duration": 30,
    "start_time": "2022-01-02T17:47:49.908Z"
   },
   {
    "duration": 28,
    "start_time": "2022-01-02T17:47:49.968Z"
   },
   {
    "duration": 31,
    "start_time": "2022-01-02T17:48:40.129Z"
   },
   {
    "duration": 1392,
    "start_time": "2022-01-02T17:51:35.745Z"
   },
   {
    "duration": 1333,
    "start_time": "2022-01-02T17:52:33.708Z"
   },
   {
    "duration": 9635,
    "start_time": "2022-01-02T17:53:50.473Z"
   },
   {
    "duration": 34,
    "start_time": "2022-01-02T17:54:23.559Z"
   },
   {
    "duration": 11772,
    "start_time": "2022-01-02T17:54:46.275Z"
   },
   {
    "duration": 23,
    "start_time": "2022-01-02T17:54:58.092Z"
   },
   {
    "duration": 10,
    "start_time": "2022-01-02T17:55:58.027Z"
   },
   {
    "duration": 10,
    "start_time": "2022-01-02T17:56:08.962Z"
   },
   {
    "duration": 10,
    "start_time": "2022-01-02T17:56:14.405Z"
   },
   {
    "duration": 11,
    "start_time": "2022-01-02T17:56:23.499Z"
   },
   {
    "duration": 12,
    "start_time": "2022-01-02T17:57:03.701Z"
   },
   {
    "duration": 11,
    "start_time": "2022-01-02T17:57:41.715Z"
   },
   {
    "duration": 9477,
    "start_time": "2022-01-02T17:57:48.715Z"
   },
   {
    "duration": 9,
    "start_time": "2022-01-02T17:58:05.074Z"
   },
   {
    "duration": 13,
    "start_time": "2022-01-02T17:58:18.026Z"
   },
   {
    "duration": 13,
    "start_time": "2022-01-02T17:58:49.259Z"
   },
   {
    "duration": 278,
    "start_time": "2022-01-02T17:59:43.211Z"
   },
   {
    "duration": 11,
    "start_time": "2022-01-02T18:00:14.371Z"
   },
   {
    "duration": 9098,
    "start_time": "2022-01-02T18:00:43.212Z"
   },
   {
    "duration": 14,
    "start_time": "2022-01-02T18:01:07.576Z"
   },
   {
    "duration": 9184,
    "start_time": "2022-01-02T18:02:18.627Z"
   },
   {
    "duration": 12487,
    "start_time": "2022-01-02T18:03:09.156Z"
   },
   {
    "duration": 15689,
    "start_time": "2022-01-02T18:05:12.605Z"
   },
   {
    "duration": 14,
    "start_time": "2022-01-02T18:05:40.883Z"
   },
   {
    "duration": 13,
    "start_time": "2022-01-02T18:06:06.211Z"
   },
   {
    "duration": 32,
    "start_time": "2022-01-02T18:07:39.907Z"
   },
   {
    "duration": 298,
    "start_time": "2022-01-02T18:08:38.337Z"
   },
   {
    "duration": 314,
    "start_time": "2022-01-02T18:09:17.956Z"
   },
   {
    "duration": 32,
    "start_time": "2022-01-02T18:09:48.531Z"
   },
   {
    "duration": 30,
    "start_time": "2022-01-02T18:10:18.724Z"
   },
   {
    "duration": 658,
    "start_time": "2022-01-02T22:30:45.644Z"
   },
   {
    "duration": 14,
    "start_time": "2022-01-02T22:30:46.304Z"
   },
   {
    "duration": 13,
    "start_time": "2022-01-02T22:30:46.319Z"
   },
   {
    "duration": 26,
    "start_time": "2022-01-02T22:30:46.334Z"
   },
   {
    "duration": 2402,
    "start_time": "2022-01-02T22:30:46.362Z"
   },
   {
    "duration": 11355,
    "start_time": "2022-01-02T22:30:48.766Z"
   },
   {
    "duration": 36,
    "start_time": "2022-01-02T22:31:00.123Z"
   },
   {
    "duration": 19,
    "start_time": "2022-01-02T22:31:00.162Z"
   },
   {
    "duration": 25,
    "start_time": "2022-01-02T22:31:00.183Z"
   },
   {
    "duration": 39,
    "start_time": "2022-01-02T22:31:00.210Z"
   },
   {
    "duration": 9,
    "start_time": "2022-01-02T22:31:00.250Z"
   },
   {
    "duration": 19,
    "start_time": "2022-01-02T22:34:38.739Z"
   },
   {
    "duration": 14,
    "start_time": "2022-01-02T22:37:13.986Z"
   },
   {
    "duration": 7,
    "start_time": "2022-01-02T22:38:09.598Z"
   },
   {
    "duration": 6,
    "start_time": "2022-01-02T22:38:55.264Z"
   },
   {
    "duration": 5,
    "start_time": "2022-01-02T22:39:07.314Z"
   },
   {
    "duration": 11938,
    "start_time": "2022-01-02T22:40:40.689Z"
   },
   {
    "duration": 11206,
    "start_time": "2022-01-02T22:41:48.451Z"
   },
   {
    "duration": 21,
    "start_time": "2022-01-02T22:42:13.472Z"
   },
   {
    "duration": 22,
    "start_time": "2022-01-02T22:42:35.176Z"
   },
   {
    "duration": 19,
    "start_time": "2022-01-02T22:43:30.950Z"
   },
   {
    "duration": 19,
    "start_time": "2022-01-02T22:44:31.123Z"
   },
   {
    "duration": 4,
    "start_time": "2022-01-02T22:46:23.551Z"
   },
   {
    "duration": 5,
    "start_time": "2022-01-02T22:47:03.009Z"
   },
   {
    "duration": 11095,
    "start_time": "2022-01-02T22:48:02.624Z"
   },
   {
    "duration": 20,
    "start_time": "2022-01-02T22:48:16.143Z"
   },
   {
    "duration": 807,
    "start_time": "2022-01-04T10:06:28.765Z"
   },
   {
    "duration": 20,
    "start_time": "2022-01-04T10:06:29.574Z"
   },
   {
    "duration": 39,
    "start_time": "2022-01-04T10:06:29.599Z"
   },
   {
    "duration": 37,
    "start_time": "2022-01-04T10:06:29.640Z"
   },
   {
    "duration": 3151,
    "start_time": "2022-01-04T10:06:29.680Z"
   },
   {
    "duration": 16038,
    "start_time": "2022-01-04T10:06:32.834Z"
   },
   {
    "duration": 49,
    "start_time": "2022-01-04T10:06:48.875Z"
   },
   {
    "duration": 27,
    "start_time": "2022-01-04T10:06:48.927Z"
   },
   {
    "duration": 26,
    "start_time": "2022-01-04T10:06:48.956Z"
   },
   {
    "duration": 61,
    "start_time": "2022-01-04T10:06:48.985Z"
   },
   {
    "duration": 6,
    "start_time": "2022-01-04T10:06:49.048Z"
   },
   {
    "duration": 11,
    "start_time": "2022-01-04T10:06:49.057Z"
   },
   {
    "duration": 8,
    "start_time": "2022-01-04T10:08:48.008Z"
   },
   {
    "duration": 87,
    "start_time": "2022-01-05T12:16:42.446Z"
   },
   {
    "duration": 80,
    "start_time": "2022-01-05T12:17:17.421Z"
   },
   {
    "duration": 89,
    "start_time": "2022-01-05T12:17:56.098Z"
   },
   {
    "duration": 857,
    "start_time": "2022-01-05T13:40:25.743Z"
   },
   {
    "duration": 22,
    "start_time": "2022-01-05T13:40:27.393Z"
   },
   {
    "duration": 22,
    "start_time": "2022-01-05T13:41:04.281Z"
   },
   {
    "duration": 16,
    "start_time": "2022-01-05T13:42:14.613Z"
   },
   {
    "duration": 455,
    "start_time": "2022-01-05T13:42:50.442Z"
   },
   {
    "duration": 30,
    "start_time": "2022-01-05T13:43:17.986Z"
   },
   {
    "duration": 23,
    "start_time": "2022-01-05T13:43:28.265Z"
   },
   {
    "duration": 19,
    "start_time": "2022-01-05T13:43:52.218Z"
   },
   {
    "duration": 20,
    "start_time": "2022-01-05T13:44:12.714Z"
   },
   {
    "duration": 23,
    "start_time": "2022-01-05T13:44:26.425Z"
   },
   {
    "duration": 640,
    "start_time": "2022-01-05T17:55:30.799Z"
   },
   {
    "duration": 27,
    "start_time": "2022-01-05T17:55:31.441Z"
   },
   {
    "duration": 13,
    "start_time": "2022-01-05T17:55:31.470Z"
   },
   {
    "duration": 36,
    "start_time": "2022-01-05T17:55:31.485Z"
   },
   {
    "duration": 2430,
    "start_time": "2022-01-05T17:55:31.541Z"
   },
   {
    "duration": 11818,
    "start_time": "2022-01-05T17:55:33.973Z"
   },
   {
    "duration": 21,
    "start_time": "2022-01-05T17:55:45.793Z"
   },
   {
    "duration": 32,
    "start_time": "2022-01-05T17:55:45.816Z"
   },
   {
    "duration": 16,
    "start_time": "2022-01-05T17:55:45.850Z"
   },
   {
    "duration": 17,
    "start_time": "2022-01-05T17:55:45.867Z"
   },
   {
    "duration": 4,
    "start_time": "2022-01-05T17:55:45.886Z"
   },
   {
    "duration": 6,
    "start_time": "2022-01-05T17:55:45.891Z"
   },
   {
    "duration": 88,
    "start_time": "2022-01-05T17:56:26.150Z"
   },
   {
    "duration": 73,
    "start_time": "2022-01-05T17:57:56.421Z"
   },
   {
    "duration": 53,
    "start_time": "2022-01-05T18:01:12.725Z"
   },
   {
    "duration": 57,
    "start_time": "2022-01-05T18:01:55.029Z"
   },
   {
    "duration": 77,
    "start_time": "2022-01-05T18:02:21.869Z"
   },
   {
    "duration": 69,
    "start_time": "2022-01-05T18:03:01.030Z"
   },
   {
    "duration": 72,
    "start_time": "2022-01-05T18:04:35.533Z"
   },
   {
    "duration": 3174,
    "start_time": "2022-01-05T18:05:09.604Z"
   },
   {
    "duration": 48,
    "start_time": "2022-01-05T18:05:22.549Z"
   },
   {
    "duration": 72,
    "start_time": "2022-01-05T18:05:41.996Z"
   },
   {
    "duration": 98,
    "start_time": "2022-01-05T18:07:31.374Z"
   },
   {
    "duration": 68,
    "start_time": "2022-01-05T18:08:01.478Z"
   },
   {
    "duration": 11609,
    "start_time": "2022-01-05T18:11:53.747Z"
   },
   {
    "duration": 263,
    "start_time": "2022-01-05T18:16:49.731Z"
   },
   {
    "duration": 238,
    "start_time": "2022-01-05T18:18:07.751Z"
   },
   {
    "duration": 17,
    "start_time": "2022-01-05T18:18:36.757Z"
   },
   {
    "duration": 13,
    "start_time": "2022-01-05T18:18:39.029Z"
   },
   {
    "duration": 22,
    "start_time": "2022-01-05T18:20:21.942Z"
   },
   {
    "duration": 20,
    "start_time": "2022-01-05T18:20:33.669Z"
   },
   {
    "duration": 22,
    "start_time": "2022-01-05T18:20:35.765Z"
   },
   {
    "duration": 338,
    "start_time": "2022-01-05T18:21:05.521Z"
   },
   {
    "duration": 670,
    "start_time": "2022-01-05T18:21:09.439Z"
   },
   {
    "duration": 17,
    "start_time": "2022-01-05T18:21:12.017Z"
   },
   {
    "duration": 23,
    "start_time": "2022-01-05T18:21:14.753Z"
   },
   {
    "duration": 26,
    "start_time": "2022-01-05T18:24:17.025Z"
   },
   {
    "duration": 15,
    "start_time": "2022-01-05T18:28:49.470Z"
   },
   {
    "duration": 6847,
    "start_time": "2022-01-05T18:30:00.898Z"
   },
   {
    "duration": 18,
    "start_time": "2022-01-05T18:30:19.249Z"
   },
   {
    "duration": 16,
    "start_time": "2022-01-05T18:31:00.538Z"
   },
   {
    "duration": 8,
    "start_time": "2022-01-05T18:31:15.241Z"
   },
   {
    "duration": 889,
    "start_time": "2022-01-05T21:23:17.865Z"
   },
   {
    "duration": 124,
    "start_time": "2022-01-05T21:23:37.358Z"
   },
   {
    "duration": 110,
    "start_time": "2022-01-05T21:26:20.040Z"
   },
   {
    "duration": 106,
    "start_time": "2022-01-05T21:26:32.283Z"
   },
   {
    "duration": 104,
    "start_time": "2022-01-05T21:27:15.835Z"
   },
   {
    "duration": 112,
    "start_time": "2022-01-05T21:27:31.824Z"
   },
   {
    "duration": 390,
    "start_time": "2022-01-05T21:34:31.566Z"
   },
   {
    "duration": 24,
    "start_time": "2022-01-05T21:34:42.263Z"
   },
   {
    "duration": 68,
    "start_time": "2022-01-05T21:34:47.124Z"
   },
   {
    "duration": 39,
    "start_time": "2022-01-05T21:39:28.255Z"
   },
   {
    "duration": 3468,
    "start_time": "2022-01-05T21:42:48.867Z"
   },
   {
    "duration": 14085,
    "start_time": "2022-01-05T21:44:18.182Z"
   },
   {
    "duration": 15636,
    "start_time": "2022-01-05T21:45:24.490Z"
   },
   {
    "duration": 16964,
    "start_time": "2022-01-05T21:45:51.514Z"
   },
   {
    "duration": 15205,
    "start_time": "2022-01-05T21:46:26.858Z"
   },
   {
    "duration": 15088,
    "start_time": "2022-01-05T21:49:40.481Z"
   },
   {
    "duration": 22444,
    "start_time": "2022-01-05T21:50:20.764Z"
   },
   {
    "duration": 16108,
    "start_time": "2022-01-05T21:53:45.512Z"
   },
   {
    "duration": 789,
    "start_time": "2022-01-05T21:55:37.938Z"
   },
   {
    "duration": 14948,
    "start_time": "2022-01-05T21:58:19.683Z"
   },
   {
    "duration": 16452,
    "start_time": "2022-01-05T21:59:57.790Z"
   },
   {
    "duration": 15657,
    "start_time": "2022-01-05T22:01:25.831Z"
   },
   {
    "duration": 14,
    "start_time": "2022-01-05T22:02:32.153Z"
   },
   {
    "duration": 123,
    "start_time": "2022-01-05T22:04:29.069Z"
   },
   {
    "duration": 798,
    "start_time": "2022-01-05T22:04:35.753Z"
   },
   {
    "duration": 15081,
    "start_time": "2022-01-05T22:04:44.902Z"
   },
   {
    "duration": 15210,
    "start_time": "2022-01-05T22:05:15.668Z"
   },
   {
    "duration": 294,
    "start_time": "2022-01-05T22:11:09.597Z"
   },
   {
    "duration": 8484,
    "start_time": "2022-01-05T22:11:29.915Z"
   },
   {
    "duration": 39,
    "start_time": "2022-01-05T22:12:07.884Z"
   },
   {
    "duration": 11,
    "start_time": "2022-01-05T22:12:53.840Z"
   },
   {
    "duration": 311,
    "start_time": "2022-01-05T22:15:07.360Z"
   },
   {
    "duration": 30,
    "start_time": "2022-01-05T22:15:15.110Z"
   },
   {
    "duration": 13,
    "start_time": "2022-01-05T22:15:36.809Z"
   },
   {
    "duration": 913,
    "start_time": "2022-01-06T17:16:28.034Z"
   },
   {
    "duration": 15,
    "start_time": "2022-01-06T17:18:29.587Z"
   },
   {
    "duration": 17,
    "start_time": "2022-01-06T17:18:57.555Z"
   },
   {
    "duration": 318,
    "start_time": "2022-01-06T17:19:11.074Z"
   },
   {
    "duration": 874,
    "start_time": "2022-01-06T17:19:17.384Z"
   },
   {
    "duration": 18,
    "start_time": "2022-01-06T17:19:25.768Z"
   },
   {
    "duration": 16,
    "start_time": "2022-01-06T17:20:44.395Z"
   },
   {
    "duration": 19,
    "start_time": "2022-01-06T17:21:10.318Z"
   },
   {
    "duration": 470,
    "start_time": "2022-01-06T17:21:27.506Z"
   },
   {
    "duration": 342,
    "start_time": "2022-01-06T17:22:05.075Z"
   },
   {
    "duration": 327,
    "start_time": "2022-01-06T17:23:24.935Z"
   },
   {
    "duration": 13,
    "start_time": "2022-01-06T17:30:27.935Z"
   },
   {
    "duration": 643,
    "start_time": "2022-01-06T17:31:47.836Z"
   },
   {
    "duration": 315,
    "start_time": "2022-01-06T17:32:03.693Z"
   },
   {
    "duration": 13,
    "start_time": "2022-01-06T17:32:56.524Z"
   },
   {
    "duration": 3699,
    "start_time": "2022-01-06T17:37:26.533Z"
   },
   {
    "duration": 488,
    "start_time": "2022-01-06T17:37:48.573Z"
   },
   {
    "duration": 1086,
    "start_time": "2022-01-06T17:44:03.402Z"
   },
   {
    "duration": 114,
    "start_time": "2022-01-06T17:47:20.727Z"
   },
   {
    "duration": 481,
    "start_time": "2022-01-06T17:47:34.699Z"
   },
   {
    "duration": 486,
    "start_time": "2022-01-06T17:48:34.681Z"
   },
   {
    "duration": 12,
    "start_time": "2022-01-06T17:50:04.502Z"
   },
   {
    "duration": 490,
    "start_time": "2022-01-06T17:50:31.484Z"
   },
   {
    "duration": 475,
    "start_time": "2022-01-06T17:51:17.846Z"
   },
   {
    "duration": 15,
    "start_time": "2022-01-06T17:52:05.111Z"
   },
   {
    "duration": 3582,
    "start_time": "2022-01-06T17:55:47.624Z"
   },
   {
    "duration": 351,
    "start_time": "2022-01-06T17:56:56.816Z"
   },
   {
    "duration": 3541,
    "start_time": "2022-01-06T17:57:24.465Z"
   },
   {
    "duration": 459,
    "start_time": "2022-01-06T17:57:48.759Z"
   },
   {
    "duration": 484,
    "start_time": "2022-01-06T18:04:11.672Z"
   },
   {
    "duration": 478,
    "start_time": "2022-01-06T18:05:03.983Z"
   },
   {
    "duration": 281,
    "start_time": "2022-01-06T18:05:28.760Z"
   },
   {
    "duration": 413,
    "start_time": "2022-01-06T18:06:12.107Z"
   },
   {
    "duration": 314,
    "start_time": "2022-01-06T18:06:38.005Z"
   },
   {
    "duration": 435,
    "start_time": "2022-01-06T18:07:08.357Z"
   },
   {
    "duration": 3816,
    "start_time": "2022-01-06T18:08:04.652Z"
   },
   {
    "duration": 20,
    "start_time": "2022-01-06T18:08:51.475Z"
   },
   {
    "duration": 26,
    "start_time": "2022-01-06T18:09:44.263Z"
   },
   {
    "duration": 883,
    "start_time": "2022-01-06T18:10:02.285Z"
   },
   {
    "duration": 383,
    "start_time": "2022-01-06T18:10:52.924Z"
   },
   {
    "duration": 23,
    "start_time": "2022-01-06T18:10:59.075Z"
   },
   {
    "duration": 18,
    "start_time": "2022-01-06T18:11:49.153Z"
   },
   {
    "duration": 484,
    "start_time": "2022-01-06T18:13:48.936Z"
   },
   {
    "duration": 580,
    "start_time": "2022-01-06T18:14:19.584Z"
   },
   {
    "duration": 1005,
    "start_time": "2022-01-06T18:17:12.321Z"
   },
   {
    "duration": 673,
    "start_time": "2022-01-06T18:18:21.052Z"
   },
   {
    "duration": 871,
    "start_time": "2022-01-06T18:20:45.972Z"
   },
   {
    "duration": 441,
    "start_time": "2022-01-06T18:20:50.705Z"
   },
   {
    "duration": 863,
    "start_time": "2022-01-06T18:21:52.007Z"
   },
   {
    "duration": 644,
    "start_time": "2022-01-06T18:22:01.203Z"
   },
   {
    "duration": 1076,
    "start_time": "2022-01-06T18:27:11.875Z"
   },
   {
    "duration": 293,
    "start_time": "2022-01-06T18:27:30.596Z"
   },
   {
    "duration": 847,
    "start_time": "2022-01-06T18:28:07.080Z"
   },
   {
    "duration": 1240,
    "start_time": "2022-01-06T18:28:45.906Z"
   },
   {
    "duration": 86,
    "start_time": "2022-01-06T18:30:56.207Z"
   },
   {
    "duration": 362,
    "start_time": "2022-01-06T18:31:01.872Z"
   },
   {
    "duration": 273,
    "start_time": "2022-01-06T18:31:36.481Z"
   },
   {
    "duration": 277,
    "start_time": "2022-01-06T18:32:09.020Z"
   },
   {
    "duration": 805,
    "start_time": "2022-01-06T18:33:57.526Z"
   },
   {
    "duration": 336,
    "start_time": "2022-01-06T18:34:35.716Z"
   },
   {
    "duration": 890,
    "start_time": "2022-01-06T18:34:58.765Z"
   },
   {
    "duration": 1219,
    "start_time": "2022-01-06T18:35:20.169Z"
   },
   {
    "duration": 1403,
    "start_time": "2022-01-06T18:35:44.127Z"
   },
   {
    "duration": 5907,
    "start_time": "2022-01-06T18:36:27.048Z"
   },
   {
    "duration": 888,
    "start_time": "2022-01-06T18:37:21.842Z"
   },
   {
    "duration": 6746,
    "start_time": "2022-01-06T18:38:03.702Z"
   },
   {
    "duration": 5870,
    "start_time": "2022-01-06T18:38:15.241Z"
   },
   {
    "duration": 5807,
    "start_time": "2022-01-06T18:38:43.949Z"
   },
   {
    "duration": 5747,
    "start_time": "2022-01-06T18:39:42.502Z"
   },
   {
    "duration": 273,
    "start_time": "2022-01-06T18:40:37.656Z"
   },
   {
    "duration": 917,
    "start_time": "2022-01-06T18:41:28.020Z"
   },
   {
    "duration": 15,
    "start_time": "2022-01-06T18:43:52.224Z"
   },
   {
    "duration": 70,
    "start_time": "2022-01-06T18:44:28.581Z"
   },
   {
    "duration": 38,
    "start_time": "2022-01-06T18:44:45.603Z"
   },
   {
    "duration": 3325,
    "start_time": "2022-01-06T18:44:49.445Z"
   },
   {
    "duration": 15425,
    "start_time": "2022-01-06T18:45:20.055Z"
   },
   {
    "duration": 13,
    "start_time": "2022-01-06T18:45:42.235Z"
   },
   {
    "duration": 40,
    "start_time": "2022-01-06T18:52:09.691Z"
   },
   {
    "duration": 34,
    "start_time": "2022-01-06T18:55:39.349Z"
   },
   {
    "duration": 38,
    "start_time": "2022-01-06T18:57:47.481Z"
   },
   {
    "duration": 34,
    "start_time": "2022-01-06T18:58:02.226Z"
   },
   {
    "duration": 33,
    "start_time": "2022-01-06T18:58:45.974Z"
   },
   {
    "duration": 33,
    "start_time": "2022-01-06T18:59:07.568Z"
   },
   {
    "duration": 34,
    "start_time": "2022-01-06T19:01:23.938Z"
   },
   {
    "duration": 35,
    "start_time": "2022-01-06T19:02:56.183Z"
   },
   {
    "duration": 35,
    "start_time": "2022-01-06T19:03:24.526Z"
   },
   {
    "duration": 33,
    "start_time": "2022-01-06T19:03:53.019Z"
   },
   {
    "duration": 33,
    "start_time": "2022-01-06T19:04:03.428Z"
   },
   {
    "duration": 35,
    "start_time": "2022-01-06T19:05:30.782Z"
   },
   {
    "duration": 1033,
    "start_time": "2022-01-06T19:06:04.264Z"
   },
   {
    "duration": 19,
    "start_time": "2022-01-06T19:06:05.301Z"
   },
   {
    "duration": 124,
    "start_time": "2022-01-06T19:06:05.323Z"
   },
   {
    "duration": 63,
    "start_time": "2022-01-06T19:06:05.450Z"
   },
   {
    "duration": 3638,
    "start_time": "2022-01-06T19:06:05.516Z"
   },
   {
    "duration": 17775,
    "start_time": "2022-01-06T19:06:09.157Z"
   },
   {
    "duration": 69,
    "start_time": "2022-01-06T19:06:26.934Z"
   },
   {
    "duration": 33,
    "start_time": "2022-01-06T19:06:27.008Z"
   },
   {
    "duration": 67,
    "start_time": "2022-01-06T19:06:27.044Z"
   },
   {
    "duration": 29,
    "start_time": "2022-01-06T19:06:27.113Z"
   },
   {
    "duration": 13,
    "start_time": "2022-01-06T19:06:27.169Z"
   },
   {
    "duration": 7,
    "start_time": "2022-01-06T19:06:27.186Z"
   },
   {
    "duration": 35,
    "start_time": "2022-01-06T19:09:06.654Z"
   },
   {
    "duration": 37,
    "start_time": "2022-01-06T19:23:49.560Z"
   },
   {
    "duration": 33,
    "start_time": "2022-01-06T19:24:32.438Z"
   },
   {
    "duration": 37,
    "start_time": "2022-01-06T19:24:51.007Z"
   },
   {
    "duration": 34,
    "start_time": "2022-01-06T19:25:05.918Z"
   },
   {
    "duration": 37,
    "start_time": "2022-01-06T19:25:16.497Z"
   },
   {
    "duration": 16,
    "start_time": "2022-01-07T18:39:17.724Z"
   },
   {
    "duration": 66,
    "start_time": "2022-01-07T18:39:17.760Z"
   },
   {
    "duration": 60,
    "start_time": "2022-01-07T18:39:17.828Z"
   },
   {
    "duration": 1326,
    "start_time": "2022-01-07T18:39:17.890Z"
   },
   {
    "duration": -610,
    "start_time": "2022-01-07T18:39:19.829Z"
   },
   {
    "duration": -612,
    "start_time": "2022-01-07T18:39:19.833Z"
   },
   {
    "duration": -611,
    "start_time": "2022-01-07T18:39:19.834Z"
   },
   {
    "duration": -612,
    "start_time": "2022-01-07T18:39:19.836Z"
   },
   {
    "duration": -611,
    "start_time": "2022-01-07T18:39:19.837Z"
   },
   {
    "duration": 2478,
    "start_time": "2022-01-07T18:46:59.116Z"
   },
   {
    "duration": 985,
    "start_time": "2022-01-07T18:47:14.355Z"
   },
   {
    "duration": 25,
    "start_time": "2022-01-07T18:47:15.343Z"
   },
   {
    "duration": 120,
    "start_time": "2022-01-07T18:47:15.374Z"
   },
   {
    "duration": 37,
    "start_time": "2022-01-07T18:47:15.496Z"
   },
   {
    "duration": 1143,
    "start_time": "2022-01-07T18:47:15.535Z"
   },
   {
    "duration": -649,
    "start_time": "2022-01-07T18:47:17.331Z"
   },
   {
    "duration": -649,
    "start_time": "2022-01-07T18:47:17.332Z"
   },
   {
    "duration": -649,
    "start_time": "2022-01-07T18:47:17.334Z"
   },
   {
    "duration": -650,
    "start_time": "2022-01-07T18:47:17.336Z"
   },
   {
    "duration": -649,
    "start_time": "2022-01-07T18:47:17.337Z"
   },
   {
    "duration": 348,
    "start_time": "2022-01-07T18:54:06.709Z"
   },
   {
    "duration": 1575,
    "start_time": "2022-01-07T18:54:11.033Z"
   },
   {
    "duration": 63,
    "start_time": "2022-01-07T18:54:20.542Z"
   },
   {
    "duration": 36,
    "start_time": "2022-01-07T18:54:22.194Z"
   },
   {
    "duration": 49,
    "start_time": "2022-01-07T18:54:23.427Z"
   },
   {
    "duration": 339,
    "start_time": "2022-01-07T18:54:25.651Z"
   },
   {
    "duration": 981,
    "start_time": "2022-01-07T18:54:41.627Z"
   },
   {
    "duration": 2441,
    "start_time": "2022-01-07T18:54:57.801Z"
   },
   {
    "duration": 34,
    "start_time": "2022-01-07T18:55:05.554Z"
   },
   {
    "duration": 46,
    "start_time": "2022-01-07T18:55:08.750Z"
   },
   {
    "duration": 33,
    "start_time": "2022-01-07T18:55:09.277Z"
   },
   {
    "duration": 616,
    "start_time": "2022-01-07T18:55:11.053Z"
   },
   {
    "duration": 857,
    "start_time": "2022-01-07T22:14:26.856Z"
   },
   {
    "duration": 15,
    "start_time": "2022-01-07T22:14:40.185Z"
   },
   {
    "duration": 63,
    "start_time": "2022-01-07T22:14:47.722Z"
   },
   {
    "duration": 38,
    "start_time": "2022-01-07T22:14:53.946Z"
   },
   {
    "duration": 3365,
    "start_time": "2022-01-07T22:14:58.482Z"
   },
   {
    "duration": 14483,
    "start_time": "2022-01-07T22:15:15.661Z"
   },
   {
    "duration": 39,
    "start_time": "2022-01-07T22:15:35.743Z"
   },
   {
    "duration": 33,
    "start_time": "2022-01-07T22:15:40.200Z"
   },
   {
    "duration": 34,
    "start_time": "2022-01-07T22:15:43.960Z"
   },
   {
    "duration": 35,
    "start_time": "2022-01-07T22:15:51.671Z"
   },
   {
    "duration": 389,
    "start_time": "2022-08-13T17:41:05.514Z"
   },
   {
    "duration": 346,
    "start_time": "2022-08-13T17:41:13.534Z"
   },
   {
    "duration": 72,
    "start_time": "2022-08-13T17:42:03.063Z"
   },
   {
    "duration": 9,
    "start_time": "2022-08-13T17:43:06.439Z"
   },
   {
    "duration": 40,
    "start_time": "2022-08-13T17:44:05.292Z"
   },
   {
    "duration": 27,
    "start_time": "2022-08-13T17:44:26.623Z"
   },
   {
    "duration": 1987,
    "start_time": "2022-08-13T17:44:46.601Z"
   },
   {
    "duration": 2,
    "start_time": "2022-08-13T17:45:02.770Z"
   },
   {
    "duration": 16,
    "start_time": "2022-08-13T17:49:10.292Z"
   },
   {
    "duration": 8,
    "start_time": "2022-08-13T17:49:14.706Z"
   },
   {
    "duration": 6,
    "start_time": "2022-08-13T17:49:17.370Z"
   },
   {
    "duration": 5,
    "start_time": "2022-08-13T17:49:18.691Z"
   },
   {
    "duration": 9004,
    "start_time": "2022-08-13T17:49:24.252Z"
   },
   {
    "duration": 24,
    "start_time": "2022-08-13T17:50:48.501Z"
   },
   {
    "duration": 18,
    "start_time": "2022-08-13T17:51:23.145Z"
   },
   {
    "duration": 18,
    "start_time": "2022-08-13T17:51:55.021Z"
   },
   {
    "duration": 21,
    "start_time": "2022-08-13T17:52:15.768Z"
   }
  ],
  "kernelspec": {
   "display_name": "Python 3 (ipykernel)",
   "language": "python",
   "name": "python3"
  },
  "language_info": {
   "codemirror_mode": {
    "name": "ipython",
    "version": 3
   },
   "file_extension": ".py",
   "mimetype": "text/x-python",
   "name": "python",
   "nbconvert_exporter": "python",
   "pygments_lexer": "ipython3",
   "version": "3.9.5"
  },
  "toc": {
   "base_numbering": 1,
   "nav_menu": {},
   "number_sections": true,
   "sideBar": true,
   "skip_h1_title": true,
   "title_cell": "Table of Contents",
   "title_sidebar": "Contents",
   "toc_cell": false,
   "toc_position": {},
   "toc_section_display": true,
   "toc_window_display": false
  }
 },
 "nbformat": 4,
 "nbformat_minor": 2
}
