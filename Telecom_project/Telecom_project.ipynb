{
 "cells": [
  {
   "cell_type": "markdown",
   "metadata": {},
   "source": [
    "# Статистический анализ данных  <a id = 'start'></a>"
   ]
  },
  {
   "cell_type": "markdown",
   "metadata": {},
   "source": [
    "### Открытие и изучение данных"
   ]
  },
  {
   "cell_type": "code",
   "execution_count": 1,
   "metadata": {},
   "outputs": [],
   "source": [
    "import pandas as pd\n",
    "import matplotlib.pyplot as plt\n",
    "import numpy as np\n",
    "from scipy import stats as st"
   ]
  },
  {
   "cell_type": "code",
   "execution_count": 4,
   "metadata": {},
   "outputs": [],
   "source": [
    "df_calls = pd.read_csv('calls.csv')\n",
    "df_internet = pd.read_csv('internet.csv', index_col=0)\n",
    "df_messages = pd.read_csv('messages.csv')\n",
    "df_tariffs = pd.read_csv('tariffs.csv')\n",
    "df_users = pd.read_csv('users.csv')"
   ]
  },
  {
   "cell_type": "code",
   "execution_count": 5,
   "metadata": {},
   "outputs": [
    {
     "name": "stdout",
     "output_type": "stream",
     "text": [
      "<class 'pandas.core.frame.DataFrame'>\n",
      "RangeIndex: 202607 entries, 0 to 202606\n",
      "Data columns (total 4 columns):\n",
      " #   Column     Non-Null Count   Dtype  \n",
      "---  ------     --------------   -----  \n",
      " 0   id         202607 non-null  object \n",
      " 1   call_date  202607 non-null  object \n",
      " 2   duration   202607 non-null  float64\n",
      " 3   user_id    202607 non-null  int64  \n",
      "dtypes: float64(1), int64(1), object(2)\n",
      "memory usage: 6.2+ MB\n"
     ]
    }
   ],
   "source": [
    "df_calls.info()"
   ]
  },
  {
   "cell_type": "code",
   "execution_count": 6,
   "metadata": {},
   "outputs": [
    {
     "data": {
      "text/html": [
       "<div>\n",
       "<style scoped>\n",
       "    .dataframe tbody tr th:only-of-type {\n",
       "        vertical-align: middle;\n",
       "    }\n",
       "\n",
       "    .dataframe tbody tr th {\n",
       "        vertical-align: top;\n",
       "    }\n",
       "\n",
       "    .dataframe thead th {\n",
       "        text-align: right;\n",
       "    }\n",
       "</style>\n",
       "<table border=\"1\" class=\"dataframe\">\n",
       "  <thead>\n",
       "    <tr style=\"text-align: right;\">\n",
       "      <th></th>\n",
       "      <th>count</th>\n",
       "      <th>mean</th>\n",
       "      <th>std</th>\n",
       "      <th>min</th>\n",
       "      <th>25%</th>\n",
       "      <th>50%</th>\n",
       "      <th>75%</th>\n",
       "      <th>max</th>\n",
       "    </tr>\n",
       "  </thead>\n",
       "  <tbody>\n",
       "    <tr>\n",
       "      <th>user_id</th>\n",
       "      <td>500.0</td>\n",
       "      <td>1249.500</td>\n",
       "      <td>144.481833</td>\n",
       "      <td>1000.0</td>\n",
       "      <td>1124.75</td>\n",
       "      <td>1249.5</td>\n",
       "      <td>1374.25</td>\n",
       "      <td>1499.0</td>\n",
       "    </tr>\n",
       "    <tr>\n",
       "      <th>age</th>\n",
       "      <td>500.0</td>\n",
       "      <td>46.588</td>\n",
       "      <td>16.667630</td>\n",
       "      <td>18.0</td>\n",
       "      <td>32.00</td>\n",
       "      <td>46.0</td>\n",
       "      <td>62.00</td>\n",
       "      <td>75.0</td>\n",
       "    </tr>\n",
       "  </tbody>\n",
       "</table>\n",
       "</div>"
      ],
      "text/plain": [
       "         count      mean         std     min      25%     50%      75%     max\n",
       "user_id  500.0  1249.500  144.481833  1000.0  1124.75  1249.5  1374.25  1499.0\n",
       "age      500.0    46.588   16.667630    18.0    32.00    46.0    62.00    75.0"
      ]
     },
     "execution_count": 6,
     "metadata": {},
     "output_type": "execute_result"
    }
   ],
   "source": [
    "df_users.describe().T"
   ]
  },
  {
   "cell_type": "code",
   "execution_count": 7,
   "metadata": {},
   "outputs": [
    {
     "data": {
      "text/html": [
       "<div>\n",
       "<style scoped>\n",
       "    .dataframe tbody tr th:only-of-type {\n",
       "        vertical-align: middle;\n",
       "    }\n",
       "\n",
       "    .dataframe tbody tr th {\n",
       "        vertical-align: top;\n",
       "    }\n",
       "\n",
       "    .dataframe thead th {\n",
       "        text-align: right;\n",
       "    }\n",
       "</style>\n",
       "<table border=\"1\" class=\"dataframe\">\n",
       "  <thead>\n",
       "    <tr style=\"text-align: right;\">\n",
       "      <th></th>\n",
       "      <th>id</th>\n",
       "      <th>call_date</th>\n",
       "      <th>duration</th>\n",
       "      <th>user_id</th>\n",
       "    </tr>\n",
       "  </thead>\n",
       "  <tbody>\n",
       "    <tr>\n",
       "      <th>0</th>\n",
       "      <td>1000_0</td>\n",
       "      <td>2018-07-25</td>\n",
       "      <td>0.0</td>\n",
       "      <td>1000</td>\n",
       "    </tr>\n",
       "    <tr>\n",
       "      <th>1</th>\n",
       "      <td>1000_1</td>\n",
       "      <td>2018-08-17</td>\n",
       "      <td>0.0</td>\n",
       "      <td>1000</td>\n",
       "    </tr>\n",
       "    <tr>\n",
       "      <th>2</th>\n",
       "      <td>1000_2</td>\n",
       "      <td>2018-06-11</td>\n",
       "      <td>3.0</td>\n",
       "      <td>1000</td>\n",
       "    </tr>\n",
       "    <tr>\n",
       "      <th>3</th>\n",
       "      <td>1000_3</td>\n",
       "      <td>2018-09-21</td>\n",
       "      <td>14.0</td>\n",
       "      <td>1000</td>\n",
       "    </tr>\n",
       "    <tr>\n",
       "      <th>4</th>\n",
       "      <td>1000_4</td>\n",
       "      <td>2018-12-15</td>\n",
       "      <td>6.0</td>\n",
       "      <td>1000</td>\n",
       "    </tr>\n",
       "  </tbody>\n",
       "</table>\n",
       "</div>"
      ],
      "text/plain": [
       "       id   call_date  duration  user_id\n",
       "0  1000_0  2018-07-25       0.0     1000\n",
       "1  1000_1  2018-08-17       0.0     1000\n",
       "2  1000_2  2018-06-11       3.0     1000\n",
       "3  1000_3  2018-09-21      14.0     1000\n",
       "4  1000_4  2018-12-15       6.0     1000"
      ]
     },
     "metadata": {},
     "output_type": "display_data"
    }
   ],
   "source": [
    "df_calls['duration'] = np.ceil(df_calls['duration'])\n",
    "display(df_calls.head())"
   ]
  },
  {
   "cell_type": "markdown",
   "metadata": {},
   "source": [
    "Округил продолжительность звонков . Пропусков не обнаружено ."
   ]
  },
  {
   "cell_type": "code",
   "execution_count": 8,
   "metadata": {},
   "outputs": [
    {
     "name": "stdout",
     "output_type": "stream",
     "text": [
      "<class 'pandas.core.frame.DataFrame'>\n",
      "Int64Index: 149396 entries, 0 to 149395\n",
      "Data columns (total 4 columns):\n",
      " #   Column        Non-Null Count   Dtype  \n",
      "---  ------        --------------   -----  \n",
      " 0   id            149396 non-null  object \n",
      " 1   mb_used       149396 non-null  float64\n",
      " 2   session_date  149396 non-null  object \n",
      " 3   user_id       149396 non-null  int64  \n",
      "dtypes: float64(1), int64(1), object(2)\n",
      "memory usage: 5.7+ MB\n"
     ]
    }
   ],
   "source": [
    "df_internet.info()"
   ]
  },
  {
   "cell_type": "code",
   "execution_count": 9,
   "metadata": {},
   "outputs": [
    {
     "data": {
      "text/html": [
       "<div>\n",
       "<style scoped>\n",
       "    .dataframe tbody tr th:only-of-type {\n",
       "        vertical-align: middle;\n",
       "    }\n",
       "\n",
       "    .dataframe tbody tr th {\n",
       "        vertical-align: top;\n",
       "    }\n",
       "\n",
       "    .dataframe thead th {\n",
       "        text-align: right;\n",
       "    }\n",
       "</style>\n",
       "<table border=\"1\" class=\"dataframe\">\n",
       "  <thead>\n",
       "    <tr style=\"text-align: right;\">\n",
       "      <th></th>\n",
       "      <th>count</th>\n",
       "      <th>mean</th>\n",
       "      <th>std</th>\n",
       "      <th>min</th>\n",
       "      <th>25%</th>\n",
       "      <th>50%</th>\n",
       "      <th>75%</th>\n",
       "      <th>max</th>\n",
       "    </tr>\n",
       "  </thead>\n",
       "  <tbody>\n",
       "    <tr>\n",
       "      <th>mb_used</th>\n",
       "      <td>149396.0</td>\n",
       "      <td>370.192426</td>\n",
       "      <td>278.300951</td>\n",
       "      <td>0.0</td>\n",
       "      <td>138.1875</td>\n",
       "      <td>348.015</td>\n",
       "      <td>559.5525</td>\n",
       "      <td>1724.83</td>\n",
       "    </tr>\n",
       "    <tr>\n",
       "      <th>user_id</th>\n",
       "      <td>149396.0</td>\n",
       "      <td>1252.099842</td>\n",
       "      <td>144.050823</td>\n",
       "      <td>1000.0</td>\n",
       "      <td>1130.0000</td>\n",
       "      <td>1251.000</td>\n",
       "      <td>1380.0000</td>\n",
       "      <td>1499.00</td>\n",
       "    </tr>\n",
       "  </tbody>\n",
       "</table>\n",
       "</div>"
      ],
      "text/plain": [
       "            count         mean         std     min        25%       50%  \\\n",
       "mb_used  149396.0   370.192426  278.300951     0.0   138.1875   348.015   \n",
       "user_id  149396.0  1252.099842  144.050823  1000.0  1130.0000  1251.000   \n",
       "\n",
       "               75%      max  \n",
       "mb_used   559.5525  1724.83  \n",
       "user_id  1380.0000  1499.00  "
      ]
     },
     "execution_count": 9,
     "metadata": {},
     "output_type": "execute_result"
    }
   ],
   "source": [
    "df_internet.describe().T"
   ]
  },
  {
   "cell_type": "code",
   "execution_count": 10,
   "metadata": {},
   "outputs": [
    {
     "data": {
      "text/html": [
       "<div>\n",
       "<style scoped>\n",
       "    .dataframe tbody tr th:only-of-type {\n",
       "        vertical-align: middle;\n",
       "    }\n",
       "\n",
       "    .dataframe tbody tr th {\n",
       "        vertical-align: top;\n",
       "    }\n",
       "\n",
       "    .dataframe thead th {\n",
       "        text-align: right;\n",
       "    }\n",
       "</style>\n",
       "<table border=\"1\" class=\"dataframe\">\n",
       "  <thead>\n",
       "    <tr style=\"text-align: right;\">\n",
       "      <th></th>\n",
       "      <th>id</th>\n",
       "      <th>mb_used</th>\n",
       "      <th>session_date</th>\n",
       "      <th>user_id</th>\n",
       "    </tr>\n",
       "  </thead>\n",
       "  <tbody>\n",
       "    <tr>\n",
       "      <th>0</th>\n",
       "      <td>1000_0</td>\n",
       "      <td>112.95</td>\n",
       "      <td>2018-11-25</td>\n",
       "      <td>1000</td>\n",
       "    </tr>\n",
       "    <tr>\n",
       "      <th>1</th>\n",
       "      <td>1000_1</td>\n",
       "      <td>1052.81</td>\n",
       "      <td>2018-09-07</td>\n",
       "      <td>1000</td>\n",
       "    </tr>\n",
       "    <tr>\n",
       "      <th>2</th>\n",
       "      <td>1000_2</td>\n",
       "      <td>1197.26</td>\n",
       "      <td>2018-06-25</td>\n",
       "      <td>1000</td>\n",
       "    </tr>\n",
       "    <tr>\n",
       "      <th>3</th>\n",
       "      <td>1000_3</td>\n",
       "      <td>550.27</td>\n",
       "      <td>2018-08-22</td>\n",
       "      <td>1000</td>\n",
       "    </tr>\n",
       "    <tr>\n",
       "      <th>4</th>\n",
       "      <td>1000_4</td>\n",
       "      <td>302.56</td>\n",
       "      <td>2018-09-24</td>\n",
       "      <td>1000</td>\n",
       "    </tr>\n",
       "  </tbody>\n",
       "</table>\n",
       "</div>"
      ],
      "text/plain": [
       "       id  mb_used session_date  user_id\n",
       "0  1000_0   112.95   2018-11-25     1000\n",
       "1  1000_1  1052.81   2018-09-07     1000\n",
       "2  1000_2  1197.26   2018-06-25     1000\n",
       "3  1000_3   550.27   2018-08-22     1000\n",
       "4  1000_4   302.56   2018-09-24     1000"
      ]
     },
     "execution_count": 10,
     "metadata": {},
     "output_type": "execute_result"
    }
   ],
   "source": [
    "df_internet.head()"
   ]
  },
  {
   "cell_type": "markdown",
   "metadata": {},
   "source": [
    "<div>\n",
    "    <b>Мой комментарий:</b>\n",
    "    <br> нужно изменить тип данных в session_date на datetime, пропусков в датафрейме нет,есть непонятный столбец unnamed: 0\n",
    "    <br> надо понять что это и переименовать или удалить\n",
    "</div>"
   ]
  },
  {
   "cell_type": "code",
   "execution_count": 11,
   "metadata": {},
   "outputs": [
    {
     "name": "stdout",
     "output_type": "stream",
     "text": [
      "<class 'pandas.core.frame.DataFrame'>\n",
      "RangeIndex: 123036 entries, 0 to 123035\n",
      "Data columns (total 3 columns):\n",
      " #   Column        Non-Null Count   Dtype \n",
      "---  ------        --------------   ----- \n",
      " 0   id            123036 non-null  object\n",
      " 1   message_date  123036 non-null  object\n",
      " 2   user_id       123036 non-null  int64 \n",
      "dtypes: int64(1), object(2)\n",
      "memory usage: 2.8+ MB\n"
     ]
    }
   ],
   "source": [
    "df_messages.info()"
   ]
  },
  {
   "cell_type": "code",
   "execution_count": 12,
   "metadata": {},
   "outputs": [
    {
     "data": {
      "text/html": [
       "<div>\n",
       "<style scoped>\n",
       "    .dataframe tbody tr th:only-of-type {\n",
       "        vertical-align: middle;\n",
       "    }\n",
       "\n",
       "    .dataframe tbody tr th {\n",
       "        vertical-align: top;\n",
       "    }\n",
       "\n",
       "    .dataframe thead th {\n",
       "        text-align: right;\n",
       "    }\n",
       "</style>\n",
       "<table border=\"1\" class=\"dataframe\">\n",
       "  <thead>\n",
       "    <tr style=\"text-align: right;\">\n",
       "      <th></th>\n",
       "      <th>count</th>\n",
       "      <th>mean</th>\n",
       "      <th>std</th>\n",
       "      <th>min</th>\n",
       "      <th>25%</th>\n",
       "      <th>50%</th>\n",
       "      <th>75%</th>\n",
       "      <th>max</th>\n",
       "    </tr>\n",
       "  </thead>\n",
       "  <tbody>\n",
       "    <tr>\n",
       "      <th>user_id</th>\n",
       "      <td>123036.0</td>\n",
       "      <td>1256.98941</td>\n",
       "      <td>143.523967</td>\n",
       "      <td>1000.0</td>\n",
       "      <td>1134.0</td>\n",
       "      <td>1271.0</td>\n",
       "      <td>1381.0</td>\n",
       "      <td>1499.0</td>\n",
       "    </tr>\n",
       "  </tbody>\n",
       "</table>\n",
       "</div>"
      ],
      "text/plain": [
       "            count        mean         std     min     25%     50%     75%  \\\n",
       "user_id  123036.0  1256.98941  143.523967  1000.0  1134.0  1271.0  1381.0   \n",
       "\n",
       "            max  \n",
       "user_id  1499.0  "
      ]
     },
     "execution_count": 12,
     "metadata": {},
     "output_type": "execute_result"
    }
   ],
   "source": [
    "df_messages.describe().T"
   ]
  },
  {
   "cell_type": "code",
   "execution_count": 13,
   "metadata": {},
   "outputs": [
    {
     "name": "stdout",
     "output_type": "stream",
     "text": [
      "<class 'pandas.core.frame.DataFrame'>\n",
      "RangeIndex: 123036 entries, 0 to 123035\n",
      "Data columns (total 3 columns):\n",
      " #   Column        Non-Null Count   Dtype \n",
      "---  ------        --------------   ----- \n",
      " 0   id            123036 non-null  object\n",
      " 1   message_date  123036 non-null  object\n",
      " 2   user_id       123036 non-null  int64 \n",
      "dtypes: int64(1), object(2)\n",
      "memory usage: 2.8+ MB\n"
     ]
    }
   ],
   "source": [
    "df_messages.info()"
   ]
  },
  {
   "cell_type": "markdown",
   "metadata": {},
   "source": [
    "<div>\n",
    "    <b>Мой комментарий:</b>\n",
    "    <br> нужно изменить тип данных в messsages_date на datetime, пропусков в датафрейме нет\n",
    "</div>"
   ]
  },
  {
   "cell_type": "code",
   "execution_count": 14,
   "metadata": {},
   "outputs": [
    {
     "name": "stdout",
     "output_type": "stream",
     "text": [
      "<class 'pandas.core.frame.DataFrame'>\n",
      "RangeIndex: 2 entries, 0 to 1\n",
      "Data columns (total 8 columns):\n",
      " #   Column                 Non-Null Count  Dtype \n",
      "---  ------                 --------------  ----- \n",
      " 0   messages_included      2 non-null      int64 \n",
      " 1   mb_per_month_included  2 non-null      int64 \n",
      " 2   minutes_included       2 non-null      int64 \n",
      " 3   rub_monthly_fee        2 non-null      int64 \n",
      " 4   rub_per_gb             2 non-null      int64 \n",
      " 5   rub_per_message        2 non-null      int64 \n",
      " 6   rub_per_minute         2 non-null      int64 \n",
      " 7   tariff_name            2 non-null      object\n",
      "dtypes: int64(7), object(1)\n",
      "memory usage: 256.0+ bytes\n"
     ]
    }
   ],
   "source": [
    "df_tariffs.info()"
   ]
  },
  {
   "cell_type": "code",
   "execution_count": 15,
   "metadata": {},
   "outputs": [
    {
     "data": {
      "text/html": [
       "<div>\n",
       "<style scoped>\n",
       "    .dataframe tbody tr th:only-of-type {\n",
       "        vertical-align: middle;\n",
       "    }\n",
       "\n",
       "    .dataframe tbody tr th {\n",
       "        vertical-align: top;\n",
       "    }\n",
       "\n",
       "    .dataframe thead th {\n",
       "        text-align: right;\n",
       "    }\n",
       "</style>\n",
       "<table border=\"1\" class=\"dataframe\">\n",
       "  <thead>\n",
       "    <tr style=\"text-align: right;\">\n",
       "      <th></th>\n",
       "      <th>count</th>\n",
       "      <th>mean</th>\n",
       "      <th>std</th>\n",
       "      <th>min</th>\n",
       "      <th>25%</th>\n",
       "      <th>50%</th>\n",
       "      <th>75%</th>\n",
       "      <th>max</th>\n",
       "    </tr>\n",
       "  </thead>\n",
       "  <tbody>\n",
       "    <tr>\n",
       "      <th>user_id</th>\n",
       "      <td>500.0</td>\n",
       "      <td>1249.500</td>\n",
       "      <td>144.481833</td>\n",
       "      <td>1000.0</td>\n",
       "      <td>1124.75</td>\n",
       "      <td>1249.5</td>\n",
       "      <td>1374.25</td>\n",
       "      <td>1499.0</td>\n",
       "    </tr>\n",
       "    <tr>\n",
       "      <th>age</th>\n",
       "      <td>500.0</td>\n",
       "      <td>46.588</td>\n",
       "      <td>16.667630</td>\n",
       "      <td>18.0</td>\n",
       "      <td>32.00</td>\n",
       "      <td>46.0</td>\n",
       "      <td>62.00</td>\n",
       "      <td>75.0</td>\n",
       "    </tr>\n",
       "  </tbody>\n",
       "</table>\n",
       "</div>"
      ],
      "text/plain": [
       "         count      mean         std     min      25%     50%      75%     max\n",
       "user_id  500.0  1249.500  144.481833  1000.0  1124.75  1249.5  1374.25  1499.0\n",
       "age      500.0    46.588   16.667630    18.0    32.00    46.0    62.00    75.0"
      ]
     },
     "execution_count": 15,
     "metadata": {},
     "output_type": "execute_result"
    }
   ],
   "source": [
    "df_users.describe().T"
   ]
  },
  {
   "cell_type": "code",
   "execution_count": 16,
   "metadata": {},
   "outputs": [
    {
     "data": {
      "text/html": [
       "<div>\n",
       "<style scoped>\n",
       "    .dataframe tbody tr th:only-of-type {\n",
       "        vertical-align: middle;\n",
       "    }\n",
       "\n",
       "    .dataframe tbody tr th {\n",
       "        vertical-align: top;\n",
       "    }\n",
       "\n",
       "    .dataframe thead th {\n",
       "        text-align: right;\n",
       "    }\n",
       "</style>\n",
       "<table border=\"1\" class=\"dataframe\">\n",
       "  <thead>\n",
       "    <tr style=\"text-align: right;\">\n",
       "      <th></th>\n",
       "      <th>messages_included</th>\n",
       "      <th>mb_per_month_included</th>\n",
       "      <th>minutes_included</th>\n",
       "      <th>rub_monthly_fee</th>\n",
       "      <th>rub_per_gb</th>\n",
       "      <th>rub_per_message</th>\n",
       "      <th>rub_per_minute</th>\n",
       "      <th>tariff_name</th>\n",
       "    </tr>\n",
       "  </thead>\n",
       "  <tbody>\n",
       "    <tr>\n",
       "      <th>0</th>\n",
       "      <td>50</td>\n",
       "      <td>15360</td>\n",
       "      <td>500</td>\n",
       "      <td>550</td>\n",
       "      <td>200</td>\n",
       "      <td>3</td>\n",
       "      <td>3</td>\n",
       "      <td>smart</td>\n",
       "    </tr>\n",
       "    <tr>\n",
       "      <th>1</th>\n",
       "      <td>1000</td>\n",
       "      <td>30720</td>\n",
       "      <td>3000</td>\n",
       "      <td>1950</td>\n",
       "      <td>150</td>\n",
       "      <td>1</td>\n",
       "      <td>1</td>\n",
       "      <td>ultra</td>\n",
       "    </tr>\n",
       "  </tbody>\n",
       "</table>\n",
       "</div>"
      ],
      "text/plain": [
       "   messages_included  mb_per_month_included  minutes_included  \\\n",
       "0                 50                  15360               500   \n",
       "1               1000                  30720              3000   \n",
       "\n",
       "   rub_monthly_fee  rub_per_gb  rub_per_message  rub_per_minute tariff_name  \n",
       "0              550         200                3               3       smart  \n",
       "1             1950         150                1               1       ultra  "
      ]
     },
     "metadata": {},
     "output_type": "display_data"
    }
   ],
   "source": [
    "display(df_tariffs)"
   ]
  },
  {
   "cell_type": "code",
   "execution_count": 17,
   "metadata": {},
   "outputs": [],
   "source": [
    "df_tariffs = df_tariffs.rename(columns={'tariff_name':'tariff'})"
   ]
  },
  {
   "cell_type": "markdown",
   "metadata": {},
   "source": [
    "<div>\n",
    "    <b>Мой комментарий:</b>\n",
    "    <br>Просто информация о двух тарифах \n",
    "    <br>Переименовал чтобы в будущем не было проблем со слиянием двух таблиц, т.к нужны детали тарифа для расчета помесячной выручки , чтобы столбец имел одинаковое название\n",
    "</div>"
   ]
  },
  {
   "cell_type": "code",
   "execution_count": 18,
   "metadata": {},
   "outputs": [
    {
     "name": "stdout",
     "output_type": "stream",
     "text": [
      "<class 'pandas.core.frame.DataFrame'>\n",
      "RangeIndex: 500 entries, 0 to 499\n",
      "Data columns (total 8 columns):\n",
      " #   Column      Non-Null Count  Dtype \n",
      "---  ------      --------------  ----- \n",
      " 0   user_id     500 non-null    int64 \n",
      " 1   age         500 non-null    int64 \n",
      " 2   churn_date  38 non-null     object\n",
      " 3   city        500 non-null    object\n",
      " 4   first_name  500 non-null    object\n",
      " 5   last_name   500 non-null    object\n",
      " 6   reg_date    500 non-null    object\n",
      " 7   tariff      500 non-null    object\n",
      "dtypes: int64(2), object(6)\n",
      "memory usage: 31.4+ KB\n"
     ]
    }
   ],
   "source": [
    "df_users.info()"
   ]
  },
  {
   "cell_type": "code",
   "execution_count": 22,
   "metadata": {},
   "outputs": [
    {
     "data": {
      "text/html": [
       "<div>\n",
       "<style scoped>\n",
       "    .dataframe tbody tr th:only-of-type {\n",
       "        vertical-align: middle;\n",
       "    }\n",
       "\n",
       "    .dataframe tbody tr th {\n",
       "        vertical-align: top;\n",
       "    }\n",
       "\n",
       "    .dataframe thead th {\n",
       "        text-align: right;\n",
       "    }\n",
       "</style>\n",
       "<table border=\"1\" class=\"dataframe\">\n",
       "  <thead>\n",
       "    <tr style=\"text-align: right;\">\n",
       "      <th></th>\n",
       "      <th>count</th>\n",
       "      <th>mean</th>\n",
       "      <th>std</th>\n",
       "      <th>min</th>\n",
       "      <th>25%</th>\n",
       "      <th>50%</th>\n",
       "      <th>75%</th>\n",
       "      <th>max</th>\n",
       "    </tr>\n",
       "  </thead>\n",
       "  <tbody>\n",
       "    <tr>\n",
       "      <th>user_id</th>\n",
       "      <td>500.0</td>\n",
       "      <td>1249.500</td>\n",
       "      <td>144.481833</td>\n",
       "      <td>1000.0</td>\n",
       "      <td>1124.75</td>\n",
       "      <td>1249.5</td>\n",
       "      <td>1374.25</td>\n",
       "      <td>1499.0</td>\n",
       "    </tr>\n",
       "    <tr>\n",
       "      <th>age</th>\n",
       "      <td>500.0</td>\n",
       "      <td>46.588</td>\n",
       "      <td>16.667630</td>\n",
       "      <td>18.0</td>\n",
       "      <td>32.00</td>\n",
       "      <td>46.0</td>\n",
       "      <td>62.00</td>\n",
       "      <td>75.0</td>\n",
       "    </tr>\n",
       "  </tbody>\n",
       "</table>\n",
       "</div>"
      ],
      "text/plain": [
       "         count      mean         std     min      25%     50%      75%     max\n",
       "user_id  500.0  1249.500  144.481833  1000.0  1124.75  1249.5  1374.25  1499.0\n",
       "age      500.0    46.588   16.667630    18.0    32.00    46.0    62.00    75.0"
      ]
     },
     "execution_count": 22,
     "metadata": {},
     "output_type": "execute_result"
    }
   ],
   "source": [
    "df_users.describe().T"
   ]
  },
  {
   "cell_type": "code",
   "execution_count": 21,
   "metadata": {},
   "outputs": [
    {
     "data": {
      "text/html": [
       "<div>\n",
       "<style scoped>\n",
       "    .dataframe tbody tr th:only-of-type {\n",
       "        vertical-align: middle;\n",
       "    }\n",
       "\n",
       "    .dataframe tbody tr th {\n",
       "        vertical-align: top;\n",
       "    }\n",
       "\n",
       "    .dataframe thead th {\n",
       "        text-align: right;\n",
       "    }\n",
       "</style>\n",
       "<table border=\"1\" class=\"dataframe\">\n",
       "  <thead>\n",
       "    <tr style=\"text-align: right;\">\n",
       "      <th></th>\n",
       "      <th>user_id</th>\n",
       "      <th>age</th>\n",
       "      <th>churn_date</th>\n",
       "      <th>city</th>\n",
       "      <th>first_name</th>\n",
       "      <th>last_name</th>\n",
       "      <th>reg_date</th>\n",
       "      <th>tariff</th>\n",
       "    </tr>\n",
       "  </thead>\n",
       "  <tbody>\n",
       "    <tr>\n",
       "      <th>0</th>\n",
       "      <td>1000</td>\n",
       "      <td>52</td>\n",
       "      <td>NaN</td>\n",
       "      <td>Краснодар</td>\n",
       "      <td>Рафаил</td>\n",
       "      <td>Верещагин</td>\n",
       "      <td>2018-05-25</td>\n",
       "      <td>ultra</td>\n",
       "    </tr>\n",
       "    <tr>\n",
       "      <th>1</th>\n",
       "      <td>1001</td>\n",
       "      <td>41</td>\n",
       "      <td>NaN</td>\n",
       "      <td>Москва</td>\n",
       "      <td>Иван</td>\n",
       "      <td>Ежов</td>\n",
       "      <td>2018-11-01</td>\n",
       "      <td>smart</td>\n",
       "    </tr>\n",
       "    <tr>\n",
       "      <th>2</th>\n",
       "      <td>1002</td>\n",
       "      <td>59</td>\n",
       "      <td>NaN</td>\n",
       "      <td>Стерлитамак</td>\n",
       "      <td>Евгений</td>\n",
       "      <td>Абрамович</td>\n",
       "      <td>2018-06-17</td>\n",
       "      <td>smart</td>\n",
       "    </tr>\n",
       "    <tr>\n",
       "      <th>3</th>\n",
       "      <td>1003</td>\n",
       "      <td>23</td>\n",
       "      <td>NaN</td>\n",
       "      <td>Москва</td>\n",
       "      <td>Белла</td>\n",
       "      <td>Белякова</td>\n",
       "      <td>2018-08-17</td>\n",
       "      <td>ultra</td>\n",
       "    </tr>\n",
       "    <tr>\n",
       "      <th>4</th>\n",
       "      <td>1004</td>\n",
       "      <td>68</td>\n",
       "      <td>NaN</td>\n",
       "      <td>Новокузнецк</td>\n",
       "      <td>Татьяна</td>\n",
       "      <td>Авдеенко</td>\n",
       "      <td>2018-05-14</td>\n",
       "      <td>ultra</td>\n",
       "    </tr>\n",
       "  </tbody>\n",
       "</table>\n",
       "</div>"
      ],
      "text/plain": [
       "   user_id  age churn_date         city first_name  last_name    reg_date  \\\n",
       "0     1000   52        NaN    Краснодар     Рафаил  Верещагин  2018-05-25   \n",
       "1     1001   41        NaN       Москва       Иван       Ежов  2018-11-01   \n",
       "2     1002   59        NaN  Стерлитамак    Евгений  Абрамович  2018-06-17   \n",
       "3     1003   23        NaN       Москва      Белла   Белякова  2018-08-17   \n",
       "4     1004   68        NaN  Новокузнецк    Татьяна   Авдеенко  2018-05-14   \n",
       "\n",
       "  tariff  \n",
       "0  ultra  \n",
       "1  smart  \n",
       "2  smart  \n",
       "3  ultra  \n",
       "4  ultra  "
      ]
     },
     "execution_count": 21,
     "metadata": {},
     "output_type": "execute_result"
    }
   ],
   "source": [
    "df_users.head()"
   ]
  },
  {
   "cell_type": "markdown",
   "metadata": {},
   "source": [
    "<div>\n",
    "    <b>Мой комментарий:</b>\n",
    "    <br> нужно изменить тип данных в churn_date на datetime, пропуски в churn_datе значат что тариф еще действовал во время выгрузки данных\n",
    "</div>"
   ]
  },
  {
   "cell_type": "markdown",
   "metadata": {},
   "source": [
    "### Подготовка данных <a id='preparing'></a>"
   ]
  },
  {
   "cell_type": "code",
   "execution_count": 23,
   "metadata": {},
   "outputs": [],
   "source": [
    "#приведем данные у к нужным типам\n",
    "df_calls['call_date'] = pd.to_datetime(df_calls['call_date'])\n",
    "df_internet['session_date'] = pd.to_datetime(df_internet['session_date'])\n",
    "df_messages['message_date'] = pd.to_datetime(df_messages['message_date'])\n",
    "df_users['churn_date'] = pd.to_datetime(df_users['churn_date'])"
   ]
  },
  {
   "cell_type": "markdown",
   "metadata": {},
   "source": [
    "<div>\n",
    "    <b>Мой комментарий:</b>\n",
    "    <br> изменил типы данных на необходимые\n",
    "</div>"
   ]
  },
  {
   "cell_type": "code",
   "execution_count": 24,
   "metadata": {},
   "outputs": [
    {
     "data": {
      "text/html": [
       "<div>\n",
       "<style scoped>\n",
       "    .dataframe tbody tr th:only-of-type {\n",
       "        vertical-align: middle;\n",
       "    }\n",
       "\n",
       "    .dataframe tbody tr th {\n",
       "        vertical-align: top;\n",
       "    }\n",
       "\n",
       "    .dataframe thead th {\n",
       "        text-align: right;\n",
       "    }\n",
       "</style>\n",
       "<table border=\"1\" class=\"dataframe\">\n",
       "  <thead>\n",
       "    <tr style=\"text-align: right;\">\n",
       "      <th></th>\n",
       "      <th>user_id</th>\n",
       "      <th>month</th>\n",
       "      <th>total_calls</th>\n",
       "      <th>summary_minutes</th>\n",
       "    </tr>\n",
       "  </thead>\n",
       "  <tbody>\n",
       "    <tr>\n",
       "      <th>0</th>\n",
       "      <td>1000</td>\n",
       "      <td>5</td>\n",
       "      <td>22</td>\n",
       "      <td>159.0</td>\n",
       "    </tr>\n",
       "    <tr>\n",
       "      <th>1</th>\n",
       "      <td>1000</td>\n",
       "      <td>6</td>\n",
       "      <td>43</td>\n",
       "      <td>172.0</td>\n",
       "    </tr>\n",
       "    <tr>\n",
       "      <th>2</th>\n",
       "      <td>1000</td>\n",
       "      <td>7</td>\n",
       "      <td>47</td>\n",
       "      <td>340.0</td>\n",
       "    </tr>\n",
       "    <tr>\n",
       "      <th>3</th>\n",
       "      <td>1000</td>\n",
       "      <td>8</td>\n",
       "      <td>52</td>\n",
       "      <td>408.0</td>\n",
       "    </tr>\n",
       "    <tr>\n",
       "      <th>4</th>\n",
       "      <td>1000</td>\n",
       "      <td>9</td>\n",
       "      <td>58</td>\n",
       "      <td>466.0</td>\n",
       "    </tr>\n",
       "    <tr>\n",
       "      <th>...</th>\n",
       "      <td>...</td>\n",
       "      <td>...</td>\n",
       "      <td>...</td>\n",
       "      <td>...</td>\n",
       "    </tr>\n",
       "    <tr>\n",
       "      <th>3169</th>\n",
       "      <td>1498</td>\n",
       "      <td>10</td>\n",
       "      <td>41</td>\n",
       "      <td>247.0</td>\n",
       "    </tr>\n",
       "    <tr>\n",
       "      <th>3170</th>\n",
       "      <td>1499</td>\n",
       "      <td>9</td>\n",
       "      <td>9</td>\n",
       "      <td>70.0</td>\n",
       "    </tr>\n",
       "    <tr>\n",
       "      <th>3171</th>\n",
       "      <td>1499</td>\n",
       "      <td>10</td>\n",
       "      <td>68</td>\n",
       "      <td>449.0</td>\n",
       "    </tr>\n",
       "    <tr>\n",
       "      <th>3172</th>\n",
       "      <td>1499</td>\n",
       "      <td>11</td>\n",
       "      <td>74</td>\n",
       "      <td>612.0</td>\n",
       "    </tr>\n",
       "    <tr>\n",
       "      <th>3173</th>\n",
       "      <td>1499</td>\n",
       "      <td>12</td>\n",
       "      <td>69</td>\n",
       "      <td>492.0</td>\n",
       "    </tr>\n",
       "  </tbody>\n",
       "</table>\n",
       "<p>3174 rows × 4 columns</p>\n",
       "</div>"
      ],
      "text/plain": [
       "      user_id  month  total_calls  summary_minutes\n",
       "0        1000      5           22            159.0\n",
       "1        1000      6           43            172.0\n",
       "2        1000      7           47            340.0\n",
       "3        1000      8           52            408.0\n",
       "4        1000      9           58            466.0\n",
       "...       ...    ...          ...              ...\n",
       "3169     1498     10           41            247.0\n",
       "3170     1499      9            9             70.0\n",
       "3171     1499     10           68            449.0\n",
       "3172     1499     11           74            612.0\n",
       "3173     1499     12           69            492.0\n",
       "\n",
       "[3174 rows x 4 columns]"
      ]
     },
     "metadata": {},
     "output_type": "display_data"
    }
   ],
   "source": [
    "df_calls['month'] = pd.DatetimeIndex(df_calls['call_date']).month\n",
    "table1 = df_calls.groupby(['user_id','month']).agg(total_calls = ('duration','count'), summary_minutes = ('duration','sum')).reset_index()\n",
    "\n",
    "display(table1)"
   ]
  },
  {
   "cell_type": "markdown",
   "metadata": {},
   "source": [
    "<div>\n",
    "    <b>Мой комментарий:</b>\n",
    "    <br>сгруппировал df_calls по user_id и month выделил в отдельный датафрейм, т.е нашел суммарное кол-во звонков , и потраченных минут пользователей помесячно\n",
    "</div>"
   ]
  },
  {
   "cell_type": "code",
   "execution_count": 32,
   "metadata": {},
   "outputs": [
    {
     "data": {
      "text/html": [
       "<div>\n",
       "<style scoped>\n",
       "    .dataframe tbody tr th:only-of-type {\n",
       "        vertical-align: middle;\n",
       "    }\n",
       "\n",
       "    .dataframe tbody tr th {\n",
       "        vertical-align: top;\n",
       "    }\n",
       "\n",
       "    .dataframe thead th {\n",
       "        text-align: right;\n",
       "    }\n",
       "</style>\n",
       "<table border=\"1\" class=\"dataframe\">\n",
       "  <thead>\n",
       "    <tr style=\"text-align: right;\">\n",
       "      <th></th>\n",
       "      <th>user_id</th>\n",
       "      <th>month</th>\n",
       "      <th>total_messages</th>\n",
       "    </tr>\n",
       "  </thead>\n",
       "  <tbody>\n",
       "    <tr>\n",
       "      <th>0</th>\n",
       "      <td>1000</td>\n",
       "      <td>5</td>\n",
       "      <td>22</td>\n",
       "    </tr>\n",
       "    <tr>\n",
       "      <th>1</th>\n",
       "      <td>1000</td>\n",
       "      <td>6</td>\n",
       "      <td>60</td>\n",
       "    </tr>\n",
       "    <tr>\n",
       "      <th>2</th>\n",
       "      <td>1000</td>\n",
       "      <td>7</td>\n",
       "      <td>75</td>\n",
       "    </tr>\n",
       "    <tr>\n",
       "      <th>3</th>\n",
       "      <td>1000</td>\n",
       "      <td>8</td>\n",
       "      <td>81</td>\n",
       "    </tr>\n",
       "    <tr>\n",
       "      <th>4</th>\n",
       "      <td>1000</td>\n",
       "      <td>9</td>\n",
       "      <td>57</td>\n",
       "    </tr>\n",
       "    <tr>\n",
       "      <th>...</th>\n",
       "      <td>...</td>\n",
       "      <td>...</td>\n",
       "      <td>...</td>\n",
       "    </tr>\n",
       "    <tr>\n",
       "      <th>2712</th>\n",
       "      <td>1498</td>\n",
       "      <td>10</td>\n",
       "      <td>42</td>\n",
       "    </tr>\n",
       "    <tr>\n",
       "      <th>2713</th>\n",
       "      <td>1499</td>\n",
       "      <td>9</td>\n",
       "      <td>11</td>\n",
       "    </tr>\n",
       "    <tr>\n",
       "      <th>2714</th>\n",
       "      <td>1499</td>\n",
       "      <td>10</td>\n",
       "      <td>48</td>\n",
       "    </tr>\n",
       "    <tr>\n",
       "      <th>2715</th>\n",
       "      <td>1499</td>\n",
       "      <td>11</td>\n",
       "      <td>59</td>\n",
       "    </tr>\n",
       "    <tr>\n",
       "      <th>2716</th>\n",
       "      <td>1499</td>\n",
       "      <td>12</td>\n",
       "      <td>66</td>\n",
       "    </tr>\n",
       "  </tbody>\n",
       "</table>\n",
       "<p>2717 rows × 3 columns</p>\n",
       "</div>"
      ],
      "text/plain": [
       "      user_id  month  total_messages\n",
       "0        1000      5              22\n",
       "1        1000      6              60\n",
       "2        1000      7              75\n",
       "3        1000      8              81\n",
       "4        1000      9              57\n",
       "...       ...    ...             ...\n",
       "2712     1498     10              42\n",
       "2713     1499      9              11\n",
       "2714     1499     10              48\n",
       "2715     1499     11              59\n",
       "2716     1499     12              66\n",
       "\n",
       "[2717 rows x 3 columns]"
      ]
     },
     "metadata": {},
     "output_type": "display_data"
    }
   ],
   "source": [
    "df_messages['month'] = pd.DatetimeIndex(df_messages['message_date']).month\n",
    "table2 = df_messages.groupby(['user_id','month'])['id'].count().reset_index() \n",
    "table2 = table2.rename(columns={'id':'total_messages'})\n",
    "display(table2)"
   ]
  },
  {
   "cell_type": "code",
   "execution_count": 34,
   "metadata": {},
   "outputs": [
    {
     "data": {
      "text/html": [
       "<div>\n",
       "<style scoped>\n",
       "    .dataframe tbody tr th:only-of-type {\n",
       "        vertical-align: middle;\n",
       "    }\n",
       "\n",
       "    .dataframe tbody tr th {\n",
       "        vertical-align: top;\n",
       "    }\n",
       "\n",
       "    .dataframe thead th {\n",
       "        text-align: right;\n",
       "    }\n",
       "</style>\n",
       "<table border=\"1\" class=\"dataframe\">\n",
       "  <thead>\n",
       "    <tr style=\"text-align: right;\">\n",
       "      <th></th>\n",
       "      <th>user_id</th>\n",
       "      <th>month</th>\n",
       "      <th>total_mb_used</th>\n",
       "    </tr>\n",
       "  </thead>\n",
       "  <tbody>\n",
       "    <tr>\n",
       "      <th>0</th>\n",
       "      <td>1000</td>\n",
       "      <td>5</td>\n",
       "      <td>2253.49</td>\n",
       "    </tr>\n",
       "    <tr>\n",
       "      <th>1</th>\n",
       "      <td>1000</td>\n",
       "      <td>6</td>\n",
       "      <td>23233.77</td>\n",
       "    </tr>\n",
       "    <tr>\n",
       "      <th>2</th>\n",
       "      <td>1000</td>\n",
       "      <td>7</td>\n",
       "      <td>14003.64</td>\n",
       "    </tr>\n",
       "    <tr>\n",
       "      <th>3</th>\n",
       "      <td>1000</td>\n",
       "      <td>8</td>\n",
       "      <td>14055.93</td>\n",
       "    </tr>\n",
       "    <tr>\n",
       "      <th>4</th>\n",
       "      <td>1000</td>\n",
       "      <td>9</td>\n",
       "      <td>14568.91</td>\n",
       "    </tr>\n",
       "    <tr>\n",
       "      <th>...</th>\n",
       "      <td>...</td>\n",
       "      <td>...</td>\n",
       "      <td>...</td>\n",
       "    </tr>\n",
       "    <tr>\n",
       "      <th>3198</th>\n",
       "      <td>1498</td>\n",
       "      <td>10</td>\n",
       "      <td>20579.36</td>\n",
       "    </tr>\n",
       "    <tr>\n",
       "      <th>3199</th>\n",
       "      <td>1499</td>\n",
       "      <td>9</td>\n",
       "      <td>1845.75</td>\n",
       "    </tr>\n",
       "    <tr>\n",
       "      <th>3200</th>\n",
       "      <td>1499</td>\n",
       "      <td>10</td>\n",
       "      <td>17788.51</td>\n",
       "    </tr>\n",
       "    <tr>\n",
       "      <th>3201</th>\n",
       "      <td>1499</td>\n",
       "      <td>11</td>\n",
       "      <td>17963.31</td>\n",
       "    </tr>\n",
       "    <tr>\n",
       "      <th>3202</th>\n",
       "      <td>1499</td>\n",
       "      <td>12</td>\n",
       "      <td>13055.58</td>\n",
       "    </tr>\n",
       "  </tbody>\n",
       "</table>\n",
       "<p>3203 rows × 3 columns</p>\n",
       "</div>"
      ],
      "text/plain": [
       "      user_id  month  total_mb_used\n",
       "0        1000      5        2253.49\n",
       "1        1000      6       23233.77\n",
       "2        1000      7       14003.64\n",
       "3        1000      8       14055.93\n",
       "4        1000      9       14568.91\n",
       "...       ...    ...            ...\n",
       "3198     1498     10       20579.36\n",
       "3199     1499      9        1845.75\n",
       "3200     1499     10       17788.51\n",
       "3201     1499     11       17963.31\n",
       "3202     1499     12       13055.58\n",
       "\n",
       "[3203 rows x 3 columns]"
      ]
     },
     "metadata": {},
     "output_type": "display_data"
    }
   ],
   "source": [
    "df_internet['month'] = pd.DatetimeIndex(df_internet['session_date']).month\n",
    "table3 = df_internet.groupby(['user_id','month'])['mb_used'].sum().reset_index()\n",
    "table3 = table3.rename(columns={'mb_used':'total_mb_used'})\n",
    "display(table3)"
   ]
  },
  {
   "cell_type": "code",
   "execution_count": 35,
   "metadata": {},
   "outputs": [],
   "source": [
    "# лучше здесь сразу переведу мб в гб , а в методе подсчета выручки уже согласно тарифу пользователя округлю\n",
    "table3['total_mb_used'] = table3['total_mb_used']/1024"
   ]
  },
  {
   "cell_type": "code",
   "execution_count": 36,
   "metadata": {},
   "outputs": [],
   "source": [
    "# переименую столбец чтобы он соответсвтвовал данным\n",
    "table3 = table3.rename(columns={'total_mb_used':'total_gb_used'})"
   ]
  },
  {
   "cell_type": "markdown",
   "metadata": {},
   "source": [
    "<div>\n",
    "    <b>Мой комментарий после ревью:</b>\n",
    "    <br>Перевел мб трафика в гб , переименовал столбец , чтобы соответствовал данным\n",
    "</div>"
   ]
  },
  {
   "cell_type": "code",
   "execution_count": 37,
   "metadata": {},
   "outputs": [],
   "source": [
    "general_table = table1.merge(table2,on=['user_id','month'],how='outer')"
   ]
  },
  {
   "cell_type": "code",
   "execution_count": 38,
   "metadata": {},
   "outputs": [],
   "source": [
    "general_table = general_table.merge(table3,on=['user_id','month'],how='outer')"
   ]
  },
  {
   "cell_type": "code",
   "execution_count": 39,
   "metadata": {},
   "outputs": [],
   "source": [
    "general_table = general_table.merge(df_users[['tariff','user_id']],on='user_id')"
   ]
  },
  {
   "cell_type": "code",
   "execution_count": 40,
   "metadata": {},
   "outputs": [
    {
     "data": {
      "text/plain": [
       "user_id              0\n",
       "month                0\n",
       "total_calls         40\n",
       "summary_minutes     40\n",
       "total_messages     497\n",
       "total_gb_used       11\n",
       "tariff               0\n",
       "dtype: int64"
      ]
     },
     "metadata": {},
     "output_type": "display_data"
    }
   ],
   "source": [
    "#посмотрю сколько появилось пропусков после слияния outer join\n",
    "display(general_table.isna().sum())"
   ]
  },
  {
   "cell_type": "code",
   "execution_count": 44,
   "metadata": {},
   "outputs": [
    {
     "data": {
      "text/html": [
       "<div>\n",
       "<style scoped>\n",
       "    .dataframe tbody tr th:only-of-type {\n",
       "        vertical-align: middle;\n",
       "    }\n",
       "\n",
       "    .dataframe tbody tr th {\n",
       "        vertical-align: top;\n",
       "    }\n",
       "\n",
       "    .dataframe thead th {\n",
       "        text-align: right;\n",
       "    }\n",
       "</style>\n",
       "<table border=\"1\" class=\"dataframe\">\n",
       "  <thead>\n",
       "    <tr style=\"text-align: right;\">\n",
       "      <th></th>\n",
       "      <th>user_id</th>\n",
       "      <th>month</th>\n",
       "      <th>total_calls</th>\n",
       "      <th>summary_minutes</th>\n",
       "      <th>total_messages</th>\n",
       "      <th>total_gb_used</th>\n",
       "      <th>tariff</th>\n",
       "    </tr>\n",
       "  </thead>\n",
       "  <tbody>\n",
       "    <tr>\n",
       "      <th>8</th>\n",
       "      <td>1001</td>\n",
       "      <td>11</td>\n",
       "      <td>59.0</td>\n",
       "      <td>430.0</td>\n",
       "      <td>NaN</td>\n",
       "      <td>17.997402</td>\n",
       "      <td>smart</td>\n",
       "    </tr>\n",
       "    <tr>\n",
       "      <th>9</th>\n",
       "      <td>1001</td>\n",
       "      <td>12</td>\n",
       "      <td>63.0</td>\n",
       "      <td>414.0</td>\n",
       "      <td>NaN</td>\n",
       "      <td>13.707676</td>\n",
       "      <td>smart</td>\n",
       "    </tr>\n",
       "    <tr>\n",
       "      <th>42</th>\n",
       "      <td>1006</td>\n",
       "      <td>2</td>\n",
       "      <td>3.0</td>\n",
       "      <td>42.0</td>\n",
       "      <td>NaN</td>\n",
       "      <td>1.359521</td>\n",
       "      <td>smart</td>\n",
       "    </tr>\n",
       "    <tr>\n",
       "      <th>43</th>\n",
       "      <td>1006</td>\n",
       "      <td>3</td>\n",
       "      <td>46.0</td>\n",
       "      <td>286.0</td>\n",
       "      <td>NaN</td>\n",
       "      <td>16.882744</td>\n",
       "      <td>smart</td>\n",
       "    </tr>\n",
       "    <tr>\n",
       "      <th>44</th>\n",
       "      <td>1006</td>\n",
       "      <td>4</td>\n",
       "      <td>47.0</td>\n",
       "      <td>356.0</td>\n",
       "      <td>NaN</td>\n",
       "      <td>13.610059</td>\n",
       "      <td>smart</td>\n",
       "    </tr>\n",
       "    <tr>\n",
       "      <th>...</th>\n",
       "      <td>...</td>\n",
       "      <td>...</td>\n",
       "      <td>...</td>\n",
       "      <td>...</td>\n",
       "      <td>...</td>\n",
       "      <td>...</td>\n",
       "      <td>...</td>\n",
       "    </tr>\n",
       "    <tr>\n",
       "      <th>3143</th>\n",
       "      <td>1494</td>\n",
       "      <td>8</td>\n",
       "      <td>32.0</td>\n",
       "      <td>262.0</td>\n",
       "      <td>NaN</td>\n",
       "      <td>6.436279</td>\n",
       "      <td>smart</td>\n",
       "    </tr>\n",
       "    <tr>\n",
       "      <th>3144</th>\n",
       "      <td>1494</td>\n",
       "      <td>9</td>\n",
       "      <td>66.0</td>\n",
       "      <td>501.0</td>\n",
       "      <td>NaN</td>\n",
       "      <td>16.564951</td>\n",
       "      <td>smart</td>\n",
       "    </tr>\n",
       "    <tr>\n",
       "      <th>3145</th>\n",
       "      <td>1494</td>\n",
       "      <td>10</td>\n",
       "      <td>52.0</td>\n",
       "      <td>354.0</td>\n",
       "      <td>NaN</td>\n",
       "      <td>17.350820</td>\n",
       "      <td>smart</td>\n",
       "    </tr>\n",
       "    <tr>\n",
       "      <th>3146</th>\n",
       "      <td>1494</td>\n",
       "      <td>11</td>\n",
       "      <td>63.0</td>\n",
       "      <td>411.0</td>\n",
       "      <td>NaN</td>\n",
       "      <td>17.629346</td>\n",
       "      <td>smart</td>\n",
       "    </tr>\n",
       "    <tr>\n",
       "      <th>3147</th>\n",
       "      <td>1494</td>\n",
       "      <td>12</td>\n",
       "      <td>62.0</td>\n",
       "      <td>418.0</td>\n",
       "      <td>NaN</td>\n",
       "      <td>17.208213</td>\n",
       "      <td>smart</td>\n",
       "    </tr>\n",
       "  </tbody>\n",
       "</table>\n",
       "<p>497 rows × 7 columns</p>\n",
       "</div>"
      ],
      "text/plain": [
       "      user_id  month  total_calls  summary_minutes  total_messages  \\\n",
       "8        1001     11         59.0            430.0             NaN   \n",
       "9        1001     12         63.0            414.0             NaN   \n",
       "42       1006      2          3.0             42.0             NaN   \n",
       "43       1006      3         46.0            286.0             NaN   \n",
       "44       1006      4         47.0            356.0             NaN   \n",
       "...       ...    ...          ...              ...             ...   \n",
       "3143     1494      8         32.0            262.0             NaN   \n",
       "3144     1494      9         66.0            501.0             NaN   \n",
       "3145     1494     10         52.0            354.0             NaN   \n",
       "3146     1494     11         63.0            411.0             NaN   \n",
       "3147     1494     12         62.0            418.0             NaN   \n",
       "\n",
       "      total_gb_used tariff  \n",
       "8         17.997402  smart  \n",
       "9         13.707676  smart  \n",
       "42         1.359521  smart  \n",
       "43        16.882744  smart  \n",
       "44        13.610059  smart  \n",
       "...             ...    ...  \n",
       "3143       6.436279  smart  \n",
       "3144      16.564951  smart  \n",
       "3145      17.350820  smart  \n",
       "3146      17.629346  smart  \n",
       "3147      17.208213  smart  \n",
       "\n",
       "[497 rows x 7 columns]"
      ]
     },
     "execution_count": 44,
     "metadata": {},
     "output_type": "execute_result"
    }
   ],
   "source": [
    "general_table[general_table['total_messages'].isna()]"
   ]
  },
  {
   "cell_type": "code",
   "execution_count": 45,
   "metadata": {},
   "outputs": [],
   "source": [
    "#заменю пропуски нулями потому что по тем данным месяца и user_id нет данных за сессии\n",
    "general_table = general_table.fillna(0)"
   ]
  },
  {
   "cell_type": "markdown",
   "metadata": {},
   "source": [
    "<div>\n",
    "    <b>Мой комментарий:</b>\n",
    "    <br>соеденил все нужные данные в одну большую таблицу методом merge по условию равенства user_id и month\n",
    "</div>"
   ]
  },
  {
   "cell_type": "code",
   "execution_count": 46,
   "metadata": {},
   "outputs": [
    {
     "data": {
      "text/html": [
       "<div>\n",
       "<style scoped>\n",
       "    .dataframe tbody tr th:only-of-type {\n",
       "        vertical-align: middle;\n",
       "    }\n",
       "\n",
       "    .dataframe tbody tr th {\n",
       "        vertical-align: top;\n",
       "    }\n",
       "\n",
       "    .dataframe thead th {\n",
       "        text-align: right;\n",
       "    }\n",
       "</style>\n",
       "<table border=\"1\" class=\"dataframe\">\n",
       "  <thead>\n",
       "    <tr style=\"text-align: right;\">\n",
       "      <th></th>\n",
       "      <th>user_id</th>\n",
       "      <th>month</th>\n",
       "      <th>total_calls</th>\n",
       "      <th>summary_minutes</th>\n",
       "      <th>total_messages</th>\n",
       "      <th>total_gb_used</th>\n",
       "      <th>tariff</th>\n",
       "      <th>messages_included</th>\n",
       "      <th>mb_per_month_included</th>\n",
       "      <th>minutes_included</th>\n",
       "      <th>rub_monthly_fee</th>\n",
       "      <th>rub_per_gb</th>\n",
       "      <th>rub_per_message</th>\n",
       "      <th>rub_per_minute</th>\n",
       "      <th>city</th>\n",
       "    </tr>\n",
       "  </thead>\n",
       "  <tbody>\n",
       "    <tr>\n",
       "      <th>0</th>\n",
       "      <td>1000</td>\n",
       "      <td>5</td>\n",
       "      <td>22.0</td>\n",
       "      <td>159.0</td>\n",
       "      <td>22.0</td>\n",
       "      <td>2.200674</td>\n",
       "      <td>ultra</td>\n",
       "      <td>1000</td>\n",
       "      <td>30720</td>\n",
       "      <td>3000</td>\n",
       "      <td>1950</td>\n",
       "      <td>150</td>\n",
       "      <td>1</td>\n",
       "      <td>1</td>\n",
       "      <td>Краснодар</td>\n",
       "    </tr>\n",
       "    <tr>\n",
       "      <th>1</th>\n",
       "      <td>1000</td>\n",
       "      <td>6</td>\n",
       "      <td>43.0</td>\n",
       "      <td>172.0</td>\n",
       "      <td>60.0</td>\n",
       "      <td>22.689229</td>\n",
       "      <td>ultra</td>\n",
       "      <td>1000</td>\n",
       "      <td>30720</td>\n",
       "      <td>3000</td>\n",
       "      <td>1950</td>\n",
       "      <td>150</td>\n",
       "      <td>1</td>\n",
       "      <td>1</td>\n",
       "      <td>Краснодар</td>\n",
       "    </tr>\n",
       "    <tr>\n",
       "      <th>2</th>\n",
       "      <td>1000</td>\n",
       "      <td>7</td>\n",
       "      <td>47.0</td>\n",
       "      <td>340.0</td>\n",
       "      <td>75.0</td>\n",
       "      <td>13.675430</td>\n",
       "      <td>ultra</td>\n",
       "      <td>1000</td>\n",
       "      <td>30720</td>\n",
       "      <td>3000</td>\n",
       "      <td>1950</td>\n",
       "      <td>150</td>\n",
       "      <td>1</td>\n",
       "      <td>1</td>\n",
       "      <td>Краснодар</td>\n",
       "    </tr>\n",
       "    <tr>\n",
       "      <th>3</th>\n",
       "      <td>1000</td>\n",
       "      <td>8</td>\n",
       "      <td>52.0</td>\n",
       "      <td>408.0</td>\n",
       "      <td>81.0</td>\n",
       "      <td>13.726494</td>\n",
       "      <td>ultra</td>\n",
       "      <td>1000</td>\n",
       "      <td>30720</td>\n",
       "      <td>3000</td>\n",
       "      <td>1950</td>\n",
       "      <td>150</td>\n",
       "      <td>1</td>\n",
       "      <td>1</td>\n",
       "      <td>Краснодар</td>\n",
       "    </tr>\n",
       "    <tr>\n",
       "      <th>4</th>\n",
       "      <td>1000</td>\n",
       "      <td>9</td>\n",
       "      <td>58.0</td>\n",
       "      <td>466.0</td>\n",
       "      <td>57.0</td>\n",
       "      <td>14.227451</td>\n",
       "      <td>ultra</td>\n",
       "      <td>1000</td>\n",
       "      <td>30720</td>\n",
       "      <td>3000</td>\n",
       "      <td>1950</td>\n",
       "      <td>150</td>\n",
       "      <td>1</td>\n",
       "      <td>1</td>\n",
       "      <td>Краснодар</td>\n",
       "    </tr>\n",
       "    <tr>\n",
       "      <th>...</th>\n",
       "      <td>...</td>\n",
       "      <td>...</td>\n",
       "      <td>...</td>\n",
       "      <td>...</td>\n",
       "      <td>...</td>\n",
       "      <td>...</td>\n",
       "      <td>...</td>\n",
       "      <td>...</td>\n",
       "      <td>...</td>\n",
       "      <td>...</td>\n",
       "      <td>...</td>\n",
       "      <td>...</td>\n",
       "      <td>...</td>\n",
       "      <td>...</td>\n",
       "      <td>...</td>\n",
       "    </tr>\n",
       "    <tr>\n",
       "      <th>3209</th>\n",
       "      <td>1489</td>\n",
       "      <td>8</td>\n",
       "      <td>0.0</td>\n",
       "      <td>0.0</td>\n",
       "      <td>17.0</td>\n",
       "      <td>10.791562</td>\n",
       "      <td>smart</td>\n",
       "      <td>50</td>\n",
       "      <td>15360</td>\n",
       "      <td>500</td>\n",
       "      <td>550</td>\n",
       "      <td>200</td>\n",
       "      <td>3</td>\n",
       "      <td>3</td>\n",
       "      <td>Санкт-Петербург</td>\n",
       "    </tr>\n",
       "    <tr>\n",
       "      <th>3210</th>\n",
       "      <td>1489</td>\n",
       "      <td>9</td>\n",
       "      <td>0.0</td>\n",
       "      <td>0.0</td>\n",
       "      <td>32.0</td>\n",
       "      <td>16.803027</td>\n",
       "      <td>smart</td>\n",
       "      <td>50</td>\n",
       "      <td>15360</td>\n",
       "      <td>500</td>\n",
       "      <td>550</td>\n",
       "      <td>200</td>\n",
       "      <td>3</td>\n",
       "      <td>3</td>\n",
       "      <td>Санкт-Петербург</td>\n",
       "    </tr>\n",
       "    <tr>\n",
       "      <th>3211</th>\n",
       "      <td>1489</td>\n",
       "      <td>10</td>\n",
       "      <td>0.0</td>\n",
       "      <td>0.0</td>\n",
       "      <td>21.0</td>\n",
       "      <td>19.101016</td>\n",
       "      <td>smart</td>\n",
       "      <td>50</td>\n",
       "      <td>15360</td>\n",
       "      <td>500</td>\n",
       "      <td>550</td>\n",
       "      <td>200</td>\n",
       "      <td>3</td>\n",
       "      <td>3</td>\n",
       "      <td>Санкт-Петербург</td>\n",
       "    </tr>\n",
       "    <tr>\n",
       "      <th>3212</th>\n",
       "      <td>1489</td>\n",
       "      <td>11</td>\n",
       "      <td>0.0</td>\n",
       "      <td>0.0</td>\n",
       "      <td>20.0</td>\n",
       "      <td>17.081602</td>\n",
       "      <td>smart</td>\n",
       "      <td>50</td>\n",
       "      <td>15360</td>\n",
       "      <td>500</td>\n",
       "      <td>550</td>\n",
       "      <td>200</td>\n",
       "      <td>3</td>\n",
       "      <td>3</td>\n",
       "      <td>Санкт-Петербург</td>\n",
       "    </tr>\n",
       "    <tr>\n",
       "      <th>3213</th>\n",
       "      <td>1489</td>\n",
       "      <td>12</td>\n",
       "      <td>0.0</td>\n",
       "      <td>0.0</td>\n",
       "      <td>35.0</td>\n",
       "      <td>16.916514</td>\n",
       "      <td>smart</td>\n",
       "      <td>50</td>\n",
       "      <td>15360</td>\n",
       "      <td>500</td>\n",
       "      <td>550</td>\n",
       "      <td>200</td>\n",
       "      <td>3</td>\n",
       "      <td>3</td>\n",
       "      <td>Санкт-Петербург</td>\n",
       "    </tr>\n",
       "  </tbody>\n",
       "</table>\n",
       "<p>3214 rows × 15 columns</p>\n",
       "</div>"
      ],
      "text/plain": [
       "      user_id  month  total_calls  summary_minutes  total_messages  \\\n",
       "0        1000      5         22.0            159.0            22.0   \n",
       "1        1000      6         43.0            172.0            60.0   \n",
       "2        1000      7         47.0            340.0            75.0   \n",
       "3        1000      8         52.0            408.0            81.0   \n",
       "4        1000      9         58.0            466.0            57.0   \n",
       "...       ...    ...          ...              ...             ...   \n",
       "3209     1489      8          0.0              0.0            17.0   \n",
       "3210     1489      9          0.0              0.0            32.0   \n",
       "3211     1489     10          0.0              0.0            21.0   \n",
       "3212     1489     11          0.0              0.0            20.0   \n",
       "3213     1489     12          0.0              0.0            35.0   \n",
       "\n",
       "      total_gb_used tariff  messages_included  mb_per_month_included  \\\n",
       "0          2.200674  ultra               1000                  30720   \n",
       "1         22.689229  ultra               1000                  30720   \n",
       "2         13.675430  ultra               1000                  30720   \n",
       "3         13.726494  ultra               1000                  30720   \n",
       "4         14.227451  ultra               1000                  30720   \n",
       "...             ...    ...                ...                    ...   \n",
       "3209      10.791562  smart                 50                  15360   \n",
       "3210      16.803027  smart                 50                  15360   \n",
       "3211      19.101016  smart                 50                  15360   \n",
       "3212      17.081602  smart                 50                  15360   \n",
       "3213      16.916514  smart                 50                  15360   \n",
       "\n",
       "      minutes_included  rub_monthly_fee  rub_per_gb  rub_per_message  \\\n",
       "0                 3000             1950         150                1   \n",
       "1                 3000             1950         150                1   \n",
       "2                 3000             1950         150                1   \n",
       "3                 3000             1950         150                1   \n",
       "4                 3000             1950         150                1   \n",
       "...                ...              ...         ...              ...   \n",
       "3209               500              550         200                3   \n",
       "3210               500              550         200                3   \n",
       "3211               500              550         200                3   \n",
       "3212               500              550         200                3   \n",
       "3213               500              550         200                3   \n",
       "\n",
       "      rub_per_minute             city  \n",
       "0                  1        Краснодар  \n",
       "1                  1        Краснодар  \n",
       "2                  1        Краснодар  \n",
       "3                  1        Краснодар  \n",
       "4                  1        Краснодар  \n",
       "...              ...              ...  \n",
       "3209               3  Санкт-Петербург  \n",
       "3210               3  Санкт-Петербург  \n",
       "3211               3  Санкт-Петербург  \n",
       "3212               3  Санкт-Петербург  \n",
       "3213               3  Санкт-Петербург  \n",
       "\n",
       "[3214 rows x 15 columns]"
      ]
     },
     "metadata": {},
     "output_type": "display_data"
    }
   ],
   "source": [
    "general_table = general_table.merge(df_tariffs,on='tariff')\n",
    "\n",
    "# соеденю к таблице df_users так как для проверки второй гипотезы нужен город\n",
    "general_table = general_table.merge(df_users[['city','user_id']],on='user_id')\n",
    "display(general_table)"
   ]
  },
  {
   "cell_type": "markdown",
   "metadata": {},
   "source": [
    "<div>\n",
    "    <b> Мой комментарий: </b>\n",
    "    <br> Посчитал для каждого пользователя : кол-во звонков и минут по месяцам, кол-во отправленных сообщений по месяцам,\n",
    "   объем израсходованного трафика по месяцам\n",
    "</div>"
   ]
  },
  {
   "cell_type": "code",
   "execution_count": 47,
   "metadata": {},
   "outputs": [],
   "source": [
    "#округлю данные по по минутам разговора в большую сторону, так же данные по интернет трафику\n",
    "general_table['total_gb_used'] = np.ceil(general_table['total_gb_used'])"
   ]
  },
  {
   "cell_type": "code",
   "execution_count": 48,
   "metadata": {},
   "outputs": [],
   "source": [
    "def find_proceeds(row):\n",
    "    \n",
    "    tariff = row['tariff']\n",
    "    summary_minutes = row['summary_minutes']\n",
    "    total_gb_used = row['total_gb_used']\n",
    "    total_messages = row['total_messages']\n",
    "    \n",
    "    minutes_included = row['minutes_included']\n",
    "    gb_per_month_included = row['mb_per_month_included']/1024 # перевел в gb\n",
    "    messages_included = row['messages_included']\n",
    "    \n",
    "    rub_per_minute = row['rub_per_minute']\n",
    "    rub_per_gb = row['rub_per_gb'] \n",
    "    rub_per_message = row['rub_per_message']\n",
    "    \n",
    "    min_left = summary_minutes - minutes_included\n",
    "    gb_left = total_gb_used - gb_per_month_included\n",
    "    sms_left = total_messages - messages_included\n",
    "    \n",
    "    monthly_fee = row['rub_monthly_fee']\n",
    "    \n",
    "    \n",
    "    if min_left > 0:\n",
    "        price_for_min = min_left * rub_per_minute\n",
    "    else:\n",
    "        price_for_min = 0\n",
    "        \n",
    "    if gb_left > 0:\n",
    "        price_for_gb = gb_left * rub_per_gb\n",
    "    else:\n",
    "        price_for_gb = 0\n",
    "        \n",
    "    if sms_left > 0:\n",
    "        price_for_sms = sms_left * rub_per_message\n",
    "    else:\n",
    "        price_for_sms = 0\n",
    "    \n",
    "    return (monthly_fee + abs(price_for_min) + abs(price_for_gb) + abs(price_for_sms))\n"
   ]
  },
  {
   "cell_type": "markdown",
   "metadata": {},
   "source": [
    "<div>\n",
    "    <b>Мой комментарий:</b>\n",
    "    <br>написал метод для расчета помесячной выручки от пользователя в зависимости от используемого тарифа \n",
    "</div>"
   ]
  },
  {
   "cell_type": "code",
   "execution_count": 49,
   "metadata": {},
   "outputs": [],
   "source": [
    "general_table['proceed_for_month'] = general_table.apply(find_proceeds,axis=1)"
   ]
  },
  {
   "cell_type": "markdown",
   "metadata": {},
   "source": [
    "<div>\n",
    "    <b>Мой комментарий:</b>\n",
    "    <br>Добавил в таблицу помесячную выручку с пользователя\n",
    "</div>"
   ]
  },
  {
   "cell_type": "markdown",
   "metadata": {},
   "source": [
    "### Анализ данных <a id='analysis'></a>"
   ]
  },
  {
   "cell_type": "markdown",
   "metadata": {},
   "source": [
    "Найду среднее , дисперсию и стандартное отклонение по суммарным затратам трафика(интернет , звонки, сообщения) для каждого тарифа"
   ]
  },
  {
   "cell_type": "code",
   "execution_count": 56,
   "metadata": {},
   "outputs": [
    {
     "name": "stdout",
     "output_type": "stream",
     "text": [
      "Среднее количество минут по тарифам:\n"
     ]
    },
    {
     "data": {
      "text/plain": [
       "tariff\n",
       "smart    418.0\n",
       "ultra    527.0\n",
       "Name: summary_minutes, dtype: float64"
      ]
     },
     "execution_count": 56,
     "metadata": {},
     "output_type": "execute_result"
    }
   ],
   "source": [
    "print('Среднее количество минут по тарифам:')\n",
    "round(general_table.groupby('tariff')['summary_minutes'].mean())"
   ]
  },
  {
   "cell_type": "code",
   "execution_count": 55,
   "metadata": {},
   "outputs": [
    {
     "name": "stdout",
     "output_type": "stream",
     "text": [
      "Дисперсия и стандартное отклонение общего кол-ва минут по тарифам:\n"
     ]
    },
    {
     "data": {
      "text/html": [
       "<div>\n",
       "<style scoped>\n",
       "    .dataframe tbody tr th:only-of-type {\n",
       "        vertical-align: middle;\n",
       "    }\n",
       "\n",
       "    .dataframe tbody tr th {\n",
       "        vertical-align: top;\n",
       "    }\n",
       "\n",
       "    .dataframe thead th {\n",
       "        text-align: right;\n",
       "    }\n",
       "</style>\n",
       "<table border=\"1\" class=\"dataframe\">\n",
       "  <thead>\n",
       "    <tr style=\"text-align: right;\">\n",
       "      <th></th>\n",
       "      <th>tariff</th>\n",
       "      <th>variance</th>\n",
       "      <th>std</th>\n",
       "    </tr>\n",
       "  </thead>\n",
       "  <tbody>\n",
       "    <tr>\n",
       "      <th>0</th>\n",
       "      <td>smart</td>\n",
       "      <td>36219.0</td>\n",
       "      <td>190.0</td>\n",
       "    </tr>\n",
       "    <tr>\n",
       "      <th>1</th>\n",
       "      <td>ultra</td>\n",
       "      <td>100874.0</td>\n",
       "      <td>318.0</td>\n",
       "    </tr>\n",
       "  </tbody>\n",
       "</table>\n",
       "</div>"
      ],
      "text/plain": [
       "  tariff  variance    std\n",
       "0  smart   36219.0  190.0\n",
       "1  ultra  100874.0  318.0"
      ]
     },
     "execution_count": 55,
     "metadata": {},
     "output_type": "execute_result"
    }
   ],
   "source": [
    "print('Дисперсия и стандартное отклонение общего кол-ва минут по тарифам:')\n",
    "round(general_table.groupby('tariff').agg(variance=('summary_minutes','var'), std=('summary_minutes','std')).reset_index())"
   ]
  },
  {
   "cell_type": "markdown",
   "metadata": {},
   "source": [
    "<div>\n",
    "    <b>Мой комментарий после ревью:</b>\n",
    "    <br>Вывел и дисперсию и стандартное отклонение в одной таблице\n",
    "</div>"
   ]
  },
  {
   "cell_type": "code",
   "execution_count": 61,
   "metadata": {},
   "outputs": [
    {
     "data": {
      "image/png": "[encoded data removed]",
      "text/plain": [
       "<Figure size 432x288 with 1 Axes>"
      ]
     },
     "metadata": {
      "needs_background": "light"
     },
     "output_type": "display_data"
    }
   ],
   "source": [
    "general_table[general_table['tariff'] == 'smart']['summary_minutes'].hist(bins=40,label='smart',range=(0,1200),color='green')\n",
    "general_table[general_table['tariff'] == 'ultra']['summary_minutes'].hist(bins=40,label='ultra',alpha=0.5,range=(0,1200),color='red')\n",
    "plt.title('Кол-во потраченных минут по тарифам')\n",
    "plt.xlabel('минуты')\n",
    "plt.legend(loc='upper right')\n",
    "\n",
    "plt.show()"
   ]
  },
  {
   "cell_type": "markdown",
   "metadata": {},
   "source": [
    "<div>\n",
    "    <b>Мой комментарий:</b>\n",
    "    <br>Пользователи тарифа смарт значительно больше тратят минут на разговоры (пик - около 400 минут)\n",
    "    <br>также пользователи тарифа ультра тратят большее кол-во минут на разговоры до 1600 мин\n",
    "</div>"
   ]
  },
  {
   "cell_type": "code",
   "execution_count": 63,
   "metadata": {},
   "outputs": [
    {
     "name": "stdout",
     "output_type": "stream",
     "text": [
      "Среднее количество потраченного трафика по тарифам, GB\n"
     ]
    },
    {
     "data": {
      "text/plain": [
       "tariff\n",
       "smart    16.0\n",
       "ultra    19.0\n",
       "Name: total_gb_used, dtype: float64"
      ]
     },
     "execution_count": 63,
     "metadata": {},
     "output_type": "execute_result"
    }
   ],
   "source": [
    "#сделаю то же самое только для объема трафика\n",
    "# среднее кол-во потраченного трафика для тарифа smart и ultra\n",
    "print('Среднее количество потраченного трафика по тарифам, GB')\n",
    "round(general_table.groupby('tariff')['total_gb_used'].mean())"
   ]
  },
  {
   "cell_type": "code",
   "execution_count": 65,
   "metadata": {},
   "outputs": [
    {
     "name": "stdout",
     "output_type": "stream",
     "text": [
      "Дисперсия и стандартное отклонение общего кол-ва потраченного интернет трафика по тарифам:\n"
     ]
    },
    {
     "data": {
      "text/html": [
       "<div>\n",
       "<style scoped>\n",
       "    .dataframe tbody tr th:only-of-type {\n",
       "        vertical-align: middle;\n",
       "    }\n",
       "\n",
       "    .dataframe tbody tr th {\n",
       "        vertical-align: top;\n",
       "    }\n",
       "\n",
       "    .dataframe thead th {\n",
       "        text-align: right;\n",
       "    }\n",
       "</style>\n",
       "<table border=\"1\" class=\"dataframe\">\n",
       "  <thead>\n",
       "    <tr style=\"text-align: right;\">\n",
       "      <th></th>\n",
       "      <th>tariff</th>\n",
       "      <th>variance</th>\n",
       "      <th>std</th>\n",
       "    </tr>\n",
       "  </thead>\n",
       "  <tbody>\n",
       "    <tr>\n",
       "      <th>0</th>\n",
       "      <td>smart</td>\n",
       "      <td>33.0</td>\n",
       "      <td>6.0</td>\n",
       "    </tr>\n",
       "    <tr>\n",
       "      <th>1</th>\n",
       "      <td>ultra</td>\n",
       "      <td>97.0</td>\n",
       "      <td>10.0</td>\n",
       "    </tr>\n",
       "  </tbody>\n",
       "</table>\n",
       "</div>"
      ],
      "text/plain": [
       "  tariff  variance   std\n",
       "0  smart      33.0   6.0\n",
       "1  ultra      97.0  10.0"
      ]
     },
     "execution_count": 65,
     "metadata": {},
     "output_type": "execute_result"
    }
   ],
   "source": [
    "#дисперсия и стандартное отклонение для каждого тарифа (потраченные минуты)\n",
    "print('Дисперсия и стандартное отклонение общего кол-ва потраченного интернет трафика по тарифам:')\n",
    "round(general_table.groupby('tariff').agg(variance=('total_gb_used', 'var'), std=('total_gb_used','std')).reset_index())"
   ]
  },
  {
   "cell_type": "code",
   "execution_count": 66,
   "metadata": {},
   "outputs": [
    {
     "data": {
      "image/png": "[encoded data removed]",
      "text/plain": [
       "<Figure size 432x288 with 1 Axes>"
      ]
     },
     "metadata": {
      "needs_background": "light"
     },
     "output_type": "display_data"
    }
   ],
   "source": [
    "general_table[general_table['tariff'] == 'smart']['total_gb_used'].hist(bins=40,label='smart')\n",
    "general_table[general_table['tariff'] == 'ultra']['total_gb_used'].hist(bins=40,label='ultra',alpha=0.5)\n",
    "plt.title('Распределение интернет трафика по тарифам')\n",
    "plt.xlabel('общая сумма трафика, GB')\n",
    "          \n",
    "plt.legend(loc='upper right')\n",
    "\n",
    "plt.show()"
   ]
  },
  {
   "cell_type": "markdown",
   "metadata": {},
   "source": [
    "<div>\n",
    "    <b>Мой комментарий:</b>\n",
    "    <br>также пользователи тарифа ультра тратят большее кол-во интернет трафика до 40 GB\n",
    "</div>"
   ]
  },
  {
   "cell_type": "code",
   "execution_count": 68,
   "metadata": {},
   "outputs": [
    {
     "name": "stdout",
     "output_type": "stream",
     "text": [
      "Среднее количество потраченных сообщений по тарифам:\n"
     ]
    },
    {
     "data": {
      "text/plain": [
       "tariff\n",
       "smart    33.0\n",
       "ultra    49.0\n",
       "Name: total_messages, dtype: float64"
      ]
     },
     "execution_count": 68,
     "metadata": {},
     "output_type": "execute_result"
    }
   ],
   "source": [
    "# сделаю анализ для кол-ва сообщений по тарифам\n",
    "\n",
    "#среднее кол-во сообщений по тарифам smart и ultra\n",
    "print('Среднее количество потраченных сообщений по тарифам:')\n",
    "round(general_table.groupby('tariff')['total_messages'].mean())"
   ]
  },
  {
   "cell_type": "code",
   "execution_count": 70,
   "metadata": {},
   "outputs": [
    {
     "name": "stdout",
     "output_type": "stream",
     "text": [
      "\n",
      "Дисперсия и стандартное отклонение общего кол-ва потраченных сообщений по тарифам:\n"
     ]
    },
    {
     "data": {
      "text/html": [
       "<div>\n",
       "<style scoped>\n",
       "    .dataframe tbody tr th:only-of-type {\n",
       "        vertical-align: middle;\n",
       "    }\n",
       "\n",
       "    .dataframe tbody tr th {\n",
       "        vertical-align: top;\n",
       "    }\n",
       "\n",
       "    .dataframe thead th {\n",
       "        text-align: right;\n",
       "    }\n",
       "</style>\n",
       "<table border=\"1\" class=\"dataframe\">\n",
       "  <thead>\n",
       "    <tr style=\"text-align: right;\">\n",
       "      <th></th>\n",
       "      <th>tariff</th>\n",
       "      <th>variance</th>\n",
       "      <th>std</th>\n",
       "    </tr>\n",
       "  </thead>\n",
       "  <tbody>\n",
       "    <tr>\n",
       "      <th>0</th>\n",
       "      <td>smart</td>\n",
       "      <td>797.0</td>\n",
       "      <td>28.0</td>\n",
       "    </tr>\n",
       "    <tr>\n",
       "      <th>1</th>\n",
       "      <td>ultra</td>\n",
       "      <td>2285.0</td>\n",
       "      <td>48.0</td>\n",
       "    </tr>\n",
       "  </tbody>\n",
       "</table>\n",
       "</div>"
      ],
      "text/plain": [
       "  tariff  variance   std\n",
       "0  smart     797.0  28.0\n",
       "1  ultra    2285.0  48.0"
      ]
     },
     "execution_count": 70,
     "metadata": {},
     "output_type": "execute_result"
    }
   ],
   "source": [
    "#дисперсия и стандартное отклонение для каждого тарифа (потраченные минуты)\n",
    "print('\\nДисперсия и стандартное отклонение общего кол-ва потраченных сообщений по тарифам:')\n",
    "round(general_table.groupby('tariff').agg(variance=('total_messages', 'var'), std=('total_messages','std')).reset_index())"
   ]
  },
  {
   "cell_type": "code",
   "execution_count": 71,
   "metadata": {},
   "outputs": [
    {
     "data": {
      "image/png": "[encoded data removed]",
      "text/plain": [
       "<Figure size 432x288 with 1 Axes>"
      ]
     },
     "metadata": {
      "needs_background": "light"
     },
     "output_type": "display_data"
    }
   ],
   "source": [
    "#построю гистограммы частот по общему кол-ву сообщений\n",
    "general_table[general_table['tariff'] == 'smart']['total_messages'].hist(bins=20,label='smart')\n",
    "general_table[general_table['tariff'] == 'ultra']['total_messages'].hist(bins=20,label='ultra',alpha=0.5)\n",
    "plt.title('Распределение потраченных сообщений по тарифам')\n",
    "plt.xlabel('Кол-во сообщений , шт')\n",
    "plt.legend(loc='upper right')\n",
    "\n",
    "plt.show()"
   ]
  },
  {
   "cell_type": "markdown",
   "metadata": {},
   "source": [
    "<div>\n",
    "    <b>Мой комментарий:</b>\n",
    "    <br>также пользователи тарифа ультра тратят большее кол-во сообщений ежемесячно \n",
    "</div>"
   ]
  },
  {
   "cell_type": "markdown",
   "metadata": {},
   "source": [
    "<div>\n",
    "    <br>После изучения дисперсии и стандартных отклонений данных сессий по общему кол-ву потраченных минут , сообщений и трафика, можно сказать что пользователи тарифа ultra тратят больше трафика по всем данным, чем пользователи тарифа smart\n",
    "    <br> т.е изменчивость данных пользователей тарифа ultra больше , чем smart \n",
    "</div>"
   ]
  },
  {
   "cell_type": "markdown",
   "metadata": {},
   "source": [
    "### Проверка гипотез <a id='checking'></a>"
   ]
  },
  {
   "cell_type": "markdown",
   "metadata": {},
   "source": [
    "Нулевая гипотеза - средняя выручка пользователей тарифов smart и ultra не различаются\n",
    "<br>Альтернативная гипотеза звучик так: H1 - средняя выручка пользователей тарифов smart и ultra различаются"
   ]
  },
  {
   "cell_type": "code",
   "execution_count": 72,
   "metadata": {},
   "outputs": [],
   "source": [
    "#сначала возьмем из данных две выборки по разным тарифам\n",
    "\n",
    "sample_smart = general_table.query('tariff == \"smart\"')['proceed_for_month']\n",
    "sample_ultra = general_table.query('tariff == \"ultra\"')['proceed_for_month']"
   ]
  },
  {
   "cell_type": "code",
   "execution_count": 73,
   "metadata": {},
   "outputs": [],
   "source": [
    "# установим p-уровень значимость p = 0.05\n",
    "\n",
    "results = st.ttest_ind(sample_smart, sample_ultra, equal_var=False)"
   ]
  },
  {
   "cell_type": "code",
   "execution_count": 74,
   "metadata": {},
   "outputs": [
    {
     "name": "stdout",
     "output_type": "stream",
     "text": [
      "p-уровень значимости:  4.2606313931076085e-250\n"
     ]
    }
   ],
   "source": [
    "print('p-уровень значимости: ', results.pvalue)\n",
    "# p- уровень значимости очень близок к 0  значит нулевая гипотеза отбрасывается и средняя выручка пользователей тарифов smart и ultra различается"
   ]
  },
  {
   "cell_type": "markdown",
   "metadata": {},
   "source": [
    "<div>\n",
    "    <b>Мой комментарий:</b>\n",
    "    <br>p-уровень значимости близок к 0, значит у нас есть основания отклонить нулевую гипотезу и принять альтернативную\n",
    "    <br> т.е средняя выручка с пользователей тарифов smart и ultra - различается \n",
    "</div>"
   ]
  },
  {
   "cell_type": "markdown",
   "metadata": {},
   "source": [
    "Нулевая гипотеза - средняя выручка пользователей из Москвы не отличается от выручки пользователей с других городов\n",
    "<br>Альтернативная гипотеза звучик так: H1 - средняя выручка пользователей из Москвы отличается от других городов"
   ]
  },
  {
   "cell_type": "code",
   "execution_count": 75,
   "metadata": {},
   "outputs": [],
   "source": [
    "#возьмем две выборки по городам Москва и Другие\n",
    "\n",
    "sample_moscow = general_table.query('city == \"Москва\"')['proceed_for_month']\n",
    "sample_other = general_table.query('city != \"Москва\"')['proceed_for_month']"
   ]
  },
  {
   "cell_type": "code",
   "execution_count": 76,
   "metadata": {},
   "outputs": [],
   "source": [
    "# установим p-уровень значимость p = 0.05\n",
    "results = st.ttest_ind(sample_moscow, sample_other, equal_var=False)"
   ]
  },
  {
   "cell_type": "code",
   "execution_count": 77,
   "metadata": {},
   "outputs": [
    {
     "name": "stdout",
     "output_type": "stream",
     "text": [
      "p-уровень значимости:  0.5257376663729298\n"
     ]
    }
   ],
   "source": [
    "print('p-уровень значимости: ',results.pvalue)"
   ]
  },
  {
   "cell_type": "markdown",
   "metadata": {},
   "source": [
    "<div>\n",
    "    <b>Мой комментарий:</b>\n",
    "    <br>p-уровень значимости больше 0,05 значит у нас нет достаточно оснований чтобы отклонить нулевую гипотезу,\n",
    "    <br> т.е выручка от пользователей с Москвы не отличается от выручки с пользователей с других городов\n",
    "</div>"
   ]
  },
  {
   "cell_type": "markdown",
   "metadata": {},
   "source": [
    "<div>\n",
    "    <b>Мой комментарий:</b>\n",
    "    <br>Были проверены две гипотезы и по их результатам можно сказать что \n",
    "    <br>Средняя выручка с пользователей тарифов smart и ultra различается\n",
    "    <br>Средняя выручка с пользователей Москвы не отличается от выручки от пользователей других городов\n",
    "</div>"
   ]
  },
  {
   "cell_type": "markdown",
   "metadata": {},
   "source": [
    "### Вывод <a id='itog'></a>"
   ]
  },
  {
   "cell_type": "markdown",
   "metadata": {},
   "source": [
    "<div>\n",
    "    Были проведены исследования данных пользователей двух тарифов smart и ultra, были проверены две гипотезы о неравенстве средней выручки в зависимости от тарифа и от расположения абонента, по результатам аналитики можно сказать , что средняя выручка с пользователей разных тарифов различается, средняя выручка с пользователей с города Москвы не отличается от средней выручки от абонентов с других регионов\n",
    "    <br>По данным исследования сессий пользователей по звонкам , сообщениям и интернет трафику, можно сделать вывод, что   \n",
    "    для оператора более выгодный тариф это ultra\n",
    "</div>"
   ]
  }
 ],
 "metadata": {
  "ExecuteTimeLog": [
   {
    "duration": 695,
    "start_time": "2022-02-07T16:05:38.365Z"
   },
   {
    "duration": 212,
    "start_time": "2022-02-07T16:06:16.528Z"
   },
   {
    "duration": 19,
    "start_time": "2022-02-07T16:06:26.080Z"
   },
   {
    "duration": 375,
    "start_time": "2022-02-07T16:09:39.253Z"
   },
   {
    "duration": 18,
    "start_time": "2022-02-07T16:09:55.620Z"
   },
   {
    "duration": 41,
    "start_time": "2022-02-07T16:10:31.164Z"
   },
   {
    "duration": 19,
    "start_time": "2022-02-07T16:12:02.017Z"
   },
   {
    "duration": 16,
    "start_time": "2022-02-07T16:12:19.297Z"
   },
   {
    "duration": 14,
    "start_time": "2022-02-07T16:17:58.246Z"
   },
   {
    "duration": 427,
    "start_time": "2022-02-07T16:20:50.731Z"
   },
   {
    "duration": 393,
    "start_time": "2022-02-07T16:20:58.501Z"
   },
   {
    "duration": 32,
    "start_time": "2022-02-07T16:21:00.382Z"
   },
   {
    "duration": 25,
    "start_time": "2022-02-07T16:21:01.364Z"
   },
   {
    "duration": 13,
    "start_time": "2022-02-07T16:21:02.537Z"
   },
   {
    "duration": 9,
    "start_time": "2022-02-07T16:21:03.979Z"
   },
   {
    "duration": 6,
    "start_time": "2022-02-07T16:22:36.990Z"
   },
   {
    "duration": 24,
    "start_time": "2022-02-07T16:24:40.956Z"
   },
   {
    "duration": 34,
    "start_time": "2022-02-07T16:25:42.153Z"
   },
   {
    "duration": 15,
    "start_time": "2022-02-07T16:26:13.907Z"
   },
   {
    "duration": 41,
    "start_time": "2022-02-07T16:26:29.020Z"
   },
   {
    "duration": 31,
    "start_time": "2022-02-07T16:27:23.663Z"
   },
   {
    "duration": 20,
    "start_time": "2022-02-07T16:27:28.090Z"
   },
   {
    "duration": 37,
    "start_time": "2022-02-07T16:32:12.359Z"
   },
   {
    "duration": 14,
    "start_time": "2022-02-07T16:32:25.821Z"
   },
   {
    "duration": 21997,
    "start_time": "2022-02-07T16:35:37.800Z"
   },
   {
    "duration": -377,
    "start_time": "2022-02-07T16:36:00.175Z"
   },
   {
    "duration": 34,
    "start_time": "2022-02-07T16:36:37.075Z"
   },
   {
    "duration": 18,
    "start_time": "2022-02-07T16:36:39.762Z"
   },
   {
    "duration": 10,
    "start_time": "2022-02-07T16:36:50.490Z"
   },
   {
    "duration": 6,
    "start_time": "2022-02-07T16:37:00.719Z"
   },
   {
    "duration": 25,
    "start_time": "2022-02-07T16:44:53.893Z"
   },
   {
    "duration": 84,
    "start_time": "2022-02-07T16:48:07.693Z"
   },
   {
    "duration": 105,
    "start_time": "2022-02-07T16:49:43.321Z"
   },
   {
    "duration": 59,
    "start_time": "2022-02-07T16:51:47.037Z"
   },
   {
    "duration": 35,
    "start_time": "2022-02-07T16:52:04.402Z"
   },
   {
    "duration": 41,
    "start_time": "2022-02-07T16:54:52.069Z"
   },
   {
    "duration": 51,
    "start_time": "2022-02-07T16:55:32.551Z"
   },
   {
    "duration": 37,
    "start_time": "2022-02-07T16:59:45.057Z"
   },
   {
    "duration": 331,
    "start_time": "2022-02-07T17:01:32.309Z"
   },
   {
    "duration": 22,
    "start_time": "2022-02-07T17:01:55.465Z"
   },
   {
    "duration": 32,
    "start_time": "2022-02-07T17:04:32.728Z"
   },
   {
    "duration": 311,
    "start_time": "2022-02-08T15:32:28.477Z"
   },
   {
    "duration": 597,
    "start_time": "2022-02-08T15:32:33.328Z"
   },
   {
    "duration": 389,
    "start_time": "2022-02-08T15:32:34.015Z"
   },
   {
    "duration": 45,
    "start_time": "2022-02-08T15:32:34.541Z"
   },
   {
    "duration": 50,
    "start_time": "2022-02-08T15:32:35.574Z"
   },
   {
    "duration": 32,
    "start_time": "2022-02-08T15:32:37.000Z"
   },
   {
    "duration": 23,
    "start_time": "2022-02-08T15:32:38.000Z"
   },
   {
    "duration": 23,
    "start_time": "2022-02-08T15:32:39.768Z"
   },
   {
    "duration": 74,
    "start_time": "2022-02-08T15:32:41.815Z"
   },
   {
    "duration": 56,
    "start_time": "2022-02-08T15:32:42.592Z"
   },
   {
    "duration": 34,
    "start_time": "2022-02-08T15:32:43.945Z"
   },
   {
    "duration": 17,
    "start_time": "2022-02-08T15:32:44.384Z"
   },
   {
    "duration": 43,
    "start_time": "2022-02-08T15:32:46.136Z"
   },
   {
    "duration": 36,
    "start_time": "2022-02-08T15:33:31.207Z"
   },
   {
    "duration": 52,
    "start_time": "2022-02-08T15:33:48.049Z"
   },
   {
    "duration": 12,
    "start_time": "2022-02-08T15:36:06.874Z"
   },
   {
    "duration": 56,
    "start_time": "2022-02-08T15:37:30.588Z"
   },
   {
    "duration": 48,
    "start_time": "2022-02-08T15:38:25.827Z"
   },
   {
    "duration": 53,
    "start_time": "2022-02-08T15:39:12.160Z"
   },
   {
    "duration": 11,
    "start_time": "2022-02-08T15:39:30.482Z"
   },
   {
    "duration": 20,
    "start_time": "2022-02-08T15:39:47.109Z"
   },
   {
    "duration": 30,
    "start_time": "2022-02-08T15:40:41.261Z"
   },
   {
    "duration": 14,
    "start_time": "2022-02-08T15:41:11.607Z"
   },
   {
    "duration": 8,
    "start_time": "2022-02-08T15:41:29.457Z"
   },
   {
    "duration": 18,
    "start_time": "2022-02-08T15:41:31.121Z"
   },
   {
    "duration": 16,
    "start_time": "2022-02-08T15:51:15.079Z"
   },
   {
    "duration": 269,
    "start_time": "2022-02-08T15:51:31.785Z"
   },
   {
    "duration": 14,
    "start_time": "2022-02-08T15:51:38.802Z"
   },
   {
    "duration": 6,
    "start_time": "2022-02-08T15:56:17.767Z"
   },
   {
    "duration": 9,
    "start_time": "2022-02-08T15:56:57.945Z"
   },
   {
    "duration": 5,
    "start_time": "2022-02-08T15:57:04.721Z"
   },
   {
    "duration": 282,
    "start_time": "2022-02-08T15:57:21.291Z"
   },
   {
    "duration": 5,
    "start_time": "2022-02-08T15:57:25.747Z"
   },
   {
    "duration": 253,
    "start_time": "2022-02-08T15:58:50.678Z"
   },
   {
    "duration": 11,
    "start_time": "2022-02-08T15:59:20.841Z"
   },
   {
    "duration": 18,
    "start_time": "2022-02-08T15:59:34.979Z"
   },
   {
    "duration": 240,
    "start_time": "2022-02-08T16:14:28.847Z"
   },
   {
    "duration": 5,
    "start_time": "2022-02-08T16:14:36.608Z"
   },
   {
    "duration": 236,
    "start_time": "2022-02-08T16:14:38.031Z"
   },
   {
    "duration": 3677,
    "start_time": "2022-02-08T16:15:07.061Z"
   },
   {
    "duration": 3540,
    "start_time": "2022-02-08T16:16:22.660Z"
   },
   {
    "duration": 21,
    "start_time": "2022-02-08T16:17:00.761Z"
   },
   {
    "duration": 6398,
    "start_time": "2022-02-08T16:17:48.190Z"
   },
   {
    "duration": 5,
    "start_time": "2022-02-08T16:18:16.676Z"
   },
   {
    "duration": 6,
    "start_time": "2022-02-08T16:18:49.269Z"
   },
   {
    "duration": 4578,
    "start_time": "2022-02-08T16:19:03.982Z"
   },
   {
    "duration": 6,
    "start_time": "2022-02-08T16:19:23.921Z"
   },
   {
    "duration": 11,
    "start_time": "2022-02-08T16:20:14.679Z"
   },
   {
    "duration": 6,
    "start_time": "2022-02-08T16:20:25.516Z"
   },
   {
    "duration": 6,
    "start_time": "2022-02-08T16:28:10.160Z"
   },
   {
    "duration": 535,
    "start_time": "2022-02-08T16:28:25.698Z"
   },
   {
    "duration": 3477,
    "start_time": "2022-02-08T16:28:56.501Z"
   },
   {
    "duration": 593,
    "start_time": "2022-02-08T16:29:51.499Z"
   },
   {
    "duration": 7,
    "start_time": "2022-02-08T16:38:24.930Z"
   },
   {
    "duration": 494,
    "start_time": "2022-02-08T16:38:33.065Z"
   },
   {
    "duration": 3,
    "start_time": "2022-02-08T17:05:46.281Z"
   },
   {
    "duration": 434,
    "start_time": "2022-02-08T17:05:46.936Z"
   },
   {
    "duration": 40,
    "start_time": "2022-02-08T17:05:47.920Z"
   },
   {
    "duration": 49,
    "start_time": "2022-02-08T17:05:50.352Z"
   },
   {
    "duration": 33,
    "start_time": "2022-02-08T17:05:58.738Z"
   },
   {
    "duration": 21,
    "start_time": "2022-02-08T17:06:00.658Z"
   },
   {
    "duration": 25,
    "start_time": "2022-02-08T17:06:03.042Z"
   },
   {
    "duration": 70,
    "start_time": "2022-02-08T17:06:05.258Z"
   },
   {
    "duration": 52,
    "start_time": "2022-02-08T17:06:06.586Z"
   },
   {
    "duration": 38,
    "start_time": "2022-02-08T17:06:10.467Z"
   },
   {
    "duration": 17,
    "start_time": "2022-02-08T17:06:12.996Z"
   },
   {
    "duration": 43,
    "start_time": "2022-02-08T17:06:18.724Z"
   },
   {
    "duration": 10,
    "start_time": "2022-02-08T17:06:23.308Z"
   },
   {
    "duration": 9,
    "start_time": "2022-02-08T17:06:23.972Z"
   },
   {
    "duration": 9,
    "start_time": "2022-02-08T17:06:24.612Z"
   },
   {
    "duration": 8,
    "start_time": "2022-02-08T17:06:26.377Z"
   },
   {
    "duration": 506,
    "start_time": "2022-02-08T17:06:30.156Z"
   },
   {
    "duration": 6,
    "start_time": "2022-02-08T17:06:44.223Z"
   },
   {
    "duration": 502,
    "start_time": "2022-02-08T17:06:46.872Z"
   },
   {
    "duration": 6,
    "start_time": "2022-02-08T17:07:11.242Z"
   },
   {
    "duration": 6,
    "start_time": "2022-02-08T17:07:13.674Z"
   },
   {
    "duration": 585,
    "start_time": "2022-02-08T17:07:14.386Z"
   },
   {
    "duration": 18,
    "start_time": "2022-02-08T17:08:26.764Z"
   },
   {
    "duration": 6,
    "start_time": "2022-02-08T17:10:03.944Z"
   },
   {
    "duration": 490,
    "start_time": "2022-02-08T17:10:07.863Z"
   },
   {
    "duration": 494,
    "start_time": "2022-02-08T17:15:30.471Z"
   },
   {
    "duration": 8,
    "start_time": "2022-02-08T17:15:35.975Z"
   },
   {
    "duration": 6,
    "start_time": "2022-02-08T17:17:49.153Z"
   },
   {
    "duration": 8,
    "start_time": "2022-02-08T17:17:51.517Z"
   },
   {
    "duration": 526,
    "start_time": "2022-02-08T17:17:54.829Z"
   },
   {
    "duration": 7,
    "start_time": "2022-02-08T17:27:42.881Z"
   },
   {
    "duration": 8,
    "start_time": "2022-02-08T17:27:48.716Z"
   },
   {
    "duration": 616,
    "start_time": "2022-02-08T17:27:53.624Z"
   },
   {
    "duration": 387,
    "start_time": "2022-02-08T19:44:03.449Z"
   },
   {
    "duration": 856,
    "start_time": "2022-02-08T19:44:14.532Z"
   },
   {
    "duration": 512,
    "start_time": "2022-02-08T19:44:15.391Z"
   },
   {
    "duration": 62,
    "start_time": "2022-02-08T19:44:15.906Z"
   },
   {
    "duration": 64,
    "start_time": "2022-02-08T19:44:15.993Z"
   },
   {
    "duration": 42,
    "start_time": "2022-02-08T19:44:16.612Z"
   },
   {
    "duration": 32,
    "start_time": "2022-02-08T19:44:17.231Z"
   },
   {
    "duration": 32,
    "start_time": "2022-02-08T19:44:18.045Z"
   },
   {
    "duration": 109,
    "start_time": "2022-02-08T19:44:19.940Z"
   },
   {
    "duration": 82,
    "start_time": "2022-02-08T19:44:21.031Z"
   },
   {
    "duration": 49,
    "start_time": "2022-02-08T19:44:21.415Z"
   },
   {
    "duration": 23,
    "start_time": "2022-02-08T19:44:22.034Z"
   },
   {
    "duration": 53,
    "start_time": "2022-02-08T19:44:22.704Z"
   },
   {
    "duration": 14,
    "start_time": "2022-02-08T19:44:23.492Z"
   },
   {
    "duration": 11,
    "start_time": "2022-02-08T19:44:25.465Z"
   },
   {
    "duration": 305,
    "start_time": "2022-02-08T19:44:26.348Z"
   },
   {
    "duration": 391,
    "start_time": "2022-02-08T19:44:41.684Z"
   },
   {
    "duration": 283,
    "start_time": "2022-02-08T19:46:21.858Z"
   },
   {
    "duration": 22,
    "start_time": "2022-02-08T19:46:39.229Z"
   },
   {
    "duration": 28,
    "start_time": "2022-02-08T19:46:43.995Z"
   },
   {
    "duration": 17,
    "start_time": "2022-02-08T19:47:08.862Z"
   },
   {
    "duration": 31,
    "start_time": "2022-02-08T19:47:09.422Z"
   },
   {
    "duration": 288,
    "start_time": "2022-02-08T19:47:42.494Z"
   },
   {
    "duration": 767,
    "start_time": "2022-02-08T19:47:48.203Z"
   },
   {
    "duration": 511,
    "start_time": "2022-02-08T19:47:48.972Z"
   },
   {
    "duration": 64,
    "start_time": "2022-02-08T19:47:49.485Z"
   },
   {
    "duration": 61,
    "start_time": "2022-02-08T19:47:50.136Z"
   },
   {
    "duration": 51,
    "start_time": "2022-02-08T19:47:51.027Z"
   },
   {
    "duration": 29,
    "start_time": "2022-02-08T19:47:51.924Z"
   },
   {
    "duration": 32,
    "start_time": "2022-02-08T19:47:52.914Z"
   },
   {
    "duration": 102,
    "start_time": "2022-02-08T19:47:54.313Z"
   },
   {
    "duration": 76,
    "start_time": "2022-02-08T19:47:55.141Z"
   },
   {
    "duration": 49,
    "start_time": "2022-02-08T19:47:55.657Z"
   },
   {
    "duration": 23,
    "start_time": "2022-02-08T19:47:56.116Z"
   },
   {
    "duration": 54,
    "start_time": "2022-02-08T19:47:56.559Z"
   },
   {
    "duration": 10,
    "start_time": "2022-02-08T19:47:57.775Z"
   },
   {
    "duration": 10,
    "start_time": "2022-02-08T19:47:59.144Z"
   },
   {
    "duration": 12,
    "start_time": "2022-02-08T19:48:00.074Z"
   },
   {
    "duration": 26,
    "start_time": "2022-02-08T19:48:00.835Z"
   },
   {
    "duration": 17,
    "start_time": "2022-02-08T19:48:51.870Z"
   },
   {
    "duration": 57,
    "start_time": "2022-02-08T19:48:52.472Z"
   },
   {
    "duration": 434,
    "start_time": "2022-02-08T19:49:26.247Z"
   },
   {
    "duration": 822,
    "start_time": "2022-02-08T19:49:36.105Z"
   },
   {
    "duration": 507,
    "start_time": "2022-02-08T19:49:36.932Z"
   },
   {
    "duration": 60,
    "start_time": "2022-02-08T19:49:37.443Z"
   },
   {
    "duration": 73,
    "start_time": "2022-02-08T19:49:37.506Z"
   },
   {
    "duration": 63,
    "start_time": "2022-02-08T19:49:37.582Z"
   },
   {
    "duration": 40,
    "start_time": "2022-02-08T19:49:37.648Z"
   },
   {
    "duration": 69,
    "start_time": "2022-02-08T19:49:37.691Z"
   },
   {
    "duration": 167,
    "start_time": "2022-02-08T19:49:37.763Z"
   },
   {
    "duration": 103,
    "start_time": "2022-02-08T19:49:37.935Z"
   },
   {
    "duration": 64,
    "start_time": "2022-02-08T19:49:38.042Z"
   },
   {
    "duration": 50,
    "start_time": "2022-02-08T19:49:38.110Z"
   },
   {
    "duration": 92,
    "start_time": "2022-02-08T19:49:38.163Z"
   },
   {
    "duration": 9,
    "start_time": "2022-02-08T19:49:38.258Z"
   },
   {
    "duration": 10,
    "start_time": "2022-02-08T19:49:38.270Z"
   },
   {
    "duration": 12,
    "start_time": "2022-02-08T19:49:38.282Z"
   },
   {
    "duration": 57,
    "start_time": "2022-02-08T19:49:38.297Z"
   },
   {
    "duration": 9,
    "start_time": "2022-02-08T19:49:38.356Z"
   },
   {
    "duration": 634,
    "start_time": "2022-02-08T19:49:38.367Z"
   },
   {
    "duration": 35,
    "start_time": "2022-02-08T19:50:43.167Z"
   },
   {
    "duration": 39,
    "start_time": "2022-02-08T19:51:08.006Z"
   },
   {
    "duration": 576,
    "start_time": "2022-02-09T09:09:19.536Z"
   },
   {
    "duration": 344,
    "start_time": "2022-02-09T09:09:20.114Z"
   },
   {
    "duration": 35,
    "start_time": "2022-02-09T09:09:21.494Z"
   },
   {
    "duration": 41,
    "start_time": "2022-02-09T09:09:28.723Z"
   },
   {
    "duration": 25,
    "start_time": "2022-02-09T09:09:33.683Z"
   },
   {
    "duration": 16,
    "start_time": "2022-02-09T09:09:36.363Z"
   },
   {
    "duration": 20,
    "start_time": "2022-02-09T09:10:05.357Z"
   },
   {
    "duration": 61,
    "start_time": "2022-02-09T09:10:09.747Z"
   },
   {
    "duration": 46,
    "start_time": "2022-02-09T09:10:10.629Z"
   },
   {
    "duration": 29,
    "start_time": "2022-02-09T09:10:11.049Z"
   },
   {
    "duration": 14,
    "start_time": "2022-02-09T09:10:11.528Z"
   },
   {
    "duration": 33,
    "start_time": "2022-02-09T09:10:11.995Z"
   },
   {
    "duration": 8,
    "start_time": "2022-02-09T09:10:12.434Z"
   },
   {
    "duration": 8,
    "start_time": "2022-02-09T09:10:12.985Z"
   },
   {
    "duration": 9,
    "start_time": "2022-02-09T09:10:15.215Z"
   },
   {
    "duration": 18,
    "start_time": "2022-02-09T09:10:17.548Z"
   },
   {
    "duration": 5,
    "start_time": "2022-02-09T09:10:21.331Z"
   },
   {
    "duration": 800,
    "start_time": "2022-02-09T09:10:22.457Z"
   },
   {
    "duration": 360,
    "start_time": "2022-02-09T09:12:36.351Z"
   },
   {
    "duration": 23,
    "start_time": "2022-02-09T09:14:35.110Z"
   },
   {
    "duration": 8,
    "start_time": "2022-02-09T09:14:50.653Z"
   },
   {
    "duration": 27,
    "start_time": "2022-02-09T09:15:05.051Z"
   },
   {
    "duration": 5,
    "start_time": "2022-02-09T09:19:01.998Z"
   },
   {
    "duration": 165,
    "start_time": "2022-02-09T09:19:04.416Z"
   },
   {
    "duration": 175,
    "start_time": "2022-02-09T09:19:19.367Z"
   },
   {
    "duration": 5,
    "start_time": "2022-02-09T09:20:09.565Z"
   },
   {
    "duration": 184,
    "start_time": "2022-02-09T09:20:10.801Z"
   },
   {
    "duration": 4,
    "start_time": "2022-02-09T09:20:46.366Z"
   },
   {
    "duration": 179,
    "start_time": "2022-02-09T09:20:47.448Z"
   },
   {
    "duration": 569,
    "start_time": "2022-02-09T09:27:16.207Z"
   },
   {
    "duration": 2,
    "start_time": "2022-02-09T09:27:42.322Z"
   },
   {
    "duration": 161,
    "start_time": "2022-02-09T09:27:56.012Z"
   },
   {
    "duration": 221,
    "start_time": "2022-02-09T09:28:14.140Z"
   },
   {
    "duration": 231,
    "start_time": "2022-02-09T09:28:29.972Z"
   },
   {
    "duration": 176,
    "start_time": "2022-02-09T09:28:36.311Z"
   },
   {
    "duration": 495,
    "start_time": "2022-02-09T09:29:26.578Z"
   },
   {
    "duration": 498,
    "start_time": "2022-02-09T09:29:37.150Z"
   },
   {
    "duration": 509,
    "start_time": "2022-02-09T09:30:25.452Z"
   },
   {
    "duration": 179,
    "start_time": "2022-02-09T09:31:23.593Z"
   },
   {
    "duration": 206,
    "start_time": "2022-02-09T09:32:52.690Z"
   },
   {
    "duration": 571,
    "start_time": "2022-02-09T09:33:21.983Z"
   },
   {
    "duration": 205,
    "start_time": "2022-02-09T09:35:29.283Z"
   },
   {
    "duration": 207,
    "start_time": "2022-02-09T09:35:53.728Z"
   },
   {
    "duration": 553,
    "start_time": "2022-02-09T09:36:37.593Z"
   },
   {
    "duration": 275,
    "start_time": "2022-02-09T09:37:07.322Z"
   },
   {
    "duration": 203,
    "start_time": "2022-02-09T09:37:24.818Z"
   },
   {
    "duration": 211,
    "start_time": "2022-02-09T09:38:16.708Z"
   },
   {
    "duration": 1168,
    "start_time": "2022-02-09T11:01:24.976Z"
   },
   {
    "duration": 566,
    "start_time": "2022-02-09T11:01:26.147Z"
   },
   {
    "duration": 55,
    "start_time": "2022-02-09T11:01:26.716Z"
   },
   {
    "duration": 80,
    "start_time": "2022-02-09T11:01:26.773Z"
   },
   {
    "duration": 48,
    "start_time": "2022-02-09T11:01:27.175Z"
   },
   {
    "duration": 33,
    "start_time": "2022-02-09T11:01:27.607Z"
   },
   {
    "duration": 35,
    "start_time": "2022-02-09T11:01:28.059Z"
   },
   {
    "duration": 99,
    "start_time": "2022-02-09T11:01:28.995Z"
   },
   {
    "duration": 73,
    "start_time": "2022-02-09T11:01:29.311Z"
   },
   {
    "duration": 46,
    "start_time": "2022-02-09T11:01:29.463Z"
   },
   {
    "duration": 24,
    "start_time": "2022-02-09T11:01:29.590Z"
   },
   {
    "duration": 54,
    "start_time": "2022-02-09T11:01:29.727Z"
   },
   {
    "duration": 10,
    "start_time": "2022-02-09T11:01:29.870Z"
   },
   {
    "duration": 10,
    "start_time": "2022-02-09T11:01:30.040Z"
   },
   {
    "duration": 12,
    "start_time": "2022-02-09T11:01:30.319Z"
   },
   {
    "duration": 33,
    "start_time": "2022-02-09T11:01:30.543Z"
   },
   {
    "duration": 51,
    "start_time": "2022-02-09T11:01:30.736Z"
   },
   {
    "duration": 10,
    "start_time": "2022-02-09T11:01:31.392Z"
   },
   {
    "duration": 10525,
    "start_time": "2022-02-09T11:01:31.776Z"
   },
   {
    "duration": -1341,
    "start_time": "2022-02-09T11:01:43.645Z"
   },
   {
    "duration": 49,
    "start_time": "2022-02-09T11:02:54.453Z"
   },
   {
    "duration": 8,
    "start_time": "2022-02-09T11:03:01.779Z"
   },
   {
    "duration": 352,
    "start_time": "2022-02-09T11:03:02.650Z"
   },
   {
    "duration": 412,
    "start_time": "2022-02-09T11:03:10.450Z"
   },
   {
    "duration": 408,
    "start_time": "2022-02-09T11:03:34.487Z"
   },
   {
    "duration": 4,
    "start_time": "2022-02-09T11:09:59.019Z"
   },
   {
    "duration": 11,
    "start_time": "2022-02-09T11:12:37.529Z"
   },
   {
    "duration": 167,
    "start_time": "2022-02-09T11:13:50.831Z"
   },
   {
    "duration": 485,
    "start_time": "2022-02-09T11:14:00.730Z"
   },
   {
    "duration": 13,
    "start_time": "2022-02-09T11:16:14.083Z"
   },
   {
    "duration": 17,
    "start_time": "2022-02-09T11:18:09.434Z"
   },
   {
    "duration": 19,
    "start_time": "2022-02-09T11:19:17.353Z"
   },
   {
    "duration": 18,
    "start_time": "2022-02-09T11:22:59.866Z"
   },
   {
    "duration": 887,
    "start_time": "2022-02-09T11:23:50.136Z"
   },
   {
    "duration": 702,
    "start_time": "2022-02-09T11:23:58.772Z"
   },
   {
    "duration": 598,
    "start_time": "2022-02-09T11:25:07.044Z"
   },
   {
    "duration": 11,
    "start_time": "2022-02-09T11:29:12.353Z"
   },
   {
    "duration": 690,
    "start_time": "2022-02-09T11:33:19.397Z"
   },
   {
    "duration": 377,
    "start_time": "2022-02-09T16:57:49.316Z"
   },
   {
    "duration": 596,
    "start_time": "2022-02-09T16:57:59.424Z"
   },
   {
    "duration": 405,
    "start_time": "2022-02-09T16:58:00.022Z"
   },
   {
    "duration": 34,
    "start_time": "2022-02-09T16:58:00.428Z"
   },
   {
    "duration": 45,
    "start_time": "2022-02-09T16:58:00.464Z"
   },
   {
    "duration": 26,
    "start_time": "2022-02-09T16:58:00.952Z"
   },
   {
    "duration": 17,
    "start_time": "2022-02-09T16:58:01.616Z"
   },
   {
    "duration": 25,
    "start_time": "2022-02-09T16:58:02.144Z"
   },
   {
    "duration": 66,
    "start_time": "2022-02-09T16:58:03.220Z"
   },
   {
    "duration": 52,
    "start_time": "2022-02-09T16:58:04.805Z"
   },
   {
    "duration": 33,
    "start_time": "2022-02-09T16:58:04.859Z"
   },
   {
    "duration": 20,
    "start_time": "2022-02-09T16:58:04.894Z"
   },
   {
    "duration": 62,
    "start_time": "2022-02-09T16:58:04.916Z"
   },
   {
    "duration": 8,
    "start_time": "2022-02-09T16:58:04.980Z"
   },
   {
    "duration": 8,
    "start_time": "2022-02-09T16:58:05.041Z"
   },
   {
    "duration": 7,
    "start_time": "2022-02-09T16:58:05.310Z"
   },
   {
    "duration": 18,
    "start_time": "2022-02-09T16:58:05.592Z"
   },
   {
    "duration": 19,
    "start_time": "2022-02-09T16:58:05.922Z"
   },
   {
    "duration": 4,
    "start_time": "2022-02-09T16:58:06.489Z"
   },
   {
    "duration": 10198,
    "start_time": "2022-02-09T16:58:06.849Z"
   },
   {
    "duration": -183,
    "start_time": "2022-02-09T16:58:17.232Z"
   },
   {
    "duration": -185,
    "start_time": "2022-02-09T16:58:17.235Z"
   },
   {
    "duration": -187,
    "start_time": "2022-02-09T16:58:17.238Z"
   },
   {
    "duration": -187,
    "start_time": "2022-02-09T16:58:17.239Z"
   },
   {
    "duration": -187,
    "start_time": "2022-02-09T16:58:17.240Z"
   },
   {
    "duration": 31,
    "start_time": "2022-02-09T16:58:31.196Z"
   },
   {
    "duration": 5,
    "start_time": "2022-02-09T16:58:33.116Z"
   },
   {
    "duration": 190,
    "start_time": "2022-02-09T16:58:38.045Z"
   },
   {
    "duration": 10,
    "start_time": "2022-02-09T16:58:40.565Z"
   },
   {
    "duration": 223,
    "start_time": "2022-02-09T16:58:42.341Z"
   },
   {
    "duration": 221,
    "start_time": "2022-02-09T16:58:44.478Z"
   },
   {
    "duration": 225,
    "start_time": "2022-02-09T16:58:46.823Z"
   },
   {
    "duration": 346,
    "start_time": "2022-02-09T16:58:49.302Z"
   },
   {
    "duration": 308,
    "start_time": "2022-02-09T16:59:32.636Z"
   },
   {
    "duration": 317,
    "start_time": "2022-02-09T16:59:39.580Z"
   },
   {
    "duration": 6,
    "start_time": "2022-02-09T17:00:14.321Z"
   },
   {
    "duration": 7,
    "start_time": "2022-02-09T17:01:09.729Z"
   },
   {
    "duration": 381,
    "start_time": "2022-02-09T17:06:29.620Z"
   },
   {
    "duration": 9,
    "start_time": "2022-02-09T17:08:32.158Z"
   },
   {
    "duration": 351,
    "start_time": "2022-02-09T17:10:26.763Z"
   },
   {
    "duration": 10,
    "start_time": "2022-02-09T17:10:39.036Z"
   },
   {
    "duration": 34,
    "start_time": "2022-02-09T17:14:44.529Z"
   },
   {
    "duration": 8,
    "start_time": "2022-02-09T17:18:53.542Z"
   },
   {
    "duration": 9,
    "start_time": "2022-02-09T17:20:22.681Z"
   },
   {
    "duration": 28,
    "start_time": "2022-02-09T17:37:29.479Z"
   },
   {
    "duration": 171,
    "start_time": "2022-02-09T17:44:43.409Z"
   },
   {
    "duration": 103,
    "start_time": "2022-02-09T17:45:46.723Z"
   },
   {
    "duration": 26,
    "start_time": "2022-02-09T17:51:40.684Z"
   },
   {
    "duration": 42,
    "start_time": "2022-02-09T17:51:57.736Z"
   },
   {
    "duration": 22,
    "start_time": "2022-02-09T17:52:17.242Z"
   },
   {
    "duration": 20,
    "start_time": "2022-02-09T17:53:55.847Z"
   },
   {
    "duration": 109,
    "start_time": "2022-02-14T21:15:19.067Z"
   },
   {
    "duration": 967,
    "start_time": "2022-02-14T21:21:35.768Z"
   },
   {
    "duration": 339,
    "start_time": "2022-02-14T21:21:36.736Z"
   },
   {
    "duration": 34,
    "start_time": "2022-02-14T21:21:37.077Z"
   },
   {
    "duration": 39,
    "start_time": "2022-02-14T21:21:37.113Z"
   },
   {
    "duration": 22,
    "start_time": "2022-02-14T21:21:37.154Z"
   },
   {
    "duration": 38,
    "start_time": "2022-02-14T21:21:37.178Z"
   },
   {
    "duration": 18,
    "start_time": "2022-02-14T21:21:37.217Z"
   },
   {
    "duration": 82,
    "start_time": "2022-02-14T21:21:37.237Z"
   },
   {
    "duration": 47,
    "start_time": "2022-02-14T21:21:37.322Z"
   },
   {
    "duration": 40,
    "start_time": "2022-02-14T21:21:37.372Z"
   },
   {
    "duration": 14,
    "start_time": "2022-02-14T21:21:37.414Z"
   },
   {
    "duration": 43,
    "start_time": "2022-02-14T21:21:37.430Z"
   },
   {
    "duration": 7,
    "start_time": "2022-02-14T21:21:37.475Z"
   },
   {
    "duration": 33,
    "start_time": "2022-02-14T21:21:37.484Z"
   },
   {
    "duration": 27,
    "start_time": "2022-02-14T21:21:37.519Z"
   },
   {
    "duration": 13,
    "start_time": "2022-02-14T21:21:37.547Z"
   },
   {
    "duration": 8,
    "start_time": "2022-02-14T21:21:37.561Z"
   },
   {
    "duration": 8724,
    "start_time": "2022-02-14T21:21:37.570Z"
   },
   {
    "duration": -2747,
    "start_time": "2022-02-14T21:21:49.043Z"
   },
   {
    "duration": -2747,
    "start_time": "2022-02-14T21:21:49.044Z"
   },
   {
    "duration": -2748,
    "start_time": "2022-02-14T21:21:49.046Z"
   },
   {
    "duration": -2748,
    "start_time": "2022-02-14T21:21:49.047Z"
   },
   {
    "duration": -2750,
    "start_time": "2022-02-14T21:21:49.049Z"
   },
   {
    "duration": -2750,
    "start_time": "2022-02-14T21:21:49.050Z"
   },
   {
    "duration": 1093,
    "start_time": "2022-02-15T10:13:05.161Z"
   },
   {
    "duration": 419,
    "start_time": "2022-02-15T10:13:06.255Z"
   },
   {
    "duration": 34,
    "start_time": "2022-02-15T10:13:07.571Z"
   },
   {
    "duration": 35,
    "start_time": "2022-02-15T10:13:20.500Z"
   },
   {
    "duration": 383,
    "start_time": "2022-02-15T10:14:35.213Z"
   },
   {
    "duration": 37,
    "start_time": "2022-02-15T10:14:38.329Z"
   },
   {
    "duration": 34,
    "start_time": "2022-02-15T10:14:40.901Z"
   },
   {
    "duration": 25,
    "start_time": "2022-02-15T10:19:32.362Z"
   },
   {
    "duration": 21,
    "start_time": "2022-02-15T10:19:35.273Z"
   },
   {
    "duration": 27,
    "start_time": "2022-02-15T10:19:46.308Z"
   },
   {
    "duration": 1496,
    "start_time": "2022-02-15T10:28:47.820Z"
   },
   {
    "duration": 1026,
    "start_time": "2022-02-15T10:29:05.478Z"
   },
   {
    "duration": 375,
    "start_time": "2022-02-15T10:29:06.861Z"
   },
   {
    "duration": 40,
    "start_time": "2022-02-15T10:29:07.912Z"
   },
   {
    "duration": 39,
    "start_time": "2022-02-15T10:29:10.998Z"
   },
   {
    "duration": 27,
    "start_time": "2022-02-15T10:29:13.743Z"
   },
   {
    "duration": 19,
    "start_time": "2022-02-15T10:29:17.478Z"
   },
   {
    "duration": 19,
    "start_time": "2022-02-15T10:29:24.434Z"
   },
   {
    "duration": 65,
    "start_time": "2022-02-15T10:29:30.992Z"
   },
   {
    "duration": 47,
    "start_time": "2022-02-15T10:29:33.710Z"
   },
   {
    "duration": 39,
    "start_time": "2022-02-15T10:32:27.822Z"
   },
   {
    "duration": 6741,
    "start_time": "2022-02-15T10:34:44.413Z"
   },
   {
    "duration": 35,
    "start_time": "2022-02-15T10:35:11.323Z"
   },
   {
    "duration": 36133,
    "start_time": "2022-02-15T10:35:34.132Z"
   },
   {
    "duration": 27,
    "start_time": "2022-02-15T10:36:34.770Z"
   },
   {
    "duration": 6514,
    "start_time": "2022-02-15T10:37:07.199Z"
   },
   {
    "duration": 11,
    "start_time": "2022-02-15T10:38:02.952Z"
   },
   {
    "duration": 2,
    "start_time": "2022-02-15T10:38:17.242Z"
   },
   {
    "duration": 5,
    "start_time": "2022-02-15T10:39:38.370Z"
   },
   {
    "duration": 321,
    "start_time": "2022-02-15T10:44:31.502Z"
   },
   {
    "duration": 32,
    "start_time": "2022-02-15T10:44:39.993Z"
   },
   {
    "duration": 8,
    "start_time": "2022-02-15T10:44:48.628Z"
   },
   {
    "duration": 7,
    "start_time": "2022-02-15T10:44:50.319Z"
   },
   {
    "duration": 7,
    "start_time": "2022-02-15T10:44:55.520Z"
   },
   {
    "duration": 8,
    "start_time": "2022-02-15T10:49:59.826Z"
   },
   {
    "duration": 14,
    "start_time": "2022-02-15T10:51:21.860Z"
   },
   {
    "duration": 10,
    "start_time": "2022-02-15T10:51:35.158Z"
   },
   {
    "duration": 7,
    "start_time": "2022-02-15T10:51:43.857Z"
   },
   {
    "duration": 22,
    "start_time": "2022-02-15T10:56:13.556Z"
   },
   {
    "duration": 6,
    "start_time": "2022-02-15T11:04:29.169Z"
   },
   {
    "duration": 11878,
    "start_time": "2022-02-15T11:07:47.161Z"
   },
   {
    "duration": 7,
    "start_time": "2022-02-15T11:08:11.404Z"
   },
   {
    "duration": 949,
    "start_time": "2022-02-15T11:08:14.734Z"
   },
   {
    "duration": 6,
    "start_time": "2022-02-15T11:09:07.986Z"
   },
   {
    "duration": 630,
    "start_time": "2022-02-15T11:09:10.524Z"
   },
   {
    "duration": 5,
    "start_time": "2022-02-15T11:09:36.488Z"
   },
   {
    "duration": 213,
    "start_time": "2022-02-15T11:09:39.344Z"
   },
   {
    "duration": 4,
    "start_time": "2022-02-15T11:10:09.428Z"
   },
   {
    "duration": 10,
    "start_time": "2022-02-15T11:11:05.232Z"
   },
   {
    "duration": 12,
    "start_time": "2022-02-15T11:12:25.740Z"
   },
   {
    "duration": 11,
    "start_time": "2022-02-15T11:12:37.550Z"
   },
   {
    "duration": 331,
    "start_time": "2022-02-15T11:14:42.598Z"
   },
   {
    "duration": 18,
    "start_time": "2022-02-15T11:15:42.213Z"
   },
   {
    "duration": 10,
    "start_time": "2022-02-15T11:16:23.067Z"
   },
   {
    "duration": 401,
    "start_time": "2022-02-15T11:19:12.879Z"
   },
   {
    "duration": 15,
    "start_time": "2022-02-15T11:19:26.177Z"
   },
   {
    "duration": 1858,
    "start_time": "2022-02-15T11:20:08.509Z"
   },
   {
    "duration": 2097,
    "start_time": "2022-02-15T11:20:19.214Z"
   },
   {
    "duration": 114,
    "start_time": "2022-02-15T11:22:53.361Z"
   },
   {
    "duration": 533,
    "start_time": "2022-02-15T11:23:02.737Z"
   },
   {
    "duration": 332,
    "start_time": "2022-02-15T11:23:05.658Z"
   },
   {
    "duration": 14,
    "start_time": "2022-02-15T11:23:13.188Z"
   },
   {
    "duration": 353,
    "start_time": "2022-02-15T11:24:03.543Z"
   },
   {
    "duration": 476,
    "start_time": "2022-02-15T11:24:14.368Z"
   },
   {
    "duration": 18,
    "start_time": "2022-02-15T11:27:57.870Z"
   },
   {
    "duration": 465,
    "start_time": "2022-02-15T11:28:53.991Z"
   },
   {
    "duration": 103,
    "start_time": "2022-02-15T11:29:38.642Z"
   },
   {
    "duration": 317,
    "start_time": "2022-02-15T11:29:42.170Z"
   },
   {
    "duration": 18,
    "start_time": "2022-02-15T11:30:15.865Z"
   },
   {
    "duration": 97,
    "start_time": "2022-02-15T11:30:44.944Z"
   },
   {
    "duration": 18,
    "start_time": "2022-02-15T11:31:10.277Z"
   },
   {
    "duration": 22,
    "start_time": "2022-02-15T11:32:36.432Z"
   },
   {
    "duration": 20,
    "start_time": "2022-02-15T11:32:59.682Z"
   },
   {
    "duration": 18,
    "start_time": "2022-02-15T11:33:21.469Z"
   },
   {
    "duration": 1639,
    "start_time": "2022-02-15T11:36:11.553Z"
   },
   {
    "duration": 232,
    "start_time": "2022-02-15T11:36:40.901Z"
   },
   {
    "duration": 1125,
    "start_time": "2022-02-15T16:17:48.886Z"
   },
   {
    "duration": 453,
    "start_time": "2022-02-15T16:17:50.013Z"
   },
   {
    "duration": 51,
    "start_time": "2022-02-15T16:17:50.573Z"
   },
   {
    "duration": 44,
    "start_time": "2022-02-15T16:17:53.798Z"
   },
   {
    "duration": 54,
    "start_time": "2022-02-15T16:18:12.513Z"
   },
   {
    "duration": 42,
    "start_time": "2022-02-15T16:18:44.188Z"
   },
   {
    "duration": 30,
    "start_time": "2022-02-15T16:19:03.207Z"
   },
   {
    "duration": 32,
    "start_time": "2022-02-15T16:19:24.841Z"
   },
   {
    "duration": 81,
    "start_time": "2022-02-15T16:19:30.905Z"
   },
   {
    "duration": 57,
    "start_time": "2022-02-15T16:19:36.547Z"
   },
   {
    "duration": 308,
    "start_time": "2022-02-15T16:21:16.172Z"
   },
   {
    "duration": 1033,
    "start_time": "2022-02-15T16:21:37.727Z"
   },
   {
    "duration": 437,
    "start_time": "2022-02-15T16:21:38.762Z"
   },
   {
    "duration": 48,
    "start_time": "2022-02-15T16:21:39.582Z"
   },
   {
    "duration": 54,
    "start_time": "2022-02-15T16:21:43.176Z"
   },
   {
    "duration": 35,
    "start_time": "2022-02-15T16:21:46.968Z"
   },
   {
    "duration": 29,
    "start_time": "2022-02-15T16:21:55.632Z"
   },
   {
    "duration": 30,
    "start_time": "2022-02-15T16:21:59.048Z"
   },
   {
    "duration": 70,
    "start_time": "2022-02-15T16:22:22.581Z"
   },
   {
    "duration": 78,
    "start_time": "2022-02-15T16:22:34.949Z"
   },
   {
    "duration": 101,
    "start_time": "2022-02-15T16:23:35.533Z"
   },
   {
    "duration": 114,
    "start_time": "2022-02-15T16:24:19.995Z"
   },
   {
    "duration": 49,
    "start_time": "2022-02-15T16:24:25.995Z"
   },
   {
    "duration": 47,
    "start_time": "2022-02-15T16:24:42.742Z"
   },
   {
    "duration": 36,
    "start_time": "2022-02-15T16:27:23.001Z"
   },
   {
    "duration": 303,
    "start_time": "2022-02-15T16:28:33.337Z"
   },
   {
    "duration": 41,
    "start_time": "2022-02-15T16:29:06.046Z"
   },
   {
    "duration": 37,
    "start_time": "2022-02-15T16:29:32.912Z"
   },
   {
    "duration": 346,
    "start_time": "2022-02-15T16:30:04.199Z"
   },
   {
    "duration": 42,
    "start_time": "2022-02-15T16:31:21.014Z"
   },
   {
    "duration": 5,
    "start_time": "2022-02-15T16:31:43.661Z"
   },
   {
    "duration": 6,
    "start_time": "2022-02-15T16:31:45.976Z"
   },
   {
    "duration": 6,
    "start_time": "2022-02-15T16:31:58.533Z"
   },
   {
    "duration": 5,
    "start_time": "2022-02-15T16:32:12.667Z"
   },
   {
    "duration": 11,
    "start_time": "2022-02-15T16:32:23.517Z"
   },
   {
    "duration": 9,
    "start_time": "2022-02-15T16:32:24.053Z"
   },
   {
    "duration": 12,
    "start_time": "2022-02-15T16:32:24.677Z"
   },
   {
    "duration": 11,
    "start_time": "2022-02-15T16:32:27.589Z"
   },
   {
    "duration": 9,
    "start_time": "2022-02-15T16:32:29.653Z"
   },
   {
    "duration": 29,
    "start_time": "2022-02-15T16:32:54.649Z"
   },
   {
    "duration": 11,
    "start_time": "2022-02-15T16:37:28.114Z"
   },
   {
    "duration": 21,
    "start_time": "2022-02-15T16:37:29.251Z"
   },
   {
    "duration": 6,
    "start_time": "2022-02-15T16:39:47.443Z"
   },
   {
    "duration": 229,
    "start_time": "2022-02-15T16:39:56.764Z"
   },
   {
    "duration": 24,
    "start_time": "2022-02-15T16:41:09.293Z"
   },
   {
    "duration": 24,
    "start_time": "2022-02-15T16:42:03.092Z"
   },
   {
    "duration": 23,
    "start_time": "2022-02-15T16:42:29.480Z"
   },
   {
    "duration": 317,
    "start_time": "2022-02-15T16:43:28.262Z"
   },
   {
    "duration": 574,
    "start_time": "2022-02-15T16:44:13.803Z"
   },
   {
    "duration": 579,
    "start_time": "2022-02-15T16:44:20.732Z"
   },
   {
    "duration": 446,
    "start_time": "2022-02-15T16:44:50.912Z"
   },
   {
    "duration": 373,
    "start_time": "2022-02-15T16:45:04.148Z"
   },
   {
    "duration": 398,
    "start_time": "2022-02-15T16:45:28.564Z"
   },
   {
    "duration": 485,
    "start_time": "2022-02-15T16:45:48.006Z"
   },
   {
    "duration": 396,
    "start_time": "2022-02-15T16:46:06.532Z"
   },
   {
    "duration": 409,
    "start_time": "2022-02-15T16:46:54.895Z"
   },
   {
    "duration": 374,
    "start_time": "2022-02-15T16:47:46.797Z"
   },
   {
    "duration": 327,
    "start_time": "2022-02-15T16:49:54.527Z"
   },
   {
    "duration": 335,
    "start_time": "2022-02-15T16:50:11.359Z"
   },
   {
    "duration": 419,
    "start_time": "2022-02-15T16:50:24.455Z"
   },
   {
    "duration": 21,
    "start_time": "2022-02-15T16:51:18.511Z"
   },
   {
    "duration": 21,
    "start_time": "2022-02-15T16:52:22.990Z"
   },
   {
    "duration": 27,
    "start_time": "2022-02-15T16:52:42.113Z"
   },
   {
    "duration": 360,
    "start_time": "2022-02-15T16:55:00.834Z"
   },
   {
    "duration": 356,
    "start_time": "2022-02-15T16:55:19.860Z"
   },
   {
    "duration": 407,
    "start_time": "2022-02-15T16:56:05.554Z"
   },
   {
    "duration": 348,
    "start_time": "2022-02-15T16:56:22.027Z"
   },
   {
    "duration": 421,
    "start_time": "2022-02-15T16:56:32.606Z"
   },
   {
    "duration": 360,
    "start_time": "2022-02-15T16:56:36.971Z"
   },
   {
    "duration": 277,
    "start_time": "2022-02-15T16:58:03.359Z"
   },
   {
    "duration": 290,
    "start_time": "2022-02-15T16:58:11.663Z"
   },
   {
    "duration": 297,
    "start_time": "2022-02-15T16:58:17.064Z"
   },
   {
    "duration": 292,
    "start_time": "2022-02-15T16:59:12.280Z"
   },
   {
    "duration": 311,
    "start_time": "2022-02-15T16:59:33.363Z"
   },
   {
    "duration": 287,
    "start_time": "2022-02-15T17:07:24.924Z"
   },
   {
    "duration": 344,
    "start_time": "2022-02-15T17:07:44.046Z"
   },
   {
    "duration": 288,
    "start_time": "2022-02-15T17:08:55.812Z"
   },
   {
    "duration": 331,
    "start_time": "2022-02-15T17:09:05.759Z"
   },
   {
    "duration": 272,
    "start_time": "2022-02-15T17:09:25.505Z"
   },
   {
    "duration": 27,
    "start_time": "2022-02-15T17:10:25.801Z"
   },
   {
    "duration": 9,
    "start_time": "2022-02-15T17:10:41.475Z"
   },
   {
    "duration": 10,
    "start_time": "2022-02-15T17:11:05.446Z"
   },
   {
    "duration": 10,
    "start_time": "2022-02-15T17:13:40.816Z"
   },
   {
    "duration": 7,
    "start_time": "2022-02-15T17:16:39.046Z"
   },
   {
    "duration": 11,
    "start_time": "2022-02-15T17:18:19.154Z"
   },
   {
    "duration": 11,
    "start_time": "2022-02-15T17:24:54.930Z"
   },
   {
    "duration": 10,
    "start_time": "2022-02-15T17:25:04.610Z"
   },
   {
    "duration": 1769,
    "start_time": "2022-02-16T14:01:36.116Z"
   },
   {
    "duration": 2628,
    "start_time": "2022-02-16T14:01:37.887Z"
   },
   {
    "duration": 47,
    "start_time": "2022-02-16T14:01:40.518Z"
   },
   {
    "duration": 50,
    "start_time": "2022-02-16T14:01:45.404Z"
   },
   {
    "duration": 40,
    "start_time": "2022-02-16T14:01:56.884Z"
   },
   {
    "duration": 34,
    "start_time": "2022-02-16T14:02:01.891Z"
   },
   {
    "duration": 28,
    "start_time": "2022-02-16T14:02:18.191Z"
   },
   {
    "duration": 77,
    "start_time": "2022-02-16T14:02:22.931Z"
   },
   {
    "duration": 61,
    "start_time": "2022-02-16T14:02:39.886Z"
   },
   {
    "duration": 37,
    "start_time": "2022-02-16T14:02:47.716Z"
   },
   {
    "duration": 42,
    "start_time": "2022-02-16T14:02:53.192Z"
   },
   {
    "duration": 7,
    "start_time": "2022-02-16T14:03:23.289Z"
   },
   {
    "duration": 6,
    "start_time": "2022-02-16T14:03:29.914Z"
   },
   {
    "duration": 10,
    "start_time": "2022-02-16T14:03:47.355Z"
   },
   {
    "duration": 10,
    "start_time": "2022-02-16T14:03:59.609Z"
   },
   {
    "duration": 10,
    "start_time": "2022-02-16T14:04:12.544Z"
   },
   {
    "duration": 8,
    "start_time": "2022-02-16T14:04:14.437Z"
   },
   {
    "duration": 7,
    "start_time": "2022-02-16T14:04:14.821Z"
   },
   {
    "duration": 8,
    "start_time": "2022-02-16T14:04:23.344Z"
   },
   {
    "duration": 28,
    "start_time": "2022-02-16T14:04:28.748Z"
   },
   {
    "duration": 6,
    "start_time": "2022-02-16T14:05:30.146Z"
   },
   {
    "duration": 22,
    "start_time": "2022-02-16T14:05:48.587Z"
   },
   {
    "duration": 6,
    "start_time": "2022-02-16T14:06:05.794Z"
   },
   {
    "duration": 256,
    "start_time": "2022-02-16T14:06:10.366Z"
   },
   {
    "duration": 25,
    "start_time": "2022-02-16T14:06:15.153Z"
   },
   {
    "duration": 388,
    "start_time": "2022-02-16T14:06:20.167Z"
   },
   {
    "duration": 392,
    "start_time": "2022-02-16T14:06:29.278Z"
   },
   {
    "duration": 429,
    "start_time": "2022-02-16T14:06:38.376Z"
   },
   {
    "duration": 13,
    "start_time": "2022-02-16T14:06:48.672Z"
   },
   {
    "duration": 11,
    "start_time": "2022-02-16T14:06:52.348Z"
   },
   {
    "duration": 81,
    "start_time": "2022-02-17T11:22:46.130Z"
   },
   {
    "duration": 1358,
    "start_time": "2022-02-17T11:54:21.926Z"
   },
   {
    "duration": 572,
    "start_time": "2022-02-17T11:54:23.287Z"
   },
   {
    "duration": 63,
    "start_time": "2022-02-17T11:54:23.862Z"
   },
   {
    "duration": 60,
    "start_time": "2022-02-17T11:57:10.827Z"
   },
   {
    "duration": 1291,
    "start_time": "2022-09-02T19:24:26.214Z"
   },
   {
    "duration": 1039,
    "start_time": "2022-09-02T19:24:27.507Z"
   },
   {
    "duration": 34,
    "start_time": "2022-09-02T19:25:25.636Z"
   },
   {
    "duration": 25,
    "start_time": "2022-09-02T19:25:38.020Z"
   },
   {
    "duration": 11,
    "start_time": "2022-09-02T19:25:46.869Z"
   }
  ],
  "kernelspec": {
   "display_name": "Python 3 (ipykernel)",
   "language": "python",
   "name": "python3"
  },
  "language_info": {
   "codemirror_mode": {
    "name": "ipython",
    "version": 3
   },
   "file_extension": ".py",
   "mimetype": "text/x-python",
   "name": "python",
   "nbconvert_exporter": "python",
   "pygments_lexer": "ipython3",
   "version": "3.9.5"
  },
  "toc": {
   "base_numbering": 1,
   "nav_menu": {},
   "number_sections": true,
   "sideBar": true,
   "skip_h1_title": true,
   "title_cell": "Table of Contents",
   "title_sidebar": "Contents",
   "toc_cell": false,
   "toc_position": {},
   "toc_section_display": true,
   "toc_window_display": false
  }
 },
 "nbformat": 4,
 "nbformat_minor": 2
}
