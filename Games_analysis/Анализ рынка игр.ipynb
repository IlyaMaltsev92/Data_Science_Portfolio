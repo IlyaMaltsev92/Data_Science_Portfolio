{
 "cells": [
  {
   "cell_type": "markdown",
   "id": "dd35ca04",
   "metadata": {},
   "source": [
    "### Первичный анализ данных"
   ]
  },
  {
   "cell_type": "code",
   "execution_count": 1,
   "id": "cad7afc3",
   "metadata": {},
   "outputs": [],
   "source": [
    "import matplotlib.pyplot as plt\n",
    "import pandas as pd\n",
    "import seaborn as sns\n",
    "from scipy import stats as st"
   ]
  },
  {
   "cell_type": "code",
   "execution_count": 2,
   "id": "ae14a6e9",
   "metadata": {},
   "outputs": [
    {
     "name": "stdout",
     "output_type": "stream",
     "text": [
      "<class 'pandas.core.frame.DataFrame'>\n",
      "RangeIndex: 16715 entries, 0 to 16714\n",
      "Data columns (total 11 columns):\n",
      " #   Column           Non-Null Count  Dtype  \n",
      "---  ------           --------------  -----  \n",
      " 0   Name             16713 non-null  object \n",
      " 1   Platform         16715 non-null  object \n",
      " 2   Year_of_Release  16446 non-null  float64\n",
      " 3   Genre            16713 non-null  object \n",
      " 4   NA_sales         16715 non-null  float64\n",
      " 5   EU_sales         16715 non-null  float64\n",
      " 6   JP_sales         16715 non-null  float64\n",
      " 7   Other_sales      16715 non-null  float64\n",
      " 8   Critic_Score     8137 non-null   float64\n",
      " 9   User_Score       10014 non-null  object \n",
      " 10  Rating           9949 non-null   object \n",
      "dtypes: float64(6), object(5)\n",
      "memory usage: 1.4+ MB\n"
     ]
    },
    {
     "data": {
      "text/html": [
       "<div>\n",
       "<style scoped>\n",
       "    .dataframe tbody tr th:only-of-type {\n",
       "        vertical-align: middle;\n",
       "    }\n",
       "\n",
       "    .dataframe tbody tr th {\n",
       "        vertical-align: top;\n",
       "    }\n",
       "\n",
       "    .dataframe thead th {\n",
       "        text-align: right;\n",
       "    }\n",
       "</style>\n",
       "<table border=\"1\" class=\"dataframe\">\n",
       "  <thead>\n",
       "    <tr style=\"text-align: right;\">\n",
       "      <th></th>\n",
       "      <th>count</th>\n",
       "      <th>mean</th>\n",
       "      <th>std</th>\n",
       "      <th>min</th>\n",
       "      <th>25%</th>\n",
       "      <th>50%</th>\n",
       "      <th>75%</th>\n",
       "      <th>max</th>\n",
       "    </tr>\n",
       "  </thead>\n",
       "  <tbody>\n",
       "    <tr>\n",
       "      <th>Year_of_Release</th>\n",
       "      <td>16446.0</td>\n",
       "      <td>2006.484616</td>\n",
       "      <td>5.877050</td>\n",
       "      <td>1980.0</td>\n",
       "      <td>2003.0</td>\n",
       "      <td>2007.00</td>\n",
       "      <td>2010.00</td>\n",
       "      <td>2016.00</td>\n",
       "    </tr>\n",
       "    <tr>\n",
       "      <th>NA_sales</th>\n",
       "      <td>16715.0</td>\n",
       "      <td>0.263377</td>\n",
       "      <td>0.813604</td>\n",
       "      <td>0.0</td>\n",
       "      <td>0.0</td>\n",
       "      <td>0.08</td>\n",
       "      <td>0.24</td>\n",
       "      <td>41.36</td>\n",
       "    </tr>\n",
       "    <tr>\n",
       "      <th>EU_sales</th>\n",
       "      <td>16715.0</td>\n",
       "      <td>0.145060</td>\n",
       "      <td>0.503339</td>\n",
       "      <td>0.0</td>\n",
       "      <td>0.0</td>\n",
       "      <td>0.02</td>\n",
       "      <td>0.11</td>\n",
       "      <td>28.96</td>\n",
       "    </tr>\n",
       "    <tr>\n",
       "      <th>JP_sales</th>\n",
       "      <td>16715.0</td>\n",
       "      <td>0.077617</td>\n",
       "      <td>0.308853</td>\n",
       "      <td>0.0</td>\n",
       "      <td>0.0</td>\n",
       "      <td>0.00</td>\n",
       "      <td>0.04</td>\n",
       "      <td>10.22</td>\n",
       "    </tr>\n",
       "    <tr>\n",
       "      <th>Other_sales</th>\n",
       "      <td>16715.0</td>\n",
       "      <td>0.047342</td>\n",
       "      <td>0.186731</td>\n",
       "      <td>0.0</td>\n",
       "      <td>0.0</td>\n",
       "      <td>0.01</td>\n",
       "      <td>0.03</td>\n",
       "      <td>10.57</td>\n",
       "    </tr>\n",
       "    <tr>\n",
       "      <th>Critic_Score</th>\n",
       "      <td>8137.0</td>\n",
       "      <td>68.967679</td>\n",
       "      <td>13.938165</td>\n",
       "      <td>13.0</td>\n",
       "      <td>60.0</td>\n",
       "      <td>71.00</td>\n",
       "      <td>79.00</td>\n",
       "      <td>98.00</td>\n",
       "    </tr>\n",
       "  </tbody>\n",
       "</table>\n",
       "</div>"
      ],
      "text/plain": [
       "                   count         mean        std     min     25%      50%  \\\n",
       "Year_of_Release  16446.0  2006.484616   5.877050  1980.0  2003.0  2007.00   \n",
       "NA_sales         16715.0     0.263377   0.813604     0.0     0.0     0.08   \n",
       "EU_sales         16715.0     0.145060   0.503339     0.0     0.0     0.02   \n",
       "JP_sales         16715.0     0.077617   0.308853     0.0     0.0     0.00   \n",
       "Other_sales      16715.0     0.047342   0.186731     0.0     0.0     0.01   \n",
       "Critic_Score      8137.0    68.967679  13.938165    13.0    60.0    71.00   \n",
       "\n",
       "                     75%      max  \n",
       "Year_of_Release  2010.00  2016.00  \n",
       "NA_sales            0.24    41.36  \n",
       "EU_sales            0.11    28.96  \n",
       "JP_sales            0.04    10.22  \n",
       "Other_sales         0.03    10.57  \n",
       "Critic_Score       79.00    98.00  "
      ]
     },
     "execution_count": 2,
     "metadata": {},
     "output_type": "execute_result"
    }
   ],
   "source": [
    "try:\n",
    "    df = pd.read_csv('C:/Users/77479/Desktop/games.csv')\n",
    "except:\n",
    "    df = pd.read_csv('/datasets/games.csv')\n",
    "df.info()\n",
    "df.describe().T\n"
   ]
  },
  {
   "cell_type": "markdown",
   "id": "719e68ba",
   "metadata": {},
   "source": [
    "<div >\n",
    "    <ul>\n",
    "        <li>Изменить тип данных year_of_release float64 -> int64, т.к год релиза должен быть целым числом\n",
    "        <li>Изменить тип данных user_score object -> float64, оценка пользователей должна быть дробным числом\n",
    "    </ul>\n",
    "</div>"
   ]
  },
  {
   "cell_type": "markdown",
   "id": "23f9f2fc",
   "metadata": {},
   "source": [
    "### Предобработка данных"
   ]
  },
  {
   "cell_type": "code",
   "execution_count": 4,
   "id": "4ec6cbb6",
   "metadata": {},
   "outputs": [
    {
     "name": "stdout",
     "output_type": "stream",
     "text": [
      "Index(['name', 'platform', 'year_of_release', 'genre', 'na_sales', 'eu_sales',\n",
      "       'jp_sales', 'other_sales', 'critic_score', 'user_score', 'rating'],\n",
      "      dtype='object')\n"
     ]
    }
   ],
   "source": [
    "df.columns = df.columns.str.lower()\n",
    "print(df.columns)"
   ]
  },
  {
   "cell_type": "markdown",
   "id": "f89330a6",
   "metadata": {},
   "source": [
    "<div>\n",
    "    <br> Переименовал названия столбцов в соответствии с правилами, перевел в нижний регистр\n",
    "</div>"
   ]
  },
  {
   "cell_type": "code",
   "execution_count": 5,
   "id": "1028ff85",
   "metadata": {},
   "outputs": [
    {
     "data": {
      "text/plain": [
       "name                  2\n",
       "platform              0\n",
       "year_of_release     269\n",
       "genre                 2\n",
       "na_sales              0\n",
       "eu_sales              0\n",
       "jp_sales              0\n",
       "other_sales           0\n",
       "critic_score       8578\n",
       "user_score         6701\n",
       "rating             6766\n",
       "dtype: int64"
      ]
     },
     "execution_count": 5,
     "metadata": {},
     "output_type": "execute_result"
    }
   ],
   "source": [
    "df.isna().sum()"
   ]
  },
  {
   "cell_type": "markdown",
   "id": "591d0fe4",
   "metadata": {},
   "source": [
    "<div>\n",
    "\n",
    "   <br> 269 пропусков в year_of_release (пока не знаю чем заменить год релиза)\n",
    "   <br> ~8600 пропусков в critic_score возможно заменю на медианную по жанру \n",
    "   <br> 6700 пропусков в user_score и rating возможно взаимосвязаны нужно будет изучить эти данные\n",
    "</div>"
   ]
  },
  {
   "cell_type": "code",
   "execution_count": 6,
   "id": "bfe30e95",
   "metadata": {},
   "outputs": [],
   "source": [
    "# заменю пропуски в name на 'unknown' и genre на 'unknown'\n",
    "df['name'] = df['name'].fillna('unknown')\n",
    "df['genre'] = df['genre'].fillna('unknown')\n",
    "\n",
    "# удаляю пропуски в year_of_release\n",
    "df = df.dropna(subset=['year_of_release'])\n",
    "\n",
    "#пропуски в critic_score , user_score и rating трогать не буду , нет идей на что заменить\n"
   ]
  },
  {
   "cell_type": "code",
   "execution_count": 6,
   "id": "6cb251e3",
   "metadata": {},
   "outputs": [],
   "source": [
    "#заполню пропуски в рейтинге на 'unknown'\n",
    "df['rating'] = df['rating'].fillna('unknown')"
   ]
  },
  {
   "cell_type": "markdown",
   "id": "a68a84f3",
   "metadata": {},
   "source": [
    "<div>\n",
    "\n",
    "   \n",
    "   <br> ~8600 пропусков в critic_score  не трогал и не заменял\n",
    "   <br> 6700 пропусков в user_score и rating не трогал и не заменял\n",
    "   <br> пропуски в name и genre заменил на 'unknown'\n",
    "   <br> удалил пропуски в year_of_release\n",
    "</div>"
   ]
  },
  {
   "cell_type": "code",
   "execution_count": 7,
   "id": "a95a70b7",
   "metadata": {},
   "outputs": [],
   "source": [
    "# Замена типов данных\n",
    "df['year_of_release'] = df['year_of_release'].astype('int')"
   ]
  },
  {
   "cell_type": "code",
   "execution_count": 8,
   "id": "004260d2",
   "metadata": {},
   "outputs": [],
   "source": [
    "# в user_score есть аббревеатура tbd что означает (будет определено т.е рейтинг пока не известен)\n",
    "# заменю на значение None\n",
    "\n",
    "df.loc[df.user_score == 'tbd','user_score'] = None"
   ]
  },
  {
   "cell_type": "code",
   "execution_count": 9,
   "id": "ede994f8",
   "metadata": {},
   "outputs": [],
   "source": [
    "#теперь нужно изменить тип данных  user_score\n",
    "\n",
    "df['user_score'] = df['user_score'].astype('float64')\n"
   ]
  },
  {
   "cell_type": "markdown",
   "id": "a54f401d",
   "metadata": {},
   "source": [
    "<div>\n",
    "    <b>Мой комментарий:</b>\n",
    "    <br> заменил тип данных в year_of_release на int64\n",
    "    <br> заменил значение tbd в user_score на None\n",
    "    <br> заменил тип данных  в user_score на float64\n",
    "</div>"
   ]
  },
  {
   "cell_type": "code",
   "execution_count": 10,
   "id": "1165f1b6",
   "metadata": {},
   "outputs": [],
   "source": [
    "# теперь посчитаю суммарные продажи по всем регионам\n",
    "df['summary_sales'] = df[['na_sales','eu_sales','jp_sales','other_sales']].sum(axis=1)"
   ]
  },
  {
   "cell_type": "markdown",
   "id": "5093c609",
   "metadata": {},
   "source": [
    "### Исследовательский анализ данных"
   ]
  },
  {
   "cell_type": "code",
   "execution_count": 12,
   "id": "b594c256",
   "metadata": {},
   "outputs": [
    {
     "data": {
      "image/png": "[encoded data removed]",
      "text/plain": [
       "<Figure size 648x216 with 1 Axes>"
      ]
     },
     "metadata": {
      "needs_background": "light"
     },
     "output_type": "display_data"
    }
   ],
   "source": [
    "#посмотрим сколько игр выпускалось в разные годы\n",
    "\n",
    "df.groupby('year_of_release')['genre'].count().plot(kind='bar',figsize=(9,3))\n",
    "plt.title('Количество игр, выпускаемых в разные годы, 1980-2016гг')\n",
    "plt.xlabel('Год релиза')\n",
    "plt.grid(True)\n",
    "plt.show()\n"
   ]
  },
  {
   "cell_type": "markdown",
   "id": "2a6e36b1",
   "metadata": {},
   "source": [
    "<div>\n",
    "\n",
    "   <br> видно что начиная с 1992 года кол-во выпускаемых игр с каждым годом возрастало , пик релизов был в 2007-2011 года \n",
    "   <br> затем релизы игра пошли на спад\n",
    "</div>"
   ]
  },
  {
   "cell_type": "code",
   "execution_count": 13,
   "id": "e47ce389",
   "metadata": {
    "scrolled": false
   },
   "outputs": [
    {
     "data": {
      "image/png": "[encoded data removed]",
      "text/plain": [
       "<Figure size 648x216 with 1 Axes>"
      ]
     },
     "metadata": {
      "needs_background": "light"
     },
     "output_type": "display_data"
    },
    {
     "data": {
      "image/png": "[encoded data removed]",
      "text/plain": [
       "<Figure size 432x288 with 1 Axes>"
      ]
     },
     "metadata": {
      "needs_background": "light"
     },
     "output_type": "display_data"
    }
   ],
   "source": [
    "#определим самые лучшие платформы по суммарным продажам\n",
    "\n",
    "df.groupby('platform')['summary_sales'].sum().plot(kind='bar',figsize = (9,3))\n",
    "plt.grid(True)\n",
    "plt.xlabel('Платформа')\n",
    "plt.ylabel(\"Суммарные продажи\")\n",
    "plt.title('Гистограмма суммарных продаж на всех платформах')\n",
    "plt.show()\n",
    "\n",
    "\n",
    "# самые лучшие платформы по продажам топ-5 (PS2, X360, PS3, Wii, DS)\n",
    "table = df.pivot_table(index=['platform','year_of_release'],values='genre',aggfunc='count').reset_index()\n",
    "\n",
    "ps2 = table.query('platform == \"PS2\"')\n",
    "x360 = table.query('platform == \"X360\"')\n",
    "ps3 = table.query('platform == \"PS3\"')\n",
    "wii = table.query('platform == \"Wii\"')\n",
    "DS = table.query('platform == \"DS\"')\n",
    "\n",
    "plt.plot(ps2['year_of_release'],ps2['genre'],label='PS2')\n",
    "plt.plot(x360['year_of_release'],x360['genre'],label='X360')\n",
    "plt.plot(ps3['year_of_release'],ps3['genre'],label='PS3')\n",
    "plt.plot(wii['year_of_release'],wii['genre'],label=\"Wii\")\n",
    "plt.plot(DS['year_of_release'],DS['genre'],label='DS')\n",
    "\n",
    "\n",
    "plt.title('Распределение продаж игр на платформах')\n",
    "plt.xlabel('Год выпуска игры')\n",
    "plt.ylabel(\"Количество продаж , шт\")\n",
    "plt.grid(True)\n",
    "plt.legend(loc='upper left')\n",
    "plt.show()\n",
    "\n",
    "#построил график продаж игр на ps2 в зависимости от года релиза игры\n",
    "\n",
    "\n"
   ]
  },
  {
   "cell_type": "markdown",
   "id": "66c9a821",
   "metadata": {},
   "source": [
    "<div>\n",
    "    <b> Мой комментарий </b>\n",
    "    <br> Нашел топ 5 самых продаваемых игровых платформ по продажам игр, построил графики распределения кол-ва выпущенных игр от года релиза , по нему можно сделать выводы что актуальный период когда появляються новые консоли и исчезают старые это период с 2006 по 2012 года\n",
    "    <br> Построил гистограмму по этим же данным\n",
    "</div>"
   ]
  },
  {
   "cell_type": "code",
   "execution_count": 14,
   "id": "af1fbb02",
   "metadata": {},
   "outputs": [
    {
     "data": {
      "image/png": "[encoded data removed]",
      "text/plain": [
       "<Figure size 432x432 with 1 Axes>"
      ]
     },
     "metadata": {
      "needs_background": "light"
     },
     "output_type": "display_data"
    },
    {
     "data": {
      "image/png": "[encoded data removed]",
      "text/plain": [
       "<Figure size 432x432 with 1 Axes>"
      ]
     },
     "metadata": {
      "needs_background": "light"
     },
     "output_type": "display_data"
    }
   ],
   "source": [
    "# найдем какие платформы лидируют по продажам за актуальный период\n",
    "actual_period = df.query('2013 <= year_of_release <= 2016')\n",
    "\n",
    "actual_period.boxplot(column = 'summary_sales',by='platform',figsize=(6,6))\n",
    "plt.ylim(0,40)\n",
    "plt.ylabel('Кол-во продаж , млн')\n",
    "plt.xlabel('Игровая платформа')\n",
    "plt.title('Боксплот глобальные продажи игр в зависимости от платформы, 2013-2016г')\n",
    "plt.show()\n",
    "\n",
    "#построю тот же боксплот только чтобы было видно межквартильный размах \n",
    "actual_period.boxplot(column = 'summary_sales',by='platform',figsize=(6,6))\n",
    "plt.ylim(0,2)\n",
    "plt.ylabel('Кол-во продаж , млн')\n",
    "plt.xlabel('Игровая платформа')\n",
    "plt.title('Боксплот глобальные продажи игр в зависимости от платформы, 2013-2016г')\n",
    "plt.show()\n",
    "\n"
   ]
  },
  {
   "cell_type": "markdown",
   "id": "035497f0",
   "metadata": {},
   "source": [
    "<div>\n",
    "    <b>Мой комментарий:</b>\n",
    "    <br>По данным боксплота можно сказать что некоторые платформы (Wii, X360, PS3, и т.д) имеют очень большие выбросы , скорее всего это проекты , которые очень хорошо продавались , и обусловили успех этих платформ\n",
    "    <br>По данным боксплота можно сказать что потенциально прибыльные платформы это платформы нового поколения PS4 , X-box ONE\n",
    "    <br>Также можно отметить как потенциально прибыльные платформы это X-360, 3DS, PS3\n",
    "</div>"
   ]
  },
  {
   "cell_type": "code",
   "execution_count": 15,
   "id": "04a36c6b",
   "metadata": {},
   "outputs": [
    {
     "data": {
      "image/png": "[encoded data removed]",
      "text/plain": [
       "<Figure size 1008x432 with 2 Axes>"
      ]
     },
     "metadata": {
      "needs_background": "light"
     },
     "output_type": "display_data"
    },
    {
     "name": "stdout",
     "output_type": "stream",
     "text": [
      "Коэффициант корреляции user_score(summary_sales) : -0.01\n",
      "Коэффициант корреляции critic_score(summary_sales):   0.35\n"
     ]
    }
   ],
   "source": [
    "# нужно проанализировать как влияют отзывы критиков и пользователей на продажи игр внутри одной платфоры\n",
    "# я выберу платформу PS3\n",
    "games_x360 = actual_period.query('platform == \"X360\"')\n",
    "\n",
    "#display(games_ps3)\n",
    "fig, (ax1, ax2) = plt.subplots(1,2,figsize=(14,6))\n",
    "\n",
    "# построим диаграмму рассеивания для summary_sales и user_score\n",
    "\n",
    "ax1.scatter(games_x360['user_score'],games_x360['summary_sales'])\n",
    "ax1.set_title('Взаимосвязь оценки пользователей и суммы продаж X360')\n",
    "ax1.set_xlabel('Оценка пользователей')\n",
    "ax1.set_ylabel('Суммарное кол-во продаж')\n",
    "\n",
    "#построим диаграмму рассеивания для summary_sales и critic_score\n",
    "ax2.scatter(games_x360['critic_score'],games_x360['summary_sales'])\n",
    "ax2.set_title('Взаимосвязь оценки критиков и суммы продаж X360')\n",
    "ax2.set_xlabel('Оценка критиков')\n",
    "ax2.set_ylabel('Суммарное кол-во продаж')\n",
    "plt.show()\n",
    "\n",
    "print('Коэффициант корреляции user_score(summary_sales) :',round(games_x360['user_score'].corr(games_x360['summary_sales']),2))\n",
    "print('Коэффициант корреляции critic_score(summary_sales):  ',round(games_x360['critic_score'].corr(games_x360['summary_sales']),2))"
   ]
  },
  {
   "cell_type": "code",
   "execution_count": 15,
   "id": "24668744",
   "metadata": {},
   "outputs": [
    {
     "data": {
      "image/png": "[encoded data removed]",
      "text/plain": [
       "<Figure size 1008x432 with 2 Axes>"
      ]
     },
     "metadata": {
      "needs_background": "light"
     },
     "output_type": "display_data"
    },
    {
     "name": "stdout",
     "output_type": "stream",
     "text": [
      "Коэффициант корреляции user_score(summary_sales) : 0.0\n",
      "Коэффициант корреляции critic_score(summary_sales):   0.33\n"
     ]
    }
   ],
   "source": [
    "# нужно проанализировать как влияют отзывы критиков и пользователей на продажи игр внутри одной платфоры\n",
    "# я выберу платформу PS3\n",
    "games_ps3 = actual_period.query('platform == \"PS3\"')\n",
    "\n",
    "\n",
    "\n",
    "#display(games_ps3)\n",
    "fig, (ax1, ax2) = plt.subplots(1,2,figsize=(14,6))\n",
    "\n",
    "\n",
    "# построим диаграмму рассеивания для summary_sales и user_score\n",
    "\n",
    "ax1.scatter(games_ps3['user_score'],games_ps3['summary_sales'])\n",
    "ax1.set_title('Взаимосвязь оценки пользователей и суммы продаж PS3')\n",
    "ax1.set_xlabel('Оценка пользователей')\n",
    "ax1.set_ylabel('Суммарное кол-во продаж')\n",
    "\n",
    "\n",
    "\n",
    "\n",
    "#построим диаграмму рассеивания для summary_sales и critic_score\n",
    "ax2.scatter(games_ps3['critic_score'],games_ps3['summary_sales'])\n",
    "ax2.set_title('Взаимосвязь оценки критиков и суммы продаж PS3')\n",
    "ax2.set_xlabel('Оценка критиков')\n",
    "ax2.set_ylabel('Суммарное кол-во продаж')\n",
    "plt.show()\n",
    "\n",
    "print('Коэффициант корреляции user_score(summary_sales) :',round(games_ps3['user_score'].corr(games_ps3['summary_sales']),2))\n",
    "print('Коэффициант корреляции critic_score(summary_sales):  ',round(games_ps3['critic_score'].corr(games_ps3['summary_sales']),2))"
   ]
  },
  {
   "cell_type": "code",
   "execution_count": 16,
   "id": "6cb50866",
   "metadata": {},
   "outputs": [
    {
     "data": {
      "image/png": "[encoded data removed]",
      "text/plain": [
       "<Figure size 1008x432 with 2 Axes>"
      ]
     },
     "metadata": {
      "needs_background": "light"
     },
     "output_type": "display_data"
    },
    {
     "name": "stdout",
     "output_type": "stream",
     "text": [
      "Коэффициант корреляции user_score(summary_sales) : -0.03\n",
      "Коэффициант корреляции critic_score(summary_sales):   0.41\n"
     ]
    }
   ],
   "source": [
    "# нужно проанализировать как влияют отзывы критиков и пользователей на продажи игр внутри одной платфоры\n",
    "# я выберу платформу PS3\n",
    "games_ps4 = actual_period.query('platform == \"PS4\"')\n",
    "\n",
    "#display(games_ps3)\n",
    "fig, (ax1, ax2) = plt.subplots(1,2,figsize=(14,6))\n",
    "\n",
    "# построим диаграмму рассеивания для summary_sales и user_score\n",
    "\n",
    "ax1.scatter(games_ps4['user_score'],games_ps4['summary_sales'])\n",
    "ax1.set_title('Взаимосвязь оценки пользователей и суммы продаж PS4')\n",
    "ax1.set_xlabel('Оценка пользователей')\n",
    "ax1.set_ylabel('Суммарное кол-во продаж')\n",
    "\n",
    "#построим диаграмму рассеивания для summary_sales и critic_score\n",
    "ax2.scatter(games_ps4['critic_score'],games_ps4['summary_sales'])\n",
    "ax2.set_title('Взаимосвязь оценки критиков и суммы продаж PS4')\n",
    "ax2.set_xlabel('Оценка критиков')\n",
    "ax2.set_ylabel('Суммарное кол-во продаж')\n",
    "plt.show()\n",
    "\n",
    "print('Коэффициант корреляции user_score(summary_sales) :',round(games_ps4['user_score'].corr(games_ps4['summary_sales']),2))\n",
    "print('Коэффициант корреляции critic_score(summary_sales):  ',round(games_ps4['critic_score'].corr(games_ps4['summary_sales']),2))"
   ]
  },
  {
   "cell_type": "code",
   "execution_count": 17,
   "id": "81647ac4",
   "metadata": {},
   "outputs": [
    {
     "data": {
      "image/png": "[encoded data removed]",
      "text/plain": [
       "<Figure size 1008x432 with 2 Axes>"
      ]
     },
     "metadata": {
      "needs_background": "light"
     },
     "output_type": "display_data"
    },
    {
     "name": "stdout",
     "output_type": "stream",
     "text": [
      "Коэффициант корреляции user_score(summary_sales) : -0.07\n",
      "Коэффициант корреляции critic_score(summary_sales):   0.42\n"
     ]
    }
   ],
   "source": [
    "# нужно проанализировать как влияют отзывы критиков и пользователей на продажи игр внутри одной платфоры\n",
    "# я выберу платформу PS3\n",
    "games_xone = actual_period.query('platform == \"XOne\"')\n",
    "\n",
    "\n",
    "\n",
    "#display(games_ps3)\n",
    "fig, (ax1, ax2) = plt.subplots(1,2,figsize=(14,6))\n",
    "\n",
    "\n",
    "# построим диаграмму рассеивания для summary_sales и user_score\n",
    "\n",
    "ax1.scatter(games_xone['user_score'],games_xone['summary_sales'])\n",
    "ax1.set_title('Взаимосвязь оценки пользователей и суммы продаж XOne')\n",
    "ax1.set_xlabel('Оценка пользователей')\n",
    "ax1.set_ylabel('Суммарное кол-во продаж')\n",
    "\n",
    "\n",
    "\n",
    "\n",
    "#построим диаграмму рассеивания для summary_sales и critic_score\n",
    "ax2.scatter(games_xone['critic_score'],games_xone['summary_sales'])\n",
    "ax2.set_title('Взаимосвязь оценки критиков и суммы продаж XOne')\n",
    "ax2.set_xlabel('Оценка критиков')\n",
    "ax2.set_ylabel('Суммарное кол-во продаж')\n",
    "plt.show()\n",
    "\n",
    "print('Коэффициант корреляции user_score(summary_sales) :',round(games_xone['user_score'].corr(games_xone['summary_sales']),2))\n",
    "print('Коэффициант корреляции critic_score(summary_sales):  ',round(games_xone['critic_score'].corr(games_xone['summary_sales']),2))"
   ]
  },
  {
   "cell_type": "markdown",
   "id": "6d2581a6",
   "metadata": {},
   "source": [
    "<div>\n",
    "    <b>Мой комментарий:</b>\n",
    "    <br>Зависимости между оценкой пользователей и продажами не обнаружены, зависимость между оценкой критиков и продажами - слабо выраженная\n",
    "    <b>Мой комментарий после 2-го ревью:</b>\n",
    "    <br>Построил графики рассеивания для еще двух платформ PS4 и X360 по их коэфициентам можно также сказать, что\n",
    "    <br>Зависимости между оценкой пользователей и продажами не обнаружены, зависимость между оценкой критиков и продажами - слабо выраженная\n",
    "</div>"
   ]
  },
  {
   "cell_type": "code",
   "execution_count": 17,
   "id": "f57ed0cf",
   "metadata": {},
   "outputs": [],
   "source": [
    "x = actual_period.groupby('genre')['genre'].count()"
   ]
  },
  {
   "cell_type": "code",
   "execution_count": 18,
   "id": "b6603e88",
   "metadata": {},
   "outputs": [
    {
     "data": {
      "image/png": "[encoded data removed]",
      "text/plain": [
       "<Figure size 1080x432 with 2 Axes>"
      ]
     },
     "metadata": {
      "needs_background": "light"
     },
     "output_type": "display_data"
    }
   ],
   "source": [
    "# посмотрим на общее распределение игр по жанрам\n",
    "fig1,(a1,a2) = plt.subplots(1,2,figsize=(15,6))\n",
    "\n",
    "a1.plot(x)\n",
    "a1.grid(True)\n",
    "a1.set_title(\"Распределение жанров игр\")\n",
    "a1.tick_params(axis='x',rotation=45)\n",
    "\n",
    "\n",
    "data = actual_period.groupby('genre')['user_score'].count()\n",
    "a2.pie(data ,labels=data.index, autopct='%1.1f%%', explode = [0.1 for x in range(12)])\n",
    "\n",
    "a2.set_title('Круговая диаграмма жанры игр')\n",
    "plt.show()"
   ]
  },
  {
   "cell_type": "markdown",
   "id": "3b9bc0c2",
   "metadata": {},
   "source": [
    "<div>\n",
    "    <b>Мой комментарий</b>\n",
    "    <br> По данным частотной гистограммы по жанру можно сказать , что игр жанров Sports и Action самое большое кол-во за актуальный период , а жанров racing и fighting  самое минимальное\n",
    "</div>"
   ]
  },
  {
   "cell_type": "code",
   "execution_count": 19,
   "id": "6de9927b",
   "metadata": {},
   "outputs": [
    {
     "data": {
      "image/png": "[encoded data removed]",
      "text/plain": [
       "<Figure size 1008x432 with 2 Axes>"
      ]
     },
     "metadata": {
      "needs_background": "light"
     },
     "output_type": "display_data"
    }
   ],
   "source": [
    "genre_sales = actual_period.groupby('genre')['summary_sales'].sum().reset_index()\n",
    "#display(genre_sales)\n",
    "\n",
    "fig3,(ax1,ax2) = plt.subplots(1,2,figsize=(14,6))\n",
    "ax1.plot(genre_sales['genre'],genre_sales['summary_sales'])\n",
    "ax1.set_title('График жанры игр и их продажи, 2006-2015г')\n",
    "ax1.set_ylabel('Сумма продаж игр, млн')\n",
    "ax1.set_xlabel('Жанр игры')\n",
    "ax1.grid(True)\n",
    "ax1.tick_params(axis='x',rotation=45)\n",
    "\n",
    "\n",
    "ax2.pie(genre_sales['summary_sales'],labels = genre_sales['genre'],autopct='%1.1f%%', explode = [0.1 for x in range(12)])\n",
    "ax2.set_title('Круговая диаграмма жанры и игр и их продажи')\n",
    "plt.show()"
   ]
  },
  {
   "cell_type": "markdown",
   "id": "128b2126",
   "metadata": {},
   "source": [
    "<div>\n",
    "    <b>Мой комментарий</b>\n",
    "    <br> По данным графика продаж игр от их жанра можно сказать , что самый прибильный жанр в актуальный период это жанр - Action, Sports , а самый низкие продажи показал жанр Puzzle , Adventure, Strategy,Fighting\n",
    "</div>"
   ]
  },
  {
   "cell_type": "code",
   "execution_count": 21,
   "id": "36579efb",
   "metadata": {},
   "outputs": [
    {
     "data": {
      "image/png": "[encoded data removed]",
      "text/plain": [
       "<Figure size 1008x432 with 2 Axes>"
      ]
     },
     "metadata": {},
     "output_type": "display_data"
    }
   ],
   "source": [
    "sales  = actual_period.groupby('genre')['summary_sales'].agg(['median','mean'])\n",
    "\n",
    "figure, (ax1, ax2) = plt.subplots(1,2,figsize=(14,6))\n",
    "\n",
    "\n",
    "ax1.pie(sales['median'],labels=sales.index,autopct='%1.1f%%')\n",
    "ax1.set_title('Круговая диаграмма медианные продажи по жанрам')\n",
    "\n",
    "ax2.pie(sales['mean'],labels=sales.index,autopct='%1.1f%%')\n",
    "ax2.set_title('Круговая диаграмма средние продажи по жанрам')\n",
    "\n",
    "plt.show()"
   ]
  },
  {
   "cell_type": "markdown",
   "id": "afe563a9",
   "metadata": {},
   "source": [
    "<div>\n",
    "    <b>Мой комментарий</b>\n",
    "    <br> По данным группированной таблице по жанру можно сказать , что самый стабильно продаваемый прибыльный жанр это Shooter, \n",
    "    а жанр с самыми низкими продажами Adventure\n",
    "</div>"
   ]
  },
  {
   "cell_type": "markdown",
   "id": "938b4622",
   "metadata": {},
   "source": [
    "### Портрет пользователя каждого региона"
   ]
  },
  {
   "cell_type": "code",
   "execution_count": 20,
   "id": "bf188b8d",
   "metadata": {},
   "outputs": [
    {
     "data": {
      "image/png": "[encoded data removed]",
      "text/plain": [
       "<Figure size 1008x432 with 2 Axes>"
      ]
     },
     "metadata": {},
     "output_type": "display_data"
    }
   ],
   "source": [
    "# нужно найти самые популярные платформы в каждом регионе (топ-5)\n",
    "\n",
    "fig, (ax1,ax2) = plt.subplots(1,2,figsize=(14,6))\n",
    "\n",
    "# сделаем это сначала для NA (North America)\n",
    "platform_data_na = actual_period.groupby('platform')['na_sales'].sum().sort_values(ascending=False)\n",
    "\n",
    "ax1.pie(platform_data_na.head(),labels = platform_data_na.head().index, autopct='%1.1f%%', explode = [0.1 for x in range(5)])\n",
    "ax1.set_title('Самые популярные платформы для пользователя , регион NA')\n",
    "\n",
    "genre_data_na = actual_period.groupby('genre')['na_sales'].sum().sort_values(ascending=False)\n",
    "ax2.pie(genre_data_na.head(),labels=genre_data_na.head().index, autopct='%1.1f%%', explode = [0.1 for x in range(5)])\n",
    "ax2.set_title('Самые популярные жанры для пользователя , регион NA')\n",
    "plt.show()\n",
    "\n"
   ]
  },
  {
   "cell_type": "code",
   "execution_count": 23,
   "id": "0dcad71a",
   "metadata": {},
   "outputs": [
    {
     "data": {
      "image/png": "[encoded data removed]",
      "text/plain": [
       "<Figure size 432x288 with 1 Axes>"
      ]
     },
     "metadata": {},
     "output_type": "display_data"
    }
   ],
   "source": [
    "# посмотрим по круговой диаграмме влияет ли рейтинг на продажи в отдельном регионе\n",
    "rating_na_data = actual_period.groupby('rating')['na_sales'].sum().sort_values(ascending=False)\n",
    "plt.pie(rating_na_data, labels = rating_na_data.index, autopct = \"%1.1f%%\")\n",
    "plt.title('Доля игр с разным рейнгом ESRB в продажах в регионе NA')\n",
    "plt.show()"
   ]
  },
  {
   "cell_type": "markdown",
   "id": "cfaecae8",
   "metadata": {},
   "source": [
    "<div>\n",
    "    <b> Мой комментарий: </b>\n",
    "    <br> Вывел портрет пользователя региона NA (north america) , самые популярные платформы - PS4, XOne, X360, PS3, 3DS \n",
    "    , а самые популярные жанры - Action, Shooter, Sports, Role-Playing, Misc\n",
    "    <br> по медианным данным продажи внутри региона , зависимостей не было замечено\n",
    "</div>"
   ]
  },
  {
   "cell_type": "code",
   "execution_count": 21,
   "id": "75552fac",
   "metadata": {},
   "outputs": [
    {
     "data": {
      "image/png": "[encoded data removed]",
      "text/plain": [
       "<Figure size 1008x432 with 2 Axes>"
      ]
     },
     "metadata": {},
     "output_type": "display_data"
    }
   ],
   "source": [
    "# нужно найти самые популярные платформы в каждом регионе (топ-5)\n",
    "\n",
    "fig, (ax1,ax2) = plt.subplots(1,2,figsize=(14,6))\n",
    "\n",
    "# сделаем это сначала для JP (Japan)\n",
    "platform_data_jp = actual_period.groupby('platform')['jp_sales'].sum().sort_values(ascending=False)\n",
    "\n",
    "ax1.pie(platform_data_jp.head(),labels = platform_data_jp.head().index, autopct='%1.1f%%', explode = [0.1 for x in range(5)])\n",
    "ax1.set_title('Самые популярные платформы для пользователя , регион JP')\n",
    "\n",
    "genre_data_jp = actual_period.groupby('genre')['jp_sales'].sum().sort_values(ascending=False)\n",
    "ax2.pie(genre_data_jp.head(),labels=genre_data_jp.head().index, autopct='%1.1f%%', explode = [0.1 for x in range(5)])\n",
    "ax2.set_title('Самые популярные жанры для пользователя , регион JP')\n",
    "plt.show()\n",
    " # написать найти средние(медианные) продажи в данном регионе в зависимости от рейтинга \n"
   ]
  },
  {
   "cell_type": "code",
   "execution_count": 22,
   "id": "527ed349",
   "metadata": {},
   "outputs": [
    {
     "data": {
      "image/png": "[encoded data removed]",
      "text/plain": [
       "<Figure size 432x288 with 1 Axes>"
      ]
     },
     "metadata": {},
     "output_type": "display_data"
    }
   ],
   "source": [
    "# посмотрим по круговой диаграмме влияет ли рейтинг на продажи в отдельном регионе\n",
    "rating_jp_data = actual_period.groupby('rating')['jp_sales'].sum().sort_values(ascending=False)\n",
    "plt.pie(rating_jp_data, labels = rating_jp_data.index, autopct = \"%1.1f%%\")\n",
    "plt.title('Доля игр с разным рейнгом ESRB в продажах в регионе JP')\n",
    "plt.show()"
   ]
  },
  {
   "cell_type": "markdown",
   "id": "47b207f9",
   "metadata": {},
   "source": [
    "<div>\n",
    "    <b> Мой комментарий: </b>\n",
    "    <br> Вывел портрет пользователя региона JP (Japan) , самые популярные платформы - PS3, 3DS , PSV, PS4, WiiU\n",
    "    , а самые популярные жанры - Action, Role-Playing, \n",
    "    <br> по медианным данным продажи внутри региона , зависимостей не было замечено\n",
    "    <br> В регионе JP почти половина рынка продаж принадлжит плафтформе 3DS\n",
    "</div>"
   ]
  },
  {
   "cell_type": "code",
   "execution_count": 23,
   "id": "75e2bd96",
   "metadata": {},
   "outputs": [
    {
     "data": {
      "image/png": "[encoded data removed]",
      "text/plain": [
       "<Figure size 1008x432 with 2 Axes>"
      ]
     },
     "metadata": {},
     "output_type": "display_data"
    }
   ],
   "source": [
    "# нужно найти самые популярные платформы в каждом регионе (топ-5)\n",
    "\n",
    "fig, (ax1,ax2) = plt.subplots(1,2,figsize=(14,6))\n",
    "\n",
    "# сделаем это сначала для EU (Europe)\n",
    "platform_data_eu = actual_period.groupby('platform')['eu_sales'].sum().sort_values(ascending=False)\n",
    "\n",
    "ax1.pie(platform_data_eu.head(),labels = platform_data_eu.head().index, autopct='%1.1f%%', explode = [0.1 for x in range(5)])\n",
    "ax1.set_title('Самые популярные платформы для пользователя , регион EU')\n",
    "\n",
    "genre_data_eu = actual_period.groupby('genre')['eu_sales'].sum().sort_values(ascending=False)\n",
    "ax2.pie(genre_data_eu.head(),labels=genre_data_eu.head().index, autopct='%1.1f%%', explode = [0.1 for x in range(5)])\n",
    "ax2.set_title('Самые популярные жанры для пользователя , регион EU')\n",
    "plt.show()\n",
    " # написать найти средние(медианные) продажи в данном регионе в зависимости от рейтинга \n",
    "    \n"
   ]
  },
  {
   "cell_type": "code",
   "execution_count": 24,
   "id": "638b8d90",
   "metadata": {},
   "outputs": [
    {
     "data": {
      "image/png": "[encoded data removed]",
      "text/plain": [
       "<Figure size 432x288 with 1 Axes>"
      ]
     },
     "metadata": {},
     "output_type": "display_data"
    }
   ],
   "source": [
    "# посмотрим по круговой диаграмме влияет ли рейтинг на продажи в отдельном регионе\n",
    "rating_eu_data = actual_period.groupby('rating')['eu_sales'].sum().sort_values(ascending=False)\n",
    "plt.pie(rating_eu_data, labels = rating_eu_data.index, autopct = \"%1.1f%%\")\n",
    "plt.title('Доля игр с разным рейнгом ESRB в продажах в регионе EU')\n",
    "plt.show()"
   ]
  },
  {
   "cell_type": "markdown",
   "id": "107d137c",
   "metadata": {},
   "source": [
    "<div>\n",
    "    <b> Мой комментарий: </b>\n",
    "    <br> Вывел портрет пользователя региона EU (Europe) , самые популярные платформы - PS4, PS3 , XOne, 3DS, X360\n",
    "    , а самые популярные жанры - Action, Shooter, Sports, Racing, Role-Playing\n",
    "    <br> по медианным данным продажи внутри региона , зависимостей не было замечено\n",
    "</div>"
   ]
  },
  {
   "cell_type": "markdown",
   "id": "4e1719cf",
   "metadata": {},
   "source": [
    "<div>\n",
    "    <br> посчитал кол-во игр без рейтинга проданных в разных регионах , на основание этих данных можно сделать вывод , что\n",
    "    рейтинг ESRB влияет на продажи в регионе EU , так как там самые низкие продажи игр без рейтинга \n",
    "    <br>Также можно сказать что процент проданных игр  без рейтинга в каждом из регионов ~ от 7,7 до  8,8%\n",
    "    <br>Влияет рейтинг на продажи в каждой стране только в регионе JP самые большие продажи игр без рейтинга\n",
    "</div>"
   ]
  },
  {
   "cell_type": "markdown",
   "id": "ccd82faf",
   "metadata": {},
   "source": [
    "### Проверка гипотез"
   ]
  },
  {
   "cell_type": "markdown",
   "id": "888cff2f",
   "metadata": {},
   "source": [
    "Средние пользовательские рейтинги платформ X-Box One и PC равны\n",
    "<br>Отсюда формируем нулевую гипотезу : Ho - средние пользовательские рейтинги x-box one и pc равны <br>Aльтернативная гипотеза двустороняя : H1 - средние пользовательские рейтинги x-box one и pc не равны (x-box != pc)\n"
   ]
  },
  {
   "cell_type": "code",
   "execution_count": 25,
   "id": "eecfc8a6",
   "metadata": {},
   "outputs": [
    {
     "name": "stdout",
     "output_type": "stream",
     "text": [
      "0.14104275299383137\n",
      "Нет достаточно оснований чтобы отклонить нулевую гипотезу\n"
     ]
    }
   ],
   "source": [
    "\n",
    "# возьмем две выборки по рейтингам\n",
    "#удаляю у них пропуски т.к ttest не работает с выборками с пропусками\n",
    "user_score_xbox = actual_period.dropna()\n",
    "user_score_xbox = user_score_xbox.query('platform == \"XOne\"')['user_score']\n",
    "\n",
    "user_score_pc = actual_period.dropna()\n",
    "user_score_pc = user_score_pc.query('platform == \"PC\"')['user_score']\n",
    "\n",
    "\n",
    "# буду применять ttest_ind c equal_var = False\n",
    "results = st.ttest_ind(user_score_xbox, user_score_pc,equal_var=False)\n",
    "\n",
    "#установлю уровень значимости равный 5%\n",
    "alpha = 0.05\n",
    "\n",
    "print(results.pvalue)\n",
    "\n",
    "if results.pvalue < alpha:\n",
    "    print('Отклоняем нулевую гипотезу')\n",
    "else:\n",
    "    print(\"Нет достаточно оснований чтобы отклонить нулевую гипотезу\")\n"
   ]
  },
  {
   "cell_type": "markdown",
   "id": "e8bebed4",
   "metadata": {},
   "source": [
    "Средние пользовательские рейтинги жанров Action (англ. «действие», экшен-игры) и Sports (англ. «спортивные соревнования») разные.\n",
    "<br>Ho - средние пользовательские рейтинги жанров action и sports равны \n",
    "<br>H1 - средние пользовательски рейтинги жанров action и sports не равны"
   ]
  },
  {
   "cell_type": "code",
   "execution_count": 26,
   "id": "8be66b55",
   "metadata": {},
   "outputs": [
    {
     "name": "stdout",
     "output_type": "stream",
     "text": [
      "p-уровень значимости: 7.136312729062867e-13\n",
      "Отклоняем нулевую гипотезу\n"
     ]
    }
   ],
   "source": [
    "#возьмем две выборки с нужными жанрами и рейтингами пользователей , буду использовать ttest_ind()\n",
    "\n",
    "action_score = actual_period.dropna()\n",
    "action_score = action_score.query('genre == \"Action\"')['user_score']\n",
    "\n",
    "sports_score = actual_period.dropna()\n",
    "sports_score = sports_score.query('genre == \"Sports\"')['user_score']\n",
    "\n",
    "alpha = .05\n",
    "\n",
    "results = st.ttest_ind(action_score, sports_score, equal_var=False)\n",
    "\n",
    "print(f'p-уровень значимости: {results.pvalue}')\n",
    "if results.pvalue < alpha:\n",
    "    print('Отклоняем нулевую гипотезу')\n",
    "else:\n",
    "    print('Нет оснований отклонять нулевую гипотезу')\n"
   ]
  },
  {
   "cell_type": "markdown",
   "id": "f9b97651",
   "metadata": {},
   "source": [
    "<div>\n",
    "    <b> Мой комментарий: </b>\n",
    "    <br> Проверил две гипотезы  , по их результатам можно сказать что пользовательские рейтинги платформ xbox и pc не различаются, \n",
    "    <br> а пользовательские рейтинги жанров sports и action различаются\n",
    "</div>"
   ]
  },
  {
   "cell_type": "markdown",
   "id": "ab626cd9",
   "metadata": {},
   "source": [
    "### Вывод"
   ]
  },
  {
   "cell_type": "markdown",
   "id": "edc74f11",
   "metadata": {},
   "source": [
    "<div>\n",
    "    <br> Был проведен полный анализ данных игр за актульный период 2005-2012 года  , по результатам анализа можно сказать , что самые успешные игровые платформы это X360, ps2,ps3, wii , ds/\n",
    "    <br> По актуальным данным был создан портрет пользователя в зависимости от региона , так в регионе JP больше играю в платформы созданные там же , такие как ps2, ps3 ,ds ,psp , а самый популярные жанры оказались RolePlaying, Action\n",
    "    <br> Также были проверены гипотезы о равенстве средних пользовательский рейтингов в зависимости от платформы и от жанра, \n",
    "    первая гипотеза не подтвердилась т.е средние пользовательские рейтинги платформ xbox и pc различаются, а вторая гипотеза подтвердилась , т.е средние пользовательские рейтинги жанров Action и Sports не различаются \n",
    "    <br> Не установлена корреляция (зависимость) во всех регионах от рейтинга ESRB\n",
    "    <br>Также установлена связь между оценкой критиков и кол-вом продаж игр (но почти нет связи с оценками игроков)\n",
    "</div>"
   ]
  }
 ],
 "metadata": {
  "ExecuteTimeLog": [
   {
    "duration": 1410,
    "start_time": "2022-02-26T16:00:28.634Z"
   },
   {
    "duration": 71,
    "start_time": "2022-02-26T16:00:30.046Z"
   },
   {
    "duration": 47,
    "start_time": "2022-02-26T16:00:30.073Z"
   },
   {
    "duration": 43,
    "start_time": "2022-02-26T16:00:30.078Z"
   },
   {
    "duration": 40,
    "start_time": "2022-02-26T16:00:30.082Z"
   },
   {
    "duration": 22,
    "start_time": "2022-02-26T16:00:30.101Z"
   },
   {
    "duration": 19,
    "start_time": "2022-02-26T16:00:30.105Z"
   },
   {
    "duration": -20,
    "start_time": "2022-02-26T16:00:30.145Z"
   },
   {
    "duration": -23,
    "start_time": "2022-02-26T16:00:30.149Z"
   },
   {
    "duration": -27,
    "start_time": "2022-02-26T16:00:30.153Z"
   },
   {
    "duration": -27,
    "start_time": "2022-02-26T16:00:30.155Z"
   },
   {
    "duration": -29,
    "start_time": "2022-02-26T16:00:30.158Z"
   },
   {
    "duration": -31,
    "start_time": "2022-02-26T16:00:30.161Z"
   },
   {
    "duration": -33,
    "start_time": "2022-02-26T16:00:30.164Z"
   },
   {
    "duration": -35,
    "start_time": "2022-02-26T16:00:30.166Z"
   },
   {
    "duration": -37,
    "start_time": "2022-02-26T16:00:30.169Z"
   },
   {
    "duration": -39,
    "start_time": "2022-02-26T16:00:30.172Z"
   },
   {
    "duration": -56,
    "start_time": "2022-02-26T16:00:30.190Z"
   },
   {
    "duration": -58,
    "start_time": "2022-02-26T16:00:30.193Z"
   },
   {
    "duration": -61,
    "start_time": "2022-02-26T16:00:30.197Z"
   },
   {
    "duration": -62,
    "start_time": "2022-02-26T16:00:30.200Z"
   },
   {
    "duration": 1389,
    "start_time": "2022-02-26T16:00:44.202Z"
   },
   {
    "duration": 1464,
    "start_time": "2022-02-26T16:00:45.593Z"
   },
   {
    "duration": -16,
    "start_time": "2022-02-26T16:00:47.076Z"
   },
   {
    "duration": -18,
    "start_time": "2022-02-26T16:00:47.079Z"
   },
   {
    "duration": -20,
    "start_time": "2022-02-26T16:00:47.082Z"
   },
   {
    "duration": -21,
    "start_time": "2022-02-26T16:00:47.084Z"
   },
   {
    "duration": -24,
    "start_time": "2022-02-26T16:00:47.088Z"
   },
   {
    "duration": -25,
    "start_time": "2022-02-26T16:00:47.090Z"
   },
   {
    "duration": -27,
    "start_time": "2022-02-26T16:00:47.093Z"
   },
   {
    "duration": -39,
    "start_time": "2022-02-26T16:00:47.106Z"
   },
   {
    "duration": -43,
    "start_time": "2022-02-26T16:00:47.110Z"
   },
   {
    "duration": -44,
    "start_time": "2022-02-26T16:00:47.113Z"
   },
   {
    "duration": -46,
    "start_time": "2022-02-26T16:00:47.116Z"
   },
   {
    "duration": -48,
    "start_time": "2022-02-26T16:00:47.119Z"
   },
   {
    "duration": -52,
    "start_time": "2022-02-26T16:00:47.124Z"
   },
   {
    "duration": -54,
    "start_time": "2022-02-26T16:00:47.127Z"
   },
   {
    "duration": -57,
    "start_time": "2022-02-26T16:00:47.130Z"
   },
   {
    "duration": -58,
    "start_time": "2022-02-26T16:00:47.132Z"
   },
   {
    "duration": -60,
    "start_time": "2022-02-26T16:00:47.135Z"
   },
   {
    "duration": -61,
    "start_time": "2022-02-26T16:00:47.137Z"
   },
   {
    "duration": 1075,
    "start_time": "2022-02-26T16:13:06.999Z"
   },
   {
    "duration": 1508,
    "start_time": "2022-02-26T16:13:08.076Z"
   },
   {
    "duration": 72,
    "start_time": "2022-02-26T16:13:09.515Z"
   },
   {
    "duration": 67,
    "start_time": "2022-02-26T16:13:09.521Z"
   },
   {
    "duration": 62,
    "start_time": "2022-02-26T16:13:09.527Z"
   },
   {
    "duration": 58,
    "start_time": "2022-02-26T16:13:09.532Z"
   },
   {
    "duration": 55,
    "start_time": "2022-02-26T16:13:09.536Z"
   },
   {
    "duration": 51,
    "start_time": "2022-02-26T16:13:09.541Z"
   },
   {
    "duration": 48,
    "start_time": "2022-02-26T16:13:09.545Z"
   },
   {
    "duration": 43,
    "start_time": "2022-02-26T16:13:09.551Z"
   },
   {
    "duration": 41,
    "start_time": "2022-02-26T16:13:09.554Z"
   },
   {
    "duration": 38,
    "start_time": "2022-02-26T16:13:09.557Z"
   },
   {
    "duration": 37,
    "start_time": "2022-02-26T16:13:09.560Z"
   },
   {
    "duration": -9,
    "start_time": "2022-02-26T16:13:09.607Z"
   },
   {
    "duration": -11,
    "start_time": "2022-02-26T16:13:09.609Z"
   },
   {
    "duration": -13,
    "start_time": "2022-02-26T16:13:09.612Z"
   },
   {
    "duration": -15,
    "start_time": "2022-02-26T16:13:09.615Z"
   },
   {
    "duration": -17,
    "start_time": "2022-02-26T16:13:09.618Z"
   },
   {
    "duration": -19,
    "start_time": "2022-02-26T16:13:09.621Z"
   },
   {
    "duration": -22,
    "start_time": "2022-02-26T16:13:09.625Z"
   },
   {
    "duration": 574,
    "start_time": "2022-02-26T16:52:55.440Z"
   },
   {
    "duration": 1212,
    "start_time": "2022-02-26T16:53:06.341Z"
   },
   {
    "duration": 275,
    "start_time": "2022-02-26T16:53:08.238Z"
   },
   {
    "duration": 4,
    "start_time": "2022-02-26T16:53:26.744Z"
   },
   {
    "duration": 1036,
    "start_time": "2022-02-26T17:43:10.037Z"
   },
   {
    "duration": 186,
    "start_time": "2022-02-26T17:43:11.075Z"
   },
   {
    "duration": 11,
    "start_time": "2022-02-26T17:43:11.262Z"
   },
   {
    "duration": 7,
    "start_time": "2022-02-26T17:43:11.274Z"
   },
   {
    "duration": 8,
    "start_time": "2022-02-26T17:43:11.283Z"
   },
   {
    "duration": 9,
    "start_time": "2022-02-26T17:43:11.293Z"
   },
   {
    "duration": 35,
    "start_time": "2022-02-26T17:43:11.304Z"
   },
   {
    "duration": 4,
    "start_time": "2022-02-26T17:43:11.342Z"
   },
   {
    "duration": 319,
    "start_time": "2022-02-26T17:43:11.348Z"
   },
   {
    "duration": 226,
    "start_time": "2022-02-26T17:43:11.669Z"
   },
   {
    "duration": 419,
    "start_time": "2022-02-26T17:43:11.897Z"
   },
   {
    "duration": 470,
    "start_time": "2022-02-26T17:43:12.318Z"
   },
   {
    "duration": 1051,
    "start_time": "2022-02-26T17:45:51.921Z"
   },
   {
    "duration": 170,
    "start_time": "2022-02-26T17:45:52.974Z"
   },
   {
    "duration": 11,
    "start_time": "2022-02-26T17:45:53.146Z"
   },
   {
    "duration": 7,
    "start_time": "2022-02-26T17:45:53.159Z"
   },
   {
    "duration": 8,
    "start_time": "2022-02-26T17:45:53.167Z"
   },
   {
    "duration": 9,
    "start_time": "2022-02-26T17:45:53.177Z"
   },
   {
    "duration": 11,
    "start_time": "2022-02-26T17:45:53.187Z"
   },
   {
    "duration": 33,
    "start_time": "2022-02-26T17:45:53.200Z"
   },
   {
    "duration": 312,
    "start_time": "2022-02-26T17:45:53.236Z"
   },
   {
    "duration": 222,
    "start_time": "2022-02-26T17:45:53.550Z"
   },
   {
    "duration": 417,
    "start_time": "2022-02-26T17:45:53.774Z"
   },
   {
    "duration": 484,
    "start_time": "2022-02-26T17:45:54.193Z"
   },
   {
    "duration": 170546,
    "start_time": "2022-02-26T17:45:54.679Z"
   },
   {
    "duration": 333,
    "start_time": "2022-02-26T17:48:45.226Z"
   },
   {
    "duration": 219,
    "start_time": "2022-02-26T17:48:45.561Z"
   },
   {
    "duration": 228,
    "start_time": "2022-02-26T17:48:45.782Z"
   },
   {
    "duration": 221,
    "start_time": "2022-02-26T17:48:46.013Z"
   },
   {
    "duration": 18,
    "start_time": "2022-02-26T17:48:46.236Z"
   },
   {
    "duration": 16,
    "start_time": "2022-02-26T17:48:46.256Z"
   },
   {
    "duration": 4,
    "start_time": "2022-02-26T17:48:46.273Z"
   },
   {
    "duration": 989,
    "start_time": "2022-02-27T09:25:32.820Z"
   },
   {
    "duration": 188,
    "start_time": "2022-02-27T09:25:35.149Z"
   },
   {
    "duration": 12,
    "start_time": "2022-02-27T09:25:41.582Z"
   },
   {
    "duration": 7,
    "start_time": "2022-02-27T09:25:50.294Z"
   },
   {
    "duration": 9,
    "start_time": "2022-02-27T09:26:00.848Z"
   },
   {
    "duration": 8,
    "start_time": "2022-02-27T09:26:49.589Z"
   },
   {
    "duration": 279,
    "start_time": "2022-02-27T09:27:31.380Z"
   },
   {
    "duration": 9,
    "start_time": "2022-02-27T09:30:16.024Z"
   },
   {
    "duration": 8,
    "start_time": "2022-02-27T09:30:32.514Z"
   },
   {
    "duration": 11,
    "start_time": "2022-02-27T09:33:25.676Z"
   },
   {
    "duration": 8,
    "start_time": "2022-02-27T09:33:46.813Z"
   },
   {
    "duration": 169,
    "start_time": "2022-02-27T09:34:24.221Z"
   },
   {
    "duration": 13,
    "start_time": "2022-02-27T09:34:44.823Z"
   },
   {
    "duration": 8,
    "start_time": "2022-02-27T09:34:57.945Z"
   },
   {
    "duration": 208,
    "start_time": "2022-02-27T09:36:31.322Z"
   },
   {
    "duration": 11,
    "start_time": "2022-02-27T09:37:05.352Z"
   },
   {
    "duration": 223,
    "start_time": "2022-02-27T09:37:12.209Z"
   },
   {
    "duration": 196,
    "start_time": "2022-02-27T09:43:12.381Z"
   },
   {
    "duration": 196,
    "start_time": "2022-02-27T09:43:39.392Z"
   },
   {
    "duration": 206,
    "start_time": "2022-02-27T09:44:00.763Z"
   },
   {
    "duration": 192,
    "start_time": "2022-02-27T09:44:05.780Z"
   },
   {
    "duration": 3,
    "start_time": "2022-02-27T09:44:17.596Z"
   },
   {
    "duration": 187,
    "start_time": "2022-02-27T09:44:18.882Z"
   },
   {
    "duration": 13,
    "start_time": "2022-02-27T09:44:31.911Z"
   },
   {
    "duration": 7,
    "start_time": "2022-02-27T09:44:34.926Z"
   },
   {
    "duration": 9,
    "start_time": "2022-02-27T09:44:38.367Z"
   },
   {
    "duration": 12,
    "start_time": "2022-02-27T09:46:04.433Z"
   },
   {
    "duration": 5,
    "start_time": "2022-02-27T09:46:08.130Z"
   },
   {
    "duration": 4,
    "start_time": "2022-02-27T09:46:19.547Z"
   },
   {
    "duration": 14,
    "start_time": "2022-02-27T09:46:35.894Z"
   },
   {
    "duration": 5,
    "start_time": "2022-02-27T09:46:43.470Z"
   },
   {
    "duration": 336,
    "start_time": "2022-02-27T09:46:46.639Z"
   },
   {
    "duration": 197,
    "start_time": "2022-02-27T09:46:59.064Z"
   },
   {
    "duration": 6,
    "start_time": "2022-02-27T09:48:08.745Z"
   },
   {
    "duration": 13,
    "start_time": "2022-02-27T09:49:07.151Z"
   },
   {
    "duration": 340,
    "start_time": "2022-02-27T09:49:14.784Z"
   },
   {
    "duration": 262,
    "start_time": "2022-02-27T09:49:30.957Z"
   },
   {
    "duration": 10,
    "start_time": "2022-02-27T09:52:00.772Z"
   },
   {
    "duration": 8,
    "start_time": "2022-02-27T09:52:19.434Z"
   },
   {
    "duration": 5,
    "start_time": "2022-02-27T09:52:37.321Z"
   },
   {
    "duration": 12,
    "start_time": "2022-02-27T09:53:12.805Z"
   },
   {
    "duration": 186,
    "start_time": "2022-02-27T09:53:18.727Z"
   },
   {
    "duration": 2,
    "start_time": "2022-02-27T09:54:27.896Z"
   },
   {
    "duration": 194,
    "start_time": "2022-02-27T09:54:29.540Z"
   },
   {
    "duration": 13,
    "start_time": "2022-02-27T09:54:31.814Z"
   },
   {
    "duration": 9,
    "start_time": "2022-02-27T09:54:33.822Z"
   },
   {
    "duration": 10,
    "start_time": "2022-02-27T09:54:35.566Z"
   },
   {
    "duration": 5,
    "start_time": "2022-02-27T09:55:22.741Z"
   },
   {
    "duration": 10,
    "start_time": "2022-02-27T09:55:30.886Z"
   },
   {
    "duration": 4,
    "start_time": "2022-02-27T09:55:35.071Z"
   },
   {
    "duration": 4,
    "start_time": "2022-02-27T09:55:48.624Z"
   },
   {
    "duration": 5,
    "start_time": "2022-02-27T09:55:52.657Z"
   },
   {
    "duration": 12,
    "start_time": "2022-02-27T09:57:48.690Z"
   },
   {
    "duration": 6,
    "start_time": "2022-02-27T09:57:52.097Z"
   },
   {
    "duration": 5,
    "start_time": "2022-02-27T09:57:53.775Z"
   },
   {
    "duration": 15,
    "start_time": "2022-02-27T09:57:57.711Z"
   },
   {
    "duration": 333,
    "start_time": "2022-02-27T09:58:03.952Z"
   },
   {
    "duration": 5,
    "start_time": "2022-02-27T09:58:30.572Z"
   },
   {
    "duration": 209,
    "start_time": "2022-02-27T09:58:55.174Z"
   },
   {
    "duration": 10,
    "start_time": "2022-02-27T10:07:04.361Z"
   },
   {
    "duration": 5,
    "start_time": "2022-02-27T10:07:12.226Z"
   },
   {
    "duration": 2,
    "start_time": "2022-02-27T10:07:18.627Z"
   },
   {
    "duration": 189,
    "start_time": "2022-02-27T10:07:20.441Z"
   },
   {
    "duration": 13,
    "start_time": "2022-02-27T10:07:22.796Z"
   },
   {
    "duration": 7,
    "start_time": "2022-02-27T10:07:24.692Z"
   },
   {
    "duration": 9,
    "start_time": "2022-02-27T10:07:28.604Z"
   },
   {
    "duration": 11,
    "start_time": "2022-02-27T10:08:06.121Z"
   },
   {
    "duration": 5,
    "start_time": "2022-02-27T10:08:08.937Z"
   },
   {
    "duration": 206,
    "start_time": "2022-02-27T10:08:18.866Z"
   },
   {
    "duration": 5,
    "start_time": "2022-02-27T10:08:23.258Z"
   },
   {
    "duration": 5,
    "start_time": "2022-02-27T10:09:42.300Z"
   },
   {
    "duration": 5,
    "start_time": "2022-02-27T10:09:47.414Z"
   },
   {
    "duration": 3,
    "start_time": "2022-02-27T10:10:04.592Z"
   },
   {
    "duration": 185,
    "start_time": "2022-02-27T10:10:05.877Z"
   },
   {
    "duration": 18,
    "start_time": "2022-02-27T10:10:11.528Z"
   },
   {
    "duration": 15,
    "start_time": "2022-02-27T10:10:20.961Z"
   },
   {
    "duration": 74,
    "start_time": "2022-02-27T10:10:51.429Z"
   },
   {
    "duration": 207,
    "start_time": "2022-02-27T10:10:55.901Z"
   },
   {
    "duration": 21,
    "start_time": "2022-02-27T10:11:50.013Z"
   },
   {
    "duration": 8,
    "start_time": "2022-02-27T10:12:19.559Z"
   },
   {
    "duration": 9,
    "start_time": "2022-02-27T10:12:21.808Z"
   },
   {
    "duration": 4,
    "start_time": "2022-02-27T10:12:24.488Z"
   },
   {
    "duration": 11,
    "start_time": "2022-02-27T10:12:37.577Z"
   },
   {
    "duration": 5,
    "start_time": "2022-02-27T10:12:44.266Z"
   },
   {
    "duration": 13,
    "start_time": "2022-02-27T10:12:59.509Z"
   },
   {
    "duration": 11,
    "start_time": "2022-02-27T10:13:55.731Z"
   },
   {
    "duration": 17,
    "start_time": "2022-02-27T10:14:55.882Z"
   },
   {
    "duration": 9,
    "start_time": "2022-02-27T10:14:59.891Z"
   },
   {
    "duration": 3,
    "start_time": "2022-02-27T10:15:28.120Z"
   },
   {
    "duration": 184,
    "start_time": "2022-02-27T10:15:29.509Z"
   },
   {
    "duration": 21,
    "start_time": "2022-02-27T10:15:33.542Z"
   },
   {
    "duration": 7,
    "start_time": "2022-02-27T10:15:38.055Z"
   },
   {
    "duration": 9,
    "start_time": "2022-02-27T10:15:39.936Z"
   },
   {
    "duration": 10,
    "start_time": "2022-02-27T10:15:50.297Z"
   },
   {
    "duration": 4,
    "start_time": "2022-02-27T10:16:23.629Z"
   },
   {
    "duration": 17,
    "start_time": "2022-02-27T10:16:27.909Z"
   },
   {
    "duration": 349,
    "start_time": "2022-02-27T10:16:47.144Z"
   },
   {
    "duration": 12,
    "start_time": "2022-02-27T10:18:11.298Z"
   },
   {
    "duration": 10,
    "start_time": "2022-02-27T10:18:13.331Z"
   },
   {
    "duration": 2,
    "start_time": "2022-02-27T10:18:29.636Z"
   },
   {
    "duration": 181,
    "start_time": "2022-02-27T10:18:30.978Z"
   },
   {
    "duration": 21,
    "start_time": "2022-02-27T10:18:33.629Z"
   },
   {
    "duration": 9,
    "start_time": "2022-02-27T10:18:35.367Z"
   },
   {
    "duration": 13,
    "start_time": "2022-02-27T10:18:37.309Z"
   },
   {
    "duration": 11,
    "start_time": "2022-02-27T10:18:43.686Z"
   },
   {
    "duration": 6,
    "start_time": "2022-02-27T10:19:11.345Z"
   },
   {
    "duration": 10,
    "start_time": "2022-02-27T10:19:14.713Z"
   },
   {
    "duration": 13,
    "start_time": "2022-02-27T10:19:37.174Z"
   },
   {
    "duration": 10,
    "start_time": "2022-02-27T10:19:38.773Z"
   },
   {
    "duration": 12,
    "start_time": "2022-02-27T10:19:53.407Z"
   },
   {
    "duration": 303,
    "start_time": "2022-02-27T10:20:56.095Z"
   },
   {
    "duration": 4,
    "start_time": "2022-02-27T10:21:03.375Z"
   },
   {
    "duration": 286,
    "start_time": "2022-02-27T10:21:06.439Z"
   },
   {
    "duration": 271,
    "start_time": "2022-02-27T10:21:54.785Z"
   },
   {
    "duration": 512,
    "start_time": "2022-02-27T10:22:07.439Z"
   },
   {
    "duration": 273,
    "start_time": "2022-02-27T10:23:20.216Z"
   },
   {
    "duration": 187,
    "start_time": "2022-02-27T10:23:40.448Z"
   },
   {
    "duration": 502,
    "start_time": "2022-02-27T10:23:49.995Z"
   },
   {
    "duration": 564,
    "start_time": "2022-02-27T10:26:31.447Z"
   },
   {
    "duration": 649,
    "start_time": "2022-02-27T10:26:53.417Z"
   },
   {
    "duration": 557,
    "start_time": "2022-02-27T10:27:24.286Z"
   },
   {
    "duration": 555,
    "start_time": "2022-02-27T10:28:17.156Z"
   },
   {
    "duration": 560,
    "start_time": "2022-02-27T10:28:51.640Z"
   },
   {
    "duration": 567,
    "start_time": "2022-02-27T10:32:33.818Z"
   },
   {
    "duration": 387,
    "start_time": "2022-02-27T10:32:47.852Z"
   },
   {
    "duration": 836,
    "start_time": "2022-02-27T10:34:37.315Z"
   },
   {
    "duration": 781,
    "start_time": "2022-02-27T10:34:54.116Z"
   },
   {
    "duration": 42168,
    "start_time": "2022-02-27T10:42:17.273Z"
   },
   {
    "duration": 502,
    "start_time": "2022-02-27T10:42:59.443Z"
   },
   {
    "duration": 1192,
    "start_time": "2022-02-27T10:43:04.974Z"
   },
   {
    "duration": 44275,
    "start_time": "2022-02-27T10:45:23.439Z"
   },
   {
    "duration": 7,
    "start_time": "2022-02-27T10:47:39.255Z"
   },
   {
    "duration": 44118,
    "start_time": "2022-02-27T10:48:05.955Z"
   },
   {
    "duration": 45593,
    "start_time": "2022-02-27T10:48:50.074Z"
   },
   {
    "duration": 11,
    "start_time": "2022-02-27T10:49:41.261Z"
   },
   {
    "duration": 7,
    "start_time": "2022-02-27T10:51:14.249Z"
   },
   {
    "duration": 9,
    "start_time": "2022-02-27T10:51:48.710Z"
   },
   {
    "duration": 2607,
    "start_time": "2022-02-27T10:52:09.712Z"
   },
   {
    "duration": 48094,
    "start_time": "2022-02-27T10:53:25.066Z"
   },
   {
    "duration": 189,
    "start_time": "2022-02-27T10:54:37.193Z"
   },
   {
    "duration": 197,
    "start_time": "2022-02-27T10:54:47.664Z"
   },
   {
    "duration": 194,
    "start_time": "2022-02-27T10:55:34.794Z"
   },
   {
    "duration": 200,
    "start_time": "2022-02-27T10:56:04.108Z"
   },
   {
    "duration": 188,
    "start_time": "2022-02-27T10:56:31.343Z"
   },
   {
    "duration": 204,
    "start_time": "2022-02-27T10:56:35.016Z"
   },
   {
    "duration": 365,
    "start_time": "2022-02-27T10:57:12.844Z"
   },
   {
    "duration": 559,
    "start_time": "2022-02-27T10:57:41.096Z"
   },
   {
    "duration": 202,
    "start_time": "2022-02-27T10:58:35.831Z"
   },
   {
    "duration": 513,
    "start_time": "2022-02-27T10:58:49.087Z"
   },
   {
    "duration": 330,
    "start_time": "2022-02-27T10:59:14.923Z"
   },
   {
    "duration": 328,
    "start_time": "2022-02-27T10:59:32.773Z"
   },
   {
    "duration": 48473,
    "start_time": "2022-02-27T11:02:34.860Z"
   },
   {
    "duration": 5,
    "start_time": "2022-02-27T11:04:00.317Z"
   },
   {
    "duration": 6,
    "start_time": "2022-02-27T11:04:11.551Z"
   },
   {
    "duration": 372,
    "start_time": "2022-02-27T11:04:31.009Z"
   },
   {
    "duration": 213,
    "start_time": "2022-02-27T11:04:53.372Z"
   },
   {
    "duration": 389,
    "start_time": "2022-02-27T11:05:04.037Z"
   },
   {
    "duration": 6,
    "start_time": "2022-02-27T11:05:16.334Z"
   },
   {
    "duration": 530,
    "start_time": "2022-02-27T11:06:08.765Z"
   },
   {
    "duration": 354,
    "start_time": "2022-02-27T11:06:23.261Z"
   },
   {
    "duration": 351,
    "start_time": "2022-02-27T11:06:53.859Z"
   },
   {
    "duration": 401,
    "start_time": "2022-02-27T11:07:05.667Z"
   },
   {
    "duration": 11,
    "start_time": "2022-02-27T11:09:09.987Z"
   },
   {
    "duration": 105,
    "start_time": "2022-02-27T11:15:41.888Z"
   },
   {
    "duration": 103,
    "start_time": "2022-02-27T11:16:03.700Z"
   },
   {
    "duration": 207,
    "start_time": "2022-02-27T11:16:29.364Z"
   },
   {
    "duration": 297,
    "start_time": "2022-02-27T11:17:15.197Z"
   },
   {
    "duration": 149,
    "start_time": "2022-02-27T11:19:23.909Z"
   },
   {
    "duration": 124,
    "start_time": "2022-02-27T11:19:29.958Z"
   },
   {
    "duration": 159,
    "start_time": "2022-02-27T11:19:53.608Z"
   },
   {
    "duration": 144,
    "start_time": "2022-02-27T11:20:19.164Z"
   },
   {
    "duration": 328,
    "start_time": "2022-02-27T11:20:42.150Z"
   },
   {
    "duration": 145,
    "start_time": "2022-02-27T11:20:59.792Z"
   },
   {
    "duration": 137,
    "start_time": "2022-02-27T11:21:18.977Z"
   },
   {
    "duration": 124,
    "start_time": "2022-02-27T11:21:31.020Z"
   },
   {
    "duration": 129,
    "start_time": "2022-02-27T11:21:38.213Z"
   },
   {
    "duration": 315,
    "start_time": "2022-02-27T11:22:53.117Z"
   },
   {
    "duration": 305,
    "start_time": "2022-02-27T11:23:09.319Z"
   },
   {
    "duration": 496,
    "start_time": "2022-02-27T11:23:35.499Z"
   },
   {
    "duration": 306,
    "start_time": "2022-02-27T11:23:47.644Z"
   },
   {
    "duration": 286,
    "start_time": "2022-02-27T11:24:29.138Z"
   },
   {
    "duration": 239,
    "start_time": "2022-02-27T11:25:14.870Z"
   },
   {
    "duration": 244,
    "start_time": "2022-02-27T11:26:37.343Z"
   },
   {
    "duration": 232,
    "start_time": "2022-02-27T11:28:03.059Z"
   },
   {
    "duration": 247,
    "start_time": "2022-02-27T11:29:07.060Z"
   },
   {
    "duration": 246,
    "start_time": "2022-02-27T11:32:37.331Z"
   },
   {
    "duration": 236,
    "start_time": "2022-02-27T11:34:59.816Z"
   },
   {
    "duration": 238,
    "start_time": "2022-02-27T11:35:14.800Z"
   },
   {
    "duration": 423,
    "start_time": "2022-02-27T11:35:26.274Z"
   },
   {
    "duration": 228,
    "start_time": "2022-02-27T11:35:35.867Z"
   },
   {
    "duration": 223,
    "start_time": "2022-02-27T11:36:41.372Z"
   },
   {
    "duration": 432,
    "start_time": "2022-02-27T11:36:56.326Z"
   },
   {
    "duration": 235,
    "start_time": "2022-02-27T11:37:00.245Z"
   },
   {
    "duration": 235,
    "start_time": "2022-02-27T11:37:50.724Z"
   },
   {
    "duration": 229,
    "start_time": "2022-02-27T11:38:08.242Z"
   },
   {
    "duration": 250,
    "start_time": "2022-02-27T11:38:31.857Z"
   },
   {
    "duration": 15,
    "start_time": "2022-02-27T11:40:50.858Z"
   },
   {
    "duration": 14,
    "start_time": "2022-02-27T11:40:55.810Z"
   },
   {
    "duration": 4,
    "start_time": "2022-02-27T11:43:42.782Z"
   },
   {
    "duration": 1137,
    "start_time": "2022-02-27T13:43:22.348Z"
   },
   {
    "duration": 174,
    "start_time": "2022-02-27T13:43:23.487Z"
   },
   {
    "duration": 21,
    "start_time": "2022-02-27T13:43:23.663Z"
   },
   {
    "duration": 6,
    "start_time": "2022-02-27T13:43:23.686Z"
   },
   {
    "duration": 7,
    "start_time": "2022-02-27T13:43:23.694Z"
   },
   {
    "duration": 38,
    "start_time": "2022-02-27T13:43:23.702Z"
   },
   {
    "duration": 4,
    "start_time": "2022-02-27T13:43:23.741Z"
   },
   {
    "duration": 6,
    "start_time": "2022-02-27T13:43:23.747Z"
   },
   {
    "duration": 8,
    "start_time": "2022-02-27T13:43:23.755Z"
   },
   {
    "duration": 7,
    "start_time": "2022-02-27T13:43:23.764Z"
   },
   {
    "duration": 320,
    "start_time": "2022-02-27T13:43:23.772Z"
   },
   {
    "duration": 509,
    "start_time": "2022-02-27T13:43:24.093Z"
   },
   {
    "duration": 751,
    "start_time": "2022-02-27T13:43:24.603Z"
   },
   {
    "duration": 455,
    "start_time": "2022-02-27T13:43:25.355Z"
   },
   {
    "duration": 5,
    "start_time": "2022-02-27T13:43:25.812Z"
   },
   {
    "duration": 339,
    "start_time": "2022-02-27T13:43:25.819Z"
   },
   {
    "duration": 335,
    "start_time": "2022-02-27T13:43:26.159Z"
   },
   {
    "duration": 261,
    "start_time": "2022-02-27T13:43:26.495Z"
   },
   {
    "duration": 213,
    "start_time": "2022-02-27T13:43:26.757Z"
   },
   {
    "duration": 224,
    "start_time": "2022-02-27T13:43:26.971Z"
   },
   {
    "duration": 221,
    "start_time": "2022-02-27T13:43:27.197Z"
   },
   {
    "duration": 25,
    "start_time": "2022-02-27T13:43:27.419Z"
   },
   {
    "duration": 14,
    "start_time": "2022-02-27T13:43:27.447Z"
   },
   {
    "duration": 4,
    "start_time": "2022-02-27T13:43:27.463Z"
   },
   {
    "duration": 8,
    "start_time": "2022-02-27T14:05:26.982Z"
   },
   {
    "duration": 6,
    "start_time": "2022-02-27T14:07:04.084Z"
   },
   {
    "duration": 1081,
    "start_time": "2022-02-27T14:16:19.720Z"
   },
   {
    "duration": 260,
    "start_time": "2022-02-27T14:16:20.803Z"
   },
   {
    "duration": 21,
    "start_time": "2022-02-27T14:16:21.065Z"
   },
   {
    "duration": 7,
    "start_time": "2022-02-27T14:16:21.089Z"
   },
   {
    "duration": 39,
    "start_time": "2022-02-27T14:16:21.098Z"
   },
   {
    "duration": 10,
    "start_time": "2022-02-27T14:16:21.138Z"
   },
   {
    "duration": 4,
    "start_time": "2022-02-27T14:16:21.150Z"
   },
   {
    "duration": 6,
    "start_time": "2022-02-27T14:16:21.156Z"
   },
   {
    "duration": 6,
    "start_time": "2022-02-27T14:16:21.164Z"
   },
   {
    "duration": 6,
    "start_time": "2022-02-27T14:16:21.172Z"
   },
   {
    "duration": 334,
    "start_time": "2022-02-27T14:16:21.180Z"
   },
   {
    "duration": 510,
    "start_time": "2022-02-27T14:16:21.516Z"
   },
   {
    "duration": 743,
    "start_time": "2022-02-27T14:16:22.028Z"
   },
   {
    "duration": 417,
    "start_time": "2022-02-27T14:16:22.772Z"
   },
   {
    "duration": 5,
    "start_time": "2022-02-27T14:16:23.191Z"
   },
   {
    "duration": 343,
    "start_time": "2022-02-27T14:16:23.197Z"
   },
   {
    "duration": 332,
    "start_time": "2022-02-27T14:16:23.541Z"
   },
   {
    "duration": 327,
    "start_time": "2022-02-27T14:16:23.874Z"
   },
   {
    "duration": 231,
    "start_time": "2022-02-27T14:16:24.202Z"
   },
   {
    "duration": 217,
    "start_time": "2022-02-27T14:16:24.435Z"
   },
   {
    "duration": 227,
    "start_time": "2022-02-27T14:16:24.654Z"
   },
   {
    "duration": 14,
    "start_time": "2022-02-27T14:16:24.883Z"
   },
   {
    "duration": 40,
    "start_time": "2022-02-27T14:16:24.900Z"
   },
   {
    "duration": 4,
    "start_time": "2022-02-27T14:16:24.942Z"
   },
   {
    "duration": 344,
    "start_time": "2022-02-27T14:32:49.947Z"
   },
   {
    "duration": 1433,
    "start_time": "2022-02-27T14:32:59.227Z"
   },
   {
    "duration": 261,
    "start_time": "2022-02-27T14:33:00.662Z"
   },
   {
    "duration": 37,
    "start_time": "2022-02-27T14:33:03.537Z"
   },
   {
    "duration": 11,
    "start_time": "2022-02-27T14:33:11.993Z"
   },
   {
    "duration": 13,
    "start_time": "2022-02-27T14:33:15.050Z"
   },
   {
    "duration": 14,
    "start_time": "2022-02-27T14:33:17.114Z"
   },
   {
    "duration": 5,
    "start_time": "2022-02-27T14:33:24.443Z"
   },
   {
    "duration": 9,
    "start_time": "2022-02-27T14:33:25.107Z"
   },
   {
    "duration": 6,
    "start_time": "2022-02-27T14:33:25.715Z"
   },
   {
    "duration": 7,
    "start_time": "2022-02-27T14:33:27.929Z"
   },
   {
    "duration": 529,
    "start_time": "2022-02-27T14:33:29.851Z"
   },
   {
    "duration": 881,
    "start_time": "2022-02-27T14:33:32.029Z"
   },
   {
    "duration": 1229,
    "start_time": "2022-02-27T14:34:11.769Z"
   },
   {
    "duration": 700,
    "start_time": "2022-02-27T14:34:29.315Z"
   },
   {
    "duration": 756,
    "start_time": "2022-02-27T14:34:32.873Z"
   },
   {
    "duration": 583,
    "start_time": "2022-02-27T14:35:24.114Z"
   },
   {
    "duration": 804,
    "start_time": "2022-02-27T14:35:41.532Z"
   },
   {
    "duration": 768,
    "start_time": "2022-02-27T14:36:20.016Z"
   },
   {
    "duration": 770,
    "start_time": "2022-02-27T14:37:08.295Z"
   },
   {
    "duration": 971,
    "start_time": "2022-02-27T14:40:07.922Z"
   },
   {
    "duration": 9,
    "start_time": "2022-02-27T14:40:15.009Z"
   },
   {
    "duration": 570,
    "start_time": "2022-02-27T14:40:17.565Z"
   },
   {
    "duration": 7,
    "start_time": "2022-02-27T14:40:21.636Z"
   },
   {
    "duration": 546,
    "start_time": "2022-02-27T14:40:23.789Z"
   },
   {
    "duration": 551,
    "start_time": "2022-02-27T14:40:26.870Z"
   },
   {
    "duration": 459,
    "start_time": "2022-02-27T14:40:31.205Z"
   },
   {
    "duration": 361,
    "start_time": "2022-02-27T14:40:49.070Z"
   },
   {
    "duration": 369,
    "start_time": "2022-02-27T14:44:00.134Z"
   },
   {
    "duration": 363,
    "start_time": "2022-02-27T14:45:19.314Z"
   },
   {
    "duration": 7,
    "start_time": "2022-02-27T14:47:35.466Z"
   },
   {
    "duration": 6,
    "start_time": "2022-02-27T14:48:38.754Z"
   },
   {
    "duration": 357,
    "start_time": "2022-02-27T14:50:03.802Z"
   },
   {
    "duration": 258,
    "start_time": "2022-02-27T14:53:40.115Z"
   },
   {
    "duration": 112,
    "start_time": "2022-02-27T14:53:52.292Z"
   },
   {
    "duration": 7,
    "start_time": "2022-02-27T14:54:30.356Z"
   },
   {
    "duration": 5,
    "start_time": "2022-02-27T14:54:52.806Z"
   },
   {
    "duration": 74,
    "start_time": "2022-02-27T14:55:17.554Z"
   },
   {
    "duration": 7,
    "start_time": "2022-02-27T14:56:06.830Z"
   },
   {
    "duration": 1850,
    "start_time": "2022-02-27T14:56:38.604Z"
   },
   {
    "duration": 7,
    "start_time": "2022-02-27T14:56:46.548Z"
   },
   {
    "duration": 115,
    "start_time": "2022-02-27T14:56:49.060Z"
   },
   {
    "duration": 75,
    "start_time": "2022-02-27T14:58:02.926Z"
   },
   {
    "duration": 11,
    "start_time": "2022-02-27T14:58:07.341Z"
   },
   {
    "duration": 9,
    "start_time": "2022-02-27T14:58:19.393Z"
   },
   {
    "duration": 7,
    "start_time": "2022-02-27T14:58:34.242Z"
   },
   {
    "duration": 119,
    "start_time": "2022-02-27T14:58:42.282Z"
   },
   {
    "duration": 336,
    "start_time": "2022-02-27T14:59:33.329Z"
   },
   {
    "duration": 116,
    "start_time": "2022-02-27T15:00:07.045Z"
   },
   {
    "duration": 122,
    "start_time": "2022-02-27T15:00:30.718Z"
   },
   {
    "duration": 457,
    "start_time": "2022-02-27T15:00:39.336Z"
   },
   {
    "duration": 113,
    "start_time": "2022-02-27T15:00:47.298Z"
   },
   {
    "duration": 359,
    "start_time": "2022-02-27T15:01:12.027Z"
   },
   {
    "duration": 132,
    "start_time": "2022-02-27T15:01:51.673Z"
   },
   {
    "duration": 137,
    "start_time": "2022-02-27T15:06:36.153Z"
   },
   {
    "duration": 116,
    "start_time": "2022-02-27T15:07:15.016Z"
   },
   {
    "duration": 121,
    "start_time": "2022-02-27T15:07:26.345Z"
   },
   {
    "duration": 140,
    "start_time": "2022-02-27T15:07:34.722Z"
   },
   {
    "duration": 139,
    "start_time": "2022-02-27T15:08:44.723Z"
   },
   {
    "duration": 8,
    "start_time": "2022-02-27T15:09:47.418Z"
   },
   {
    "duration": 12,
    "start_time": "2022-02-27T15:10:10.981Z"
   },
   {
    "duration": 5,
    "start_time": "2022-02-27T15:10:38.602Z"
   },
   {
    "duration": 146,
    "start_time": "2022-02-27T15:11:45.777Z"
   },
   {
    "duration": 6,
    "start_time": "2022-02-27T15:12:09.645Z"
   },
   {
    "duration": 842,
    "start_time": "2022-02-27T15:18:19.947Z"
   },
   {
    "duration": 7959,
    "start_time": "2022-02-27T15:18:48.964Z"
   },
   {
    "duration": 88,
    "start_time": "2022-02-27T15:20:07.613Z"
   },
   {
    "duration": 758,
    "start_time": "2022-02-27T15:20:16.743Z"
   },
   {
    "duration": 15,
    "start_time": "2022-02-27T15:20:39.921Z"
   },
   {
    "duration": 19,
    "start_time": "2022-02-27T15:27:23.331Z"
   },
   {
    "duration": 49,
    "start_time": "2022-02-27T15:27:47.765Z"
   },
   {
    "duration": 48,
    "start_time": "2022-02-27T15:29:10.505Z"
   },
   {
    "duration": 272,
    "start_time": "2022-02-27T15:31:07.454Z"
   },
   {
    "duration": 15,
    "start_time": "2022-02-27T15:31:13.062Z"
   },
   {
    "duration": 15,
    "start_time": "2022-02-27T15:31:24.975Z"
   },
   {
    "duration": 703,
    "start_time": "2022-02-27T15:33:37.632Z"
   },
   {
    "duration": 577,
    "start_time": "2022-02-27T15:34:16.580Z"
   },
   {
    "duration": 582,
    "start_time": "2022-02-27T15:34:50.193Z"
   },
   {
    "duration": 806,
    "start_time": "2022-02-27T15:35:04.522Z"
   },
   {
    "duration": 762,
    "start_time": "2022-02-27T15:35:37.038Z"
   },
   {
    "duration": 725,
    "start_time": "2022-02-27T15:36:00.265Z"
   },
   {
    "duration": 732,
    "start_time": "2022-02-27T15:36:24.555Z"
   },
   {
    "duration": 796,
    "start_time": "2022-02-27T15:36:33.348Z"
   },
   {
    "duration": 753,
    "start_time": "2022-02-27T15:36:45.862Z"
   },
   {
    "duration": 363,
    "start_time": "2022-02-27T16:01:36.509Z"
   },
   {
    "duration": 1355,
    "start_time": "2022-02-27T16:01:49.394Z"
   },
   {
    "duration": 233,
    "start_time": "2022-02-27T16:01:50.751Z"
   },
   {
    "duration": 10,
    "start_time": "2022-02-27T16:01:50.987Z"
   },
   {
    "duration": 20,
    "start_time": "2022-02-27T16:01:50.999Z"
   },
   {
    "duration": 15,
    "start_time": "2022-02-27T16:01:51.022Z"
   },
   {
    "duration": 10,
    "start_time": "2022-02-27T16:01:51.039Z"
   },
   {
    "duration": 30,
    "start_time": "2022-02-27T16:01:51.052Z"
   },
   {
    "duration": 14,
    "start_time": "2022-02-27T16:01:51.086Z"
   },
   {
    "duration": 7,
    "start_time": "2022-02-27T16:01:51.103Z"
   },
   {
    "duration": 7,
    "start_time": "2022-02-27T16:01:51.112Z"
   },
   {
    "duration": 542,
    "start_time": "2022-02-27T16:01:51.122Z"
   },
   {
    "duration": 868,
    "start_time": "2022-02-27T16:01:51.667Z"
   },
   {
    "duration": 1184,
    "start_time": "2022-02-27T16:01:52.538Z"
   },
   {
    "duration": 787,
    "start_time": "2022-02-27T16:01:53.726Z"
   },
   {
    "duration": 712,
    "start_time": "2022-02-27T16:01:54.516Z"
   },
   {
    "duration": 762,
    "start_time": "2022-02-27T16:01:55.231Z"
   },
   {
    "duration": 706,
    "start_time": "2022-02-27T16:01:55.995Z"
   },
   {
    "duration": 17,
    "start_time": "2022-02-27T16:01:56.703Z"
   },
   {
    "duration": 5,
    "start_time": "2022-02-27T16:01:56.722Z"
   },
   {
    "duration": 570,
    "start_time": "2022-02-27T16:01:56.729Z"
   },
   {
    "duration": 549,
    "start_time": "2022-02-27T16:01:57.302Z"
   },
   {
    "duration": 512,
    "start_time": "2022-02-27T16:01:57.853Z"
   },
   {
    "duration": 336,
    "start_time": "2022-02-27T16:01:58.369Z"
   },
   {
    "duration": 174,
    "start_time": "2022-02-27T16:01:58.708Z"
   },
   {
    "duration": 6,
    "start_time": "2022-02-27T16:01:58.884Z"
   },
   {
    "duration": 343,
    "start_time": "2022-02-27T16:01:58.893Z"
   },
   {
    "duration": 146,
    "start_time": "2022-02-27T16:01:59.239Z"
   },
   {
    "duration": 351,
    "start_time": "2022-02-27T16:01:59.387Z"
   },
   {
    "duration": 151,
    "start_time": "2022-02-27T16:01:59.740Z"
   },
   {
    "duration": 21,
    "start_time": "2022-02-27T16:01:59.894Z"
   },
   {
    "duration": 19,
    "start_time": "2022-02-27T16:01:59.918Z"
   },
   {
    "duration": 5,
    "start_time": "2022-02-27T16:01:59.939Z"
   },
   {
    "duration": 14,
    "start_time": "2022-02-27T16:02:36.099Z"
   },
   {
    "duration": 7,
    "start_time": "2022-02-27T16:04:19.827Z"
   },
   {
    "duration": 1445,
    "start_time": "2022-02-27T16:10:07.671Z"
   },
   {
    "duration": 230,
    "start_time": "2022-02-27T16:10:09.118Z"
   },
   {
    "duration": 30,
    "start_time": "2022-02-27T16:10:09.352Z"
   },
   {
    "duration": 13,
    "start_time": "2022-02-27T16:10:09.386Z"
   },
   {
    "duration": 14,
    "start_time": "2022-02-27T16:10:09.402Z"
   },
   {
    "duration": 6,
    "start_time": "2022-02-27T16:10:09.418Z"
   },
   {
    "duration": 7,
    "start_time": "2022-02-27T16:10:09.426Z"
   },
   {
    "duration": 45,
    "start_time": "2022-02-27T16:10:09.437Z"
   },
   {
    "duration": 7,
    "start_time": "2022-02-27T16:10:09.486Z"
   },
   {
    "duration": 10,
    "start_time": "2022-02-27T16:10:09.495Z"
   },
   {
    "duration": 559,
    "start_time": "2022-02-27T16:10:09.507Z"
   },
   {
    "duration": 850,
    "start_time": "2022-02-27T16:10:10.069Z"
   },
   {
    "duration": 1191,
    "start_time": "2022-02-27T16:10:10.922Z"
   },
   {
    "duration": 790,
    "start_time": "2022-02-27T16:10:12.116Z"
   },
   {
    "duration": 703,
    "start_time": "2022-02-27T16:10:12.909Z"
   },
   {
    "duration": 782,
    "start_time": "2022-02-27T16:10:13.614Z"
   },
   {
    "duration": 807,
    "start_time": "2022-02-27T16:10:14.398Z"
   },
   {
    "duration": 69,
    "start_time": "2022-02-27T16:10:15.208Z"
   },
   {
    "duration": 203,
    "start_time": "2022-02-27T16:10:15.077Z"
   },
   {
    "duration": 200,
    "start_time": "2022-02-27T16:10:15.082Z"
   },
   {
    "duration": 198,
    "start_time": "2022-02-27T16:10:15.086Z"
   },
   {
    "duration": 194,
    "start_time": "2022-02-27T16:10:15.092Z"
   },
   {
    "duration": 192,
    "start_time": "2022-02-27T16:10:15.095Z"
   },
   {
    "duration": 190,
    "start_time": "2022-02-27T16:10:15.099Z"
   },
   {
    "duration": 188,
    "start_time": "2022-02-27T16:10:15.102Z"
   },
   {
    "duration": 186,
    "start_time": "2022-02-27T16:10:15.106Z"
   },
   {
    "duration": 185,
    "start_time": "2022-02-27T16:10:15.109Z"
   },
   {
    "duration": 182,
    "start_time": "2022-02-27T16:10:15.113Z"
   },
   {
    "duration": 181,
    "start_time": "2022-02-27T16:10:15.116Z"
   },
   {
    "duration": 178,
    "start_time": "2022-02-27T16:10:15.120Z"
   },
   {
    "duration": 176,
    "start_time": "2022-02-27T16:10:15.124Z"
   },
   {
    "duration": 173,
    "start_time": "2022-02-27T16:10:15.128Z"
   },
   {
    "duration": 1485,
    "start_time": "2022-02-27T16:10:29.585Z"
   },
   {
    "duration": 233,
    "start_time": "2022-02-27T16:10:31.073Z"
   },
   {
    "duration": 10,
    "start_time": "2022-02-27T16:10:31.309Z"
   },
   {
    "duration": 15,
    "start_time": "2022-02-27T16:10:31.322Z"
   },
   {
    "duration": 44,
    "start_time": "2022-02-27T16:10:31.339Z"
   },
   {
    "duration": 6,
    "start_time": "2022-02-27T16:10:31.385Z"
   },
   {
    "duration": 17,
    "start_time": "2022-02-27T16:10:31.393Z"
   },
   {
    "duration": 12,
    "start_time": "2022-02-27T16:10:31.414Z"
   },
   {
    "duration": 21,
    "start_time": "2022-02-27T16:10:31.429Z"
   },
   {
    "duration": 20,
    "start_time": "2022-02-27T16:10:31.453Z"
   },
   {
    "duration": 515,
    "start_time": "2022-02-27T16:10:31.475Z"
   },
   {
    "duration": 830,
    "start_time": "2022-02-27T16:10:31.993Z"
   },
   {
    "duration": 1204,
    "start_time": "2022-02-27T16:10:32.826Z"
   },
   {
    "duration": 768,
    "start_time": "2022-02-27T16:10:34.034Z"
   },
   {
    "duration": 717,
    "start_time": "2022-02-27T16:10:34.805Z"
   },
   {
    "duration": 759,
    "start_time": "2022-02-27T16:10:35.524Z"
   },
   {
    "duration": 712,
    "start_time": "2022-02-27T16:10:36.285Z"
   },
   {
    "duration": 5,
    "start_time": "2022-02-27T16:10:36.999Z"
   },
   {
    "duration": 570,
    "start_time": "2022-02-27T16:10:37.006Z"
   },
   {
    "duration": 550,
    "start_time": "2022-02-27T16:10:37.578Z"
   },
   {
    "duration": 493,
    "start_time": "2022-02-27T16:10:38.130Z"
   },
   {
    "duration": 336,
    "start_time": "2022-02-27T16:10:38.625Z"
   },
   {
    "duration": 148,
    "start_time": "2022-02-27T16:10:38.965Z"
   },
   {
    "duration": 6,
    "start_time": "2022-02-27T16:10:39.116Z"
   },
   {
    "duration": 327,
    "start_time": "2022-02-27T16:10:39.124Z"
   },
   {
    "duration": 144,
    "start_time": "2022-02-27T16:10:39.453Z"
   },
   {
    "duration": 355,
    "start_time": "2022-02-27T16:10:39.599Z"
   },
   {
    "duration": 153,
    "start_time": "2022-02-27T16:10:39.957Z"
   },
   {
    "duration": 21,
    "start_time": "2022-02-27T16:10:40.112Z"
   },
   {
    "duration": 25,
    "start_time": "2022-02-27T16:10:40.135Z"
   },
   {
    "duration": 23,
    "start_time": "2022-02-27T16:10:40.162Z"
   },
   {
    "duration": 130,
    "start_time": "2022-02-27T16:11:05.921Z"
   },
   {
    "duration": 135,
    "start_time": "2022-02-27T16:11:12.098Z"
   },
   {
    "duration": 127,
    "start_time": "2022-02-27T16:11:49.295Z"
   },
   {
    "duration": 118,
    "start_time": "2022-02-27T16:11:56.837Z"
   },
   {
    "duration": 212,
    "start_time": "2022-02-27T16:12:08.338Z"
   },
   {
    "duration": 131,
    "start_time": "2022-02-27T16:12:12.636Z"
   },
   {
    "duration": 136,
    "start_time": "2022-02-27T16:12:34.309Z"
   },
   {
    "duration": 140,
    "start_time": "2022-02-27T16:12:38.221Z"
   },
   {
    "duration": 1500,
    "start_time": "2022-02-27T16:20:06.739Z"
   },
   {
    "duration": 234,
    "start_time": "2022-02-27T16:20:08.241Z"
   },
   {
    "duration": 10,
    "start_time": "2022-02-27T16:20:08.479Z"
   },
   {
    "duration": 17,
    "start_time": "2022-02-27T16:20:08.492Z"
   },
   {
    "duration": 16,
    "start_time": "2022-02-27T16:20:08.512Z"
   },
   {
    "duration": 6,
    "start_time": "2022-02-27T16:20:08.531Z"
   },
   {
    "duration": 43,
    "start_time": "2022-02-27T16:20:08.539Z"
   },
   {
    "duration": 9,
    "start_time": "2022-02-27T16:20:08.584Z"
   },
   {
    "duration": 6,
    "start_time": "2022-02-27T16:20:08.598Z"
   },
   {
    "duration": 8,
    "start_time": "2022-02-27T16:20:08.608Z"
   },
   {
    "duration": 572,
    "start_time": "2022-02-27T16:20:08.618Z"
   },
   {
    "duration": 895,
    "start_time": "2022-02-27T16:20:09.193Z"
   },
   {
    "duration": 1292,
    "start_time": "2022-02-27T16:20:10.091Z"
   },
   {
    "duration": 1059,
    "start_time": "2022-02-27T16:20:11.386Z"
   },
   {
    "duration": 975,
    "start_time": "2022-02-27T16:20:12.448Z"
   },
   {
    "duration": 788,
    "start_time": "2022-02-27T16:20:13.426Z"
   },
   {
    "duration": 814,
    "start_time": "2022-02-27T16:20:14.216Z"
   },
   {
    "duration": 7,
    "start_time": "2022-02-27T16:20:15.032Z"
   },
   {
    "duration": 579,
    "start_time": "2022-02-27T16:20:15.041Z"
   },
   {
    "duration": 569,
    "start_time": "2022-02-27T16:20:15.623Z"
   },
   {
    "duration": 515,
    "start_time": "2022-02-27T16:20:16.194Z"
   },
   {
    "duration": 340,
    "start_time": "2022-02-27T16:20:16.711Z"
   },
   {
    "duration": 142,
    "start_time": "2022-02-27T16:20:17.053Z"
   },
   {
    "duration": 7,
    "start_time": "2022-02-27T16:20:17.198Z"
   },
   {
    "duration": 344,
    "start_time": "2022-02-27T16:20:17.207Z"
   },
   {
    "duration": 148,
    "start_time": "2022-02-27T16:20:17.554Z"
   },
   {
    "duration": 359,
    "start_time": "2022-02-27T16:20:17.707Z"
   },
   {
    "duration": 144,
    "start_time": "2022-02-27T16:20:18.081Z"
   },
   {
    "duration": 21,
    "start_time": "2022-02-27T16:20:18.228Z"
   },
   {
    "duration": 41,
    "start_time": "2022-02-27T16:20:18.252Z"
   },
   {
    "duration": 5,
    "start_time": "2022-02-27T16:20:18.295Z"
   },
   {
    "duration": 1482,
    "start_time": "2022-02-27T17:54:39.610Z"
   },
   {
    "duration": 307,
    "start_time": "2022-02-27T17:54:41.322Z"
   },
   {
    "duration": 10,
    "start_time": "2022-02-27T17:54:44.538Z"
   },
   {
    "duration": 12,
    "start_time": "2022-02-27T17:54:46.532Z"
   },
   {
    "duration": 15,
    "start_time": "2022-02-27T17:54:49.458Z"
   },
   {
    "duration": 6,
    "start_time": "2022-02-27T17:54:50.778Z"
   },
   {
    "duration": 5,
    "start_time": "2022-02-27T17:54:53.747Z"
   },
   {
    "duration": 8,
    "start_time": "2022-02-27T17:54:55.595Z"
   },
   {
    "duration": 6,
    "start_time": "2022-02-27T17:54:56.212Z"
   },
   {
    "duration": 12,
    "start_time": "2022-02-27T17:54:58.445Z"
   },
   {
    "duration": 515,
    "start_time": "2022-02-27T17:55:00.948Z"
   },
   {
    "duration": 854,
    "start_time": "2022-02-27T17:55:04.844Z"
   },
   {
    "duration": 1174,
    "start_time": "2022-02-27T17:55:14.870Z"
   },
   {
    "duration": 752,
    "start_time": "2022-02-27T17:55:26.704Z"
   },
   {
    "duration": 753,
    "start_time": "2022-02-27T17:55:46.466Z"
   },
   {
    "duration": 717,
    "start_time": "2022-02-27T17:55:50.715Z"
   },
   {
    "duration": 695,
    "start_time": "2022-02-27T17:56:28.063Z"
   },
   {
    "duration": 738,
    "start_time": "2022-02-27T17:57:13.229Z"
   },
   {
    "duration": 944,
    "start_time": "2022-02-27T17:58:31.328Z"
   },
   {
    "duration": 779,
    "start_time": "2022-02-27T17:59:59.283Z"
   },
   {
    "duration": 724,
    "start_time": "2022-02-27T18:00:56.099Z"
   },
   {
    "duration": 6,
    "start_time": "2022-02-27T18:01:32.710Z"
   },
   {
    "duration": 537,
    "start_time": "2022-02-27T18:01:33.430Z"
   },
   {
    "duration": 550,
    "start_time": "2022-02-27T18:01:36.085Z"
   },
   {
    "duration": 420,
    "start_time": "2022-02-27T18:01:38.598Z"
   },
   {
    "duration": 344,
    "start_time": "2022-02-27T18:01:41.334Z"
   },
   {
    "duration": 207,
    "start_time": "2022-02-27T18:01:44.431Z"
   },
   {
    "duration": 133,
    "start_time": "2022-02-27T18:02:00.089Z"
   },
   {
    "duration": 338,
    "start_time": "2022-02-27T18:02:21.034Z"
   },
   {
    "duration": 131,
    "start_time": "2022-02-27T18:02:25.675Z"
   },
   {
    "duration": 325,
    "start_time": "2022-02-27T18:03:13.602Z"
   },
   {
    "duration": 186,
    "start_time": "2022-02-27T18:03:21.500Z"
   },
   {
    "duration": 325,
    "start_time": "2022-02-27T18:06:38.099Z"
   },
   {
    "duration": 1150,
    "start_time": "2022-02-27T19:18:40.243Z"
   },
   {
    "duration": 197,
    "start_time": "2022-02-27T19:18:41.395Z"
   },
   {
    "duration": 8,
    "start_time": "2022-02-27T19:18:41.594Z"
   },
   {
    "duration": 10,
    "start_time": "2022-02-27T19:18:41.605Z"
   },
   {
    "duration": 12,
    "start_time": "2022-02-27T19:18:41.617Z"
   },
   {
    "duration": 6,
    "start_time": "2022-02-27T19:18:41.631Z"
   },
   {
    "duration": 8,
    "start_time": "2022-02-27T19:18:41.639Z"
   },
   {
    "duration": 16,
    "start_time": "2022-02-27T19:18:41.649Z"
   },
   {
    "duration": 10,
    "start_time": "2022-02-27T19:18:41.669Z"
   },
   {
    "duration": 8,
    "start_time": "2022-02-27T19:18:41.702Z"
   },
   {
    "duration": 345,
    "start_time": "2022-02-27T19:18:41.712Z"
   },
   {
    "duration": 579,
    "start_time": "2022-02-27T19:18:42.058Z"
   },
   {
    "duration": 873,
    "start_time": "2022-02-27T19:18:42.639Z"
   },
   {
    "duration": 540,
    "start_time": "2022-02-27T19:18:43.514Z"
   },
   {
    "duration": 523,
    "start_time": "2022-02-27T19:18:44.056Z"
   },
   {
    "duration": 558,
    "start_time": "2022-02-27T19:18:44.581Z"
   },
   {
    "duration": 570,
    "start_time": "2022-02-27T19:18:45.141Z"
   },
   {
    "duration": 5,
    "start_time": "2022-02-27T19:18:45.712Z"
   },
   {
    "duration": 398,
    "start_time": "2022-02-27T19:18:45.719Z"
   },
   {
    "duration": 399,
    "start_time": "2022-02-27T19:18:46.119Z"
   },
   {
    "duration": 391,
    "start_time": "2022-02-27T19:18:46.520Z"
   },
   {
    "duration": 237,
    "start_time": "2022-02-27T19:18:46.913Z"
   },
   {
    "duration": 99,
    "start_time": "2022-02-27T19:18:47.152Z"
   },
   {
    "duration": 232,
    "start_time": "2022-02-27T19:18:47.253Z"
   },
   {
    "duration": 102,
    "start_time": "2022-02-27T19:18:47.488Z"
   },
   {
    "duration": 235,
    "start_time": "2022-02-27T19:18:47.593Z"
   },
   {
    "duration": 108,
    "start_time": "2022-02-27T19:18:47.833Z"
   },
   {
    "duration": 16,
    "start_time": "2022-02-27T19:18:47.943Z"
   },
   {
    "duration": 23,
    "start_time": "2022-02-27T19:18:47.961Z"
   },
   {
    "duration": 16,
    "start_time": "2022-02-27T19:18:47.986Z"
   },
   {
    "duration": 1139,
    "start_time": "2022-08-13T18:01:17.510Z"
   },
   {
    "duration": 170,
    "start_time": "2022-08-13T18:01:51.690Z"
   },
   {
    "duration": 6,
    "start_time": "2022-08-13T18:02:14.916Z"
   },
   {
    "duration": 5,
    "start_time": "2022-08-13T18:03:01.473Z"
   },
   {
    "duration": 9,
    "start_time": "2022-08-13T18:03:36.136Z"
   },
   {
    "duration": 10,
    "start_time": "2022-08-13T18:04:11.858Z"
   },
   {
    "duration": 4,
    "start_time": "2022-08-13T18:05:55.239Z"
   },
   {
    "duration": 5,
    "start_time": "2022-08-13T18:06:00.023Z"
   },
   {
    "duration": 4,
    "start_time": "2022-08-13T18:06:01.839Z"
   },
   {
    "duration": 6,
    "start_time": "2022-08-13T18:07:32.586Z"
   },
   {
    "duration": 293,
    "start_time": "2022-08-13T18:07:44.388Z"
   },
   {
    "duration": 241,
    "start_time": "2022-08-13T18:07:58.267Z"
   },
   {
    "duration": 382,
    "start_time": "2022-08-13T18:08:32.201Z"
   },
   {
    "duration": 532,
    "start_time": "2022-08-13T18:11:01.185Z"
   },
   {
    "duration": 252,
    "start_time": "2022-08-13T18:12:18.749Z"
   },
   {
    "duration": 228,
    "start_time": "2022-08-13T18:12:53.394Z"
   },
   {
    "duration": 3,
    "start_time": "2022-08-13T18:14:40.022Z"
   },
   {
    "duration": 315,
    "start_time": "2022-08-13T18:14:49.678Z"
   },
   {
    "duration": 282,
    "start_time": "2022-08-13T18:15:09.721Z"
   },
   {
    "duration": 171,
    "start_time": "2022-08-13T18:16:49.246Z"
   },
   {
    "duration": 175,
    "start_time": "2022-08-13T18:17:21.937Z"
   },
   {
    "duration": 134,
    "start_time": "2022-08-13T18:17:26.313Z"
   },
   {
    "duration": 165,
    "start_time": "2022-08-13T18:18:10.864Z"
   },
   {
    "duration": 94,
    "start_time": "2022-08-13T18:18:14.472Z"
   },
   {
    "duration": 12,
    "start_time": "2022-08-13T18:20:35.514Z"
   },
   {
    "duration": 13,
    "start_time": "2022-08-13T18:21:14.910Z"
   }
  ],
  "kernelspec": {
   "display_name": "Python 3 (ipykernel)",
   "language": "python",
   "name": "python3"
  },
  "language_info": {
   "codemirror_mode": {
    "name": "ipython",
    "version": 3
   },
   "file_extension": ".py",
   "mimetype": "text/x-python",
   "name": "python",
   "nbconvert_exporter": "python",
   "pygments_lexer": "ipython3",
   "version": "3.9.5"
  },
  "toc": {
   "base_numbering": 1,
   "nav_menu": {},
   "number_sections": true,
   "sideBar": true,
   "skip_h1_title": true,
   "title_cell": "Table of Contents",
   "title_sidebar": "Contents",
   "toc_cell": false,
   "toc_position": {},
   "toc_section_display": true,
   "toc_window_display": false
  }
 },
 "nbformat": 4,
 "nbformat_minor": 5
}
