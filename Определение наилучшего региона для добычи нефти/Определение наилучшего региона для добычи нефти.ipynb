{
 "cells": [
  {
   "cell_type": "markdown",
   "metadata": {},
   "source": [
    "# Выбор локации для скважины"
   ]
  },
  {
   "cell_type": "markdown",
   "metadata": {},
   "source": [
    "Допустим, вы работаете в добывающей компании «ГлавРосГосНефть». Нужно решить, где бурить новую скважину.\n",
    "\n",
    "Вам предоставлены пробы нефти в трёх регионах: в каждом 10 000 месторождений, где измерили качество нефти и объём её запасов. Постройте модель машинного обучения, которая поможет определить регион, где добыча принесёт наибольшую прибыль. Проанализируйте возможную прибыль и риски техникой *Bootstrap.*\n",
    "\n",
    "Шаги для выбора локации:\n",
    "\n",
    "- В избранном регионе ищут месторождения, для каждого определяют значения признаков;\n",
    "- Строят модель и оценивают объём запасов;\n",
    "- Выбирают месторождения с самым высокими оценками значений. Количество месторождений зависит от бюджета компании и стоимости разработки одной скважины;\n",
    "- Прибыль равна суммарной прибыли отобранных месторождений."
   ]
  },
  {
   "cell_type": "code",
   "execution_count": 1,
   "metadata": {},
   "outputs": [],
   "source": [
    "import pandas as pd\n",
    "from sklearn.preprocessing import StandardScaler\n",
    "from sklearn.model_selection import train_test_split\n",
    "from sklearn.linear_model import LinearRegression\n",
    "from sklearn.metrics import mean_squared_error\n",
    "from numpy.random import RandomState\n",
    "from scipy import stats as st"
   ]
  },
  {
   "cell_type": "markdown",
   "metadata": {},
   "source": [
    "## Загрузка и подготовка данных"
   ]
  },
  {
   "cell_type": "code",
   "execution_count": 2,
   "metadata": {},
   "outputs": [],
   "source": [
    "data_geo1 = pd.read_csv('/datasets/geo_data_0.csv')\n",
    "data_geo2 = pd.read_csv('/datasets/geo_data_1.csv')\n",
    "data_geo3 = pd.read_csv('/datasets/geo_data_2.csv')"
   ]
  },
  {
   "cell_type": "code",
   "execution_count": 3,
   "metadata": {},
   "outputs": [
    {
     "name": "stdout",
     "output_type": "stream",
     "text": [
      "<class 'pandas.core.frame.DataFrame'>\n",
      "RangeIndex: 100000 entries, 0 to 99999\n",
      "Data columns (total 5 columns):\n",
      " #   Column   Non-Null Count   Dtype  \n",
      "---  ------   --------------   -----  \n",
      " 0   id       100000 non-null  object \n",
      " 1   f0       100000 non-null  float64\n",
      " 2   f1       100000 non-null  float64\n",
      " 3   f2       100000 non-null  float64\n",
      " 4   product  100000 non-null  float64\n",
      "dtypes: float64(4), object(1)\n",
      "memory usage: 3.8+ MB\n",
      "<class 'pandas.core.frame.DataFrame'>\n",
      "RangeIndex: 100000 entries, 0 to 99999\n",
      "Data columns (total 5 columns):\n",
      " #   Column   Non-Null Count   Dtype  \n",
      "---  ------   --------------   -----  \n",
      " 0   id       100000 non-null  object \n",
      " 1   f0       100000 non-null  float64\n",
      " 2   f1       100000 non-null  float64\n",
      " 3   f2       100000 non-null  float64\n",
      " 4   product  100000 non-null  float64\n",
      "dtypes: float64(4), object(1)\n",
      "memory usage: 3.8+ MB\n",
      "<class 'pandas.core.frame.DataFrame'>\n",
      "RangeIndex: 100000 entries, 0 to 99999\n",
      "Data columns (total 5 columns):\n",
      " #   Column   Non-Null Count   Dtype  \n",
      "---  ------   --------------   -----  \n",
      " 0   id       100000 non-null  object \n",
      " 1   f0       100000 non-null  float64\n",
      " 2   f1       100000 non-null  float64\n",
      " 3   f2       100000 non-null  float64\n",
      " 4   product  100000 non-null  float64\n",
      "dtypes: float64(4), object(1)\n",
      "memory usage: 3.8+ MB\n"
     ]
    }
   ],
   "source": [
    "data_geo1.info()\n",
    "data_geo2.info()\n",
    "data_geo3.info()"
   ]
  },
  {
   "cell_type": "code",
   "execution_count": 5,
   "metadata": {},
   "outputs": [],
   "source": [
    "#признаки для обучения моделей\n",
    "features_geo1 = data_geo1.drop(['id','product'], axis=1)\n",
    "features_geo2 = data_geo2.drop(['id','product'], axis=1)\n",
    "features_geo3 = data_geo3.drop(['id','product'], axis=1)\n",
    "\n",
    "#целевые признаки для обучения модели\n",
    "target_geo1 = data_geo1['product']\n",
    "target_geo2 = data_geo2['product']\n",
    "target_geo3 = data_geo3['product']\n"
   ]
  },
  {
   "cell_type": "markdown",
   "metadata": {},
   "source": [
    "<div>\n",
    "    <b> Мой комментарий 🙃:</b>\n",
    "    <br> Порядок действий : загрузил данные --> разделил данные на таргеты и фичи (только айди убрал из данных)\n",
    "</div>"
   ]
  },
  {
   "cell_type": "markdown",
   "metadata": {},
   "source": [
    "## Обучение и проверка модели"
   ]
  },
  {
   "cell_type": "code",
   "execution_count": 6,
   "metadata": {},
   "outputs": [],
   "source": [
    "# разбиваю выборки на тестовую и валидициоонную для каждого датасета в соотношеннии 3 : 1\n",
    "features_geo1_train , features_geo1_valid, target_geo1_train, target_geo1_valid = train_test_split(features_geo1, target_geo1, test_size=.25, random_state=145)\n",
    "\n",
    "features_geo2_train , features_geo2_valid, target_geo2_train, target_geo2_valid = train_test_split(features_geo2, target_geo2, test_size=.25, random_state=145)\n",
    "\n",
    "features_geo3_train , features_geo3_valid, target_geo3_train, target_geo3_valid = train_test_split(features_geo3, target_geo3, test_size=.25, random_state=145)"
   ]
  },
  {
   "cell_type": "code",
   "execution_count": 7,
   "metadata": {},
   "outputs": [],
   "source": [
    "#сброшу индексы у таргета чтобы потом можно было использовать для поиска целевых значений предсказания с помощью iloc\n",
    "target_geo1_valid = target_geo1_valid.reset_index(drop=True)\n",
    "target_geo2_valid = target_geo2_valid.reset_index(drop=True)\n",
    "target_geo3_valid = target_geo3_valid.reset_index(drop=True)"
   ]
  },
  {
   "cell_type": "markdown",
   "metadata": {},
   "source": [
    "<div>\n",
    "    <b> Мой комментарий 🙃:</b>\n",
    "    <br> Разбил данные каждого региона на признаки и целевой признак\n",
    "    <br> Сбросил индексы у target_geo_valid\n",
    "</div>"
   ]
  },
  {
   "cell_type": "code",
   "execution_count": 8,
   "metadata": {},
   "outputs": [],
   "source": [
    "#напишу метод который будет обучать модель линейной регрессии и возвращать predictions модели , также будет выводить средний запас предсказанного сырья и RMSE модели\n",
    "\n",
    "def fit_predict(X_train, y_train, X_valid, y_valid):\n",
    "    model = LinearRegression()\n",
    "    model.fit(X_train, y_train)\n",
    "    predictions = pd.Series(model.predict(X_valid))\n",
    "    \n",
    "    print(f\"Модель : средний запас сырья {predictions.mean()} , RMSE модели {mean_squared_error(y_valid, predictions) ** 0.5}\")\n",
    "    return predictions"
   ]
  },
  {
   "cell_type": "code",
   "execution_count": 9,
   "metadata": {},
   "outputs": [
    {
     "name": "stdout",
     "output_type": "stream",
     "text": [
      "Модель : средний запас сырья 92.49714612578681 , RMSE модели 37.67377658924483\n"
     ]
    }
   ],
   "source": [
    "predictions_model_1 = fit_predict(features_geo1_train, target_geo1_train, features_geo1_valid, target_geo1_valid)"
   ]
  },
  {
   "cell_type": "code",
   "execution_count": 10,
   "metadata": {},
   "outputs": [
    {
     "name": "stdout",
     "output_type": "stream",
     "text": [
      "Модель : средний запас сырья 69.02412249554622 , RMSE модели 0.8958566393446236\n"
     ]
    }
   ],
   "source": [
    "predictions_model_2 = fit_predict(features_geo2_train, target_geo2_train, features_geo2_valid, target_geo2_valid)"
   ]
  },
  {
   "cell_type": "code",
   "execution_count": 11,
   "metadata": {},
   "outputs": [
    {
     "name": "stdout",
     "output_type": "stream",
     "text": [
      "Модель : средний запас сырья 94.99445800590067 , RMSE модели 40.072072843232085\n"
     ]
    }
   ],
   "source": [
    "predictions_model_3 = fit_predict(features_geo3_train, target_geo3_train, features_geo3_valid, target_geo3_valid)"
   ]
  },
  {
   "cell_type": "markdown",
   "metadata": {},
   "source": [
    "<div>\n",
    "    <b> Мой комментарий 🙃:</b>\n",
    "    <br> linear_model_1 и linear_model_3 показывают очень низкий RMSE на валидационных выборках - скорее всего недообучение , а вот linear_model_2 показывает очень высокий RMSE на валидационной выборке , скорее всего данные очень хорошо описываются линейно или переобучение, \n",
    "</div>"
   ]
  },
  {
   "cell_type": "markdown",
   "metadata": {},
   "source": [
    "## Подготовка к расчёту прибыли"
   ]
  },
  {
   "cell_type": "code",
   "execution_count": 12,
   "metadata": {},
   "outputs": [
    {
     "name": "stdout",
     "output_type": "stream",
     "text": [
      "Объем продукта для безубыточной разработки скважин , должен быть больше чем 111.11 тыс барралей в скважине \n"
     ]
    }
   ],
   "source": [
    "SAMPLES = 500 #500 точек для разведки региона \n",
    "BEST_SAMPLES = 200 # 200 точек лучших после разведки\n",
    "DEV_BUDGET = 10000000000 # бюджет на разработку скважин в регионе\n",
    "UNIT_INCOME = 450000 # доход с еденицы продукта\n",
    "\n",
    "BREAK_DEV_VOLUME = DEV_BUDGET/(BEST_SAMPLES*UNIT_INCOME)\n",
    "\n",
    "print(f'Объем продукта для безубыточной разработки скважин , должен быть больше чем {round(BREAK_DEV_VOLUME,2)} тыс барралей в скважине ')\n",
    "# с учетом того что выбраны для разработки будут всего 200 лучших скважин"
   ]
  },
  {
   "cell_type": "code",
   "execution_count": 13,
   "metadata": {},
   "outputs": [
    {
     "name": "stdout",
     "output_type": "stream",
     "text": [
      "Средний запас предсказанного сырья в 1 регионе 92.49714612578681 тыс. барралей\n",
      "Средний запас предсказанного сырья в 2 регионе 69.02412249554622 тыс. барралей\n",
      "Средний запас предсказанного сырья в 3 регионе 94.99445800590067 тыс. барралей\n"
     ]
    }
   ],
   "source": [
    "for i,j in zip([predictions_model_1, predictions_model_2, predictions_model_3], range(1,4)):\n",
    "    print(f'Средний запас предсказанного сырья в {j} регионе {i.mean()} тыс. барралей')\n"
   ]
  },
  {
   "cell_type": "markdown",
   "metadata": {},
   "source": [
    "<div>\n",
    "    <b> Мой комментарий 🙃:</b>\n",
    "    <br> По расчетам при исследовании 200 скважин необходимый объем продукта для безубыточной разработки скважин в регионе должен быть больше чем 111 тыс барралей в скважине , средний объем предсказанного объема сырья по каждому региону  не превосходит этот объем  , так что разрабатывать нужно  регионы с средним показателем близким к этому значению т.е geo1 и geo3\n",
    "</div>"
   ]
  },
  {
   "cell_type": "markdown",
   "metadata": {},
   "source": [
    "## Расчёт прибыли и рисков "
   ]
  },
  {
   "cell_type": "code",
   "execution_count": 14,
   "metadata": {},
   "outputs": [],
   "source": [
    "# функция для расчета прибыли ищем 200 лучших\n",
    "def profit_calc(target_value, predictions): # нахожу 200 скважин с макс значением предсказанного запаса сырья ---> cуммирую целевое значение по этим 200 лучших скважин умножаю на стоимость еденицы продукта вычитаю бюджет ===<> возвращаю прибыль по 200 лучшим скважинам \n",
    "    predictions = predictions.sort_values(ascending=False)# sorted\n",
    "    predictions = predictions.iloc[:200]#take 200 best\n",
    "    target_value = target_value.loc[predictions.index]# find target\n",
    "    return round(target_value.sum() * UNIT_INCOME - DEV_BUDGET)#find profit"
   ]
  },
  {
   "cell_type": "markdown",
   "metadata": {},
   "source": [
    "<div>\n",
    "    <b> Мой комментарий 🙃:</b>\n",
    "    <br> Написал метод для расчета 200 лучших скважин по объему сырья , расчитал доход по трем геоданным\n",
    "</div>"
   ]
  },
  {
   "cell_type": "code",
   "execution_count": 15,
   "metadata": {},
   "outputs": [],
   "source": [
    "# метод для нахождения 1000 бутстрап выборок для поиска распределения прибыли  \n",
    "def bootstrap(target, predictions):\n",
    "    state = RandomState(27)\n",
    "    array = []\n",
    "    for i in range(1000):\n",
    "        predictions_sampled = predictions.sample(n=500, replace=True, random_state=state)\n",
    "        array.append(profit_calc(target, predictions_sampled))\n",
    "    return pd.Series(array)"
   ]
  },
  {
   "cell_type": "code",
   "execution_count": 20,
   "metadata": {},
   "outputs": [],
   "source": [
    "def mean_and_interval(target, predictions):\n",
    "    array = bootstrap(target, predictions)\n",
    "    print(f'средняя прибыль {array.mean()}')\n",
    "    print(f'95% выручки будет находиться в интервале от {array.quantile(0.025)} и до {array.quantile(0.975)}')\n",
    "    print(f'вероятность убытков : {round((array.values<0).mean() * 100,1)}%')"
   ]
  },
  {
   "cell_type": "code",
   "execution_count": 22,
   "metadata": {},
   "outputs": [
    {
     "name": "stdout",
     "output_type": "stream",
     "text": [
      "0.043\n"
     ]
    }
   ],
   "source": [
    "array = bootstrap(target_geo1_valid, predictions_model_1)\n",
    "print((array.values < 0).mean())"
   ]
  },
  {
   "cell_type": "code",
   "execution_count": 23,
   "metadata": {},
   "outputs": [
    {
     "name": "stdout",
     "output_type": "stream",
     "text": [
      "средняя прибыль 414571755.603\n",
      "95% выручки будет находиться в интервале от -39240041.64999999 и до 862590378.4749998\n",
      "вероятность убытков : 4.3%\n"
     ]
    }
   ],
   "source": [
    "mean_and_interval(target_geo1_valid, predictions_model_1)"
   ]
  },
  {
   "cell_type": "code",
   "execution_count": 24,
   "metadata": {},
   "outputs": [
    {
     "name": "stdout",
     "output_type": "stream",
     "text": [
      "средняя прибыль 469962131.851\n",
      "95% выручки будет находиться в интервале от 66588936.37500001 и до 863804197.7249999\n",
      "вероятность убытков : 1.1%\n"
     ]
    }
   ],
   "source": [
    "mean_and_interval(target_geo2_valid, predictions_model_2)"
   ]
  },
  {
   "cell_type": "code",
   "execution_count": 25,
   "metadata": {},
   "outputs": [
    {
     "name": "stdout",
     "output_type": "stream",
     "text": [
      "средняя прибыль 332228218.322\n",
      "95% выручки будет находиться в интервале от -190128540.67499998 и до 845111365.15\n",
      "вероятность убытков : 10.6%\n"
     ]
    }
   ],
   "source": [
    "mean_and_interval(target_geo3_valid, predictions_model_3)"
   ]
  },
  {
   "cell_type": "markdown",
   "metadata": {},
   "source": [
    "<div>\n",
    "    <b> Мой комментарий 🙃:</b>\n",
    "    <br> Нашел по данным предсказаний трех моделей в каждом регионе , с помощью бутстрап выборок , доверительный интервал средней прибыли , среднюю прибыль  , а также риск убытков\n",
    "    <br>По этим данным можно сделать вывод , что в регионах 1  и 3 cредняя прогнозируемая прибыль меньше чем во втором регионе при том что вероятность рисков больше \n",
    "    <br>Мои рекомендации производить разработку скважин в 2 регионе , потому что средняя потенциальная прибыль в этом регионе больше , при том что риск убытков меньше чем в других регионах.\n",
    "</div>"
   ]
  }
 ],
 "metadata": {
  "ExecuteTimeLog": [
   {
    "duration": 529,
    "start_time": "2022-03-28T16:55:48.202Z"
   },
   {
    "duration": 222,
    "start_time": "2022-03-28T16:57:36.517Z"
   },
   {
    "duration": 22,
    "start_time": "2022-03-28T16:57:53.920Z"
   },
   {
    "duration": 27,
    "start_time": "2022-03-28T16:58:15.802Z"
   },
   {
    "duration": 439,
    "start_time": "2022-03-28T17:00:51.349Z"
   },
   {
    "duration": 13,
    "start_time": "2022-03-28T17:03:21.879Z"
   },
   {
    "duration": 1349,
    "start_time": "2022-03-28T17:07:00.078Z"
   },
   {
    "duration": 166,
    "start_time": "2022-03-28T17:09:01.766Z"
   },
   {
    "duration": 8,
    "start_time": "2022-03-28T17:09:06.096Z"
   },
   {
    "duration": 5,
    "start_time": "2022-03-28T17:09:18.330Z"
   },
   {
    "duration": 15,
    "start_time": "2022-03-28T17:09:25.731Z"
   },
   {
    "duration": 14,
    "start_time": "2022-03-28T17:10:05.191Z"
   },
   {
    "duration": 17,
    "start_time": "2022-03-28T17:10:15.455Z"
   },
   {
    "duration": 26,
    "start_time": "2022-03-28T17:10:32.476Z"
   },
   {
    "duration": 15,
    "start_time": "2022-03-28T17:12:28.174Z"
   },
   {
    "duration": 15,
    "start_time": "2022-03-28T17:12:36.680Z"
   },
   {
    "duration": 8,
    "start_time": "2022-03-28T17:12:50.203Z"
   },
   {
    "duration": 18,
    "start_time": "2022-03-28T17:13:00.871Z"
   },
   {
    "duration": 16,
    "start_time": "2022-03-28T17:13:12.806Z"
   },
   {
    "duration": 15,
    "start_time": "2022-03-28T17:13:21.008Z"
   },
   {
    "duration": 14,
    "start_time": "2022-03-28T17:15:51.561Z"
   },
   {
    "duration": 15,
    "start_time": "2022-03-28T17:16:20.469Z"
   },
   {
    "duration": 17,
    "start_time": "2022-03-28T17:16:44.778Z"
   },
   {
    "duration": 8,
    "start_time": "2022-03-28T17:17:17.348Z"
   },
   {
    "duration": 26,
    "start_time": "2022-03-28T17:17:34.149Z"
   },
   {
    "duration": 15,
    "start_time": "2022-03-28T17:17:45.440Z"
   },
   {
    "duration": 6,
    "start_time": "2022-03-28T17:17:49.768Z"
   },
   {
    "duration": 6,
    "start_time": "2022-03-28T17:18:03.361Z"
   },
   {
    "duration": 6,
    "start_time": "2022-03-28T17:18:15.210Z"
   },
   {
    "duration": 20,
    "start_time": "2022-03-28T17:18:39.797Z"
   },
   {
    "duration": 5,
    "start_time": "2022-03-28T17:18:51.543Z"
   },
   {
    "duration": 11,
    "start_time": "2022-03-28T17:19:04.257Z"
   },
   {
    "duration": 8,
    "start_time": "2022-03-28T17:19:15.730Z"
   },
   {
    "duration": 7,
    "start_time": "2022-03-28T17:19:23.195Z"
   },
   {
    "duration": 36,
    "start_time": "2022-03-28T17:20:49.294Z"
   },
   {
    "duration": 22,
    "start_time": "2022-03-28T17:21:26.634Z"
   },
   {
    "duration": 5,
    "start_time": "2022-03-28T17:23:56.229Z"
   },
   {
    "duration": 6,
    "start_time": "2022-03-28T17:24:05.797Z"
   },
   {
    "duration": 8,
    "start_time": "2022-03-28T17:24:17.585Z"
   },
   {
    "duration": 11,
    "start_time": "2022-03-28T17:27:53.697Z"
   },
   {
    "duration": 25,
    "start_time": "2022-03-28T17:30:49.398Z"
   },
   {
    "duration": 117,
    "start_time": "2022-03-28T17:35:38.912Z"
   },
   {
    "duration": 35,
    "start_time": "2022-03-28T17:36:01.324Z"
   },
   {
    "duration": 26,
    "start_time": "2022-03-28T17:36:19.798Z"
   },
   {
    "duration": 19,
    "start_time": "2022-03-28T17:36:27.303Z"
   },
   {
    "duration": 17,
    "start_time": "2022-03-28T17:38:09.820Z"
   },
   {
    "duration": 17,
    "start_time": "2022-03-28T17:38:38.919Z"
   },
   {
    "duration": 18,
    "start_time": "2022-03-28T17:39:04.931Z"
   },
   {
    "duration": 130,
    "start_time": "2022-03-28T17:39:14.732Z"
   },
   {
    "duration": 17,
    "start_time": "2022-03-28T17:39:23.117Z"
   },
   {
    "duration": 73,
    "start_time": "2022-03-28T17:40:34.443Z"
   },
   {
    "duration": 32,
    "start_time": "2022-03-28T17:44:39.115Z"
   },
   {
    "duration": 123,
    "start_time": "2022-03-28T17:50:45.283Z"
   },
   {
    "duration": 4,
    "start_time": "2022-03-28T17:52:20.297Z"
   },
   {
    "duration": 15,
    "start_time": "2022-03-28T17:52:39.242Z"
   },
   {
    "duration": 11,
    "start_time": "2022-03-28T17:52:49.763Z"
   },
   {
    "duration": 12,
    "start_time": "2022-03-28T17:52:57.940Z"
   },
   {
    "duration": 11,
    "start_time": "2022-03-28T17:53:09.998Z"
   },
   {
    "duration": 18,
    "start_time": "2022-03-28T17:53:19.097Z"
   },
   {
    "duration": 9,
    "start_time": "2022-03-28T17:53:33.272Z"
   },
   {
    "duration": 31,
    "start_time": "2022-03-28T17:53:34.768Z"
   },
   {
    "duration": 30,
    "start_time": "2022-03-28T17:53:37.601Z"
   },
   {
    "duration": 9,
    "start_time": "2022-03-28T17:53:39.006Z"
   },
   {
    "duration": 445,
    "start_time": "2022-03-28T17:53:55.610Z"
   },
   {
    "duration": 12,
    "start_time": "2022-03-28T17:53:58.258Z"
   },
   {
    "duration": 41,
    "start_time": "2022-03-28T17:54:00.196Z"
   },
   {
    "duration": 28,
    "start_time": "2022-03-28T17:54:02.340Z"
   },
   {
    "duration": 1467,
    "start_time": "2022-03-28T20:27:11.992Z"
   },
   {
    "duration": 406,
    "start_time": "2022-03-28T20:27:16.191Z"
   },
   {
    "duration": 393,
    "start_time": "2022-03-28T20:27:25.393Z"
   },
   {
    "duration": 13,
    "start_time": "2022-03-28T20:27:26.736Z"
   },
   {
    "duration": 38,
    "start_time": "2022-03-28T20:27:49.344Z"
   },
   {
    "duration": 99,
    "start_time": "2022-03-28T20:27:55.084Z"
   },
   {
    "duration": 139,
    "start_time": "2022-03-28T20:28:59.349Z"
   },
   {
    "duration": 22,
    "start_time": "2022-03-28T20:29:11.654Z"
   },
   {
    "duration": 30,
    "start_time": "2022-03-28T20:29:37.345Z"
   },
   {
    "duration": 21,
    "start_time": "2022-03-28T20:32:26.954Z"
   },
   {
    "duration": 18,
    "start_time": "2022-03-28T20:33:46.719Z"
   },
   {
    "duration": 17,
    "start_time": "2022-03-28T20:34:32.129Z"
   },
   {
    "duration": 17,
    "start_time": "2022-03-28T20:36:10.759Z"
   },
   {
    "duration": 22,
    "start_time": "2022-03-28T20:36:59.822Z"
   },
   {
    "duration": 24,
    "start_time": "2022-03-28T20:38:07.318Z"
   },
   {
    "duration": 22,
    "start_time": "2022-03-28T20:38:21.680Z"
   },
   {
    "duration": 45,
    "start_time": "2022-03-28T20:44:05.843Z"
   },
   {
    "duration": 18,
    "start_time": "2022-03-28T20:44:43.462Z"
   },
   {
    "duration": 18,
    "start_time": "2022-03-28T20:45:05.986Z"
   },
   {
    "duration": 20,
    "start_time": "2022-03-28T20:45:47.940Z"
   },
   {
    "duration": 124,
    "start_time": "2022-03-28T20:45:53.167Z"
   },
   {
    "duration": 15,
    "start_time": "2022-03-28T20:46:01.464Z"
   },
   {
    "duration": 14,
    "start_time": "2022-03-28T20:46:17.130Z"
   },
   {
    "duration": 1222,
    "start_time": "2022-03-29T16:45:56.721Z"
   },
   {
    "duration": 404,
    "start_time": "2022-03-29T16:45:57.945Z"
   },
   {
    "duration": 19,
    "start_time": "2022-03-29T16:45:59.769Z"
   },
   {
    "duration": 16,
    "start_time": "2022-03-29T16:46:15.114Z"
   },
   {
    "duration": 11,
    "start_time": "2022-03-29T16:46:24.115Z"
   },
   {
    "duration": 32,
    "start_time": "2022-03-29T16:46:34.340Z"
   },
   {
    "duration": 19,
    "start_time": "2022-03-29T16:46:37.324Z"
   },
   {
    "duration": 18,
    "start_time": "2022-03-29T16:46:40.252Z"
   },
   {
    "duration": 21,
    "start_time": "2022-03-29T16:46:43.509Z"
   },
   {
    "duration": 3,
    "start_time": "2022-03-29T16:55:59.344Z"
   },
   {
    "duration": 4,
    "start_time": "2022-03-29T17:03:05.183Z"
   },
   {
    "duration": 101,
    "start_time": "2022-03-29T17:03:42.404Z"
   },
   {
    "duration": 5,
    "start_time": "2022-03-29T17:04:34.381Z"
   },
   {
    "duration": 7,
    "start_time": "2022-03-29T17:04:50.471Z"
   },
   {
    "duration": 10,
    "start_time": "2022-03-29T17:05:32.845Z"
   },
   {
    "duration": 23,
    "start_time": "2022-03-29T17:05:55.631Z"
   },
   {
    "duration": 4,
    "start_time": "2022-03-29T17:08:27.530Z"
   },
   {
    "duration": 4,
    "start_time": "2022-03-29T17:09:04.533Z"
   },
   {
    "duration": 4,
    "start_time": "2022-03-29T17:09:18.574Z"
   },
   {
    "duration": 3,
    "start_time": "2022-03-29T17:09:52.139Z"
   },
   {
    "duration": 10,
    "start_time": "2022-03-29T17:14:24.988Z"
   },
   {
    "duration": 4,
    "start_time": "2022-03-29T17:14:29.555Z"
   },
   {
    "duration": 4,
    "start_time": "2022-03-29T17:14:41.974Z"
   },
   {
    "duration": 5,
    "start_time": "2022-03-29T17:14:58.559Z"
   },
   {
    "duration": 5,
    "start_time": "2022-03-29T17:18:26.774Z"
   },
   {
    "duration": 3,
    "start_time": "2022-03-29T17:22:31.046Z"
   },
   {
    "duration": 5,
    "start_time": "2022-03-29T17:22:44.816Z"
   },
   {
    "duration": 4,
    "start_time": "2022-03-29T17:24:25.196Z"
   },
   {
    "duration": 11,
    "start_time": "2022-03-29T17:24:34.868Z"
   },
   {
    "duration": 8,
    "start_time": "2022-03-29T17:24:46.166Z"
   },
   {
    "duration": 9,
    "start_time": "2022-03-29T17:25:08.376Z"
   },
   {
    "duration": 8,
    "start_time": "2022-03-29T17:25:17.570Z"
   },
   {
    "duration": 4,
    "start_time": "2022-03-29T17:26:14.610Z"
   },
   {
    "duration": 9,
    "start_time": "2022-03-29T17:26:59.936Z"
   },
   {
    "duration": 4,
    "start_time": "2022-03-29T17:27:14.034Z"
   },
   {
    "duration": 7,
    "start_time": "2022-03-29T17:27:43.818Z"
   },
   {
    "duration": 8,
    "start_time": "2022-03-29T17:28:06.593Z"
   },
   {
    "duration": 7,
    "start_time": "2022-03-29T17:28:14.664Z"
   },
   {
    "duration": 7,
    "start_time": "2022-03-29T17:28:29.602Z"
   },
   {
    "duration": 4,
    "start_time": "2022-03-29T17:31:11.982Z"
   },
   {
    "duration": 7,
    "start_time": "2022-03-29T17:31:34.521Z"
   },
   {
    "duration": 4,
    "start_time": "2022-03-29T17:32:14.110Z"
   },
   {
    "duration": 8,
    "start_time": "2022-03-29T17:32:14.781Z"
   },
   {
    "duration": 3,
    "start_time": "2022-03-29T17:32:58.339Z"
   },
   {
    "duration": 7,
    "start_time": "2022-03-29T17:32:58.724Z"
   },
   {
    "duration": 8,
    "start_time": "2022-03-29T17:33:07.371Z"
   },
   {
    "duration": 9,
    "start_time": "2022-03-29T17:33:18.573Z"
   },
   {
    "duration": 15,
    "start_time": "2022-03-29T17:33:51.361Z"
   },
   {
    "duration": 4,
    "start_time": "2022-03-29T17:34:31.086Z"
   },
   {
    "duration": 18,
    "start_time": "2022-03-29T17:34:31.702Z"
   },
   {
    "duration": 4,
    "start_time": "2022-03-29T17:34:41.399Z"
   },
   {
    "duration": 18,
    "start_time": "2022-03-29T17:34:41.751Z"
   },
   {
    "duration": 3,
    "start_time": "2022-03-29T17:38:02.248Z"
   },
   {
    "duration": 10,
    "start_time": "2022-03-29T17:38:04.047Z"
   },
   {
    "duration": 26,
    "start_time": "2022-03-29T17:38:17.650Z"
   },
   {
    "duration": 4,
    "start_time": "2022-03-29T17:39:18.697Z"
   },
   {
    "duration": 25,
    "start_time": "2022-03-29T17:39:20.113Z"
   },
   {
    "duration": 3,
    "start_time": "2022-03-29T17:39:46.740Z"
   },
   {
    "duration": 18,
    "start_time": "2022-03-29T17:39:47.557Z"
   },
   {
    "duration": 17,
    "start_time": "2022-03-29T17:40:26.552Z"
   },
   {
    "duration": 10,
    "start_time": "2022-03-29T17:45:56.913Z"
   },
   {
    "duration": 8,
    "start_time": "2022-03-29T17:46:17.256Z"
   },
   {
    "duration": 11,
    "start_time": "2022-03-29T17:46:57.105Z"
   },
   {
    "duration": 6,
    "start_time": "2022-03-29T17:47:29.196Z"
   },
   {
    "duration": 7,
    "start_time": "2022-03-29T17:48:04.457Z"
   },
   {
    "duration": 5,
    "start_time": "2022-03-29T17:48:07.722Z"
   },
   {
    "duration": 7,
    "start_time": "2022-03-29T17:49:09.600Z"
   },
   {
    "duration": 12,
    "start_time": "2022-03-29T17:49:30.587Z"
   },
   {
    "duration": 11,
    "start_time": "2022-03-29T17:49:39.811Z"
   },
   {
    "duration": 10,
    "start_time": "2022-03-29T17:50:08.744Z"
   },
   {
    "duration": 35,
    "start_time": "2022-03-29T17:51:18.264Z"
   },
   {
    "duration": 9,
    "start_time": "2022-03-29T17:51:31.491Z"
   },
   {
    "duration": 13,
    "start_time": "2022-03-29T17:51:56.166Z"
   },
   {
    "duration": 4,
    "start_time": "2022-03-29T17:58:18.257Z"
   },
   {
    "duration": 20,
    "start_time": "2022-03-29T17:58:18.818Z"
   },
   {
    "duration": 10,
    "start_time": "2022-03-29T18:00:37.404Z"
   },
   {
    "duration": 3,
    "start_time": "2022-03-29T18:00:45.694Z"
   },
   {
    "duration": 4,
    "start_time": "2022-03-29T18:07:28.162Z"
   },
   {
    "duration": 11,
    "start_time": "2022-03-29T18:08:29.563Z"
   },
   {
    "duration": 4,
    "start_time": "2022-03-29T18:08:33.482Z"
   },
   {
    "duration": 11,
    "start_time": "2022-03-29T18:08:34.562Z"
   },
   {
    "duration": 22,
    "start_time": "2022-03-29T18:09:15.287Z"
   },
   {
    "duration": 47,
    "start_time": "2022-03-29T18:09:26.220Z"
   },
   {
    "duration": 18,
    "start_time": "2022-03-29T18:09:36.474Z"
   },
   {
    "duration": 9,
    "start_time": "2022-03-29T18:21:01.444Z"
   },
   {
    "duration": 1172,
    "start_time": "2022-03-29T18:21:14.940Z"
   },
   {
    "duration": 371,
    "start_time": "2022-03-29T18:21:16.428Z"
   },
   {
    "duration": 18,
    "start_time": "2022-03-29T18:21:18.245Z"
   },
   {
    "duration": 11,
    "start_time": "2022-03-29T18:21:20.558Z"
   },
   {
    "duration": 33,
    "start_time": "2022-03-29T18:21:22.013Z"
   },
   {
    "duration": 19,
    "start_time": "2022-03-29T18:21:23.446Z"
   },
   {
    "duration": 17,
    "start_time": "2022-03-29T18:21:24.141Z"
   },
   {
    "duration": 22,
    "start_time": "2022-03-29T18:21:25.557Z"
   },
   {
    "duration": 4,
    "start_time": "2022-03-29T18:21:26.973Z"
   },
   {
    "duration": 4,
    "start_time": "2022-03-29T18:21:28.413Z"
   },
   {
    "duration": 4,
    "start_time": "2022-03-29T18:21:44.240Z"
   },
   {
    "duration": 17,
    "start_time": "2022-03-29T18:21:46.087Z"
   },
   {
    "duration": 5,
    "start_time": "2022-03-29T18:21:48.328Z"
   },
   {
    "duration": 615,
    "start_time": "2022-03-29T18:21:50.472Z"
   },
   {
    "duration": 560,
    "start_time": "2022-03-29T18:22:06.369Z"
   },
   {
    "duration": 6,
    "start_time": "2022-03-29T18:22:20.781Z"
   },
   {
    "duration": 463,
    "start_time": "2022-03-29T18:22:21.187Z"
   },
   {
    "duration": 439,
    "start_time": "2022-03-29T18:22:58.033Z"
   },
   {
    "duration": 4,
    "start_time": "2022-03-29T18:23:52.303Z"
   },
   {
    "duration": 15,
    "start_time": "2022-03-29T18:23:53.070Z"
   },
   {
    "duration": 4,
    "start_time": "2022-03-29T18:23:59.935Z"
   },
   {
    "duration": 446,
    "start_time": "2022-03-29T18:24:04.873Z"
   },
   {
    "duration": 458,
    "start_time": "2022-03-29T18:24:28.443Z"
   },
   {
    "duration": 445,
    "start_time": "2022-03-29T18:24:34.347Z"
   },
   {
    "duration": 1043,
    "start_time": "2022-03-30T16:01:01.157Z"
   },
   {
    "duration": 356,
    "start_time": "2022-03-30T16:01:02.261Z"
   },
   {
    "duration": 16,
    "start_time": "2022-03-30T16:01:04.597Z"
   },
   {
    "duration": 34,
    "start_time": "2022-03-30T16:01:23.592Z"
   },
   {
    "duration": 10,
    "start_time": "2022-03-30T16:01:51.611Z"
   },
   {
    "duration": 96,
    "start_time": "2022-03-30T16:03:03.206Z"
   },
   {
    "duration": 33,
    "start_time": "2022-03-30T16:03:07.340Z"
   },
   {
    "duration": 18,
    "start_time": "2022-03-30T16:03:08.483Z"
   },
   {
    "duration": 18,
    "start_time": "2022-03-30T16:03:09.805Z"
   },
   {
    "duration": 17,
    "start_time": "2022-03-30T16:03:11.404Z"
   },
   {
    "duration": 4,
    "start_time": "2022-03-30T16:05:47.991Z"
   },
   {
    "duration": 5,
    "start_time": "2022-03-30T16:06:05.665Z"
   },
   {
    "duration": 10,
    "start_time": "2022-03-30T16:08:28.859Z"
   },
   {
    "duration": 9,
    "start_time": "2022-03-30T16:08:32.532Z"
   },
   {
    "duration": 8,
    "start_time": "2022-03-30T16:08:44.109Z"
   },
   {
    "duration": 4,
    "start_time": "2022-03-30T16:09:03.310Z"
   },
   {
    "duration": 6,
    "start_time": "2022-03-30T16:09:19.633Z"
   },
   {
    "duration": 4,
    "start_time": "2022-03-30T16:09:28.322Z"
   },
   {
    "duration": 4,
    "start_time": "2022-03-30T16:09:36.716Z"
   },
   {
    "duration": 9,
    "start_time": "2022-03-30T16:11:44.051Z"
   },
   {
    "duration": 5,
    "start_time": "2022-03-30T16:12:37.362Z"
   },
   {
    "duration": 5,
    "start_time": "2022-03-30T16:12:45.490Z"
   },
   {
    "duration": 29,
    "start_time": "2022-03-30T16:13:27.632Z"
   },
   {
    "duration": 5,
    "start_time": "2022-03-30T16:13:50.578Z"
   },
   {
    "duration": 5,
    "start_time": "2022-03-30T16:13:59.691Z"
   },
   {
    "duration": 12,
    "start_time": "2022-03-30T16:14:11.724Z"
   },
   {
    "duration": 6,
    "start_time": "2022-03-30T16:14:25.867Z"
   },
   {
    "duration": 5,
    "start_time": "2022-03-30T16:14:34.868Z"
   },
   {
    "duration": 3,
    "start_time": "2022-03-30T16:14:59.489Z"
   },
   {
    "duration": 5,
    "start_time": "2022-03-30T16:15:04.875Z"
   },
   {
    "duration": 4,
    "start_time": "2022-03-30T16:15:11.756Z"
   },
   {
    "duration": 6,
    "start_time": "2022-03-30T16:15:17.124Z"
   },
   {
    "duration": 4,
    "start_time": "2022-03-30T16:17:29.618Z"
   },
   {
    "duration": 7,
    "start_time": "2022-03-30T16:18:29.461Z"
   },
   {
    "duration": 6,
    "start_time": "2022-03-30T16:18:30.587Z"
   },
   {
    "duration": 5,
    "start_time": "2022-03-30T16:18:44.784Z"
   },
   {
    "duration": 5,
    "start_time": "2022-03-30T16:18:45.845Z"
   },
   {
    "duration": 6,
    "start_time": "2022-03-30T16:18:50.255Z"
   },
   {
    "duration": 6,
    "start_time": "2022-03-30T16:18:55.551Z"
   },
   {
    "duration": 3,
    "start_time": "2022-03-30T16:19:21.611Z"
   },
   {
    "duration": 5,
    "start_time": "2022-03-30T16:19:33.627Z"
   },
   {
    "duration": 4,
    "start_time": "2022-03-30T16:20:20.183Z"
   },
   {
    "duration": 3,
    "start_time": "2022-03-30T16:24:03.009Z"
   },
   {
    "duration": 22,
    "start_time": "2022-03-30T16:24:05.540Z"
   },
   {
    "duration": 3,
    "start_time": "2022-03-30T16:25:31.464Z"
   },
   {
    "duration": 3,
    "start_time": "2022-03-30T16:25:33.679Z"
   },
   {
    "duration": 18,
    "start_time": "2022-03-30T16:25:35.743Z"
   },
   {
    "duration": 8,
    "start_time": "2022-03-30T16:26:17.716Z"
   },
   {
    "duration": 9,
    "start_time": "2022-03-30T16:26:41.395Z"
   },
   {
    "duration": 8,
    "start_time": "2022-03-30T16:26:53.632Z"
   },
   {
    "duration": 10,
    "start_time": "2022-03-30T16:28:08.723Z"
   },
   {
    "duration": 9,
    "start_time": "2022-03-30T16:28:14.723Z"
   },
   {
    "duration": 7,
    "start_time": "2022-03-30T16:28:35.077Z"
   },
   {
    "duration": 8,
    "start_time": "2022-03-30T16:29:08.825Z"
   },
   {
    "duration": 7,
    "start_time": "2022-03-30T16:29:13.153Z"
   },
   {
    "duration": 16,
    "start_time": "2022-03-30T16:29:32.324Z"
   },
   {
    "duration": 7,
    "start_time": "2022-03-30T16:29:36.715Z"
   },
   {
    "duration": 4,
    "start_time": "2022-03-30T16:31:00.876Z"
   },
   {
    "duration": 4,
    "start_time": "2022-03-30T16:31:10.095Z"
   },
   {
    "duration": 3,
    "start_time": "2022-03-30T16:31:35.507Z"
   },
   {
    "duration": 4,
    "start_time": "2022-03-30T16:31:43.355Z"
   },
   {
    "duration": 3,
    "start_time": "2022-03-30T16:32:26.170Z"
   },
   {
    "duration": 19,
    "start_time": "2022-03-30T16:32:28.929Z"
   },
   {
    "duration": 7,
    "start_time": "2022-03-30T16:32:40.826Z"
   },
   {
    "duration": 6,
    "start_time": "2022-03-30T16:33:00.369Z"
   },
   {
    "duration": 6,
    "start_time": "2022-03-30T16:33:58.347Z"
   },
   {
    "duration": 5,
    "start_time": "2022-03-30T16:34:41.121Z"
   },
   {
    "duration": 7,
    "start_time": "2022-03-30T16:34:46.321Z"
   },
   {
    "duration": 4,
    "start_time": "2022-03-30T16:34:58.243Z"
   },
   {
    "duration": 5,
    "start_time": "2022-03-30T16:34:59.764Z"
   },
   {
    "duration": 6,
    "start_time": "2022-03-30T16:36:23.723Z"
   },
   {
    "duration": 7,
    "start_time": "2022-03-30T16:36:30.341Z"
   },
   {
    "duration": 5,
    "start_time": "2022-03-30T16:36:48.208Z"
   },
   {
    "duration": 6,
    "start_time": "2022-03-30T16:36:53.696Z"
   },
   {
    "duration": 33,
    "start_time": "2022-03-30T16:37:32.462Z"
   },
   {
    "duration": 4,
    "start_time": "2022-03-30T16:37:34.270Z"
   },
   {
    "duration": 5,
    "start_time": "2022-03-30T16:38:45.126Z"
   },
   {
    "duration": 20,
    "start_time": "2022-03-30T16:38:49.783Z"
   },
   {
    "duration": 16,
    "start_time": "2022-03-30T16:38:50.327Z"
   },
   {
    "duration": 17,
    "start_time": "2022-03-30T16:38:50.871Z"
   },
   {
    "duration": 3,
    "start_time": "2022-03-30T16:38:55.672Z"
   },
   {
    "duration": 5,
    "start_time": "2022-03-30T16:38:56.816Z"
   },
   {
    "duration": 4,
    "start_time": "2022-03-30T16:38:59.447Z"
   },
   {
    "duration": 5,
    "start_time": "2022-03-30T16:39:01.984Z"
   },
   {
    "duration": 7,
    "start_time": "2022-03-30T16:39:10.049Z"
   },
   {
    "duration": 5,
    "start_time": "2022-03-30T16:39:37.054Z"
   },
   {
    "duration": 8,
    "start_time": "2022-03-30T16:39:48.814Z"
   },
   {
    "duration": 4,
    "start_time": "2022-03-30T16:40:02.167Z"
   },
   {
    "duration": 4,
    "start_time": "2022-03-30T16:40:17.784Z"
   },
   {
    "duration": 4,
    "start_time": "2022-03-30T16:40:28.793Z"
   },
   {
    "duration": 4,
    "start_time": "2022-03-30T16:40:51.510Z"
   },
   {
    "duration": 4,
    "start_time": "2022-03-30T16:41:02.175Z"
   },
   {
    "duration": 7,
    "start_time": "2022-03-30T16:41:34.250Z"
   },
   {
    "duration": 4,
    "start_time": "2022-03-30T16:41:55.454Z"
   },
   {
    "duration": 3,
    "start_time": "2022-03-30T16:42:42.252Z"
   },
   {
    "duration": 15,
    "start_time": "2022-03-30T16:42:43.555Z"
   },
   {
    "duration": 5,
    "start_time": "2022-03-30T16:49:01.153Z"
   },
   {
    "duration": 9,
    "start_time": "2022-03-30T16:49:09.010Z"
   },
   {
    "duration": 1259,
    "start_time": "2022-03-30T16:49:23.107Z"
   },
   {
    "duration": 4,
    "start_time": "2022-03-30T16:51:38.577Z"
   },
   {
    "duration": 12,
    "start_time": "2022-03-30T16:52:10.160Z"
   },
   {
    "duration": 4,
    "start_time": "2022-03-30T16:52:24.601Z"
   },
   {
    "duration": 2268,
    "start_time": "2022-03-30T16:52:25.329Z"
   },
   {
    "duration": 1370,
    "start_time": "2022-03-30T16:54:32.248Z"
   },
   {
    "duration": 3,
    "start_time": "2022-03-30T16:55:54.873Z"
   },
   {
    "duration": 14,
    "start_time": "2022-03-30T16:55:55.537Z"
   },
   {
    "duration": 467,
    "start_time": "2022-03-30T16:56:05.986Z"
   },
   {
    "duration": 50,
    "start_time": "2022-03-30T17:35:21.461Z"
   },
   {
    "duration": 1079,
    "start_time": "2022-03-30T17:35:28.382Z"
   },
   {
    "duration": 347,
    "start_time": "2022-03-30T17:35:29.463Z"
   },
   {
    "duration": 34,
    "start_time": "2022-03-30T17:35:29.902Z"
   },
   {
    "duration": 9,
    "start_time": "2022-03-30T17:35:31.616Z"
   },
   {
    "duration": 31,
    "start_time": "2022-03-30T17:35:33.679Z"
   },
   {
    "duration": 4,
    "start_time": "2022-03-30T17:35:34.135Z"
   },
   {
    "duration": 89,
    "start_time": "2022-03-30T17:35:35.447Z"
   },
   {
    "duration": 17,
    "start_time": "2022-03-30T17:35:36.663Z"
   },
   {
    "duration": 16,
    "start_time": "2022-03-30T17:35:38.287Z"
   },
   {
    "duration": 4,
    "start_time": "2022-03-30T17:35:47.320Z"
   },
   {
    "duration": 8,
    "start_time": "2022-03-30T17:38:42.598Z"
   },
   {
    "duration": 7,
    "start_time": "2022-03-30T17:39:23.575Z"
   },
   {
    "duration": 4,
    "start_time": "2022-03-30T17:39:31.867Z"
   },
   {
    "duration": 5,
    "start_time": "2022-03-30T17:39:49.452Z"
   },
   {
    "duration": 5,
    "start_time": "2022-03-30T17:39:54.701Z"
   },
   {
    "duration": 4,
    "start_time": "2022-03-30T17:40:57.388Z"
   },
   {
    "duration": 5,
    "start_time": "2022-03-30T17:41:14.757Z"
   },
   {
    "duration": 4,
    "start_time": "2022-03-30T17:41:49.593Z"
   },
   {
    "duration": 14,
    "start_time": "2022-03-30T17:41:51.329Z"
   },
   {
    "duration": 4,
    "start_time": "2022-03-30T17:42:06.666Z"
   },
   {
    "duration": 13,
    "start_time": "2022-03-30T17:42:08.644Z"
   },
   {
    "duration": 417,
    "start_time": "2022-03-30T17:42:23.517Z"
   },
   {
    "duration": 58,
    "start_time": "2022-03-30T17:42:31.150Z"
   },
   {
    "duration": 4,
    "start_time": "2022-03-30T17:42:50.984Z"
   },
   {
    "duration": 3,
    "start_time": "2022-03-30T18:04:02.760Z"
   },
   {
    "duration": 347,
    "start_time": "2022-03-30T18:04:03.639Z"
   },
   {
    "duration": 33,
    "start_time": "2022-03-30T18:04:04.469Z"
   },
   {
    "duration": 10,
    "start_time": "2022-03-30T18:04:07.288Z"
   },
   {
    "duration": 27,
    "start_time": "2022-03-30T18:04:41.140Z"
   },
   {
    "duration": 4,
    "start_time": "2022-03-30T18:04:42.596Z"
   },
   {
    "duration": 22,
    "start_time": "2022-03-30T18:04:44.715Z"
   },
   {
    "duration": 14,
    "start_time": "2022-03-30T18:04:45.755Z"
   },
   {
    "duration": 14,
    "start_time": "2022-03-30T18:04:47.828Z"
   },
   {
    "duration": 4,
    "start_time": "2022-03-30T18:04:57.188Z"
   },
   {
    "duration": 4,
    "start_time": "2022-03-30T18:05:14.159Z"
   },
   {
    "duration": 5,
    "start_time": "2022-03-30T18:05:22.352Z"
   },
   {
    "duration": 5,
    "start_time": "2022-03-30T18:06:44.177Z"
   },
   {
    "duration": 5,
    "start_time": "2022-03-30T18:06:55.901Z"
   },
   {
    "duration": 5,
    "start_time": "2022-03-30T18:07:15.309Z"
   },
   {
    "duration": 4,
    "start_time": "2022-03-30T18:07:16.533Z"
   },
   {
    "duration": 2,
    "start_time": "2022-03-30T18:07:18.261Z"
   },
   {
    "duration": 4,
    "start_time": "2022-03-30T18:08:01.138Z"
   },
   {
    "duration": 13,
    "start_time": "2022-03-30T18:08:06.482Z"
   },
   {
    "duration": 3,
    "start_time": "2022-03-30T18:10:25.532Z"
   },
   {
    "duration": 3,
    "start_time": "2022-03-30T18:11:45.491Z"
   },
   {
    "duration": 3,
    "start_time": "2022-03-30T18:14:12.078Z"
   },
   {
    "duration": 3,
    "start_time": "2022-03-30T18:16:39.272Z"
   },
   {
    "duration": 488,
    "start_time": "2022-03-30T18:17:09.883Z"
   },
   {
    "duration": 3,
    "start_time": "2022-03-30T18:17:47.966Z"
   },
   {
    "duration": 430,
    "start_time": "2022-03-30T18:17:48.607Z"
   },
   {
    "duration": 415,
    "start_time": "2022-03-30T18:18:21.828Z"
   },
   {
    "duration": 417,
    "start_time": "2022-03-30T18:18:39.181Z"
   },
   {
    "duration": 9,
    "start_time": "2022-03-30T18:20:55.742Z"
   },
   {
    "duration": 9,
    "start_time": "2022-03-30T18:21:25.145Z"
   },
   {
    "duration": 4,
    "start_time": "2022-03-30T18:21:32.807Z"
   },
   {
    "duration": 8,
    "start_time": "2022-03-30T18:21:35.719Z"
   },
   {
    "duration": 5,
    "start_time": "2022-03-30T18:22:09.247Z"
   },
   {
    "duration": 5,
    "start_time": "2022-03-30T18:22:17.688Z"
   },
   {
    "duration": 5,
    "start_time": "2022-03-30T18:22:22.864Z"
   },
   {
    "duration": 5,
    "start_time": "2022-03-30T18:22:33.729Z"
   },
   {
    "duration": 6,
    "start_time": "2022-03-30T18:22:38.882Z"
   },
   {
    "duration": 6,
    "start_time": "2022-03-30T18:22:43.329Z"
   },
   {
    "duration": 9,
    "start_time": "2022-03-30T18:23:14.981Z"
   },
   {
    "duration": 8,
    "start_time": "2022-03-30T18:23:57.203Z"
   },
   {
    "duration": 6,
    "start_time": "2022-03-30T18:24:25.191Z"
   },
   {
    "duration": 8,
    "start_time": "2022-03-30T18:24:42.084Z"
   },
   {
    "duration": 10,
    "start_time": "2022-03-30T18:25:22.654Z"
   },
   {
    "duration": 6,
    "start_time": "2022-03-30T18:25:41.871Z"
   },
   {
    "duration": 4,
    "start_time": "2022-03-30T18:26:01.297Z"
   },
   {
    "duration": 3,
    "start_time": "2022-03-30T18:26:06.922Z"
   },
   {
    "duration": 604,
    "start_time": "2022-03-30T18:26:08.610Z"
   },
   {
    "duration": 611,
    "start_time": "2022-03-30T18:26:11.938Z"
   },
   {
    "duration": 638,
    "start_time": "2022-03-30T18:26:15.123Z"
   },
   {
    "duration": 4,
    "start_time": "2022-03-30T18:26:30.821Z"
   },
   {
    "duration": 571,
    "start_time": "2022-03-30T18:26:33.101Z"
   },
   {
    "duration": 8,
    "start_time": "2022-03-30T18:27:00.096Z"
   },
   {
    "duration": 7,
    "start_time": "2022-03-30T18:27:01.328Z"
   },
   {
    "duration": 6,
    "start_time": "2022-03-30T18:27:39.638Z"
   },
   {
    "duration": 5,
    "start_time": "2022-03-30T18:27:46.750Z"
   },
   {
    "duration": 3,
    "start_time": "2022-03-30T18:28:10.865Z"
   },
   {
    "duration": 4,
    "start_time": "2022-03-30T18:28:13.097Z"
   },
   {
    "duration": 3,
    "start_time": "2022-03-30T18:28:13.592Z"
   },
   {
    "duration": 565,
    "start_time": "2022-03-30T18:28:15.040Z"
   },
   {
    "duration": 558,
    "start_time": "2022-03-30T18:28:19.297Z"
   },
   {
    "duration": 557,
    "start_time": "2022-03-30T18:28:22.787Z"
   },
   {
    "duration": 4,
    "start_time": "2022-03-30T18:32:39.621Z"
   },
   {
    "duration": 644,
    "start_time": "2022-03-30T18:32:39.627Z"
   },
   {
    "duration": 589,
    "start_time": "2022-03-30T18:32:43.145Z"
   },
   {
    "duration": 597,
    "start_time": "2022-03-30T18:32:44.531Z"
   },
   {
    "duration": 1526,
    "start_time": "2022-03-31T15:43:00.398Z"
   },
   {
    "duration": 463,
    "start_time": "2022-03-31T15:43:01.926Z"
   },
   {
    "duration": 52,
    "start_time": "2022-03-31T15:43:02.392Z"
   },
   {
    "duration": 14,
    "start_time": "2022-03-31T15:43:06.203Z"
   },
   {
    "duration": 40,
    "start_time": "2022-03-31T15:43:10.989Z"
   },
   {
    "duration": 6,
    "start_time": "2022-03-31T15:44:22.414Z"
   },
   {
    "duration": 5,
    "start_time": "2022-03-31T15:51:09.365Z"
   },
   {
    "duration": 20,
    "start_time": "2022-03-31T15:52:06.061Z"
   },
   {
    "duration": 22,
    "start_time": "2022-03-31T15:53:32.806Z"
   },
   {
    "duration": 18,
    "start_time": "2022-03-31T15:53:33.375Z"
   },
   {
    "duration": 7,
    "start_time": "2022-03-31T15:56:31.668Z"
   },
   {
    "duration": 150,
    "start_time": "2022-03-31T15:58:10.082Z"
   },
   {
    "duration": 6,
    "start_time": "2022-03-31T15:58:30.529Z"
   },
   {
    "duration": 5,
    "start_time": "2022-03-31T15:59:48.378Z"
   },
   {
    "duration": 5,
    "start_time": "2022-03-31T16:00:22.190Z"
   },
   {
    "duration": 4,
    "start_time": "2022-03-31T16:00:37.611Z"
   },
   {
    "duration": 6,
    "start_time": "2022-03-31T16:01:27.576Z"
   },
   {
    "duration": 1192,
    "start_time": "2022-03-31T16:01:31.217Z"
   },
   {
    "duration": 899,
    "start_time": "2022-03-31T16:01:41.970Z"
   },
   {
    "duration": 907,
    "start_time": "2022-03-31T16:01:46.138Z"
   },
   {
    "duration": 5,
    "start_time": "2022-03-31T16:02:36.808Z"
   },
   {
    "duration": 928,
    "start_time": "2022-03-31T16:02:40.817Z"
   },
   {
    "duration": 924,
    "start_time": "2022-03-31T16:03:34.472Z"
   },
   {
    "duration": 4,
    "start_time": "2022-03-31T16:04:04.588Z"
   },
   {
    "duration": 908,
    "start_time": "2022-03-31T16:04:06.700Z"
   },
   {
    "duration": 915,
    "start_time": "2022-03-31T16:04:14.540Z"
   },
   {
    "duration": 923,
    "start_time": "2022-03-31T16:04:18.644Z"
   },
   {
    "duration": 5,
    "start_time": "2022-03-31T16:05:49.856Z"
   },
   {
    "duration": 1190,
    "start_time": "2022-03-31T16:05:52.249Z"
   },
   {
    "duration": 917,
    "start_time": "2022-03-31T16:05:56.200Z"
   },
   {
    "duration": 935,
    "start_time": "2022-03-31T16:05:58.576Z"
   },
   {
    "duration": 4,
    "start_time": "2022-03-31T16:06:05.475Z"
   },
   {
    "duration": 905,
    "start_time": "2022-03-31T16:06:07.946Z"
   },
   {
    "duration": 5,
    "start_time": "2022-03-31T16:06:37.012Z"
   },
   {
    "duration": 925,
    "start_time": "2022-03-31T16:06:38.988Z"
   },
   {
    "duration": 924,
    "start_time": "2022-03-31T16:06:47.100Z"
   },
   {
    "duration": 918,
    "start_time": "2022-03-31T16:06:49.263Z"
   },
   {
    "duration": 29,
    "start_time": "2022-03-31T16:15:14.452Z"
   },
   {
    "duration": 20,
    "start_time": "2022-03-31T16:17:26.116Z"
   },
   {
    "duration": 20,
    "start_time": "2022-03-31T16:17:41.012Z"
   },
   {
    "duration": 19,
    "start_time": "2022-03-31T16:18:00.385Z"
   },
   {
    "duration": 1382,
    "start_time": "2022-04-01T08:25:00.847Z"
   },
   {
    "duration": 362,
    "start_time": "2022-04-01T08:25:03.450Z"
   },
   {
    "duration": 11,
    "start_time": "2022-04-01T08:25:06.636Z"
   },
   {
    "duration": 34,
    "start_time": "2022-04-01T08:25:11.067Z"
   },
   {
    "duration": 4,
    "start_time": "2022-04-01T08:25:11.682Z"
   },
   {
    "duration": 3,
    "start_time": "2022-04-01T08:25:17.713Z"
   },
   {
    "duration": 23,
    "start_time": "2022-04-01T08:25:18.656Z"
   },
   {
    "duration": 16,
    "start_time": "2022-04-01T08:25:19.321Z"
   },
   {
    "duration": 16,
    "start_time": "2022-04-01T08:25:19.875Z"
   },
   {
    "duration": 5,
    "start_time": "2022-04-01T08:25:32.927Z"
   },
   {
    "duration": 6,
    "start_time": "2022-04-01T08:25:42.252Z"
   },
   {
    "duration": 4,
    "start_time": "2022-04-01T08:25:59.680Z"
   },
   {
    "duration": 3,
    "start_time": "2022-04-01T08:27:14.680Z"
   },
   {
    "duration": 4,
    "start_time": "2022-04-01T08:28:12.161Z"
   },
   {
    "duration": 3,
    "start_time": "2022-04-01T08:29:55.383Z"
   },
   {
    "duration": 700,
    "start_time": "2022-04-01T08:29:59.612Z"
   },
   {
    "duration": 3,
    "start_time": "2022-04-01T08:30:31.820Z"
   },
   {
    "duration": 592,
    "start_time": "2022-04-01T08:30:35.502Z"
   },
   {
    "duration": 4,
    "start_time": "2022-04-01T08:31:00.794Z"
   },
   {
    "duration": 604,
    "start_time": "2022-04-01T08:31:04.624Z"
   },
   {
    "duration": 168,
    "start_time": "2022-04-01T08:31:36.384Z"
   },
   {
    "duration": 4,
    "start_time": "2022-04-01T08:31:46.108Z"
   },
   {
    "duration": 591,
    "start_time": "2022-04-01T08:31:50.497Z"
   },
   {
    "duration": 590,
    "start_time": "2022-04-01T08:31:55.126Z"
   },
   {
    "duration": 612,
    "start_time": "2022-04-01T08:32:04.289Z"
   },
   {
    "duration": 648,
    "start_time": "2022-04-01T08:35:06.100Z"
   },
   {
    "duration": 605,
    "start_time": "2022-04-01T08:35:27.421Z"
   },
   {
    "duration": 608,
    "start_time": "2022-04-01T08:35:46.306Z"
   },
   {
    "duration": 599,
    "start_time": "2022-04-01T08:35:54.879Z"
   },
   {
    "duration": 144,
    "start_time": "2022-04-01T08:36:04.359Z"
   },
   {
    "duration": 599,
    "start_time": "2022-04-01T08:36:11.504Z"
   },
   {
    "duration": 606,
    "start_time": "2022-04-01T08:36:34.133Z"
   },
   {
    "duration": 601,
    "start_time": "2022-04-01T08:36:48.862Z"
   },
   {
    "duration": 600,
    "start_time": "2022-04-01T08:37:28.128Z"
   },
   {
    "duration": 711,
    "start_time": "2022-04-01T08:38:15.546Z"
   },
   {
    "duration": 733,
    "start_time": "2022-04-01T08:38:16.259Z"
   },
   {
    "duration": 701,
    "start_time": "2022-04-01T08:38:16.995Z"
   },
   {
    "duration": 4,
    "start_time": "2022-04-01T08:38:49.737Z"
   },
   {
    "duration": 581,
    "start_time": "2022-04-01T08:38:54.338Z"
   },
   {
    "duration": 586,
    "start_time": "2022-04-01T08:38:57.168Z"
   },
   {
    "duration": 589,
    "start_time": "2022-04-01T08:39:00.200Z"
   },
   {
    "duration": 617,
    "start_time": "2022-04-01T08:43:06.758Z"
   },
   {
    "duration": 589,
    "start_time": "2022-04-01T08:43:25.272Z"
   },
   {
    "duration": 899,
    "start_time": "2022-04-01T08:43:41.518Z"
   },
   {
    "duration": 682,
    "start_time": "2022-04-01T08:47:52.676Z"
   },
   {
    "duration": 629,
    "start_time": "2022-04-01T08:48:03.279Z"
   },
   {
    "duration": 603,
    "start_time": "2022-04-01T08:48:10.906Z"
   },
   {
    "duration": 593,
    "start_time": "2022-04-01T08:48:21.369Z"
   },
   {
    "duration": 1027,
    "start_time": "2022-08-13T18:27:06.674Z"
   },
   {
    "duration": 722,
    "start_time": "2022-08-13T18:27:14.194Z"
   },
   {
    "duration": 38,
    "start_time": "2022-08-13T18:27:24.429Z"
   },
   {
    "duration": 91,
    "start_time": "2022-08-13T18:27:58.977Z"
   },
   {
    "duration": 8,
    "start_time": "2022-08-13T18:28:04.825Z"
   },
   {
    "duration": 25,
    "start_time": "2022-08-13T18:28:06.606Z"
   },
   {
    "duration": 4,
    "start_time": "2022-08-13T18:28:09.881Z"
   },
   {
    "duration": 3,
    "start_time": "2022-08-13T18:29:03.297Z"
   },
   {
    "duration": 18,
    "start_time": "2022-08-13T18:29:05.063Z"
   },
   {
    "duration": 16,
    "start_time": "2022-08-13T18:29:07.185Z"
   },
   {
    "duration": 14,
    "start_time": "2022-08-13T18:29:11.920Z"
   },
   {
    "duration": 3,
    "start_time": "2022-08-13T18:30:10.545Z"
   },
   {
    "duration": 4,
    "start_time": "2022-08-13T18:30:20.114Z"
   },
   {
    "duration": 3,
    "start_time": "2022-08-13T18:30:31.035Z"
   },
   {
    "duration": 3,
    "start_time": "2022-08-13T18:30:51.085Z"
   },
   {
    "duration": 3,
    "start_time": "2022-08-13T18:30:59.286Z"
   },
   {
    "duration": 3,
    "start_time": "2022-08-13T18:31:46.301Z"
   },
   {
    "duration": 3,
    "start_time": "2022-08-13T18:31:49.069Z"
   },
   {
    "duration": 493,
    "start_time": "2022-08-13T18:31:55.701Z"
   },
   {
    "duration": 3,
    "start_time": "2022-08-13T18:32:06.518Z"
   },
   {
    "duration": 450,
    "start_time": "2022-08-13T18:32:11.424Z"
   },
   {
    "duration": 463,
    "start_time": "2022-08-13T18:32:33.859Z"
   },
   {
    "duration": 456,
    "start_time": "2022-08-13T18:32:38.251Z"
   },
   {
    "duration": 462,
    "start_time": "2022-08-13T18:32:40.459Z"
   },
   {
    "duration": 467,
    "start_time": "2022-08-13T18:32:42.531Z"
   }
  ],
  "kernelspec": {
   "display_name": "Python 3 (ipykernel)",
   "language": "python",
   "name": "python3"
  },
  "language_info": {
   "codemirror_mode": {
    "name": "ipython",
    "version": 3
   },
   "file_extension": ".py",
   "mimetype": "text/x-python",
   "name": "python",
   "nbconvert_exporter": "python",
   "pygments_lexer": "ipython3",
   "version": "3.9.5"
  },
  "toc": {
   "base_numbering": 1,
   "nav_menu": {},
   "number_sections": true,
   "sideBar": true,
   "skip_h1_title": true,
   "title_cell": "Table of Contents",
   "title_sidebar": "Contents",
   "toc_cell": false,
   "toc_position": {},
   "toc_section_display": true,
   "toc_window_display": false
  }
 },
 "nbformat": 4,
 "nbformat_minor": 2
}
