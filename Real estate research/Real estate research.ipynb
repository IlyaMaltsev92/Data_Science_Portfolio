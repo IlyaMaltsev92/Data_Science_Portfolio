{
 "cells": [
  {
   "cell_type": "code",
   "execution_count": 1,
   "metadata": {},
   "outputs": [],
   "source": [
    "import pandas as pd\n",
    "import matplotlib.pyplot as plt\n",
    "import matplotlib"
   ]
  },
  {
   "cell_type": "markdown",
   "metadata": {},
   "source": [
    "## Изучение данных из файла <a id =\"start\">\n",
    "    "
   ]
  },
  {
   "cell_type": "code",
   "execution_count": 2,
   "metadata": {},
   "outputs": [],
   "source": [
    "df = pd.read_csv('/datasets/real_estate_data.csv',sep='\\t')"
   ]
  },
  {
   "cell_type": "code",
   "execution_count": 3,
   "metadata": {},
   "outputs": [
    {
     "data": {
      "text/html": [
       "<div>\n",
       "<style scoped>\n",
       "    .dataframe tbody tr th:only-of-type {\n",
       "        vertical-align: middle;\n",
       "    }\n",
       "\n",
       "    .dataframe tbody tr th {\n",
       "        vertical-align: top;\n",
       "    }\n",
       "\n",
       "    .dataframe thead th {\n",
       "        text-align: right;\n",
       "    }\n",
       "</style>\n",
       "<table border=\"1\" class=\"dataframe\">\n",
       "  <thead>\n",
       "    <tr style=\"text-align: right;\">\n",
       "      <th></th>\n",
       "      <th>total_images</th>\n",
       "      <th>last_price</th>\n",
       "      <th>total_area</th>\n",
       "      <th>first_day_exposition</th>\n",
       "      <th>rooms</th>\n",
       "      <th>ceiling_height</th>\n",
       "      <th>floors_total</th>\n",
       "      <th>living_area</th>\n",
       "      <th>floor</th>\n",
       "      <th>is_apartment</th>\n",
       "      <th>...</th>\n",
       "      <th>kitchen_area</th>\n",
       "      <th>balcony</th>\n",
       "      <th>locality_name</th>\n",
       "      <th>airports_nearest</th>\n",
       "      <th>cityCenters_nearest</th>\n",
       "      <th>parks_around3000</th>\n",
       "      <th>parks_nearest</th>\n",
       "      <th>ponds_around3000</th>\n",
       "      <th>ponds_nearest</th>\n",
       "      <th>days_exposition</th>\n",
       "    </tr>\n",
       "  </thead>\n",
       "  <tbody>\n",
       "    <tr>\n",
       "      <th>0</th>\n",
       "      <td>20</td>\n",
       "      <td>13000000.0</td>\n",
       "      <td>108.0</td>\n",
       "      <td>2019-03-07T00:00:00</td>\n",
       "      <td>3</td>\n",
       "      <td>2.70</td>\n",
       "      <td>16.0</td>\n",
       "      <td>51.0</td>\n",
       "      <td>8</td>\n",
       "      <td>NaN</td>\n",
       "      <td>...</td>\n",
       "      <td>25.0</td>\n",
       "      <td>NaN</td>\n",
       "      <td>Санкт-Петербург</td>\n",
       "      <td>18863.0</td>\n",
       "      <td>16028.0</td>\n",
       "      <td>1.0</td>\n",
       "      <td>482.0</td>\n",
       "      <td>2.0</td>\n",
       "      <td>755.0</td>\n",
       "      <td>NaN</td>\n",
       "    </tr>\n",
       "    <tr>\n",
       "      <th>1</th>\n",
       "      <td>7</td>\n",
       "      <td>3350000.0</td>\n",
       "      <td>40.4</td>\n",
       "      <td>2018-12-04T00:00:00</td>\n",
       "      <td>1</td>\n",
       "      <td>NaN</td>\n",
       "      <td>11.0</td>\n",
       "      <td>18.6</td>\n",
       "      <td>1</td>\n",
       "      <td>NaN</td>\n",
       "      <td>...</td>\n",
       "      <td>11.0</td>\n",
       "      <td>2.0</td>\n",
       "      <td>посёлок Шушары</td>\n",
       "      <td>12817.0</td>\n",
       "      <td>18603.0</td>\n",
       "      <td>0.0</td>\n",
       "      <td>NaN</td>\n",
       "      <td>0.0</td>\n",
       "      <td>NaN</td>\n",
       "      <td>81.0</td>\n",
       "    </tr>\n",
       "    <tr>\n",
       "      <th>2</th>\n",
       "      <td>10</td>\n",
       "      <td>5196000.0</td>\n",
       "      <td>56.0</td>\n",
       "      <td>2015-08-20T00:00:00</td>\n",
       "      <td>2</td>\n",
       "      <td>NaN</td>\n",
       "      <td>5.0</td>\n",
       "      <td>34.3</td>\n",
       "      <td>4</td>\n",
       "      <td>NaN</td>\n",
       "      <td>...</td>\n",
       "      <td>8.3</td>\n",
       "      <td>0.0</td>\n",
       "      <td>Санкт-Петербург</td>\n",
       "      <td>21741.0</td>\n",
       "      <td>13933.0</td>\n",
       "      <td>1.0</td>\n",
       "      <td>90.0</td>\n",
       "      <td>2.0</td>\n",
       "      <td>574.0</td>\n",
       "      <td>558.0</td>\n",
       "    </tr>\n",
       "    <tr>\n",
       "      <th>3</th>\n",
       "      <td>0</td>\n",
       "      <td>64900000.0</td>\n",
       "      <td>159.0</td>\n",
       "      <td>2015-07-24T00:00:00</td>\n",
       "      <td>3</td>\n",
       "      <td>NaN</td>\n",
       "      <td>14.0</td>\n",
       "      <td>NaN</td>\n",
       "      <td>9</td>\n",
       "      <td>NaN</td>\n",
       "      <td>...</td>\n",
       "      <td>NaN</td>\n",
       "      <td>0.0</td>\n",
       "      <td>Санкт-Петербург</td>\n",
       "      <td>28098.0</td>\n",
       "      <td>6800.0</td>\n",
       "      <td>2.0</td>\n",
       "      <td>84.0</td>\n",
       "      <td>3.0</td>\n",
       "      <td>234.0</td>\n",
       "      <td>424.0</td>\n",
       "    </tr>\n",
       "    <tr>\n",
       "      <th>4</th>\n",
       "      <td>2</td>\n",
       "      <td>10000000.0</td>\n",
       "      <td>100.0</td>\n",
       "      <td>2018-06-19T00:00:00</td>\n",
       "      <td>2</td>\n",
       "      <td>3.03</td>\n",
       "      <td>14.0</td>\n",
       "      <td>32.0</td>\n",
       "      <td>13</td>\n",
       "      <td>NaN</td>\n",
       "      <td>...</td>\n",
       "      <td>41.0</td>\n",
       "      <td>NaN</td>\n",
       "      <td>Санкт-Петербург</td>\n",
       "      <td>31856.0</td>\n",
       "      <td>8098.0</td>\n",
       "      <td>2.0</td>\n",
       "      <td>112.0</td>\n",
       "      <td>1.0</td>\n",
       "      <td>48.0</td>\n",
       "      <td>121.0</td>\n",
       "    </tr>\n",
       "  </tbody>\n",
       "</table>\n",
       "<p>5 rows × 22 columns</p>\n",
       "</div>"
      ],
      "text/plain": [
       "   total_images  last_price  total_area first_day_exposition  rooms  \\\n",
       "0            20  13000000.0       108.0  2019-03-07T00:00:00      3   \n",
       "1             7   3350000.0        40.4  2018-12-04T00:00:00      1   \n",
       "2            10   5196000.0        56.0  2015-08-20T00:00:00      2   \n",
       "3             0  64900000.0       159.0  2015-07-24T00:00:00      3   \n",
       "4             2  10000000.0       100.0  2018-06-19T00:00:00      2   \n",
       "\n",
       "   ceiling_height  floors_total  living_area  floor is_apartment  ...  \\\n",
       "0            2.70          16.0         51.0      8          NaN  ...   \n",
       "1             NaN          11.0         18.6      1          NaN  ...   \n",
       "2             NaN           5.0         34.3      4          NaN  ...   \n",
       "3             NaN          14.0          NaN      9          NaN  ...   \n",
       "4            3.03          14.0         32.0     13          NaN  ...   \n",
       "\n",
       "   kitchen_area  balcony    locality_name  airports_nearest  \\\n",
       "0          25.0      NaN  Санкт-Петербург           18863.0   \n",
       "1          11.0      2.0   посёлок Шушары           12817.0   \n",
       "2           8.3      0.0  Санкт-Петербург           21741.0   \n",
       "3           NaN      0.0  Санкт-Петербург           28098.0   \n",
       "4          41.0      NaN  Санкт-Петербург           31856.0   \n",
       "\n",
       "  cityCenters_nearest  parks_around3000  parks_nearest  ponds_around3000  \\\n",
       "0             16028.0               1.0          482.0               2.0   \n",
       "1             18603.0               0.0            NaN               0.0   \n",
       "2             13933.0               1.0           90.0               2.0   \n",
       "3              6800.0               2.0           84.0               3.0   \n",
       "4              8098.0               2.0          112.0               1.0   \n",
       "\n",
       "   ponds_nearest  days_exposition  \n",
       "0          755.0              NaN  \n",
       "1            NaN             81.0  \n",
       "2          574.0            558.0  \n",
       "3          234.0            424.0  \n",
       "4           48.0            121.0  \n",
       "\n",
       "[5 rows x 22 columns]"
      ]
     },
     "metadata": {},
     "output_type": "display_data"
    },
    {
     "name": "stdout",
     "output_type": "stream",
     "text": [
      "<class 'pandas.core.frame.DataFrame'>\n",
      "RangeIndex: 23699 entries, 0 to 23698\n",
      "Data columns (total 22 columns):\n",
      " #   Column                Non-Null Count  Dtype  \n",
      "---  ------                --------------  -----  \n",
      " 0   total_images          23699 non-null  int64  \n",
      " 1   last_price            23699 non-null  float64\n",
      " 2   total_area            23699 non-null  float64\n",
      " 3   first_day_exposition  23699 non-null  object \n",
      " 4   rooms                 23699 non-null  int64  \n",
      " 5   ceiling_height        14504 non-null  float64\n",
      " 6   floors_total          23613 non-null  float64\n",
      " 7   living_area           21796 non-null  float64\n",
      " 8   floor                 23699 non-null  int64  \n",
      " 9   is_apartment          2775 non-null   object \n",
      " 10  studio                23699 non-null  bool   \n",
      " 11  open_plan             23699 non-null  bool   \n",
      " 12  kitchen_area          21421 non-null  float64\n",
      " 13  balcony               12180 non-null  float64\n",
      " 14  locality_name         23650 non-null  object \n",
      " 15  airports_nearest      18157 non-null  float64\n",
      " 16  cityCenters_nearest   18180 non-null  float64\n",
      " 17  parks_around3000      18181 non-null  float64\n",
      " 18  parks_nearest         8079 non-null   float64\n",
      " 19  ponds_around3000      18181 non-null  float64\n",
      " 20  ponds_nearest         9110 non-null   float64\n",
      " 21  days_exposition       20518 non-null  float64\n",
      "dtypes: bool(2), float64(14), int64(3), object(3)\n",
      "memory usage: 3.7+ MB\n"
     ]
    },
    {
     "data": {
      "text/html": [
       "<div>\n",
       "<style scoped>\n",
       "    .dataframe tbody tr th:only-of-type {\n",
       "        vertical-align: middle;\n",
       "    }\n",
       "\n",
       "    .dataframe tbody tr th {\n",
       "        vertical-align: top;\n",
       "    }\n",
       "\n",
       "    .dataframe thead th {\n",
       "        text-align: right;\n",
       "    }\n",
       "</style>\n",
       "<table border=\"1\" class=\"dataframe\">\n",
       "  <thead>\n",
       "    <tr style=\"text-align: right;\">\n",
       "      <th></th>\n",
       "      <th>count</th>\n",
       "      <th>mean</th>\n",
       "      <th>std</th>\n",
       "      <th>min</th>\n",
       "      <th>25%</th>\n",
       "      <th>50%</th>\n",
       "      <th>75%</th>\n",
       "      <th>max</th>\n",
       "    </tr>\n",
       "  </thead>\n",
       "  <tbody>\n",
       "    <tr>\n",
       "      <th>total_images</th>\n",
       "      <td>23699.0</td>\n",
       "      <td>9.858475e+00</td>\n",
       "      <td>5.682529e+00</td>\n",
       "      <td>0.0</td>\n",
       "      <td>6.00</td>\n",
       "      <td>9.00</td>\n",
       "      <td>14.0</td>\n",
       "      <td>50.0</td>\n",
       "    </tr>\n",
       "    <tr>\n",
       "      <th>last_price</th>\n",
       "      <td>23699.0</td>\n",
       "      <td>6.541549e+06</td>\n",
       "      <td>1.088701e+07</td>\n",
       "      <td>12190.0</td>\n",
       "      <td>3400000.00</td>\n",
       "      <td>4650000.00</td>\n",
       "      <td>6800000.0</td>\n",
       "      <td>763000000.0</td>\n",
       "    </tr>\n",
       "    <tr>\n",
       "      <th>total_area</th>\n",
       "      <td>23699.0</td>\n",
       "      <td>6.034865e+01</td>\n",
       "      <td>3.565408e+01</td>\n",
       "      <td>12.0</td>\n",
       "      <td>40.00</td>\n",
       "      <td>52.00</td>\n",
       "      <td>69.9</td>\n",
       "      <td>900.0</td>\n",
       "    </tr>\n",
       "    <tr>\n",
       "      <th>rooms</th>\n",
       "      <td>23699.0</td>\n",
       "      <td>2.070636e+00</td>\n",
       "      <td>1.078405e+00</td>\n",
       "      <td>0.0</td>\n",
       "      <td>1.00</td>\n",
       "      <td>2.00</td>\n",
       "      <td>3.0</td>\n",
       "      <td>19.0</td>\n",
       "    </tr>\n",
       "    <tr>\n",
       "      <th>ceiling_height</th>\n",
       "      <td>14504.0</td>\n",
       "      <td>2.771499e+00</td>\n",
       "      <td>1.261056e+00</td>\n",
       "      <td>1.0</td>\n",
       "      <td>2.52</td>\n",
       "      <td>2.65</td>\n",
       "      <td>2.8</td>\n",
       "      <td>100.0</td>\n",
       "    </tr>\n",
       "    <tr>\n",
       "      <th>floors_total</th>\n",
       "      <td>23613.0</td>\n",
       "      <td>1.067382e+01</td>\n",
       "      <td>6.597173e+00</td>\n",
       "      <td>1.0</td>\n",
       "      <td>5.00</td>\n",
       "      <td>9.00</td>\n",
       "      <td>16.0</td>\n",
       "      <td>60.0</td>\n",
       "    </tr>\n",
       "    <tr>\n",
       "      <th>living_area</th>\n",
       "      <td>21796.0</td>\n",
       "      <td>3.445785e+01</td>\n",
       "      <td>2.203045e+01</td>\n",
       "      <td>2.0</td>\n",
       "      <td>18.60</td>\n",
       "      <td>30.00</td>\n",
       "      <td>42.3</td>\n",
       "      <td>409.7</td>\n",
       "    </tr>\n",
       "    <tr>\n",
       "      <th>floor</th>\n",
       "      <td>23699.0</td>\n",
       "      <td>5.892358e+00</td>\n",
       "      <td>4.885249e+00</td>\n",
       "      <td>1.0</td>\n",
       "      <td>2.00</td>\n",
       "      <td>4.00</td>\n",
       "      <td>8.0</td>\n",
       "      <td>33.0</td>\n",
       "    </tr>\n",
       "    <tr>\n",
       "      <th>kitchen_area</th>\n",
       "      <td>21421.0</td>\n",
       "      <td>1.056981e+01</td>\n",
       "      <td>5.905438e+00</td>\n",
       "      <td>1.3</td>\n",
       "      <td>7.00</td>\n",
       "      <td>9.10</td>\n",
       "      <td>12.0</td>\n",
       "      <td>112.0</td>\n",
       "    </tr>\n",
       "    <tr>\n",
       "      <th>balcony</th>\n",
       "      <td>12180.0</td>\n",
       "      <td>1.150082e+00</td>\n",
       "      <td>1.071300e+00</td>\n",
       "      <td>0.0</td>\n",
       "      <td>0.00</td>\n",
       "      <td>1.00</td>\n",
       "      <td>2.0</td>\n",
       "      <td>5.0</td>\n",
       "    </tr>\n",
       "    <tr>\n",
       "      <th>airports_nearest</th>\n",
       "      <td>18157.0</td>\n",
       "      <td>2.879367e+04</td>\n",
       "      <td>1.263088e+04</td>\n",
       "      <td>0.0</td>\n",
       "      <td>18585.00</td>\n",
       "      <td>26726.00</td>\n",
       "      <td>37273.0</td>\n",
       "      <td>84869.0</td>\n",
       "    </tr>\n",
       "    <tr>\n",
       "      <th>cityCenters_nearest</th>\n",
       "      <td>18180.0</td>\n",
       "      <td>1.419128e+04</td>\n",
       "      <td>8.608386e+03</td>\n",
       "      <td>181.0</td>\n",
       "      <td>9238.00</td>\n",
       "      <td>13098.50</td>\n",
       "      <td>16293.0</td>\n",
       "      <td>65968.0</td>\n",
       "    </tr>\n",
       "    <tr>\n",
       "      <th>parks_around3000</th>\n",
       "      <td>18181.0</td>\n",
       "      <td>6.114075e-01</td>\n",
       "      <td>8.020736e-01</td>\n",
       "      <td>0.0</td>\n",
       "      <td>0.00</td>\n",
       "      <td>0.00</td>\n",
       "      <td>1.0</td>\n",
       "      <td>3.0</td>\n",
       "    </tr>\n",
       "    <tr>\n",
       "      <th>parks_nearest</th>\n",
       "      <td>8079.0</td>\n",
       "      <td>4.908046e+02</td>\n",
       "      <td>3.423180e+02</td>\n",
       "      <td>1.0</td>\n",
       "      <td>288.00</td>\n",
       "      <td>455.00</td>\n",
       "      <td>612.0</td>\n",
       "      <td>3190.0</td>\n",
       "    </tr>\n",
       "    <tr>\n",
       "      <th>ponds_around3000</th>\n",
       "      <td>18181.0</td>\n",
       "      <td>7.702547e-01</td>\n",
       "      <td>9.383456e-01</td>\n",
       "      <td>0.0</td>\n",
       "      <td>0.00</td>\n",
       "      <td>1.00</td>\n",
       "      <td>1.0</td>\n",
       "      <td>3.0</td>\n",
       "    </tr>\n",
       "    <tr>\n",
       "      <th>ponds_nearest</th>\n",
       "      <td>9110.0</td>\n",
       "      <td>5.179809e+02</td>\n",
       "      <td>2.777206e+02</td>\n",
       "      <td>13.0</td>\n",
       "      <td>294.00</td>\n",
       "      <td>502.00</td>\n",
       "      <td>729.0</td>\n",
       "      <td>1344.0</td>\n",
       "    </tr>\n",
       "    <tr>\n",
       "      <th>days_exposition</th>\n",
       "      <td>20518.0</td>\n",
       "      <td>1.808886e+02</td>\n",
       "      <td>2.197280e+02</td>\n",
       "      <td>1.0</td>\n",
       "      <td>45.00</td>\n",
       "      <td>95.00</td>\n",
       "      <td>232.0</td>\n",
       "      <td>1580.0</td>\n",
       "    </tr>\n",
       "  </tbody>\n",
       "</table>\n",
       "</div>"
      ],
      "text/plain": [
       "                       count          mean           std      min         25%  \\\n",
       "total_images         23699.0  9.858475e+00  5.682529e+00      0.0        6.00   \n",
       "last_price           23699.0  6.541549e+06  1.088701e+07  12190.0  3400000.00   \n",
       "total_area           23699.0  6.034865e+01  3.565408e+01     12.0       40.00   \n",
       "rooms                23699.0  2.070636e+00  1.078405e+00      0.0        1.00   \n",
       "ceiling_height       14504.0  2.771499e+00  1.261056e+00      1.0        2.52   \n",
       "floors_total         23613.0  1.067382e+01  6.597173e+00      1.0        5.00   \n",
       "living_area          21796.0  3.445785e+01  2.203045e+01      2.0       18.60   \n",
       "floor                23699.0  5.892358e+00  4.885249e+00      1.0        2.00   \n",
       "kitchen_area         21421.0  1.056981e+01  5.905438e+00      1.3        7.00   \n",
       "balcony              12180.0  1.150082e+00  1.071300e+00      0.0        0.00   \n",
       "airports_nearest     18157.0  2.879367e+04  1.263088e+04      0.0    18585.00   \n",
       "cityCenters_nearest  18180.0  1.419128e+04  8.608386e+03    181.0     9238.00   \n",
       "parks_around3000     18181.0  6.114075e-01  8.020736e-01      0.0        0.00   \n",
       "parks_nearest         8079.0  4.908046e+02  3.423180e+02      1.0      288.00   \n",
       "ponds_around3000     18181.0  7.702547e-01  9.383456e-01      0.0        0.00   \n",
       "ponds_nearest         9110.0  5.179809e+02  2.777206e+02     13.0      294.00   \n",
       "days_exposition      20518.0  1.808886e+02  2.197280e+02      1.0       45.00   \n",
       "\n",
       "                            50%        75%          max  \n",
       "total_images               9.00       14.0         50.0  \n",
       "last_price           4650000.00  6800000.0  763000000.0  \n",
       "total_area                52.00       69.9        900.0  \n",
       "rooms                      2.00        3.0         19.0  \n",
       "ceiling_height             2.65        2.8        100.0  \n",
       "floors_total               9.00       16.0         60.0  \n",
       "living_area               30.00       42.3        409.7  \n",
       "floor                      4.00        8.0         33.0  \n",
       "kitchen_area               9.10       12.0        112.0  \n",
       "balcony                    1.00        2.0          5.0  \n",
       "airports_nearest       26726.00    37273.0      84869.0  \n",
       "cityCenters_nearest    13098.50    16293.0      65968.0  \n",
       "parks_around3000           0.00        1.0          3.0  \n",
       "parks_nearest            455.00      612.0       3190.0  \n",
       "ponds_around3000           1.00        1.0          3.0  \n",
       "ponds_nearest            502.00      729.0       1344.0  \n",
       "days_exposition           95.00      232.0       1580.0  "
      ]
     },
     "execution_count": 3,
     "metadata": {},
     "output_type": "execute_result"
    }
   ],
   "source": [
    "display(df.head())\n",
    "df.info()\n",
    "df.describe().T\n"
   ]
  },
  {
   "cell_type": "markdown",
   "metadata": {},
   "source": [
    "### Вывод"
   ]
  },
  {
   "cell_type": "markdown",
   "metadata": {},
   "source": [
    "<div>\n",
    "    Судя по данным...\n",
    "    <ul>\n",
    "        <b>Есть пропуски в колонках:</b>\n",
    "        <li><i>ceiling_height</i>(высота потолков)\n",
    "        <li>немного пропусков в <i>floors_total</i>\n",
    "        <li><i>living_area(жилая_площадь)</i>\n",
    "        <li><b>is_apartment</b>(не знаю как это понять <b>апартаменты</b>)</li>\n",
    "        <li><b>kitchen_area</b>(площадь кухни)</li>\n",
    "        <li><b>balcony</b>(число балконов)возможно пропуски связаны с тем что просто их вообще нет в квартире (проверить корреляцию с первым этажом=))</li>\n",
    "        <li>locality_name (пропусков мало может быть даже можно не обращать внимания)</li>\n",
    "        <li>airport_nearest <b>странно но кол-во пропусков почти такое же как в parks_around3000 and ponds_around3000\n",
    "            и city_centre-nearest</b></li>\n",
    "        <li>parks_nearest(расстояние до ближайшего парка) возможно пропуски обусловлены тем что нет парка (проверить)</li>\n",
    "        <li>ponds_nearest(расстояние до ближайшего водоема) возможно так же как и с park_nearest\n",
    "        <li>days_exposition(кол-во дней публикации объявления до снятия) возможно сколько дней продавалась квартира(пропусков немного)\n",
    "            <b>Нужно поработать с типами данных в : </b>\n",
    "        <li>first_day_exposition --> изменить тип данны с object ==> date</li>\n",
    "        <li>floorst_total --> change datatype from float64 ===> int64</li>\n",
    "        <li>is_apartment изменить тип данных object ===> bool</li>\n",
    "        <li>balcony изменить тип данных float64 ===> int64(думаю не может быть половины болкона или 1/3)</li>\n",
    "        <li> airport_nearest и city_centre_nearest изменить тип данных float64 ===> int64 (расстояние до аэропорта(центра города) можно и до целых округлить) --- думаю пока не стоит их трогать</li>\n",
    "        <li> parks_nearest и pond_nearest так же</li>\n",
    "        <li>parks_around3000  and ponds_around3000 change datatype float64 ==>  int64 (число парков и водоемов - целые числа)</li>\n",
    "        <li>days_exposition изменить тип данных float64 ==> int64 (будет целое кол-во дней)\n",
    "<div>"
   ]
  },
  {
   "cell_type": "markdown",
   "metadata": {},
   "source": [
    "## Предобработка данных"
   ]
  },
  {
   "cell_type": "markdown",
   "metadata": {},
   "source": [
    "### Обработка пропусков"
   ]
  },
  {
   "cell_type": "code",
   "execution_count": 4,
   "metadata": {},
   "outputs": [
    {
     "data": {
      "text/plain": [
       "total_images                0\n",
       "last_price                  0\n",
       "total_area                  0\n",
       "first_day_exposition        0\n",
       "rooms                       0\n",
       "ceiling_height           9195\n",
       "floors_total               86\n",
       "living_area              1903\n",
       "floor                       0\n",
       "is_apartment            20924\n",
       "studio                      0\n",
       "open_plan                   0\n",
       "kitchen_area             2278\n",
       "balcony                 11519\n",
       "locality_name              49\n",
       "airports_nearest         5542\n",
       "cityCenters_nearest      5519\n",
       "parks_around3000         5518\n",
       "parks_nearest           15620\n",
       "ponds_around3000         5518\n",
       "ponds_nearest           14589\n",
       "days_exposition          3181\n",
       "dtype: int64"
      ]
     },
     "metadata": {},
     "output_type": "display_data"
    }
   ],
   "source": [
    "display(df.isna().sum())"
   ]
  },
  {
   "cell_type": "code",
   "execution_count": 5,
   "metadata": {},
   "outputs": [],
   "source": [
    "#нужно избавиться от анамально высоких значений потолков , предположим что высокие значение обусловлены тем что ошибка была в расчете и вместо высоты потолка идет высота здания\n",
    "df['ceiling_height'].describe()#смотрю описание данных всех потолков межквартильный размах от 2,52 до 2,8 (вроде нормально)\n",
    "\n",
    "df['ceiling_height'] = df['ceiling_height'].apply(lambda x : x/10 if x>=10 else x)\n",
    "\n",
    "#теперь заменим пропуски в ceiling_height по медианны группы locality_name (думаю что место и высота потолков связана)\n",
    "df['ceiling_height'] = df['ceiling_height'].fillna(df.groupby('locality_name')['ceiling_height'].transform('median'))"
   ]
  },
  {
   "cell_type": "code",
   "execution_count": 6,
   "metadata": {},
   "outputs": [],
   "source": [
    "#заодно избавился от выбросов\n",
    "#теперь надо в locality_name где есть пропуски заменить на 'неизвестно'\n",
    "df['locality_name'] = df['locality_name'].fillna('unknown')"
   ]
  },
  {
   "cell_type": "code",
   "execution_count": 7,
   "metadata": {},
   "outputs": [],
   "source": [
    "# в floors_total пропусков немного ==> заменю медианным от места \n",
    "\n",
    "df['floors_total'] = df['floors_total'].fillna(df.groupby('locality_name')['floors_total'].transform('median'))"
   ]
  },
  {
   "cell_type": "code",
   "execution_count": 8,
   "metadata": {},
   "outputs": [],
   "source": [
    "#так же и в living_area\n",
    "df['living_area'] = df['living_area'].fillna(df.groupby('locality_name')['living_area'].transform('median'))"
   ]
  },
  {
   "cell_type": "code",
   "execution_count": 9,
   "metadata": {},
   "outputs": [],
   "source": [
    "#много пропусков is_apartment скорее всего не просто так может быть это булев тип если не указана значит не апартаменты\n",
    "#заменю пропуски на False\n",
    "df['is_apartment'] = df['is_apartment'].fillna('False') "
   ]
  },
  {
   "cell_type": "code",
   "execution_count": 10,
   "metadata": {},
   "outputs": [],
   "source": [
    "#есть немного пропусков в kitchen_area заменю медианным\n",
    "df['kitchen_area'] = df['kitchen_area'].fillna(df.groupby('locality_name')['kitchen_area'].transform('median'))"
   ]
  },
  {
   "cell_type": "code",
   "execution_count": 11,
   "metadata": {},
   "outputs": [],
   "source": [
    "#в balcony пропуски заменю на ноль потому что скорее всего если данные не указаны значит нет балконов\n",
    "df['balcony'] = df['balcony'].fillna(0)\n",
    "\n",
    "#все что с _around3000 и _nearest я трогать не буду (признаки связанны с геолокацией)"
   ]
  },
  {
   "cell_type": "code",
   "execution_count": 12,
   "metadata": {},
   "outputs": [],
   "source": [
    "df.days_exposition = df['days_exposition'].fillna('-399')"
   ]
  },
  {
   "cell_type": "code",
   "execution_count": 13,
   "metadata": {},
   "outputs": [],
   "source": [
    "df = df.query('living_area + kitchen_area <= total_area')\n",
    "#Отфильтрую те квартиры где сумма площадей жилой и кужни <= общая площадь"
   ]
  },
  {
   "cell_type": "markdown",
   "metadata": {},
   "source": [
    "### Замена типов данных"
   ]
  },
  {
   "cell_type": "code",
   "execution_count": 14,
   "metadata": {},
   "outputs": [],
   "source": [
    "#нужно изменить тип данных в first_day_exposition из object в datetime\n",
    "df['first_day_exposition'] = pd.to_datetime(df['first_day_exposition'],format='%Y-%m-%dT%H:%M:%S')"
   ]
  },
  {
   "cell_type": "code",
   "execution_count": 15,
   "metadata": {},
   "outputs": [],
   "source": [
    "#floors_total переведу из float в int\n",
    "df['floors_total'] = df['floors_total'].astype('int8')"
   ]
  },
  {
   "cell_type": "code",
   "execution_count": 16,
   "metadata": {},
   "outputs": [],
   "source": [
    "#is_apartment переведу в bool\n",
    "df['is_apartment'] = df['is_apartment'].astype('bool')"
   ]
  },
  {
   "cell_type": "code",
   "execution_count": 17,
   "metadata": {},
   "outputs": [],
   "source": [
    "#balcony изменю тип данных float64 ===> int64(думаю не может быть половины болкона или 1/3)\n",
    "df['balcony'] = df['balcony'].astype('uint8')"
   ]
  },
  {
   "cell_type": "code",
   "execution_count": 18,
   "metadata": {},
   "outputs": [],
   "source": [
    "#так как не удобно анализировать цену в рублях переведу ее в млн рублей\n",
    "df['last_price'] = df['last_price'].apply(lambda x: x/1000000)"
   ]
  },
  {
   "cell_type": "code",
   "execution_count": 19,
   "metadata": {},
   "outputs": [],
   "source": [
    "#переведу тип last_price из float64 в int64 (так будет лучше для подсчетов)\n",
    "df['last_price'] = df['last_price'].astype('uint16')"
   ]
  },
  {
   "cell_type": "code",
   "execution_count": 20,
   "metadata": {},
   "outputs": [],
   "source": [
    "df['days_exposition'] = df['days_exposition'].astype('int16')"
   ]
  },
  {
   "cell_type": "markdown",
   "metadata": {},
   "source": [
    "## Расчёты и добавление результатов в таблицу"
   ]
  },
  {
   "cell_type": "code",
   "execution_count": 21,
   "metadata": {
    "scrolled": true
   },
   "outputs": [],
   "source": [
    "df['price_per_square'] = round(df['last_price'] / df['total_area'],1) # добавил в таблицу цену за квадратный метр как цена_продажи / площадь\n",
    "\n",
    "#добавил столбцы день недели,месяц и год публикации объявления\n",
    "\n",
    "df['weekday_publication'] = df['first_day_exposition'].dt.weekday\n",
    "df['month_publication'] = df['first_day_exposition'].apply(lambda x: x.month)\n",
    "df['year_publication'] = df['first_day_exposition'].apply(lambda x: x.year)"
   ]
  },
  {
   "cell_type": "code",
   "execution_count": 22,
   "metadata": {},
   "outputs": [],
   "source": [
    "#посчитать и добавить этаж квартиры if floor == floor_total => последний elif floor == 1 -- первый: else  : другой\n",
    "def find_floor(row):\n",
    "    floor = row['floor']\n",
    "    total_floors = row['floors_total']\n",
    "\n",
    "    if floor == total_floors:\n",
    "        return 'последний'\n",
    "    elif floor == 1:\n",
    "        return 'первый'\n",
    "\n",
    "    return 'другой'"
   ]
  },
  {
   "cell_type": "code",
   "execution_count": 23,
   "metadata": {},
   "outputs": [],
   "source": [
    "df['floor_name'] = df.apply(find_floor,axis=1)"
   ]
  },
  {
   "cell_type": "code",
   "execution_count": 24,
   "metadata": {},
   "outputs": [],
   "source": [
    "#написать и добавить в столбец отношения кухни к общей площади и ( отношение жилой площади к обшей)\n",
    "\n",
    "df['living:total(area)'] = df.apply(lambda x : round(x['living_area'] / x['total_area'],1) , axis=1)# living_area:total_area"
   ]
  },
  {
   "cell_type": "code",
   "execution_count": 25,
   "metadata": {},
   "outputs": [],
   "source": [
    "df['kitchen:total(area)'] = df.apply(lambda x : round(x['kitchen_area'] / x['total_area'],1),axis=1)# kitche_area:total_area"
   ]
  },
  {
   "cell_type": "markdown",
   "metadata": {},
   "source": [
    "## Исследовательский анализ данных"
   ]
  },
  {
   "cell_type": "code",
   "execution_count": 26,
   "metadata": {},
   "outputs": [],
   "source": [
    "matplotlib.style.use('seaborn-whitegrid')"
   ]
  },
  {
   "cell_type": "code",
   "execution_count": 27,
   "metadata": {},
   "outputs": [
    {
     "data": {
      "image/png": "[encoded data removed]",
      "text/plain": [
       "<Figure size 864x432 with 2 Axes>"
      ]
     },
     "metadata": {},
     "output_type": "display_data"
    }
   ],
   "source": [
    "fig, (ax1, ax2) = plt.subplots(1,2,figsize=(12,6))\n",
    "#по стандартной гистограмме видно что  данные о площади лежат в пределах 0 до 400 () уменьшим масштаб и увеличим число корзин до 50\n",
    "ax1.hist(df['total_area'],bins=50,range=(0,400))\n",
    "ax1.set_xlabel('Общая площадь квартиры (м2)')\n",
    "ax1.set_title('Гистограмма (площадь квартиры)')\n",
    "\n",
    "ax2.boxplot(df['total_area'])\n",
    "ax2.set_title('диаграмма боксплот площадь')\n",
    "ax2.set_ylabel('общая площадь квартиры (м2)')\n",
    "ax2.grid(True)\n",
    "plt.show()"
   ]
  },
  {
   "cell_type": "code",
   "execution_count": 28,
   "metadata": {},
   "outputs": [
    {
     "data": {
      "image/png": "[encoded data removed]",
      "text/plain": [
       "<Figure size 864x432 with 2 Axes>"
      ]
     },
     "metadata": {},
     "output_type": "display_data"
    }
   ],
   "source": [
    "#основная часть данных о цене находится в  пределах (0-40 млн рублей) так и ограничим гистограмму увеличив число корзин выбросы игнорирую\n",
    "fig, (ax1, ax2) = plt.subplots(1,2,figsize=(12,6))\n",
    "\n",
    "ax1.hist(df['last_price'],range=(0,40),bins=50) # распределение похоже на нормальное с небольшим смещение в сторону увеличения стоимости(выбросы)\n",
    "ax1.set_title('Гистограмма (цена продажи квартиры)')\n",
    "ax1.set_xlabel('цена (млн. рублей)')\n",
    "\n",
    "ax2.boxplot(df['last_price'])\n",
    "ax2.set_title('диаграмма боксплот цена продажи')\n",
    "ax2.set_ylabel('Цена продажи квартиры, млн руб')\n",
    "ax2.set_ylim(0,40)\n",
    "ax2.grid(True)\n",
    "plt.show()"
   ]
  },
  {
   "cell_type": "code",
   "execution_count": 29,
   "metadata": {},
   "outputs": [
    {
     "data": {
      "image/png": "[encoded data removed]",
      "text/plain": [
       "<Figure size 864x432 with 2 Axes>"
      ]
     },
     "metadata": {},
     "output_type": "display_data"
    }
   ],
   "source": [
    "fig, (ax1, ax2) = plt.subplots(1,2,figsize=(12,6))\n",
    "\n",
    "ax1.hist(df['rooms'], range=(0,10), bins=10)\n",
    "ax1.set_title('Распределение кол-ва комнат в квартире')\n",
    "ax1.set_xlabel('кол-во комнат ')\n",
    "\n",
    "ax2.boxplot(df['rooms'])\n",
    "ax2.set_ylabel('кол-во комнат')\n",
    "ax2.set_title('диаграмма боксплот кол-во комнат')\n",
    "ax2.set_ylabel('Цена продажи квартиры, млн руб')\n",
    "ax2.set_ylim(0,10)\n",
    "plt.show()\n",
    "#большинство квартир 1-2х комнатные так же присутствую выбросы (начиная от 6 комнат)"
   ]
  },
  {
   "cell_type": "code",
   "execution_count": 30,
   "metadata": {},
   "outputs": [
    {
     "data": {
      "image/png": "[encoded data removed]",
      "text/plain": [
       "<Figure size 864x432 with 2 Axes>"
      ]
     },
     "metadata": {},
     "output_type": "display_data"
    }
   ],
   "source": [
    "#анализ время продажи квартиры (days_exsposition)\n",
    "#основная часть это дни от 0 до 600 не считая выбросы *ограничим данные\n",
    "sold_apartments = df.query('days_exposition != -399')\n",
    "\n",
    "fig, (ax1, ax2) = plt.subplots(1,2,figsize=(12,6))\n",
    "\n",
    "ax1.hist(sold_apartments['days_exposition'], range=(0,600), bins=40)\n",
    "ax1.set_title('Распределение дней продажи квартиры')\n",
    "ax1.set_xlabel('дней продажи')\n",
    "\n",
    "ax2.boxplot(sold_apartments['days_exposition'])\n",
    "ax2.set_ylabel('кол-во дней')\n",
    "ax2.set_title('диаграмма боксплот кол-во дней продажи')\n",
    "ax2.set_ylabel('дней')\n",
    "ax2.set_ylim(0,600)\n",
    "plt.show()"
   ]
  },
  {
   "cell_type": "markdown",
   "metadata": {},
   "source": [
    "Среднее время продажи 170 дней, медиана = 95 дней (среднее сильно смещено из-за выбросов)\n",
    "<br>Можно считать что быстрая продажа это 100 дней , а долгая больше 300 дней"
   ]
  },
  {
   "cell_type": "code",
   "execution_count": 31,
   "metadata": {},
   "outputs": [
    {
     "data": {
      "image/png": "[encoded data removed]",
      "text/plain": [
       "<Figure size 432x288 with 1 Axes>"
      ]
     },
     "metadata": {},
     "output_type": "display_data"
    },
    {
     "name": "stdout",
     "output_type": "stream",
     "text": [
      "\n"
     ]
    },
    {
     "data": {
      "image/png": "[encoded data removed]",
      "text/plain": [
       "<Figure size 432x288 with 1 Axes>"
      ]
     },
     "metadata": {},
     "output_type": "display_data"
    },
    {
     "name": "stdout",
     "output_type": "stream",
     "text": [
      "\n"
     ]
    }
   ],
   "source": [
    "#узнать корреляюцию между last_price и ([total_area,rooms,city_centre nearest,floor_name,day_month_year of publication]\n",
    "corr_data = ['total_area',\"cityCenters_nearest\"]\n",
    "\n",
    "def find_corr(arr,y,dataframe):#метод для построения графика рассеивания и нахождения коэф корреляции\n",
    "    for i in arr:\n",
    "        dataframe.sort_values(y).plot(x=i,y=y,kind='scatter').set_ylabel(y)\n",
    "        plt.title(f'График рассеивания(корреляции) между {y} и {i}')\n",
    "        plt.xlabel(f'корреляция между {y} и {i} равна {dataframe[y].corr(dataframe[i])}')\n",
    "        plt.show()\n",
    "        print()\n",
    "find_corr(corr_data,\"last_price\",df)"
   ]
  },
  {
   "cell_type": "code",
   "execution_count": 32,
   "metadata": {},
   "outputs": [
    {
     "data": {
      "image/png": "[encoded data removed]",
      "text/plain": [
       "<Figure size 432x288 with 1 Axes>"
      ]
     },
     "metadata": {},
     "output_type": "display_data"
    }
   ],
   "source": [
    "#так как rooms, floor_name, day, month, year of publication - категориальные данные нужно зависимость найти по другому\n",
    "\n",
    "df.groupby('rooms')['last_price'].median().plot()\n",
    "plt.ylabel('Цена квартиры (млн. руб)')\n",
    "plt.xlabel('кол-во комнат')\n",
    "plt.title('График медианная цена квартиры в зависимости от кол-ва комнат')\n",
    "plt.show()"
   ]
  },
  {
   "cell_type": "code",
   "execution_count": 33,
   "metadata": {},
   "outputs": [
    {
     "data": {
      "image/png": "[encoded data removed]",
      "text/plain": [
       "<Figure size 432x288 with 1 Axes>"
      ]
     },
     "metadata": {},
     "output_type": "display_data"
    }
   ],
   "source": [
    "#тоже самое для floor_name(первый, последний, другой)\n",
    "\n",
    "df.pivot_table(index='floor_name',values='last_price',aggfunc='mean').plot()\n",
    "plt.ylabel('цена квартиры (млн. руб)')\n",
    "plt.xlabel('категория этажа')\n",
    "plt.title('График зависимости средней цены квартиры от категории этажа')\n",
    "plt.show()"
   ]
  },
  {
   "cell_type": "code",
   "execution_count": 34,
   "metadata": {},
   "outputs": [
    {
     "data": {
      "image/png": "[encoded data removed]",
      "text/plain": [
       "<Figure size 432x288 with 1 Axes>"
      ]
     },
     "metadata": {},
     "output_type": "display_data"
    }
   ],
   "source": [
    "#анализ зависимости цены от дня недели\n",
    "df.groupby('weekday_publication')['last_price'].median().plot()\n",
    "plt.ylabel('цена квартиры (млн. руб)')\n",
    "plt.xlabel('день недели публикации')\n",
    "plt.title('График зависимости медианной цены квартиры от дня недели')\n",
    "plt.show()"
   ]
  },
  {
   "cell_type": "code",
   "execution_count": 35,
   "metadata": {},
   "outputs": [
    {
     "data": {
      "image/png": "[encoded data removed]",
      "text/plain": [
       "<Figure size 432x288 with 1 Axes>"
      ]
     },
     "metadata": {},
     "output_type": "display_data"
    }
   ],
   "source": [
    "#анализ зависимости цены от месяца публикации\n",
    "df.groupby('month_publication')['last_price'].median().plot()\n",
    "plt.ylabel('цена квартиры (млн. руб)')\n",
    "plt.xlabel('месяц публикации')\n",
    "plt.title('График зависимости медианной цены квартиры от месяца публикации объявления')\n",
    "plt.show()"
   ]
  },
  {
   "cell_type": "code",
   "execution_count": 36,
   "metadata": {},
   "outputs": [
    {
     "data": {
      "image/png": "[encoded data removed]",
      "text/plain": [
       "<Figure size 432x288 with 1 Axes>"
      ]
     },
     "metadata": {},
     "output_type": "display_data"
    }
   ],
   "source": [
    "#анализ зависимости цены от года публикации\n",
    "df.groupby('year_publication')['last_price'].median().plot()\n",
    "plt.ylabel('цена квартиры (млн. руб)')\n",
    "plt.xlabel('год публикации')\n",
    "plt.title('График зависимости медианной цены квартиры от года публикации объявления')\n",
    "plt.show()"
   ]
  },
  {
   "cell_type": "markdown",
   "metadata": {},
   "source": [
    "<div>\n",
    "    <ul>\n",
    "        <li> По графику зависимости цены от кол-ва комнат , видно что есть положительная корреляция , с большим пиков (увеличением) цены начиная от 10 комнат до 13\n",
    "        <li>По графику зависимости цены (средней) от категории этажа видно, что самая низкая цена у первого этажа, самая высокая у последнего , цена квартир на других этажах находяться где-то между ними\n",
    "        <li>По графику зависимости цены продажи квартиры(медианной) от дня недели публикации не обнаружено зависимости \n",
    "        <li>По графику зависимости цены продажи квартиры(медианной) от месяца публикации объявления не обнаружено зависимости\n",
    "        <li> По графику зависимости цены (медианной) продажи квартиры видно, что цена начиная с 2014 года до 2016 упала до 4млн, с 2016 по 2019 год цена оставалась на этом уровне, а с 2018 года есть тенденция на увеличение цены\n",
    "    </ul>\n",
    "</div>"
   ]
  },
  {
   "cell_type": "markdown",
   "metadata": {},
   "source": [
    "### Нормализация данных"
   ]
  },
  {
   "cell_type": "code",
   "execution_count": 45,
   "metadata": {},
   "outputs": [],
   "source": [
    "#уберем редкие и выбивающиеся значения \n",
    "# в total_area это значения больше 110м2\n",
    "clean_data = df.query('total_area <= 110')"
   ]
  },
  {
   "cell_type": "code",
   "execution_count": 46,
   "metadata": {},
   "outputs": [],
   "source": [
    "#в last_price ограничим price 10млн рублей\n",
    "clean_data = clean_data.query('last_price <= 10')"
   ]
  },
  {
   "cell_type": "code",
   "execution_count": 47,
   "metadata": {},
   "outputs": [],
   "source": [
    "# в rooms уберем данные что выше 5 комнат\n",
    "clean_data = clean_data.query('rooms <= 5')"
   ]
  },
  {
   "cell_type": "code",
   "execution_count": 48,
   "metadata": {},
   "outputs": [],
   "source": [
    "#в days_exposition уберу выбросы больше 300 дней\n",
    "clean_data = clean_data.query('days_exposition <= 300')"
   ]
  },
  {
   "cell_type": "markdown",
   "metadata": {},
   "source": [
    " ### 10 населенных пунктов с наибольшим числом объявлений"
   ]
  },
  {
   "cell_type": "code",
   "execution_count": 50,
   "metadata": {},
   "outputs": [
    {
     "data": {
      "text/html": [
       "<div>\n",
       "<style scoped>\n",
       "    .dataframe tbody tr th:only-of-type {\n",
       "        vertical-align: middle;\n",
       "    }\n",
       "\n",
       "    .dataframe tbody tr th {\n",
       "        vertical-align: top;\n",
       "    }\n",
       "\n",
       "    .dataframe thead th {\n",
       "        text-align: right;\n",
       "    }\n",
       "</style>\n",
       "<table border=\"1\" class=\"dataframe\">\n",
       "  <thead>\n",
       "    <tr style=\"text-align: right;\">\n",
       "      <th></th>\n",
       "      <th>count</th>\n",
       "      <th>mean</th>\n",
       "    </tr>\n",
       "    <tr>\n",
       "      <th>locality_name</th>\n",
       "      <th></th>\n",
       "      <th></th>\n",
       "    </tr>\n",
       "  </thead>\n",
       "  <tbody>\n",
       "    <tr>\n",
       "      <th>Санкт-Петербург</th>\n",
       "      <td>10872</td>\n",
       "      <td>0.101729</td>\n",
       "    </tr>\n",
       "    <tr>\n",
       "      <th>посёлок Мурино</th>\n",
       "      <td>416</td>\n",
       "      <td>0.094471</td>\n",
       "    </tr>\n",
       "    <tr>\n",
       "      <th>посёлок Шушары</th>\n",
       "      <td>364</td>\n",
       "      <td>0.089560</td>\n",
       "    </tr>\n",
       "    <tr>\n",
       "      <th>Всеволожск</th>\n",
       "      <td>314</td>\n",
       "      <td>0.069427</td>\n",
       "    </tr>\n",
       "    <tr>\n",
       "      <th>Колпино</th>\n",
       "      <td>288</td>\n",
       "      <td>0.086806</td>\n",
       "    </tr>\n",
       "    <tr>\n",
       "      <th>Пушкин</th>\n",
       "      <td>277</td>\n",
       "      <td>0.100000</td>\n",
       "    </tr>\n",
       "    <tr>\n",
       "      <th>посёлок Парголово</th>\n",
       "      <td>273</td>\n",
       "      <td>0.095604</td>\n",
       "    </tr>\n",
       "    <tr>\n",
       "      <th>Гатчина</th>\n",
       "      <td>245</td>\n",
       "      <td>0.069796</td>\n",
       "    </tr>\n",
       "    <tr>\n",
       "      <th>деревня Кудрово</th>\n",
       "      <td>216</td>\n",
       "      <td>0.099074</td>\n",
       "    </tr>\n",
       "    <tr>\n",
       "      <th>Выборг</th>\n",
       "      <td>180</td>\n",
       "      <td>0.040000</td>\n",
       "    </tr>\n",
       "  </tbody>\n",
       "</table>\n",
       "</div>"
      ],
      "text/plain": [
       "                   count      mean\n",
       "locality_name                     \n",
       "Санкт-Петербург    10872  0.101729\n",
       "посёлок Мурино       416  0.094471\n",
       "посёлок Шушары       364  0.089560\n",
       "Всеволожск           314  0.069427\n",
       "Колпино              288  0.086806\n",
       "Пушкин               277  0.100000\n",
       "посёлок Парголово    273  0.095604\n",
       "Гатчина              245  0.069796\n",
       "деревня Кудрово      216  0.099074\n",
       "Выборг               180  0.040000"
      ]
     },
     "metadata": {},
     "output_type": "display_data"
    }
   ],
   "source": [
    "#отобрать 10 населенных пунктов с наибольшим числом объявлений\n",
    "\n",
    "top_10 = clean_data.pivot_table(index='locality_name',values='price_per_square',aggfunc=['count','mean'])\n",
    "top_10.columns = ['count','mean']\n",
    "display(top_10.sort_values(by='count',ascending=False).head(10))"
   ]
  },
  {
   "cell_type": "markdown",
   "metadata": {},
   "source": [
    "самая большая стоимость кв метра  в питере примерно 100 тыс рублей за кв метр (самая низкая  в Выборге тыс рублей)"
   ]
  },
  {
   "cell_type": "code",
   "execution_count": 59,
   "metadata": {},
   "outputs": [
    {
     "data": {
      "text/plain": [
       "2     7890\n",
       "1     7508\n",
       "3     5796\n",
       "4     1180\n",
       "5      324\n",
       "6      104\n",
       "7       59\n",
       "0       55\n",
       "8       12\n",
       "9        8\n",
       "10       3\n",
       "11       2\n",
       "14       2\n",
       "16       1\n",
       "19       1\n",
       "12       1\n",
       "15       1\n",
       "Name: rooms, dtype: int64"
      ]
     },
     "execution_count": 59,
     "metadata": {},
     "output_type": "execute_result"
    }
   ],
   "source": [
    "df['rooms'].value_counts()"
   ]
  },
  {
   "cell_type": "markdown",
   "metadata": {},
   "source": [
    "### Анализ центральной области"
   ]
  },
  {
   "cell_type": "code",
   "execution_count": 51,
   "metadata": {},
   "outputs": [
    {
     "data": {
      "image/png": "[encoded data removed]",
      "text/plain": [
       "<Figure size 432x288 with 1 Axes>"
      ]
     },
     "metadata": {},
     "output_type": "display_data"
    }
   ],
   "source": [
    "#выделяем центральную область\n",
    "\n",
    "clean_data['distance_to_center'] =round(clean_data.loc[clean_data['cityCenters_nearest'].notna()]['cityCenters_nearest'] / 1000)\n",
    "\n",
    "clean_data.groupby('distance_to_center')['last_price'].mean().plot()\n",
    "plt.xlabel('Расстояние до центра (км)')\n",
    "plt.ylabel(\"Цена продажи квартиры (млн. руб.)\")\n",
    "plt.title('График зависимости цены продажи квартиры от расстояния до центра')\n",
    "plt.show()"
   ]
  },
  {
   "cell_type": "code",
   "execution_count": 52,
   "metadata": {},
   "outputs": [
    {
     "data": {
      "image/png": "[encoded data removed]",
      "text/plain": [
       "<Figure size 432x288 with 1 Axes>"
      ]
     },
     "metadata": {},
     "output_type": "display_data"
    }
   ],
   "source": [
    "#по графику видно что  цена резко меняется в районе 10 км\n",
    "center_locality = clean_data.query('distance_to_center <= 10')\n",
    "\n",
    "center_locality['total_area'].hist(bins=50)\n",
    "plt.title('Распределение площади квартиры (центральная область)')\n",
    "plt.xlabel('Общая площадь квартиры (м2)')\n",
    "plt.show()"
   ]
  },
  {
   "cell_type": "code",
   "execution_count": 53,
   "metadata": {},
   "outputs": [
    {
     "data": {
      "image/png": "[encoded data removed]",
      "text/plain": [
       "<Figure size 432x288 with 1 Axes>"
      ]
     },
     "metadata": {},
     "output_type": "display_data"
    }
   ],
   "source": [
    "center_locality['last_price'].hist(bins = 10)\n",
    "plt.title('Распределение цены продажи квартиры (центральная область)')\n",
    "plt.xlabel('Цена продажи (млн. руб.)')\n",
    "plt.show()"
   ]
  },
  {
   "cell_type": "code",
   "execution_count": 54,
   "metadata": {},
   "outputs": [
    {
     "data": {
      "image/png": "[encoded data removed]",
      "text/plain": [
       "<Figure size 432x288 with 1 Axes>"
      ]
     },
     "metadata": {},
     "output_type": "display_data"
    }
   ],
   "source": [
    "center_locality['rooms'].hist()\n",
    "plt.xlabel('Количество комнат')\n",
    "plt.title('Распределение кол-во комнат (центральная область)')\n",
    "plt.show()"
   ]
  },
  {
   "cell_type": "code",
   "execution_count": 55,
   "metadata": {},
   "outputs": [
    {
     "data": {
      "image/png": "[encoded data removed]",
      "text/plain": [
       "<Figure size 432x288 with 1 Axes>"
      ]
     },
     "metadata": {},
     "output_type": "display_data"
    }
   ],
   "source": [
    "center_locality['ceiling_height'].hist()\n",
    "plt.xlabel('Высота потолка (м)')\n",
    "plt.title('Распределение высоты потолков (центральная область)')\n",
    "plt.show()"
   ]
  },
  {
   "cell_type": "code",
   "execution_count": 56,
   "metadata": {},
   "outputs": [
    {
     "data": {
      "image/png": "[encoded data removed]",
      "text/plain": [
       "<Figure size 432x288 with 1 Axes>"
      ]
     },
     "metadata": {},
     "output_type": "display_data"
    }
   ],
   "source": [
    "center_locality.groupby('distance_to_center')['last_price'].mean().plot()\n",
    "plt.ylabel('Цена продажи (млн. руб)')\n",
    "plt.xlabel('Расстояние до центра (км)')\n",
    "plt.title('График зависимости средней цены продажи квартиры от расстояния до центра (2014-2019 гг)')\n",
    "plt.show()"
   ]
  },
  {
   "cell_type": "code",
   "execution_count": 57,
   "metadata": {},
   "outputs": [
    {
     "data": {
      "image/png": "[encoded data removed]",
      "text/plain": [
       "<Figure size 432x288 with 1 Axes>"
      ]
     },
     "metadata": {},
     "output_type": "display_data"
    }
   ],
   "source": [
    "center_locality.groupby('rooms')['last_price'].mean().plot()\n",
    "plt.ylabel('Цена продажи (млн. руб)')\n",
    "plt.xlabel('Кол-во комнат')\n",
    "plt.title('График зависимости средней цены продажи от кол-ва комнат')\n",
    "plt.show()"
   ]
  },
  {
   "cell_type": "code",
   "execution_count": 58,
   "metadata": {},
   "outputs": [
    {
     "data": {
      "image/png": "[encoded data removed]",
      "text/plain": [
       "<Figure size 432x288 with 1 Axes>"
      ]
     },
     "metadata": {},
     "output_type": "display_data"
    }
   ],
   "source": [
    "center_locality.groupby('floor_name')['last_price'].mean().plot()\n",
    "plt.ylabel('цена квартиры (млн. руб)')\n",
    "plt.xlabel('категория этажа')\n",
    "plt.title('График зависимости средней цены квартиры от категории этажа (центр. обл.)')\n",
    "plt.show()"
   ]
  },
  {
   "cell_type": "code",
   "execution_count": 61,
   "metadata": {},
   "outputs": [
    {
     "data": {
      "image/png": "[encoded data removed]",
      "text/plain": [
       "<Figure size 432x288 with 1 Axes>"
      ]
     },
     "metadata": {},
     "output_type": "display_data"
    }
   ],
   "source": [
    "#анализ зависимости цены от дня недели\n",
    "center_locality.groupby('weekday_publication')['last_price'].median().plot()\n",
    "plt.ylabel('цена квартиры (млн. руб)')\n",
    "plt.xlabel('день недели публикации')\n",
    "plt.title('График зависимости медианной цены квартиры от дня недели (центральная область)')\n",
    "plt.show()"
   ]
  },
  {
   "cell_type": "code",
   "execution_count": 67,
   "metadata": {},
   "outputs": [
    {
     "data": {
      "image/png": "[encoded data removed]",
      "text/plain": [
       "<Figure size 432x288 with 1 Axes>"
      ]
     },
     "metadata": {},
     "output_type": "display_data"
    }
   ],
   "source": [
    "#анализ зависимости цены от месяца публикации\n",
    "center_locality.groupby('month_publication')['last_price'].mean().plot()\n",
    "plt.ylabel('цена квартиры (млн. руб)')\n",
    "plt.xlabel('месяц публикации')\n",
    "plt.title('График зависимости медианной цены квартиры от месяца публикации объявления (центральная область)')\n",
    "plt.show()"
   ]
  },
  {
   "cell_type": "code",
   "execution_count": 66,
   "metadata": {},
   "outputs": [
    {
     "data": {
      "image/png": "[encoded data removed]",
      "text/plain": [
       "<Figure size 432x288 with 1 Axes>"
      ]
     },
     "metadata": {},
     "output_type": "display_data"
    }
   ],
   "source": [
    "#анализ зависимости цены от года публикации\n",
    "center_locality.groupby('year_publication')['last_price'].mean().plot()\n",
    "plt.ylabel('цена квартиры (млн. руб)')\n",
    "plt.xlabel('год публикации')\n",
    "plt.title('График зависимости медианной цены квартиры от года публикации объявления (центральная область)')\n",
    "plt.show()"
   ]
  },
  {
   "cell_type": "markdown",
   "metadata": {},
   "source": [
    "<div>\n",
    "    <ul>\n",
    "        <li> По графику распределения площади квартир в центральной область можно сказать что распределены нормально, с пиками в районе 30 и 45 м2 (возможно людям сейчас хватает только на квартиры с небольшой площадью) - доступное жилье\n",
    "        <li>По графику распределения цены квартир в центральном районе видно что цена в среднем от 4 до 6 млн (ну при такой площади не так уж и дорого)\n",
    "        <li>По графику распределения кол-ва комнат в квартирах преобладают в основном 1-3 -х комнатные квартиры их больше всего\n",
    "        <li>По графику распределения высоты потолков квартир в центральной области , видно что высота потолков в данном районе где-то 2.5 м \n",
    "        <li>По графику зависимости цены от расстояние до центра (в центральной области) очевидна положительная корреляция,чем ближе центральная область тем цена на квартиры становится больше \n",
    "        <li>По графику завиимости цены от кол-ва комнат (центральная область) видно, что с увеличением кол-ва комнат цена продажи растет (следовательно - положительная корреляция)\n",
    "        <li>По графику зависимости цены (средней) от категории этажа в центральной области  , похоже что самая  большая цена у квартир между первым и последними этажами , а самая низкая как и во всем городе у первого этажа\n",
    "        <li>по графику цены от дня недели видно что самая высокая цена в объявлениях во вторник, четверг, пятницу и субботу \n",
    "        <li>по графику цены продажи от месяца видно что максимальные цены показывают объявления , которые выложены в январе, марте , летом , и в декабре ()\n",
    "        <li> по графику цены продажи квартиры от года публикации объявления видно, что в центральной области начиная с 2015 года идет постоянное увеличение цены продажи , а значит корреляция есть.\n",
    "    </ul>\n",
    "</div>"
   ]
  },
  {
   "cell_type": "markdown",
   "metadata": {},
   "source": [
    "## Общий вывод"
   ]
  },
  {
   "cell_type": "markdown",
   "metadata": {},
   "source": [
    "<div>\n",
    "    <b>Выводы:</b>\n",
    "    <ul>\n",
    "    <li>По выгруженным данным , сделана предобработка изучены данные о цене, площади, этаже , удалленности от центра, и выделены следующие зависимости , \n",
    "    <li> цена продажи квартиры зависит от ее площади (причем не важно в какой зоне она везде растет с увелечением площади) ,\n",
    "    <li>не зависимо от места нахождения квартир самая низкая цена у квартир, расположенных на первом этаже , а самая высокая по всем районам - на последнем этаже, но в центральном районе - на этажах между первым и последним\n",
    "    <li>очевидно есть зависимость от года публикации объявления, в центральной области начиная с 2015 года цена на жилье увеличивается , а вот в данных по всем городам цена до 2016 года падает, а рост начинает лишь с 2018 года\n",
    "    <li>по данным всех областей (особенно в центральной области) цена за квартиру увеличивается с уменьшением расстояния до центра\n",
    "    <li>Особенной зависимости по всем данным цены продажи от дня. месяца публикации объявления не обнаружено( что касается центрального района , то цена максимальна летом , осенью , зимой)\n",
    "    <li> Что касается зависимости от количества комнат , то при анализе центральной области и (прочих)  районов обнаружено, \n",
    "    что с увеличением кол-ва комнат цена продажи квартиры растет (что очевидно) (как и в случае увеличения площади)\n",
    "    <li>В центральном районе высота потолков в основном - 2.5м\n",
    "    </ul>\n",
    "</div>"
   ]
  }
 ],
 "metadata": {
  "ExecuteTimeLog": [
   {
    "duration": 2711,
    "start_time": "2022-01-17T16:12:10.566Z"
   },
   {
    "duration": 73,
    "start_time": "2022-01-17T16:12:23.464Z"
   },
   {
    "duration": 69,
    "start_time": "2022-01-17T16:12:40.980Z"
   },
   {
    "duration": 73,
    "start_time": "2022-01-17T16:13:05.172Z"
   },
   {
    "duration": 90,
    "start_time": "2022-01-17T16:13:29.798Z"
   },
   {
    "duration": 98,
    "start_time": "2022-01-17T16:14:10.360Z"
   },
   {
    "duration": 43,
    "start_time": "2022-01-17T16:39:19.771Z"
   },
   {
    "duration": 353,
    "start_time": "2022-01-17T16:40:55.954Z"
   },
   {
    "duration": 5996,
    "start_time": "2022-01-17T16:41:33.005Z"
   },
   {
    "duration": 1686,
    "start_time": "2022-01-17T16:42:22.778Z"
   },
   {
    "duration": 1779,
    "start_time": "2022-01-17T16:42:40.198Z"
   },
   {
    "duration": 262,
    "start_time": "2022-01-17T16:42:53.298Z"
   },
   {
    "duration": 6630,
    "start_time": "2022-01-17T17:16:54.518Z"
   },
   {
    "duration": 6386,
    "start_time": "2022-01-17T17:17:11.370Z"
   },
   {
    "duration": 16,
    "start_time": "2022-01-17T17:17:55.984Z"
   },
   {
    "duration": 25,
    "start_time": "2022-01-17T17:18:03.978Z"
   },
   {
    "duration": 9,
    "start_time": "2022-01-17T17:19:06.980Z"
   },
   {
    "duration": 6,
    "start_time": "2022-01-17T17:19:31.298Z"
   },
   {
    "duration": 6668,
    "start_time": "2022-01-17T17:23:03.795Z"
   },
   {
    "duration": 243,
    "start_time": "2022-01-17T17:24:13.727Z"
   },
   {
    "duration": 6,
    "start_time": "2022-01-17T17:24:45.400Z"
   },
   {
    "duration": 6,
    "start_time": "2022-01-17T17:25:01.892Z"
   },
   {
    "duration": 7,
    "start_time": "2022-01-17T17:25:13.996Z"
   },
   {
    "duration": 9,
    "start_time": "2022-01-17T17:26:49.301Z"
   },
   {
    "duration": 13,
    "start_time": "2022-01-17T17:27:23.266Z"
   },
   {
    "duration": 18,
    "start_time": "2022-01-17T17:27:46.734Z"
   },
   {
    "duration": 18,
    "start_time": "2022-01-17T17:28:06.324Z"
   },
   {
    "duration": 12,
    "start_time": "2022-01-17T17:28:40.590Z"
   },
   {
    "duration": 619,
    "start_time": "2022-01-18T11:16:05.765Z"
   },
   {
    "duration": 87,
    "start_time": "2022-01-18T11:16:18.447Z"
   },
   {
    "duration": 2394,
    "start_time": "2022-01-18T11:18:37.044Z"
   },
   {
    "duration": 85,
    "start_time": "2022-01-18T11:19:26.423Z"
   },
   {
    "duration": 88,
    "start_time": "2022-01-18T11:19:52.012Z"
   },
   {
    "duration": 82,
    "start_time": "2022-01-18T11:20:54.897Z"
   },
   {
    "duration": 2,
    "start_time": "2022-01-18T11:23:35.345Z"
   },
   {
    "duration": 2,
    "start_time": "2022-01-18T11:23:38.576Z"
   },
   {
    "duration": 10,
    "start_time": "2022-01-18T11:24:25.572Z"
   },
   {
    "duration": 232,
    "start_time": "2022-01-18T11:27:09.125Z"
   },
   {
    "duration": 495,
    "start_time": "2022-01-18T11:27:41.353Z"
   },
   {
    "duration": 133,
    "start_time": "2022-01-18T11:27:50.447Z"
   },
   {
    "duration": 491,
    "start_time": "2022-01-18T11:31:08.474Z"
   },
   {
    "duration": 435,
    "start_time": "2022-01-18T11:31:32.424Z"
   },
   {
    "duration": 130,
    "start_time": "2022-01-18T11:31:51.436Z"
   },
   {
    "duration": 134,
    "start_time": "2022-01-18T11:32:17.788Z"
   },
   {
    "duration": 680,
    "start_time": "2022-01-18T11:38:45.456Z"
   },
   {
    "duration": 136,
    "start_time": "2022-01-18T11:39:42.704Z"
   },
   {
    "duration": 138,
    "start_time": "2022-01-18T11:40:08.047Z"
   },
   {
    "duration": 137,
    "start_time": "2022-01-18T11:44:41.346Z"
   },
   {
    "duration": 135,
    "start_time": "2022-01-18T11:45:23.418Z"
   },
   {
    "duration": 148,
    "start_time": "2022-01-18T11:46:14.750Z"
   },
   {
    "duration": 136,
    "start_time": "2022-01-18T11:50:13.225Z"
   },
   {
    "duration": 194,
    "start_time": "2022-01-18T11:50:27.636Z"
   },
   {
    "duration": 596,
    "start_time": "2022-01-18T11:51:51.142Z"
   },
   {
    "duration": 245,
    "start_time": "2022-01-18T11:52:09.019Z"
   },
   {
    "duration": 147,
    "start_time": "2022-01-18T11:55:11.111Z"
   },
   {
    "duration": 85,
    "start_time": "2022-01-18T12:11:10.349Z"
   },
   {
    "duration": 153,
    "start_time": "2022-01-18T12:11:57.894Z"
   },
   {
    "duration": 568,
    "start_time": "2022-01-18T12:12:51.469Z"
   },
   {
    "duration": 189,
    "start_time": "2022-01-18T12:13:01.825Z"
   },
   {
    "duration": 169,
    "start_time": "2022-01-18T12:13:51.296Z"
   },
   {
    "duration": 233,
    "start_time": "2022-01-18T12:17:58.284Z"
   },
   {
    "duration": 216,
    "start_time": "2022-01-18T12:19:42.869Z"
   },
   {
    "duration": 224,
    "start_time": "2022-01-18T12:21:35.840Z"
   },
   {
    "duration": 248,
    "start_time": "2022-01-18T12:23:14.081Z"
   },
   {
    "duration": 250,
    "start_time": "2022-01-18T12:24:11.616Z"
   },
   {
    "duration": 229,
    "start_time": "2022-01-18T12:28:09.341Z"
   },
   {
    "duration": 182,
    "start_time": "2022-01-18T12:29:38.266Z"
   },
   {
    "duration": 175,
    "start_time": "2022-01-18T12:29:57.594Z"
   },
   {
    "duration": 247,
    "start_time": "2022-01-18T12:32:58.111Z"
   },
   {
    "duration": 183,
    "start_time": "2022-01-18T12:34:52.466Z"
   },
   {
    "duration": 183,
    "start_time": "2022-01-18T12:36:51.683Z"
   },
   {
    "duration": 186,
    "start_time": "2022-01-18T12:41:50.882Z"
   },
   {
    "duration": 2578,
    "start_time": "2022-01-18T12:44:29.498Z"
   },
   {
    "duration": 2820,
    "start_time": "2022-01-18T12:45:14.140Z"
   },
   {
    "duration": 2565,
    "start_time": "2022-01-18T12:46:09.572Z"
   },
   {
    "duration": 2406,
    "start_time": "2022-01-18T12:46:30.983Z"
   },
   {
    "duration": 3258,
    "start_time": "2022-01-18T12:47:05.721Z"
   },
   {
    "duration": 189,
    "start_time": "2022-01-18T12:47:33.757Z"
   },
   {
    "duration": 188,
    "start_time": "2022-01-18T12:49:07.499Z"
   },
   {
    "duration": 186,
    "start_time": "2022-01-18T12:50:47.793Z"
   },
   {
    "duration": 571,
    "start_time": "2022-01-18T12:55:22.788Z"
   },
   {
    "duration": 565,
    "start_time": "2022-01-18T12:56:07.425Z"
   },
   {
    "duration": 542,
    "start_time": "2022-01-18T12:56:43.300Z"
   },
   {
    "duration": 282,
    "start_time": "2022-01-18T12:56:55.455Z"
   },
   {
    "duration": 191,
    "start_time": "2022-01-18T12:59:07.630Z"
   },
   {
    "duration": 117,
    "start_time": "2022-01-18T13:00:45.535Z"
   },
   {
    "duration": 761,
    "start_time": "2022-01-18T16:55:14.266Z"
   },
   {
    "duration": 81,
    "start_time": "2022-01-18T16:55:19.633Z"
   },
   {
    "duration": 11,
    "start_time": "2022-01-18T16:57:38.714Z"
   },
   {
    "duration": 75,
    "start_time": "2022-01-18T16:59:14.268Z"
   },
   {
    "duration": 83,
    "start_time": "2022-01-18T17:02:21.417Z"
   },
   {
    "duration": 5,
    "start_time": "2022-01-18T17:02:53.599Z"
   },
   {
    "duration": 68,
    "start_time": "2022-01-18T17:04:09.044Z"
   },
   {
    "duration": 5,
    "start_time": "2022-01-18T17:04:11.880Z"
   },
   {
    "duration": 5,
    "start_time": "2022-01-18T17:04:29.739Z"
   },
   {
    "duration": 63,
    "start_time": "2022-01-18T17:04:47.110Z"
   },
   {
    "duration": 5,
    "start_time": "2022-01-18T17:04:48.629Z"
   },
   {
    "duration": 4,
    "start_time": "2022-01-18T17:05:20.329Z"
   },
   {
    "duration": 4,
    "start_time": "2022-01-18T17:05:26.169Z"
   },
   {
    "duration": 6,
    "start_time": "2022-01-18T17:05:51.069Z"
   },
   {
    "duration": 8,
    "start_time": "2022-01-18T17:06:00.046Z"
   },
   {
    "duration": 85,
    "start_time": "2022-01-18T17:18:58.307Z"
   },
   {
    "duration": 80,
    "start_time": "2022-01-18T17:19:04.957Z"
   },
   {
    "duration": 88,
    "start_time": "2022-01-18T17:23:27.515Z"
   },
   {
    "duration": 1785,
    "start_time": "2022-01-18T17:23:46.710Z"
   },
   {
    "duration": 1601,
    "start_time": "2022-01-18T17:24:10.984Z"
   },
   {
    "duration": 1721,
    "start_time": "2022-01-18T17:24:47.457Z"
   },
   {
    "duration": 1188,
    "start_time": "2022-01-18T17:25:06.628Z"
   },
   {
    "duration": 87,
    "start_time": "2022-01-18T17:27:57.806Z"
   },
   {
    "duration": 86,
    "start_time": "2022-01-18T17:28:30.183Z"
   },
   {
    "duration": 8,
    "start_time": "2022-01-18T17:29:33.624Z"
   },
   {
    "duration": 17,
    "start_time": "2022-01-18T17:29:52.051Z"
   },
   {
    "duration": 86,
    "start_time": "2022-01-18T17:31:13.407Z"
   },
   {
    "duration": 151,
    "start_time": "2022-01-18T17:31:29.064Z"
   },
   {
    "duration": 101,
    "start_time": "2022-01-18T17:31:45.597Z"
   },
   {
    "duration": 1156,
    "start_time": "2022-01-18T17:31:52.015Z"
   },
   {
    "duration": 278,
    "start_time": "2022-01-18T17:36:28.065Z"
   },
   {
    "duration": 278,
    "start_time": "2022-01-18T17:37:01.629Z"
   },
   {
    "duration": 255,
    "start_time": "2022-01-18T17:37:34.313Z"
   },
   {
    "duration": 26,
    "start_time": "2022-01-18T17:38:01.682Z"
   },
   {
    "duration": 18,
    "start_time": "2022-01-18T17:38:31.668Z"
   },
   {
    "duration": 16,
    "start_time": "2022-01-18T17:38:56.478Z"
   },
   {
    "duration": 14,
    "start_time": "2022-01-18T17:41:05.278Z"
   },
   {
    "duration": 17,
    "start_time": "2022-01-18T17:41:57.924Z"
   },
   {
    "duration": 28,
    "start_time": "2022-01-18T17:43:30.905Z"
   },
   {
    "duration": 29,
    "start_time": "2022-01-18T17:44:03.182Z"
   },
   {
    "duration": 29,
    "start_time": "2022-01-18T17:44:38.188Z"
   },
   {
    "duration": 26,
    "start_time": "2022-01-18T17:44:53.739Z"
   },
   {
    "duration": 256,
    "start_time": "2022-01-18T17:46:14.445Z"
   },
   {
    "duration": 932,
    "start_time": "2022-01-18T19:00:51.896Z"
   },
   {
    "duration": 142,
    "start_time": "2022-01-18T19:00:52.831Z"
   },
   {
    "duration": 7,
    "start_time": "2022-01-18T19:00:52.976Z"
   },
   {
    "duration": 119,
    "start_time": "2022-01-18T19:02:32.268Z"
   },
   {
    "duration": 1742,
    "start_time": "2022-01-18T19:04:01.795Z"
   },
   {
    "duration": 335,
    "start_time": "2022-01-18T19:04:27.925Z"
   },
   {
    "duration": 354,
    "start_time": "2022-01-18T19:04:47.207Z"
   },
   {
    "duration": 444,
    "start_time": "2022-01-18T19:06:52.895Z"
   },
   {
    "duration": 250,
    "start_time": "2022-01-18T19:07:28.192Z"
   },
   {
    "duration": 734,
    "start_time": "2022-01-18T19:07:46.829Z"
   },
   {
    "duration": 425,
    "start_time": "2022-01-18T19:07:53.902Z"
   },
   {
    "duration": 300,
    "start_time": "2022-01-18T19:08:27.338Z"
   },
   {
    "duration": 174,
    "start_time": "2022-01-18T19:16:34.010Z"
   },
   {
    "duration": 127,
    "start_time": "2022-01-18T19:16:37.072Z"
   },
   {
    "duration": 262,
    "start_time": "2022-01-18T19:16:40.240Z"
   },
   {
    "duration": 1120,
    "start_time": "2022-01-18T19:22:39.888Z"
   },
   {
    "duration": 1098,
    "start_time": "2022-01-18T19:23:22.218Z"
   },
   {
    "duration": 2031,
    "start_time": "2022-01-18T19:26:59.404Z"
   },
   {
    "duration": 133,
    "start_time": "2022-01-18T19:27:23.269Z"
   },
   {
    "duration": 3584,
    "start_time": "2022-01-18T19:27:37.807Z"
   },
   {
    "duration": 1847,
    "start_time": "2022-01-18T19:28:36.942Z"
   },
   {
    "duration": 3264,
    "start_time": "2022-01-18T19:28:59.425Z"
   },
   {
    "duration": 1978,
    "start_time": "2022-01-18T19:29:14.804Z"
   },
   {
    "duration": 2816,
    "start_time": "2022-01-18T19:31:16.980Z"
   },
   {
    "duration": 673,
    "start_time": "2022-01-19T16:17:57.805Z"
   },
   {
    "duration": 82,
    "start_time": "2022-01-19T16:18:03.982Z"
   },
   {
    "duration": 1641,
    "start_time": "2022-01-19T16:18:08.229Z"
   },
   {
    "duration": 247,
    "start_time": "2022-01-19T16:20:30.740Z"
   },
   {
    "duration": 266,
    "start_time": "2022-01-19T16:23:54.259Z"
   },
   {
    "duration": 275,
    "start_time": "2022-01-19T16:25:35.923Z"
   },
   {
    "duration": 223,
    "start_time": "2022-01-19T16:26:32.260Z"
   },
   {
    "duration": 73,
    "start_time": "2022-01-19T16:28:52.151Z"
   },
   {
    "duration": 1491,
    "start_time": "2022-01-19T16:28:56.985Z"
   },
   {
    "duration": 221,
    "start_time": "2022-01-19T16:29:02.728Z"
   },
   {
    "duration": 257,
    "start_time": "2022-01-19T16:29:25.330Z"
   },
   {
    "duration": 226,
    "start_time": "2022-01-19T16:29:41.659Z"
   },
   {
    "duration": 291,
    "start_time": "2022-01-19T16:30:09.686Z"
   },
   {
    "duration": 498,
    "start_time": "2022-01-19T16:30:25.729Z"
   },
   {
    "duration": 430,
    "start_time": "2022-01-19T16:31:01.643Z"
   },
   {
    "duration": 206,
    "start_time": "2022-01-19T16:31:21.679Z"
   },
   {
    "duration": 61,
    "start_time": "2022-01-19T16:34:15.916Z"
   },
   {
    "duration": 450,
    "start_time": "2022-01-19T16:34:22.545Z"
   },
   {
    "duration": 529,
    "start_time": "2022-01-19T16:36:39.921Z"
   },
   {
    "duration": 480,
    "start_time": "2022-01-19T16:37:52.568Z"
   },
   {
    "duration": 477,
    "start_time": "2022-01-19T16:40:04.767Z"
   },
   {
    "duration": 539,
    "start_time": "2022-01-19T16:40:51.057Z"
   },
   {
    "duration": 631,
    "start_time": "2022-01-19T16:41:40.342Z"
   },
   {
    "duration": 698,
    "start_time": "2022-01-19T16:45:12.754Z"
   },
   {
    "duration": 819,
    "start_time": "2022-01-19T16:45:55.722Z"
   },
   {
    "duration": 831,
    "start_time": "2022-01-19T16:47:19.861Z"
   },
   {
    "duration": 837,
    "start_time": "2022-01-19T16:50:44.652Z"
   },
   {
    "duration": 910,
    "start_time": "2022-01-19T16:51:16.450Z"
   },
   {
    "duration": 1014,
    "start_time": "2022-01-19T16:51:38.591Z"
   },
   {
    "duration": 1120,
    "start_time": "2022-01-19T16:53:46.998Z"
   },
   {
    "duration": 1023,
    "start_time": "2022-01-19T16:56:36.609Z"
   },
   {
    "duration": 1104,
    "start_time": "2022-01-19T16:56:49.089Z"
   },
   {
    "duration": 1243,
    "start_time": "2022-01-19T16:58:33.844Z"
   },
   {
    "duration": 1128,
    "start_time": "2022-01-19T17:00:15.542Z"
   },
   {
    "duration": 615,
    "start_time": "2022-01-19T17:05:29.824Z"
   },
   {
    "duration": 110,
    "start_time": "2022-01-19T17:05:46.377Z"
   },
   {
    "duration": 1401,
    "start_time": "2022-01-19T17:07:37.799Z"
   },
   {
    "duration": 1652,
    "start_time": "2022-01-19T17:09:16.575Z"
   },
   {
    "duration": 1700,
    "start_time": "2022-01-19T17:11:09.220Z"
   },
   {
    "duration": 579,
    "start_time": "2022-01-19T17:11:33.998Z"
   },
   {
    "duration": 653,
    "start_time": "2022-01-19T17:13:24.611Z"
   },
   {
    "duration": 696,
    "start_time": "2022-01-19T17:13:36.292Z"
   },
   {
    "duration": 625,
    "start_time": "2022-01-19T17:13:48.954Z"
   },
   {
    "duration": 94,
    "start_time": "2022-01-19T17:13:49.581Z"
   },
   {
    "duration": 1609,
    "start_time": "2022-01-19T17:13:49.678Z"
   },
   {
    "duration": 1724,
    "start_time": "2022-01-19T17:13:51.288Z"
   },
   {
    "duration": 637,
    "start_time": "2022-01-19T17:17:56.525Z"
   },
   {
    "duration": 85,
    "start_time": "2022-01-19T17:17:57.164Z"
   },
   {
    "duration": 1491,
    "start_time": "2022-01-19T17:17:57.252Z"
   },
   {
    "duration": 1813,
    "start_time": "2022-01-19T17:17:58.744Z"
   },
   {
    "duration": 1765,
    "start_time": "2022-01-19T17:18:39.998Z"
   },
   {
    "duration": 2570,
    "start_time": "2022-01-19T17:19:06.242Z"
   },
   {
    "duration": 1669,
    "start_time": "2022-01-19T17:19:34.615Z"
   },
   {
    "duration": 1795,
    "start_time": "2022-01-19T17:19:43.594Z"
   },
   {
    "duration": 1493,
    "start_time": "2022-01-19T17:20:01.289Z"
   },
   {
    "duration": 1716,
    "start_time": "2022-01-19T17:20:50.985Z"
   },
   {
    "duration": 1733,
    "start_time": "2022-01-19T17:21:14.326Z"
   },
   {
    "duration": 1589,
    "start_time": "2022-01-19T17:24:14.816Z"
   },
   {
    "duration": 1742,
    "start_time": "2022-01-19T17:24:38.277Z"
   },
   {
    "duration": 1702,
    "start_time": "2022-01-19T17:26:30.840Z"
   },
   {
    "duration": 1627,
    "start_time": "2022-01-19T17:26:43.978Z"
   },
   {
    "duration": 1516,
    "start_time": "2022-01-19T17:29:33.944Z"
   },
   {
    "duration": 1800,
    "start_time": "2022-01-19T17:30:07.333Z"
   },
   {
    "duration": 1818,
    "start_time": "2022-01-19T17:30:48.138Z"
   },
   {
    "duration": 1719,
    "start_time": "2022-01-19T17:31:27.038Z"
   },
   {
    "duration": 1771,
    "start_time": "2022-01-19T17:32:58.349Z"
   },
   {
    "duration": 1597,
    "start_time": "2022-01-19T17:33:45.654Z"
   },
   {
    "duration": 1737,
    "start_time": "2022-01-19T17:34:14.749Z"
   },
   {
    "duration": 812,
    "start_time": "2022-01-21T19:54:17.458Z"
   },
   {
    "duration": 81,
    "start_time": "2022-01-21T19:54:18.271Z"
   },
   {
    "duration": 1432,
    "start_time": "2022-01-21T19:54:18.354Z"
   },
   {
    "duration": 1546,
    "start_time": "2022-01-21T19:54:19.788Z"
   },
   {
    "duration": 1474,
    "start_time": "2022-01-21T19:59:19.890Z"
   },
   {
    "duration": 9242,
    "start_time": "2022-01-21T20:05:46.941Z"
   },
   {
    "duration": 1504,
    "start_time": "2022-01-21T20:07:11.571Z"
   },
   {
    "duration": 1704,
    "start_time": "2022-01-21T20:09:54.576Z"
   },
   {
    "duration": 1921,
    "start_time": "2022-01-21T20:10:35.309Z"
   },
   {
    "duration": 3245,
    "start_time": "2022-01-21T20:13:48.473Z"
   },
   {
    "duration": 3898,
    "start_time": "2022-01-21T20:16:07.687Z"
   },
   {
    "duration": 121,
    "start_time": "2022-01-21T20:21:04.779Z"
   },
   {
    "duration": 120,
    "start_time": "2022-01-21T20:21:15.160Z"
   },
   {
    "duration": 3943,
    "start_time": "2022-01-21T20:21:20.934Z"
   },
   {
    "duration": 3890,
    "start_time": "2022-01-21T20:22:39.611Z"
   },
   {
    "duration": 4130,
    "start_time": "2022-01-21T20:32:25.491Z"
   },
   {
    "duration": 3962,
    "start_time": "2022-01-21T20:32:49.072Z"
   },
   {
    "duration": 4002,
    "start_time": "2022-01-21T20:33:07.133Z"
   },
   {
    "duration": 3989,
    "start_time": "2022-01-21T20:33:25.928Z"
   },
   {
    "duration": 12917,
    "start_time": "2022-01-21T20:37:00.157Z"
   },
   {
    "duration": 4252,
    "start_time": "2022-01-21T20:40:28.293Z"
   },
   {
    "duration": 4376,
    "start_time": "2022-01-21T20:41:23.333Z"
   },
   {
    "duration": 13669,
    "start_time": "2022-01-21T20:41:45.006Z"
   },
   {
    "duration": 4273,
    "start_time": "2022-01-21T20:42:49.186Z"
   },
   {
    "duration": 4082,
    "start_time": "2022-01-21T20:44:42.164Z"
   },
   {
    "duration": 3980,
    "start_time": "2022-01-21T20:47:04.123Z"
   },
   {
    "duration": 4893,
    "start_time": "2022-01-21T20:56:21.057Z"
   },
   {
    "duration": 12655,
    "start_time": "2022-01-21T20:58:30.405Z"
   },
   {
    "duration": 14338,
    "start_time": "2022-01-21T20:59:54.885Z"
   },
   {
    "duration": 5574,
    "start_time": "2022-01-21T21:00:50.669Z"
   },
   {
    "duration": 402,
    "start_time": "2022-01-21T21:03:41.804Z"
   },
   {
    "duration": 374,
    "start_time": "2022-01-21T21:03:54.604Z"
   },
   {
    "duration": 74,
    "start_time": "2022-01-21T21:04:50.068Z"
   },
   {
    "duration": 78,
    "start_time": "2022-01-21T21:05:10.428Z"
   },
   {
    "duration": 1591,
    "start_time": "2022-01-21T21:05:21.529Z"
   },
   {
    "duration": 5520,
    "start_time": "2022-01-21T21:05:25.690Z"
   },
   {
    "duration": 12517,
    "start_time": "2022-01-21T21:06:30.638Z"
   },
   {
    "duration": 5400,
    "start_time": "2022-01-21T21:07:03.101Z"
   },
   {
    "duration": 675,
    "start_time": "2022-01-21T21:07:40.118Z"
   },
   {
    "duration": 94,
    "start_time": "2022-01-21T21:07:40.795Z"
   },
   {
    "duration": 1478,
    "start_time": "2022-01-21T21:07:40.891Z"
   },
   {
    "duration": 5492,
    "start_time": "2022-01-21T21:07:42.371Z"
   },
   {
    "duration": 388,
    "start_time": "2022-01-21T22:01:41.532Z"
   },
   {
    "duration": 381,
    "start_time": "2022-01-21T22:02:04.774Z"
   },
   {
    "duration": 4297,
    "start_time": "2022-01-21T22:03:49.444Z"
   },
   {
    "duration": 695,
    "start_time": "2022-01-21T22:04:20.108Z"
   },
   {
    "duration": 83,
    "start_time": "2022-01-21T22:04:20.805Z"
   },
   {
    "duration": 1490,
    "start_time": "2022-01-21T22:04:20.890Z"
   },
   {
    "duration": 5479,
    "start_time": "2022-01-21T22:04:22.382Z"
   },
   {
    "duration": 76,
    "start_time": "2022-01-21T22:05:31.091Z"
   },
   {
    "duration": 82,
    "start_time": "2022-01-21T22:05:43.595Z"
   },
   {
    "duration": 117,
    "start_time": "2022-01-21T22:06:26.168Z"
   },
   {
    "duration": 4144,
    "start_time": "2022-01-21T22:07:05.390Z"
   },
   {
    "duration": 66,
    "start_time": "2022-01-21T22:07:35.139Z"
   },
   {
    "duration": 82,
    "start_time": "2022-01-21T22:08:16.435Z"
   },
   {
    "duration": 145,
    "start_time": "2022-01-21T22:08:49.879Z"
   },
   {
    "duration": 72,
    "start_time": "2022-01-21T22:09:49.801Z"
   },
   {
    "duration": 166,
    "start_time": "2022-01-21T22:10:34.114Z"
   },
   {
    "duration": 113,
    "start_time": "2022-01-21T22:11:06.677Z"
   },
   {
    "duration": 710,
    "start_time": "2022-01-21T22:11:20.539Z"
   },
   {
    "duration": 135,
    "start_time": "2022-01-21T22:11:21.251Z"
   },
   {
    "duration": 1567,
    "start_time": "2022-01-21T22:11:21.388Z"
   },
   {
    "duration": 5722,
    "start_time": "2022-01-21T22:11:22.957Z"
   },
   {
    "duration": 398,
    "start_time": "2022-01-21T22:17:09.888Z"
   },
   {
    "duration": 390,
    "start_time": "2022-01-21T22:17:49.255Z"
   },
   {
    "duration": 375,
    "start_time": "2022-01-21T22:19:56.279Z"
   },
   {
    "duration": 618,
    "start_time": "2022-01-21T22:20:21.329Z"
   },
   {
    "duration": 130,
    "start_time": "2022-01-21T22:20:32.498Z"
   },
   {
    "duration": 114,
    "start_time": "2022-01-21T22:20:49.297Z"
   },
   {
    "duration": 3955,
    "start_time": "2022-01-21T22:21:54.290Z"
   },
   {
    "duration": 780,
    "start_time": "2022-01-21T22:23:01.136Z"
   },
   {
    "duration": 120,
    "start_time": "2022-01-21T22:23:01.919Z"
   },
   {
    "duration": 1528,
    "start_time": "2022-01-21T22:23:02.041Z"
   },
   {
    "duration": 2240,
    "start_time": "2022-01-21T22:23:03.571Z"
   },
   {
    "duration": 786,
    "start_time": "2022-01-21T22:23:58.130Z"
   },
   {
    "duration": 72,
    "start_time": "2022-01-21T22:23:58.918Z"
   },
   {
    "duration": 1514,
    "start_time": "2022-01-21T22:23:58.991Z"
   },
   {
    "duration": 4220,
    "start_time": "2022-01-21T22:24:00.507Z"
   },
   {
    "duration": 4233,
    "start_time": "2022-01-21T22:27:23.091Z"
   },
   {
    "duration": 12209,
    "start_time": "2022-01-21T22:28:35.356Z"
   },
   {
    "duration": 3930,
    "start_time": "2022-01-21T22:31:32.527Z"
   },
   {
    "duration": 4511,
    "start_time": "2022-01-21T22:32:49.445Z"
   },
   {
    "duration": 4320,
    "start_time": "2022-01-21T22:33:37.088Z"
   },
   {
    "duration": 6312,
    "start_time": "2022-01-21T22:35:03.845Z"
   },
   {
    "duration": 3969,
    "start_time": "2022-01-21T22:35:36.488Z"
   },
   {
    "duration": 12134,
    "start_time": "2022-01-21T22:36:41.500Z"
   },
   {
    "duration": 12185,
    "start_time": "2022-01-21T22:37:09.583Z"
   },
   {
    "duration": 3995,
    "start_time": "2022-01-21T22:37:57.770Z"
   },
   {
    "duration": 4393,
    "start_time": "2022-01-21T22:39:18.016Z"
   },
   {
    "duration": 4379,
    "start_time": "2022-01-21T22:40:33.762Z"
   },
   {
    "duration": 3932,
    "start_time": "2022-01-21T22:43:37.897Z"
   },
   {
    "duration": 3915,
    "start_time": "2022-01-21T22:44:13.717Z"
   },
   {
    "duration": 4025,
    "start_time": "2022-01-21T22:45:23.373Z"
   },
   {
    "duration": 5375,
    "start_time": "2022-01-21T22:47:45.618Z"
   },
   {
    "duration": 5454,
    "start_time": "2022-01-21T22:48:37.500Z"
   },
   {
    "duration": 4115,
    "start_time": "2022-01-21T22:48:53.839Z"
   },
   {
    "duration": 3923,
    "start_time": "2022-01-21T22:51:23.636Z"
   },
   {
    "duration": 4266,
    "start_time": "2022-01-21T22:52:56.344Z"
   },
   {
    "duration": 4404,
    "start_time": "2022-01-21T22:58:09.158Z"
   },
   {
    "duration": 4370,
    "start_time": "2022-01-21T22:59:04.947Z"
   },
   {
    "duration": 4408,
    "start_time": "2022-01-21T22:59:53.314Z"
   },
   {
    "duration": 4109,
    "start_time": "2022-01-21T23:01:06.362Z"
   },
   {
    "duration": 4268,
    "start_time": "2022-01-21T23:02:31.231Z"
   },
   {
    "duration": 4631,
    "start_time": "2022-01-21T23:02:58.389Z"
   },
   {
    "duration": 4209,
    "start_time": "2022-01-21T23:03:16.642Z"
   },
   {
    "duration": 4124,
    "start_time": "2022-01-21T23:03:59.700Z"
   },
   {
    "duration": 4155,
    "start_time": "2022-01-21T23:04:45.633Z"
   },
   {
    "duration": 4175,
    "start_time": "2022-01-21T23:05:12.861Z"
   },
   {
    "duration": 4321,
    "start_time": "2022-01-21T23:06:01.771Z"
   },
   {
    "duration": 4337,
    "start_time": "2022-01-21T23:06:27.548Z"
   },
   {
    "duration": 4288,
    "start_time": "2022-01-21T23:06:45.858Z"
   },
   {
    "duration": 4346,
    "start_time": "2022-01-21T23:07:24.294Z"
   },
   {
    "duration": 6998,
    "start_time": "2022-01-21T23:08:03.211Z"
   },
   {
    "duration": 952,
    "start_time": "2022-01-22T10:43:51.607Z"
   },
   {
    "duration": 465,
    "start_time": "2022-01-22T10:43:52.565Z"
   },
   {
    "duration": -32,
    "start_time": "2022-01-22T10:43:53.065Z"
   },
   {
    "duration": -33,
    "start_time": "2022-01-22T10:43:53.067Z"
   },
   {
    "duration": 3276,
    "start_time": "2022-01-22T10:44:29.595Z"
   },
   {
    "duration": 3152,
    "start_time": "2022-01-22T10:47:13.141Z"
   },
   {
    "duration": 169,
    "start_time": "2022-01-22T10:48:29.296Z"
   },
   {
    "duration": 2688,
    "start_time": "2022-01-22T10:48:31.351Z"
   },
   {
    "duration": 7958,
    "start_time": "2022-01-22T10:48:34.043Z"
   },
   {
    "duration": 6479,
    "start_time": "2022-01-22T10:49:35.158Z"
   },
   {
    "duration": 15708,
    "start_time": "2022-01-22T10:50:30.637Z"
   },
   {
    "duration": 15382,
    "start_time": "2022-01-22T10:51:11.835Z"
   },
   {
    "duration": 7177,
    "start_time": "2022-01-22T10:52:06.971Z"
   },
   {
    "duration": 11787,
    "start_time": "2022-01-22T10:52:58.824Z"
   },
   {
    "duration": 7116,
    "start_time": "2022-01-22T10:54:00.247Z"
   },
   {
    "duration": 7150,
    "start_time": "2022-01-22T10:54:34.763Z"
   },
   {
    "duration": 7147,
    "start_time": "2022-01-22T10:54:54.117Z"
   },
   {
    "duration": 7897,
    "start_time": "2022-01-22T10:56:46.195Z"
   },
   {
    "duration": 8058,
    "start_time": "2022-01-22T10:58:20.138Z"
   },
   {
    "duration": 7865,
    "start_time": "2022-01-22T11:01:38.760Z"
   },
   {
    "duration": 9139,
    "start_time": "2022-01-22T11:06:00.877Z"
   },
   {
    "duration": 11750,
    "start_time": "2022-01-22T11:06:46.877Z"
   },
   {
    "duration": 611,
    "start_time": "2022-01-28T12:31:50.392Z"
   },
   {
    "duration": 76,
    "start_time": "2022-01-28T12:32:09.765Z"
   },
   {
    "duration": 117,
    "start_time": "2022-01-28T12:32:21.094Z"
   },
   {
    "duration": 93,
    "start_time": "2022-01-28T12:32:42.591Z"
   },
   {
    "duration": 76,
    "start_time": "2022-01-28T12:36:28.834Z"
   },
   {
    "duration": 59,
    "start_time": "2022-01-28T12:38:51.780Z"
   },
   {
    "duration": 14,
    "start_time": "2022-01-28T12:40:22.216Z"
   },
   {
    "duration": 55,
    "start_time": "2022-01-28T12:41:08.529Z"
   },
   {
    "duration": 51,
    "start_time": "2022-01-28T12:41:58.300Z"
   },
   {
    "duration": 36,
    "start_time": "2022-01-28T12:42:45.369Z"
   },
   {
    "duration": 34,
    "start_time": "2022-01-28T12:42:58.363Z"
   },
   {
    "duration": 92,
    "start_time": "2022-01-28T12:43:52.538Z"
   },
   {
    "duration": 3,
    "start_time": "2022-01-28T12:44:03.458Z"
   },
   {
    "duration": 69,
    "start_time": "2022-01-28T12:44:03.977Z"
   },
   {
    "duration": 94,
    "start_time": "2022-01-28T12:44:05.449Z"
   },
   {
    "duration": 89,
    "start_time": "2022-01-28T12:44:09.211Z"
   },
   {
    "duration": 254,
    "start_time": "2022-01-28T12:45:12.610Z"
   },
   {
    "duration": 22,
    "start_time": "2022-01-28T12:45:27.965Z"
   },
   {
    "duration": 93,
    "start_time": "2022-01-28T12:45:31.877Z"
   },
   {
    "duration": 91,
    "start_time": "2022-01-28T12:45:56.584Z"
   },
   {
    "duration": 44,
    "start_time": "2022-01-28T12:46:10.674Z"
   },
   {
    "duration": 4810,
    "start_time": "2022-01-28T12:48:24.327Z"
   },
   {
    "duration": 7,
    "start_time": "2022-01-28T12:49:01.839Z"
   },
   {
    "duration": 15,
    "start_time": "2022-01-28T12:49:15.383Z"
   },
   {
    "duration": 38,
    "start_time": "2022-01-28T12:56:50.630Z"
   },
   {
    "duration": 49,
    "start_time": "2022-01-28T12:57:06.035Z"
   },
   {
    "duration": 64,
    "start_time": "2022-01-28T13:00:04.333Z"
   },
   {
    "duration": 46,
    "start_time": "2022-01-28T13:00:34.210Z"
   },
   {
    "duration": 39,
    "start_time": "2022-01-28T13:00:57.780Z"
   },
   {
    "duration": 47,
    "start_time": "2022-01-28T13:02:09.100Z"
   },
   {
    "duration": 522,
    "start_time": "2022-01-28T13:02:24.454Z"
   },
   {
    "duration": 77,
    "start_time": "2022-01-28T13:02:24.978Z"
   },
   {
    "duration": 109,
    "start_time": "2022-01-28T13:02:25.057Z"
   },
   {
    "duration": 65,
    "start_time": "2022-01-28T13:02:25.168Z"
   },
   {
    "duration": 22,
    "start_time": "2022-01-28T13:02:25.235Z"
   },
   {
    "duration": 1612,
    "start_time": "2022-01-28T13:02:25.259Z"
   },
   {
    "duration": 8084,
    "start_time": "2022-01-28T13:02:26.873Z"
   },
   {
    "duration": 49,
    "start_time": "2022-01-28T13:03:44.692Z"
   },
   {
    "duration": 45,
    "start_time": "2022-01-28T13:06:11.371Z"
   },
   {
    "duration": 15,
    "start_time": "2022-01-28T13:08:35.589Z"
   },
   {
    "duration": 13,
    "start_time": "2022-01-28T13:08:48.600Z"
   },
   {
    "duration": 92,
    "start_time": "2022-01-28T13:09:47.431Z"
   },
   {
    "duration": 554,
    "start_time": "2022-01-28T13:10:31.443Z"
   },
   {
    "duration": 77,
    "start_time": "2022-01-28T13:10:31.999Z"
   },
   {
    "duration": 103,
    "start_time": "2022-01-28T13:10:32.078Z"
   },
   {
    "duration": 54,
    "start_time": "2022-01-28T13:10:32.183Z"
   },
   {
    "duration": 21,
    "start_time": "2022-01-28T13:10:32.239Z"
   },
   {
    "duration": 98,
    "start_time": "2022-01-28T13:10:32.261Z"
   },
   {
    "duration": 1666,
    "start_time": "2022-01-28T13:10:32.361Z"
   },
   {
    "duration": 8314,
    "start_time": "2022-01-28T13:10:34.029Z"
   },
   {
    "duration": 59,
    "start_time": "2022-01-28T13:12:37.964Z"
   },
   {
    "duration": 110,
    "start_time": "2022-01-28T13:12:49.788Z"
   },
   {
    "duration": 87,
    "start_time": "2022-01-28T13:12:55.805Z"
   },
   {
    "duration": 91,
    "start_time": "2022-01-28T13:13:15.489Z"
   },
   {
    "duration": 9,
    "start_time": "2022-01-28T13:14:08.799Z"
   },
   {
    "duration": 93,
    "start_time": "2022-01-28T13:14:42.889Z"
   },
   {
    "duration": 9,
    "start_time": "2022-01-28T13:16:57.507Z"
   },
   {
    "duration": 104,
    "start_time": "2022-01-28T13:17:00.100Z"
   },
   {
    "duration": 1644,
    "start_time": "2022-01-28T13:27:36.192Z"
   },
   {
    "duration": 485,
    "start_time": "2022-01-28T13:32:55.134Z"
   },
   {
    "duration": 263,
    "start_time": "2022-01-28T13:34:31.938Z"
   },
   {
    "duration": 266,
    "start_time": "2022-01-28T13:34:50.988Z"
   },
   {
    "duration": 182,
    "start_time": "2022-01-28T13:35:12.951Z"
   },
   {
    "duration": 239,
    "start_time": "2022-01-28T13:37:16.470Z"
   },
   {
    "duration": 517,
    "start_time": "2022-01-28T13:38:33.543Z"
   },
   {
    "duration": 184,
    "start_time": "2022-01-28T13:38:44.952Z"
   },
   {
    "duration": 260,
    "start_time": "2022-01-28T13:40:23.588Z"
   },
   {
    "duration": 251,
    "start_time": "2022-01-28T13:40:52.120Z"
   },
   {
    "duration": 8067,
    "start_time": "2022-01-28T13:46:27.177Z"
   },
   {
    "duration": 175,
    "start_time": "2022-01-28T13:47:14.774Z"
   },
   {
    "duration": 268,
    "start_time": "2022-01-28T13:47:34.048Z"
   },
   {
    "duration": 191,
    "start_time": "2022-01-28T13:48:03.531Z"
   },
   {
    "duration": 176,
    "start_time": "2022-01-28T13:49:22.174Z"
   },
   {
    "duration": 197,
    "start_time": "2022-01-28T13:49:56.185Z"
   },
   {
    "duration": 176,
    "start_time": "2022-01-28T13:51:18.482Z"
   },
   {
    "duration": 360,
    "start_time": "2022-01-28T13:51:26.068Z"
   },
   {
    "duration": 261,
    "start_time": "2022-01-28T13:53:05.880Z"
   },
   {
    "duration": 267,
    "start_time": "2022-01-28T13:53:32.763Z"
   },
   {
    "duration": 247,
    "start_time": "2022-01-28T13:53:46.949Z"
   },
   {
    "duration": 269,
    "start_time": "2022-01-28T13:56:00.445Z"
   },
   {
    "duration": 255,
    "start_time": "2022-01-28T13:56:13.783Z"
   },
   {
    "duration": 7827,
    "start_time": "2022-01-28T13:59:37.951Z"
   },
   {
    "duration": 7920,
    "start_time": "2022-01-28T14:00:40.384Z"
   },
   {
    "duration": 7900,
    "start_time": "2022-01-28T14:01:18.310Z"
   },
   {
    "duration": 8286,
    "start_time": "2022-01-28T14:01:55.338Z"
   },
   {
    "duration": 277,
    "start_time": "2022-01-28T14:02:53.726Z"
   },
   {
    "duration": 1174,
    "start_time": "2022-01-28T16:53:10.778Z"
   },
   {
    "duration": 437,
    "start_time": "2022-01-28T17:01:12.627Z"
   },
   {
    "duration": 423,
    "start_time": "2022-01-28T17:01:22.297Z"
   },
   {
    "duration": 3,
    "start_time": "2022-01-28T17:01:39.831Z"
   },
   {
    "duration": 64,
    "start_time": "2022-01-28T17:01:40.377Z"
   },
   {
    "duration": 138,
    "start_time": "2022-01-28T17:01:43.495Z"
   },
   {
    "duration": 64,
    "start_time": "2022-01-28T17:01:46.693Z"
   },
   {
    "duration": 340,
    "start_time": "2022-01-28T17:01:47.245Z"
   },
   {
    "duration": -547,
    "start_time": "2022-01-28T17:01:48.135Z"
   },
   {
    "duration": 2622,
    "start_time": "2022-01-28T17:01:51.377Z"
   },
   {
    "duration": 390,
    "start_time": "2022-01-28T17:01:57.571Z"
   },
   {
    "duration": 2408,
    "start_time": "2022-01-28T17:01:59.829Z"
   },
   {
    "duration": 147,
    "start_time": "2022-01-28T17:02:02.667Z"
   },
   {
    "duration": 1192,
    "start_time": "2022-01-28T17:02:13.895Z"
   },
   {
    "duration": 1046,
    "start_time": "2022-01-28T17:02:59.322Z"
   },
   {
    "duration": 63,
    "start_time": "2022-01-28T17:03:00.372Z"
   },
   {
    "duration": 83,
    "start_time": "2022-01-28T17:03:00.436Z"
   },
   {
    "duration": 38,
    "start_time": "2022-01-28T17:03:00.521Z"
   },
   {
    "duration": 417,
    "start_time": "2022-01-28T17:03:00.561Z"
   },
   {
    "duration": -534,
    "start_time": "2022-01-28T17:03:01.514Z"
   },
   {
    "duration": -559,
    "start_time": "2022-01-28T17:03:01.540Z"
   },
   {
    "duration": -570,
    "start_time": "2022-01-28T17:03:01.553Z"
   },
   {
    "duration": -577,
    "start_time": "2022-01-28T17:03:01.561Z"
   },
   {
    "duration": -582,
    "start_time": "2022-01-28T17:03:01.567Z"
   },
   {
    "duration": -585,
    "start_time": "2022-01-28T17:03:01.572Z"
   },
   {
    "duration": 1132,
    "start_time": "2022-01-28T17:08:30.280Z"
   },
   {
    "duration": 61,
    "start_time": "2022-01-28T17:08:31.414Z"
   },
   {
    "duration": 85,
    "start_time": "2022-01-28T17:08:31.477Z"
   },
   {
    "duration": 40,
    "start_time": "2022-01-28T17:08:31.572Z"
   },
   {
    "duration": 437,
    "start_time": "2022-01-28T17:08:31.614Z"
   },
   {
    "duration": -525,
    "start_time": "2022-01-28T17:08:32.577Z"
   },
   {
    "duration": -529,
    "start_time": "2022-01-28T17:08:32.582Z"
   },
   {
    "duration": -533,
    "start_time": "2022-01-28T17:08:32.587Z"
   },
   {
    "duration": -546,
    "start_time": "2022-01-28T17:08:32.601Z"
   },
   {
    "duration": -549,
    "start_time": "2022-01-28T17:08:32.605Z"
   },
   {
    "duration": -554,
    "start_time": "2022-01-28T17:08:32.611Z"
   },
   {
    "duration": 101,
    "start_time": "2022-01-28T17:10:01.509Z"
   },
   {
    "duration": 338,
    "start_time": "2022-01-28T17:10:08.225Z"
   },
   {
    "duration": 330,
    "start_time": "2022-01-28T17:12:09.202Z"
   },
   {
    "duration": 8,
    "start_time": "2022-01-28T17:13:06.050Z"
   },
   {
    "duration": 62,
    "start_time": "2022-01-28T17:13:14.441Z"
   },
   {
    "duration": 1470,
    "start_time": "2022-01-28T17:13:27.163Z"
   },
   {
    "duration": 1847,
    "start_time": "2022-01-28T17:13:32.542Z"
   },
   {
    "duration": 318,
    "start_time": "2022-01-28T17:16:36.073Z"
   },
   {
    "duration": 238,
    "start_time": "2022-01-28T17:16:43.659Z"
   },
   {
    "duration": 1588,
    "start_time": "2022-01-28T17:16:51.693Z"
   },
   {
    "duration": 135,
    "start_time": "2022-01-28T17:16:58.465Z"
   },
   {
    "duration": 256,
    "start_time": "2022-01-28T17:18:06.856Z"
   },
   {
    "duration": 250,
    "start_time": "2022-01-28T17:18:34.391Z"
   },
   {
    "duration": 250,
    "start_time": "2022-01-28T17:20:11.812Z"
   },
   {
    "duration": 488,
    "start_time": "2022-01-28T17:20:36.760Z"
   },
   {
    "duration": 312,
    "start_time": "2022-01-28T17:21:06.544Z"
   },
   {
    "duration": 12,
    "start_time": "2022-01-28T17:21:42.787Z"
   },
   {
    "duration": 247,
    "start_time": "2022-01-28T17:21:51.748Z"
   },
   {
    "duration": 572,
    "start_time": "2022-01-28T17:23:58.693Z"
   },
   {
    "duration": 1394,
    "start_time": "2022-01-28T17:26:34.930Z"
   },
   {
    "duration": 1525,
    "start_time": "2022-01-28T17:27:06.837Z"
   },
   {
    "duration": 104,
    "start_time": "2022-01-28T17:28:21.909Z"
   },
   {
    "duration": 542,
    "start_time": "2022-01-28T17:28:37.595Z"
   },
   {
    "duration": 1426,
    "start_time": "2022-01-28T17:28:57.749Z"
   },
   {
    "duration": 1290,
    "start_time": "2022-01-28T17:29:55.062Z"
   },
   {
    "duration": 713,
    "start_time": "2022-01-28T17:31:06.040Z"
   },
   {
    "duration": 1279,
    "start_time": "2022-01-28T17:31:49.036Z"
   },
   {
    "duration": 1653,
    "start_time": "2022-01-28T17:33:52.379Z"
   },
   {
    "duration": 1049,
    "start_time": "2022-01-28T17:34:49.208Z"
   },
   {
    "duration": 69,
    "start_time": "2022-01-28T17:34:50.259Z"
   },
   {
    "duration": 93,
    "start_time": "2022-01-28T17:34:55.461Z"
   },
   {
    "duration": 47,
    "start_time": "2022-01-28T17:34:59.669Z"
   },
   {
    "duration": 67,
    "start_time": "2022-01-28T17:35:02.705Z"
   },
   {
    "duration": 1668,
    "start_time": "2022-01-28T17:35:09.846Z"
   },
   {
    "duration": 18,
    "start_time": "2022-01-28T17:35:39.164Z"
   },
   {
    "duration": 71,
    "start_time": "2022-01-28T17:35:41.045Z"
   },
   {
    "duration": 1698,
    "start_time": "2022-01-28T17:35:49.397Z"
   },
   {
    "duration": 1449,
    "start_time": "2022-01-28T17:35:54.953Z"
   },
   {
    "duration": 1036,
    "start_time": "2022-01-28T17:36:53.921Z"
   },
   {
    "duration": 67,
    "start_time": "2022-01-28T17:36:54.959Z"
   },
   {
    "duration": 97,
    "start_time": "2022-01-28T17:36:55.028Z"
   },
   {
    "duration": 48,
    "start_time": "2022-01-28T17:36:55.127Z"
   },
   {
    "duration": 21,
    "start_time": "2022-01-28T17:36:55.177Z"
   },
   {
    "duration": 76,
    "start_time": "2022-01-28T17:36:55.199Z"
   },
   {
    "duration": 1979,
    "start_time": "2022-01-28T17:36:55.277Z"
   },
   {
    "duration": 1424,
    "start_time": "2022-01-28T17:36:57.258Z"
   },
   {
    "duration": 257,
    "start_time": "2022-01-28T17:36:58.684Z"
   },
   {
    "duration": 19,
    "start_time": "2022-01-28T17:36:58.942Z"
   },
   {
    "duration": 1272,
    "start_time": "2022-01-28T17:36:58.971Z"
   },
   {
    "duration": 1121,
    "start_time": "2022-01-28T17:37:47.639Z"
   },
   {
    "duration": 66,
    "start_time": "2022-01-28T17:37:48.762Z"
   },
   {
    "duration": 91,
    "start_time": "2022-01-28T17:37:51.113Z"
   },
   {
    "duration": 42,
    "start_time": "2022-01-28T17:37:54.858Z"
   },
   {
    "duration": 20,
    "start_time": "2022-01-28T17:37:58.537Z"
   },
   {
    "duration": 60,
    "start_time": "2022-01-28T17:37:59.956Z"
   },
   {
    "duration": 1506,
    "start_time": "2022-01-28T17:38:07.765Z"
   },
   {
    "duration": 1314,
    "start_time": "2022-01-28T17:38:14.226Z"
   },
   {
    "duration": 8,
    "start_time": "2022-01-28T17:39:34.481Z"
   },
   {
    "duration": 1376,
    "start_time": "2022-01-28T17:41:12.193Z"
   },
   {
    "duration": 1473,
    "start_time": "2022-01-28T17:43:14.888Z"
   },
   {
    "duration": 1480,
    "start_time": "2022-01-28T17:44:11.392Z"
   },
   {
    "duration": 1598,
    "start_time": "2022-01-28T17:45:26.150Z"
   },
   {
    "duration": 1426,
    "start_time": "2022-01-28T17:46:01.607Z"
   },
   {
    "duration": 26,
    "start_time": "2022-01-28T17:47:49.705Z"
   },
   {
    "duration": 960,
    "start_time": "2022-01-28T17:55:40.021Z"
   },
   {
    "duration": 869,
    "start_time": "2022-01-28T17:56:19.691Z"
   },
   {
    "duration": 2373,
    "start_time": "2022-01-28T17:57:03.645Z"
   },
   {
    "duration": 516,
    "start_time": "2022-01-29T17:45:04.959Z"
   },
   {
    "duration": 1108,
    "start_time": "2022-01-29T17:45:12.200Z"
   },
   {
    "duration": 71,
    "start_time": "2022-01-29T17:45:13.648Z"
   },
   {
    "duration": 99,
    "start_time": "2022-01-29T17:45:16.822Z"
   },
   {
    "duration": 9,
    "start_time": "2022-01-29T17:45:23.234Z"
   },
   {
    "duration": 52,
    "start_time": "2022-01-29T17:45:37.723Z"
   },
   {
    "duration": 22,
    "start_time": "2022-01-29T17:45:54.669Z"
   },
   {
    "duration": 89,
    "start_time": "2022-01-29T17:45:56.758Z"
   },
   {
    "duration": 1677,
    "start_time": "2022-01-29T17:46:02.014Z"
   },
   {
    "duration": 1538,
    "start_time": "2022-01-29T17:46:04.175Z"
   },
   {
    "duration": 1241,
    "start_time": "2022-01-29T17:46:20.350Z"
   },
   {
    "duration": 1063,
    "start_time": "2022-01-29T17:47:05.366Z"
   },
   {
    "duration": 1149,
    "start_time": "2022-01-29T17:49:47.650Z"
   },
   {
    "duration": 1306,
    "start_time": "2022-01-29T17:50:44.305Z"
   },
   {
    "duration": 1194,
    "start_time": "2022-01-29T17:54:43.613Z"
   },
   {
    "duration": 1775,
    "start_time": "2022-01-29T17:55:35.125Z"
   },
   {
    "duration": 1433,
    "start_time": "2022-01-29T17:56:16.793Z"
   },
   {
    "duration": 85,
    "start_time": "2022-01-29T17:57:24.034Z"
   },
   {
    "duration": 1534,
    "start_time": "2022-01-29T17:57:30.273Z"
   },
   {
    "duration": 1201,
    "start_time": "2022-01-29T17:59:04.718Z"
   },
   {
    "duration": 1161,
    "start_time": "2022-01-29T17:59:35.537Z"
   },
   {
    "duration": 1459,
    "start_time": "2022-01-29T17:59:56.091Z"
   },
   {
    "duration": 1532,
    "start_time": "2022-01-29T18:00:41.297Z"
   },
   {
    "duration": 1176,
    "start_time": "2022-01-29T18:01:41.239Z"
   },
   {
    "duration": 1187,
    "start_time": "2022-01-29T18:02:27.126Z"
   },
   {
    "duration": 1150,
    "start_time": "2022-01-29T18:04:57.761Z"
   },
   {
    "duration": 1168,
    "start_time": "2022-01-29T18:05:19.232Z"
   },
   {
    "duration": 1434,
    "start_time": "2022-01-29T18:05:48.423Z"
   },
   {
    "duration": 1486,
    "start_time": "2022-01-29T18:06:21.592Z"
   },
   {
    "duration": 1329,
    "start_time": "2022-01-29T18:06:35.340Z"
   },
   {
    "duration": 1495,
    "start_time": "2022-01-29T18:08:37.051Z"
   },
   {
    "duration": 1476,
    "start_time": "2022-01-29T18:13:45.933Z"
   },
   {
    "duration": 1520,
    "start_time": "2022-01-29T18:14:38.582Z"
   },
   {
    "duration": 1624,
    "start_time": "2022-01-29T18:16:43.342Z"
   },
   {
    "duration": 1661,
    "start_time": "2022-01-29T18:17:35.411Z"
   },
   {
    "duration": 1524,
    "start_time": "2022-01-29T18:17:46.900Z"
   },
   {
    "duration": 1771,
    "start_time": "2022-01-29T18:20:22.453Z"
   },
   {
    "duration": 1704,
    "start_time": "2022-01-29T18:21:45.418Z"
   },
   {
    "duration": 1935,
    "start_time": "2022-01-29T18:24:27.171Z"
   },
   {
    "duration": 30,
    "start_time": "2022-01-29T18:27:44.732Z"
   },
   {
    "duration": 23,
    "start_time": "2022-01-29T18:27:48.505Z"
   },
   {
    "duration": 342,
    "start_time": "2022-01-29T18:28:37.312Z"
   },
   {
    "duration": 164,
    "start_time": "2022-01-29T18:29:12.119Z"
   },
   {
    "duration": 183,
    "start_time": "2022-01-29T18:31:44.698Z"
   },
   {
    "duration": 909,
    "start_time": "2022-01-29T18:32:17.773Z"
   },
   {
    "duration": 1170,
    "start_time": "2022-01-29T18:35:05.528Z"
   },
   {
    "duration": 1032,
    "start_time": "2022-01-29T18:38:54.732Z"
   },
   {
    "duration": 478,
    "start_time": "2022-01-29T18:39:28.489Z"
   },
   {
    "duration": 1102,
    "start_time": "2022-01-29T18:39:53.485Z"
   },
   {
    "duration": 1002,
    "start_time": "2022-01-29T18:41:45.106Z"
   },
   {
    "duration": 1113,
    "start_time": "2022-01-29T18:42:00.013Z"
   },
   {
    "duration": 1128,
    "start_time": "2022-01-29T18:42:10.845Z"
   },
   {
    "duration": 1007,
    "start_time": "2022-01-29T18:42:25.271Z"
   },
   {
    "duration": 985,
    "start_time": "2022-01-29T18:42:35.712Z"
   },
   {
    "duration": 1095,
    "start_time": "2022-01-29T18:42:49.605Z"
   },
   {
    "duration": 1052,
    "start_time": "2022-01-29T18:43:01.405Z"
   },
   {
    "duration": 1002,
    "start_time": "2022-01-29T18:43:11.637Z"
   },
   {
    "duration": 1152,
    "start_time": "2022-01-29T18:44:05.507Z"
   },
   {
    "duration": 1003,
    "start_time": "2022-01-29T18:44:35.271Z"
   },
   {
    "duration": 1100,
    "start_time": "2022-01-29T18:46:37.777Z"
   },
   {
    "duration": 1104,
    "start_time": "2022-01-29T18:59:12.663Z"
   },
   {
    "duration": 942,
    "start_time": "2022-01-29T19:00:22.722Z"
   },
   {
    "duration": 1044,
    "start_time": "2022-01-29T19:02:38.514Z"
   },
   {
    "duration": 1303,
    "start_time": "2022-01-29T19:08:46.365Z"
   },
   {
    "duration": 1231,
    "start_time": "2022-01-29T19:11:46.686Z"
   },
   {
    "duration": 1889,
    "start_time": "2022-01-29T19:15:23.628Z"
   },
   {
    "duration": 1302,
    "start_time": "2022-09-02T09:12:36.744Z"
   },
   {
    "duration": 127,
    "start_time": "2022-09-02T09:13:11.831Z"
   },
   {
    "duration": 157,
    "start_time": "2022-09-02T09:13:14.646Z"
   },
   {
    "duration": 117,
    "start_time": "2022-09-02T09:13:15.501Z"
   },
   {
    "duration": 14,
    "start_time": "2022-09-02T09:15:03.560Z"
   },
   {
    "duration": 47,
    "start_time": "2022-09-02T09:16:02.906Z"
   },
   {
    "duration": 23,
    "start_time": "2022-09-02T09:17:04.064Z"
   },
   {
    "duration": 84,
    "start_time": "2022-09-02T09:17:09.725Z"
   },
   {
    "duration": 13,
    "start_time": "2022-09-02T09:18:36.760Z"
   },
   {
    "duration": 3,
    "start_time": "2022-09-02T09:18:37.192Z"
   },
   {
    "duration": 3,
    "start_time": "2022-09-02T09:18:37.489Z"
   },
   {
    "duration": 3,
    "start_time": "2022-09-02T09:18:37.782Z"
   },
   {
    "duration": 8,
    "start_time": "2022-09-02T09:18:38.051Z"
   },
   {
    "duration": 4,
    "start_time": "2022-09-02T09:18:39.378Z"
   },
   {
    "duration": 81,
    "start_time": "2022-09-02T09:18:40.652Z"
   },
   {
    "duration": 35,
    "start_time": "2022-09-02T09:21:49.478Z"
   },
   {
    "duration": 53,
    "start_time": "2022-09-02T09:21:54.231Z"
   },
   {
    "duration": 11,
    "start_time": "2022-09-02T09:22:10.506Z"
   },
   {
    "duration": 10,
    "start_time": "2022-09-02T09:23:23.624Z"
   },
   {
    "duration": 14,
    "start_time": "2022-09-02T09:23:30.045Z"
   },
   {
    "duration": 3,
    "start_time": "2022-09-02T09:23:31.352Z"
   },
   {
    "duration": 4,
    "start_time": "2022-09-02T09:23:32.551Z"
   },
   {
    "duration": 4,
    "start_time": "2022-09-02T09:23:37.377Z"
   },
   {
    "duration": 10,
    "start_time": "2022-09-02T09:23:40.335Z"
   },
   {
    "duration": 5,
    "start_time": "2022-09-02T09:23:42.343Z"
   },
   {
    "duration": 82,
    "start_time": "2022-09-02T09:23:43.638Z"
   },
   {
    "duration": 13,
    "start_time": "2022-09-02T09:25:17.035Z"
   },
   {
    "duration": 2228,
    "start_time": "2022-09-02T09:25:36.538Z"
   },
   {
    "duration": 7,
    "start_time": "2022-09-02T09:25:44.099Z"
   },
   {
    "duration": 6,
    "start_time": "2022-09-02T09:26:13.459Z"
   },
   {
    "duration": 17,
    "start_time": "2022-09-02T09:26:30.439Z"
   },
   {
    "duration": 14,
    "start_time": "2022-09-02T09:26:52.864Z"
   },
   {
    "duration": 126,
    "start_time": "2022-09-02T09:29:51.528Z"
   },
   {
    "duration": 4,
    "start_time": "2022-09-02T09:29:53.685Z"
   },
   {
    "duration": 279,
    "start_time": "2022-09-02T09:29:55.317Z"
   },
   {
    "duration": 44,
    "start_time": "2022-09-02T09:30:45.570Z"
   },
   {
    "duration": 9,
    "start_time": "2022-09-02T09:31:22.885Z"
   },
   {
    "duration": 360,
    "start_time": "2022-09-02T09:32:31.791Z"
   },
   {
    "duration": 487,
    "start_time": "2022-09-02T09:32:32.177Z"
   },
   {
    "duration": 2292,
    "start_time": "2022-09-02T09:35:21.645Z"
   },
   {
    "duration": 4,
    "start_time": "2022-09-02T09:35:35.642Z"
   },
   {
    "duration": 356,
    "start_time": "2022-09-02T09:40:37.837Z"
   },
   {
    "duration": 470,
    "start_time": "2022-09-02T09:43:21.075Z"
   },
   {
    "duration": 331,
    "start_time": "2022-09-02T09:43:46.903Z"
   },
   {
    "duration": 407,
    "start_time": "2022-09-02T09:44:05.029Z"
   },
   {
    "duration": 419,
    "start_time": "2022-09-02T09:45:01.419Z"
   },
   {
    "duration": 517,
    "start_time": "2022-09-02T09:45:14.262Z"
   },
   {
    "duration": 299,
    "start_time": "2022-09-02T09:45:47.817Z"
   },
   {
    "duration": 312,
    "start_time": "2022-09-02T09:46:25.268Z"
   },
   {
    "duration": 280,
    "start_time": "2022-09-02T09:46:33.648Z"
   },
   {
    "duration": 8,
    "start_time": "2022-09-02T09:52:25.841Z"
   },
   {
    "duration": 2,
    "start_time": "2022-09-02T09:52:44.108Z"
   },
   {
    "duration": 3,
    "start_time": "2022-09-02T09:53:24.149Z"
   },
   {
    "duration": 305,
    "start_time": "2022-09-02T09:53:26.252Z"
   },
   {
    "duration": 3,
    "start_time": "2022-09-02T09:55:45.770Z"
   },
   {
    "duration": 356,
    "start_time": "2022-09-02T09:55:47.376Z"
   },
   {
    "duration": 3,
    "start_time": "2022-09-02T09:56:03.631Z"
   },
   {
    "duration": 295,
    "start_time": "2022-09-02T09:56:04.262Z"
   },
   {
    "duration": 288,
    "start_time": "2022-09-02T09:58:40.691Z"
   },
   {
    "duration": 112,
    "start_time": "2022-09-02T09:59:03.083Z"
   },
   {
    "duration": 130,
    "start_time": "2022-09-02T09:59:04.579Z"
   },
   {
    "duration": 10,
    "start_time": "2022-09-02T09:59:06.334Z"
   },
   {
    "duration": 20,
    "start_time": "2022-09-02T09:59:06.562Z"
   },
   {
    "duration": 6,
    "start_time": "2022-09-02T09:59:06.782Z"
   },
   {
    "duration": 8,
    "start_time": "2022-09-02T09:59:07.014Z"
   },
   {
    "duration": 7,
    "start_time": "2022-09-02T09:59:07.219Z"
   },
   {
    "duration": 5,
    "start_time": "2022-09-02T09:59:07.414Z"
   },
   {
    "duration": 7,
    "start_time": "2022-09-02T09:59:07.621Z"
   },
   {
    "duration": 4,
    "start_time": "2022-09-02T09:59:07.815Z"
   },
   {
    "duration": 7,
    "start_time": "2022-09-02T09:59:08.027Z"
   },
   {
    "duration": 13,
    "start_time": "2022-09-02T09:59:08.234Z"
   },
   {
    "duration": 13,
    "start_time": "2022-09-02T09:59:08.698Z"
   },
   {
    "duration": 5,
    "start_time": "2022-09-02T09:59:08.903Z"
   },
   {
    "duration": 4,
    "start_time": "2022-09-02T09:59:09.113Z"
   },
   {
    "duration": 4,
    "start_time": "2022-09-02T09:59:09.312Z"
   },
   {
    "duration": 10,
    "start_time": "2022-09-02T09:59:09.509Z"
   },
   {
    "duration": 4,
    "start_time": "2022-09-02T09:59:09.712Z"
   },
   {
    "duration": 17,
    "start_time": "2022-09-02T09:59:09.946Z"
   },
   {
    "duration": 142,
    "start_time": "2022-09-02T09:59:10.881Z"
   },
   {
    "duration": 4,
    "start_time": "2022-09-02T09:59:11.122Z"
   },
   {
    "duration": 651,
    "start_time": "2022-09-02T09:59:11.498Z"
   },
   {
    "duration": 301,
    "start_time": "2022-09-02T09:59:12.151Z"
   },
   {
    "duration": 301,
    "start_time": "2022-09-02T09:59:12.454Z"
   },
   {
    "duration": 3,
    "start_time": "2022-09-02T09:59:13.351Z"
   },
   {
    "duration": 308,
    "start_time": "2022-09-02T09:59:14.558Z"
   },
   {
    "duration": 294,
    "start_time": "2022-09-02T09:59:18.405Z"
   },
   {
    "duration": 302,
    "start_time": "2022-09-02T10:01:01.264Z"
   },
   {
    "duration": 232,
    "start_time": "2022-09-02T10:02:55.703Z"
   },
   {
    "duration": 256,
    "start_time": "2022-09-02T10:03:06.085Z"
   },
   {
    "duration": 248,
    "start_time": "2022-09-02T10:03:13.176Z"
   },
   {
    "duration": 610,
    "start_time": "2022-09-02T10:03:25.688Z"
   },
   {
    "duration": 300,
    "start_time": "2022-09-02T10:04:19.480Z"
   },
   {
    "duration": 308,
    "start_time": "2022-09-02T10:04:30.123Z"
   },
   {
    "duration": 241,
    "start_time": "2022-09-02T10:04:56.998Z"
   },
   {
    "duration": 239,
    "start_time": "2022-09-02T10:05:20.163Z"
   },
   {
    "duration": 125,
    "start_time": "2022-09-02T10:09:20.358Z"
   },
   {
    "duration": 213,
    "start_time": "2022-09-02T10:09:29.339Z"
   },
   {
    "duration": 196,
    "start_time": "2022-09-02T10:09:57.270Z"
   },
   {
    "duration": 85,
    "start_time": "2022-09-02T10:11:17.474Z"
   },
   {
    "duration": 11,
    "start_time": "2022-09-02T10:12:08.628Z"
   },
   {
    "duration": 6,
    "start_time": "2022-09-02T10:12:24.880Z"
   },
   {
    "duration": 17,
    "start_time": "2022-09-02T10:12:45.883Z"
   },
   {
    "duration": 6,
    "start_time": "2022-09-02T10:12:57.358Z"
   },
   {
    "duration": 6,
    "start_time": "2022-09-02T10:13:03.454Z"
   },
   {
    "duration": 6,
    "start_time": "2022-09-02T10:13:04.150Z"
   },
   {
    "duration": 5,
    "start_time": "2022-09-02T10:13:09.224Z"
   },
   {
    "duration": 4,
    "start_time": "2022-09-02T10:13:59.070Z"
   },
   {
    "duration": 5,
    "start_time": "2022-09-02T10:13:59.452Z"
   },
   {
    "duration": 10,
    "start_time": "2022-09-02T10:14:10.275Z"
   },
   {
    "duration": 19,
    "start_time": "2022-09-02T10:14:44.790Z"
   },
   {
    "duration": 39,
    "start_time": "2022-09-02T10:14:50.255Z"
   },
   {
    "duration": 286,
    "start_time": "2022-09-02T10:15:21.554Z"
   },
   {
    "duration": 309,
    "start_time": "2022-09-02T10:16:46.983Z"
   },
   {
    "duration": 284,
    "start_time": "2022-09-02T10:16:57.191Z"
   },
   {
    "duration": 765,
    "start_time": "2022-09-02T10:20:57.707Z"
   },
   {
    "duration": 448,
    "start_time": "2022-09-02T10:21:25.961Z"
   },
   {
    "duration": 627,
    "start_time": "2022-09-02T10:21:39.266Z"
   },
   {
    "duration": 392,
    "start_time": "2022-09-02T10:22:08.510Z"
   },
   {
    "duration": 555,
    "start_time": "2022-09-02T10:24:18.352Z"
   },
   {
    "duration": 398,
    "start_time": "2022-09-02T10:24:37.983Z"
   },
   {
    "duration": 1274,
    "start_time": "2022-09-02T15:11:23.798Z"
   },
   {
    "duration": 139,
    "start_time": "2022-09-02T15:11:26.379Z"
   },
   {
    "duration": 97,
    "start_time": "2022-09-02T15:11:26.589Z"
   },
   {
    "duration": 8,
    "start_time": "2022-09-02T15:11:27.750Z"
   },
   {
    "duration": 15,
    "start_time": "2022-09-02T15:11:27.973Z"
   },
   {
    "duration": 4,
    "start_time": "2022-09-02T15:11:28.157Z"
   },
   {
    "duration": 6,
    "start_time": "2022-09-02T15:11:28.381Z"
   },
   {
    "duration": 7,
    "start_time": "2022-09-02T15:11:28.585Z"
   },
   {
    "duration": 4,
    "start_time": "2022-09-02T15:11:28.785Z"
   },
   {
    "duration": 6,
    "start_time": "2022-09-02T15:11:28.944Z"
   },
   {
    "duration": 3,
    "start_time": "2022-09-02T15:11:29.145Z"
   },
   {
    "duration": 7,
    "start_time": "2022-09-02T15:11:29.308Z"
   },
   {
    "duration": 12,
    "start_time": "2022-09-02T15:11:29.492Z"
   },
   {
    "duration": 8,
    "start_time": "2022-09-02T15:11:29.845Z"
   },
   {
    "duration": 5,
    "start_time": "2022-09-02T15:11:30.038Z"
   },
   {
    "duration": 4,
    "start_time": "2022-09-02T15:11:30.204Z"
   },
   {
    "duration": 3,
    "start_time": "2022-09-02T15:11:30.380Z"
   },
   {
    "duration": 8,
    "start_time": "2022-09-02T15:11:30.581Z"
   },
   {
    "duration": 4,
    "start_time": "2022-09-02T15:11:30.743Z"
   },
   {
    "duration": 5,
    "start_time": "2022-09-02T15:11:30.926Z"
   },
   {
    "duration": 110,
    "start_time": "2022-09-02T15:11:31.338Z"
   },
   {
    "duration": 2,
    "start_time": "2022-09-02T15:11:31.719Z"
   },
   {
    "duration": 236,
    "start_time": "2022-09-02T15:11:32.486Z"
   },
   {
    "duration": 298,
    "start_time": "2022-09-02T15:11:32.741Z"
   },
   {
    "duration": 255,
    "start_time": "2022-09-02T15:11:33.040Z"
   },
   {
    "duration": 2,
    "start_time": "2022-09-02T15:11:34.236Z"
   },
   {
    "duration": 243,
    "start_time": "2022-09-02T15:11:35.039Z"
   },
   {
    "duration": 277,
    "start_time": "2022-09-02T15:11:37.178Z"
   },
   {
    "duration": 224,
    "start_time": "2022-09-02T15:11:40.540Z"
   },
   {
    "duration": 235,
    "start_time": "2022-09-02T15:11:59.080Z"
   },
   {
    "duration": 423,
    "start_time": "2022-09-02T15:14:30.369Z"
   },
   {
    "duration": 171,
    "start_time": "2022-09-02T15:14:46.135Z"
   },
   {
    "duration": 123,
    "start_time": "2022-09-02T15:15:17.285Z"
   },
   {
    "duration": 138,
    "start_time": "2022-09-02T15:15:38.086Z"
   },
   {
    "duration": 136,
    "start_time": "2022-09-02T15:15:47.929Z"
   },
   {
    "duration": 119,
    "start_time": "2022-09-02T15:15:50.627Z"
   },
   {
    "duration": 7,
    "start_time": "2022-09-02T15:17:30.182Z"
   },
   {
    "duration": 8,
    "start_time": "2022-09-02T15:17:33.229Z"
   },
   {
    "duration": 8,
    "start_time": "2022-09-02T15:17:38.688Z"
   },
   {
    "duration": 8,
    "start_time": "2022-09-02T15:17:43.168Z"
   },
   {
    "duration": 118,
    "start_time": "2022-09-02T15:18:24.440Z"
   },
   {
    "duration": 100,
    "start_time": "2022-09-02T15:18:39.469Z"
   },
   {
    "duration": 6,
    "start_time": "2022-09-02T15:18:47.362Z"
   },
   {
    "duration": 33,
    "start_time": "2022-09-02T15:19:18.732Z"
   },
   {
    "duration": 8,
    "start_time": "2022-09-02T15:19:44.878Z"
   },
   {
    "duration": 10,
    "start_time": "2022-09-02T15:19:45.226Z"
   },
   {
    "duration": 9,
    "start_time": "2022-09-02T15:19:45.449Z"
   },
   {
    "duration": 8,
    "start_time": "2022-09-02T15:19:46.427Z"
   },
   {
    "duration": 12,
    "start_time": "2022-09-02T15:20:56.430Z"
   },
   {
    "duration": 28,
    "start_time": "2022-09-02T15:21:08.471Z"
   },
   {
    "duration": 128,
    "start_time": "2022-09-02T15:22:19.443Z"
   },
   {
    "duration": 158,
    "start_time": "2022-09-02T15:25:56.314Z"
   },
   {
    "duration": 119,
    "start_time": "2022-09-02T15:25:58.578Z"
   },
   {
    "duration": 130,
    "start_time": "2022-09-02T15:26:01.592Z"
   },
   {
    "duration": 118,
    "start_time": "2022-09-02T15:26:03.946Z"
   },
   {
    "duration": 121,
    "start_time": "2022-09-02T15:26:06.286Z"
   },
   {
    "duration": 146,
    "start_time": "2022-09-02T15:26:20.253Z"
   },
   {
    "duration": 139,
    "start_time": "2022-09-02T15:26:26.142Z"
   },
   {
    "duration": 6,
    "start_time": "2022-09-02T15:27:00.266Z"
   },
   {
    "duration": 46,
    "start_time": "2022-09-02T15:27:52.613Z"
   },
   {
    "duration": 147,
    "start_time": "2022-09-02T15:28:36.190Z"
   },
   {
    "duration": 137,
    "start_time": "2022-09-02T15:28:47.471Z"
   },
   {
    "duration": 133,
    "start_time": "2022-09-02T15:29:03.530Z"
   },
   {
    "duration": 7,
    "start_time": "2022-09-02T15:30:04.264Z"
   },
   {
    "duration": 6,
    "start_time": "2022-09-02T15:30:15.104Z"
   },
   {
    "duration": 136,
    "start_time": "2022-09-02T15:30:27.001Z"
   },
   {
    "duration": 154,
    "start_time": "2022-09-02T15:30:44.102Z"
   }
  ],
  "kernelspec": {
   "display_name": "Python 3 (ipykernel)",
   "language": "python",
   "name": "python3"
  },
  "language_info": {
   "codemirror_mode": {
    "name": "ipython",
    "version": 3
   },
   "file_extension": ".py",
   "mimetype": "text/x-python",
   "name": "python",
   "nbconvert_exporter": "python",
   "pygments_lexer": "ipython3",
   "version": "3.9.5"
  },
  "toc": {
   "base_numbering": 1,
   "nav_menu": {},
   "number_sections": true,
   "sideBar": true,
   "skip_h1_title": true,
   "title_cell": "Содержание",
   "title_sidebar": "Contents",
   "toc_cell": true,
   "toc_position": {
    "height": "calc(100% - 180px)",
    "left": "10px",
    "top": "150px",
    "width": "168.6px"
   },
   "toc_section_display": true,
   "toc_window_display": true
  }
 },
 "nbformat": 4,
 "nbformat_minor": 2
}
